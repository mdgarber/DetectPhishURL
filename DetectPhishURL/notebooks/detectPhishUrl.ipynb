{
 "cells": [
  {
   "cell_type": "markdown",
   "id": "fed30250-f75d-4850-ab49-1f8bf40d895e",
   "metadata": {},
   "source": [
    "# Detect Phishing URLs\n",
    "#### Capstone 3 - Data Wrangling\n",
    "Michael Garber"
   ]
  },
  {
   "cell_type": "markdown",
   "id": "6f764038-11e6-47ac-a9f5-8ffcc797d699",
   "metadata": {},
   "source": [
    "#### Data Wrangling High-Level Steps\n",
    "1. Data Collection\n",
    "2. Data Organization\n",
    "3. Data Definition\n",
    "4. Data Cleaning"
   ]
  },
  {
   "cell_type": "code",
   "execution_count": 21,
   "id": "6e7b1ee4-e38e-4787-94ed-89bfc37001f7",
   "metadata": {
    "tags": []
   },
   "outputs": [
    {
     "data": {
      "text/plain": [
       "'\\nsub step of #4\\nClean the dataset and address issues like missing values and duplicate values. \\n\\nThings you may want to evaluate include:\\n● Is the response variable unbalanced?\\n● What is the distribution of each of the features?\\n● Are there features are correlated with a particular response value?\\n● Are there collinear features in the data?\\n● Are there outliers?\\n● What are the seasonal or linear trends?\\nWays to evaluate these include:\\n● Histograms or Distribution plots\\n● Histograms, Word Count- bigram, trigrams\\n● Scatter plots or Bi-plots\\n● Pearson correlation coefficients heat map\\n● Box plots\\n● Line plots\\n\\n'"
      ]
     },
     "execution_count": 21,
     "metadata": {},
     "output_type": "execute_result"
    }
   ],
   "source": [
    "'''\n",
    "#### Data Wrangling High-Level Steps\n",
    "1. Data Collection\n",
    "2. Data Organization\n",
    "3. Data Definition\n",
    "4. Data Cleaning\n",
    "    Clean the dataset and address issues like missing values and duplicate values. \n",
    "\n",
    "\n",
    "#### EDA High-Level Steps\n",
    "Things you may want to evaluate include:\n",
    "● Is the response variable unbalanced?\n",
    "● What is the distribution of each of the features?\n",
    "● Are there features are correlated with a particular response value?\n",
    "● Are there collinear features in the data?\n",
    "● Are there outliers?\n",
    "● What are the seasonal or linear trends?\n",
    "Ways to evaluate these include:\n",
    "● Histograms or Distribution plots\n",
    "● Histograms, Word Count- bigram, trigrams\n",
    "● Scatter plots or Bi-plots\n",
    "● Pearson correlation coefficients heat map\n",
    "● Box plots\n",
    "● Line plots\n",
    "\n",
    "'''"
   ]
  }
 ],
 "metadata": {
  "kernelspec": {
   "display_name": "Python 3 (ipykernel)",
   "language": "python",
   "name": "python3"
  },
  "language_info": {
   "codemirror_mode": {
    "name": "ipython",
    "version": 3
   },
   "file_extension": ".py",
   "mimetype": "text/x-python",
   "name": "python",
   "nbconvert_exporter": "python",
   "pygments_lexer": "ipython3",
   "version": "3.11.7"
  }
 },
 "nbformat": 4,
 "nbformat_minor": 5
}
