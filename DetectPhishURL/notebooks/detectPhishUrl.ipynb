{
 "cells": [
  {
   "cell_type": "markdown",
   "id": "fed30250-f75d-4850-ab49-1f8bf40d895e",
   "metadata": {},
   "source": [
    "# Detect Phishing URLs\n",
    "#### Capstone 3 - Data Wrangling\n",
    "Michael Garber"
   ]
  },
  {
   "cell_type": "markdown",
   "id": "6f764038-11e6-47ac-a9f5-8ffcc797d699",
   "metadata": {},
   "source": [
    "#### Data Wrangling High-Level Steps\n",
    "1. Data Collection\n",
    "2. Data Organization\n",
    "3. Data Definition\n",
    "4. Data Cleaning"
   ]
  },
  {
   "cell_type": "code",
   "execution_count": 15,
   "id": "6e7b1ee4-e38e-4787-94ed-89bfc37001f7",
   "metadata": {
    "tags": []
   },
   "outputs": [
    {
     "data": {
      "text/plain": [
       "'\\n\\n\\ncomment block \\n@#$^%JH#\\n'"
      ]
     },
     "execution_count": 15,
     "metadata": {},
     "output_type": "execute_result"
    }
   ],
   "source": [
    "'''\n",
    "\n",
    "\n",
    "comment block \n",
    "@#$^%JH#\n",
    "'''"
   ]
  }
 ],
 "metadata": {
  "kernelspec": {
   "display_name": "Python 3 (ipykernel)",
   "language": "python",
   "name": "python3"
  },
  "language_info": {
   "codemirror_mode": {
    "name": "ipython",
    "version": 3
   },
   "file_extension": ".py",
   "mimetype": "text/x-python",
   "name": "python",
   "nbconvert_exporter": "python",
   "pygments_lexer": "ipython3",
   "version": "3.11.7"
  }
 },
 "nbformat": 4,
 "nbformat_minor": 5
}
