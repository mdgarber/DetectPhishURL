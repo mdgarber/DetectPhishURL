{
 "cells": [
  {
   "cell_type": "markdown",
   "id": "fed30250-f75d-4850-ab49-1f8bf40d895e",
   "metadata": {},
   "source": [
    "# Detect Phishing URLs\n",
    "### Capstone 3 - Data Wrangling and EDA\n",
    "Michael Garber"
   ]
  },
  {
   "cell_type": "markdown",
   "id": "6f764038-11e6-47ac-a9f5-8ffcc797d699",
   "metadata": {},
   "source": [
    "#### High-Level Steps\n",
    "1. Data Wrangling\n",
    "    1. Data Collection\n",
    "    2. Data Organization\n",
    "    3. Data Definition\n",
    "    4. Data Cleaning\n",
    "1. Exploratory Data Analysis\n"
   ]
  },
  {
   "cell_type": "code",
   "execution_count": 4,
   "id": "6e7b1ee4-e38e-4787-94ed-89bfc37001f7",
   "metadata": {
    "tags": []
   },
   "outputs": [
    {
     "data": {
      "text/plain": [
       "'\\nrough notes\\n\\n#### Data Wrangling High-Level Steps\\n1. Data Collection\\n2. Data Organization\\n3. Data Definition\\n4. Data Cleaning\\n    Clean the dataset and address issues like missing values and duplicate values. \\n\\n\\n#### EDA High-Level Steps\\n● Investigate the relationships between features and the relationship between the response variable and the features\\n\\nThings you may want to evaluate include:\\n● Is the response variable unbalanced?\\n● What is the distribution of each of the features?\\n● Are there features are correlated with a particular response value?\\n● Are there collinear features in the data?\\n● Are there outliers?\\n● What are the seasonal or linear trends?\\nWays to evaluate these include:\\n● Histograms or Distribution plots\\n● Histograms, Word Count- bigram, trigrams\\n● Scatter plots or Bi-plots\\n● Pearson correlation coefficients heat map\\n● Box plots\\n● Line plots\\n\\n'"
      ]
     },
     "execution_count": 4,
     "metadata": {},
     "output_type": "execute_result"
    }
   ],
   "source": [
    "'''\n",
    "rough notes\n",
    "\n",
    "#### Data Wrangling High-Level Steps\n",
    "1. Data Collection\n",
    "2. Data Organization\n",
    "3. Data Definition\n",
    "4. Data Cleaning\n",
    "    Clean the dataset and address issues like missing values and duplicate values. \n",
    "\n",
    "\n",
    "#### EDA High-Level Steps\n",
    "● Investigate the relationships between features and the relationship between the response variable and the features\n",
    "\n",
    "Things you may want to evaluate include:\n",
    "● Is the response variable unbalanced?\n",
    "● What is the distribution of each of the features?\n",
    "● Are there features are correlated with a particular response value?\n",
    "● Are there collinear features in the data?\n",
    "● Are there outliers?\n",
    "● What are the seasonal or linear trends?\n",
    "Ways to evaluate these include:\n",
    "● Histograms or Distribution plots\n",
    "● Histograms, Word Count- bigram, trigrams\n",
    "● Scatter plots or Bi-plots\n",
    "● Pearson correlation coefficients heat map\n",
    "● Box plots\n",
    "● Line plots\n",
    "\n",
    "'''"
   ]
  },
  {
   "cell_type": "markdown",
   "id": "7e90ad53-8ca7-4ee3-898b-9102ce014837",
   "metadata": {
    "tags": []
   },
   "source": [
    "#### Data Wrangling"
   ]
  },
  {
   "cell_type": "markdown",
   "id": "9d5505a7-07cb-4019-befa-8d8d305e6a57",
   "metadata": {},
   "source": [
    "##### Data Collection\n",
    "Info/Data\n",
    "- https://www.kaggle.com/datasets/hassaanmustafavi/phishing-urls-dataset"
   ]
  },
  {
   "cell_type": "code",
   "execution_count": 7,
   "id": "40331023-2d9a-44c4-965c-2a9822ddb85a",
   "metadata": {
    "tags": []
   },
   "outputs": [
    {
     "name": "stdout",
     "output_type": "stream",
     "text": [
      "Requirement already satisfied: kagglehub in c:\\users\\mg-laptop\\anaconda3\\lib\\site-packages (0.3.11)Note: you may need to restart the kernel to use updated packages.\n",
      "\n",
      "Requirement already satisfied: packaging in c:\\users\\mg-laptop\\anaconda3\\lib\\site-packages (from kagglehub) (23.1)\n",
      "Requirement already satisfied: pyyaml in c:\\users\\mg-laptop\\anaconda3\\lib\\site-packages (from kagglehub) (6.0.1)\n",
      "Requirement already satisfied: requests in c:\\users\\mg-laptop\\anaconda3\\lib\\site-packages (from kagglehub) (2.31.0)\n",
      "Requirement already satisfied: tqdm in c:\\users\\mg-laptop\\anaconda3\\lib\\site-packages (from kagglehub) (4.66.6)\n",
      "Requirement already satisfied: charset-normalizer<4,>=2 in c:\\users\\mg-laptop\\anaconda3\\lib\\site-packages (from requests->kagglehub) (2.0.4)\n",
      "Requirement already satisfied: idna<4,>=2.5 in c:\\users\\mg-laptop\\anaconda3\\lib\\site-packages (from requests->kagglehub) (3.4)\n",
      "Requirement already satisfied: urllib3<3,>=1.21.1 in c:\\users\\mg-laptop\\anaconda3\\lib\\site-packages (from requests->kagglehub) (2.0.7)\n",
      "Requirement already satisfied: certifi>=2017.4.17 in c:\\users\\mg-laptop\\anaconda3\\lib\\site-packages (from requests->kagglehub) (2024.8.30)\n",
      "Requirement already satisfied: colorama in c:\\users\\mg-laptop\\anaconda3\\lib\\site-packages (from tqdm->kagglehub) (0.4.6)\n"
     ]
    }
   ],
   "source": [
    "# Please Install KaggleHub if you don't have it\n",
    "%pip install kagglehub"
   ]
  },
  {
   "cell_type": "code",
   "execution_count": 58,
   "id": "e1c5b1f8-57e2-4a69-9484-ab35d539142f",
   "metadata": {},
   "outputs": [],
   "source": [
    "# Import Packages\n",
    "import pandas as pd\n",
    "import kagglehub\n",
    "import os\n",
    "import shutil"
   ]
  },
  {
   "cell_type": "code",
   "execution_count": 119,
   "id": "27e54a9f-48aa-4551-88d8-2a07eadc5739",
   "metadata": {},
   "outputs": [
    {
     "name": "stdout",
     "output_type": "stream",
     "text": [
      "Downloading from https://www.kaggle.com/api/v1/datasets/download/hassaanmustafavi/phishing-urls-dataset?dataset_version_number=1...\n"
     ]
    },
    {
     "name": "stderr",
     "output_type": "stream",
     "text": [
      "100%|█████████████████████████████████████████████████████████████████████████████| 7.56M/7.56M [00:00<00:00, 15.0MB/s]"
     ]
    },
    {
     "name": "stdout",
     "output_type": "stream",
     "text": [
      "Extracting files...\n"
     ]
    },
    {
     "name": "stderr",
     "output_type": "stream",
     "text": [
      "\n"
     ]
    },
    {
     "name": "stdout",
     "output_type": "stream",
     "text": [
      "Path to dataset files: C:\\Users\\MG-Laptop\\.cache\\kagglehub\\datasets\\hassaanmustafavi\\phishing-urls-dataset\\versions\\1\n"
     ]
    }
   ],
   "source": [
    "# Download Data\n",
    "kPath = kagglehub.dataset_download(\"hassaanmustafavi/phishing-urls-dataset\")"
   ]
  },
  {
   "cell_type": "code",
   "execution_count": 121,
   "id": "ecd6ae3e-8072-46eb-9f0a-d368284eb9f5",
   "metadata": {
    "tags": []
   },
   "outputs": [
    {
     "data": {
      "text/plain": [
       "'..\\\\data\\\\raw\\\\url_dataset.csv'"
      ]
     },
     "execution_count": 121,
     "metadata": {},
     "output_type": "execute_result"
    }
   ],
   "source": [
    "# Move File to project folder\n",
    "fileName = 'url_dataset.csv'\n",
    "srcFilePath = os.path.join(kPath, fileName)\n",
    "dataDir = os.path.join(os.pardir, 'data', 'raw', fileName)\n",
    "shutil.move(srcFilePath, dataDir)"
   ]
  },
  {
   "cell_type": "code",
   "execution_count": 124,
   "id": "44708fdc-4401-4972-9869-593db3e360ed",
   "metadata": {
    "tags": []
   },
   "outputs": [],
   "source": [
    "# Load to pandas dataframe\n",
    "\n",
    "#Load URL data\n",
    "urlData = pd.read_csv(dataDir)"
   ]
  },
  {
   "cell_type": "code",
   "execution_count": 134,
   "id": "8e32c446-b610-4a0a-962b-dd5ba6da4067",
   "metadata": {
    "tags": []
   },
   "outputs": [
    {
     "name": "stdout",
     "output_type": "stream",
     "text": [
      "(450176, 2)\n"
     ]
    }
   ],
   "source": [
    "# check dataframe - # or rows\n",
    "print(urlData.shape)"
   ]
  },
  {
   "cell_type": "code",
   "execution_count": 10,
   "id": "2cc53f74-5f58-4c42-a4e2-7da03cca8774",
   "metadata": {},
   "outputs": [],
   "source": [
    "##### Data Organization"
   ]
  },
  {
   "cell_type": "code",
   "execution_count": 11,
   "id": "6aea23fa-d418-430f-b48c-316c40f8f993",
   "metadata": {},
   "outputs": [],
   "source": [
    "##### Data Definition"
   ]
  },
  {
   "cell_type": "code",
   "execution_count": 12,
   "id": "03e89b5e-9e26-40c3-8bda-e15f41b569f3",
   "metadata": {},
   "outputs": [],
   "source": [
    "##### Data Cleainingg"
   ]
  },
  {
   "cell_type": "markdown",
   "id": "d07e2a98-63bb-4e62-a41d-42cffcf4a2a5",
   "metadata": {
    "tags": []
   },
   "source": [
    "#### EDA"
   ]
  }
 ],
 "metadata": {
  "kernelspec": {
   "display_name": "Python 3 (ipykernel)",
   "language": "python",
   "name": "python3"
  },
  "language_info": {
   "codemirror_mode": {
    "name": "ipython",
    "version": 3
   },
   "file_extension": ".py",
   "mimetype": "text/x-python",
   "name": "python",
   "nbconvert_exporter": "python",
   "pygments_lexer": "ipython3",
   "version": "3.11.7"
  }
 },
 "nbformat": 4,
 "nbformat_minor": 5
}
