{
 "cells": [
  {
   "cell_type": "markdown",
   "id": "fed30250-f75d-4850-ab49-1f8bf40d895e",
   "metadata": {},
   "source": [
    "# Detect Phishing URLs\n",
    "### Capstone 3 - Data Wrangling and EDA\n",
    "Michael Garber"
   ]
  },
  {
   "cell_type": "markdown",
   "id": "6f764038-11e6-47ac-a9f5-8ffcc797d699",
   "metadata": {},
   "source": [
    "#### High-Level Steps\n",
    "1. Data Wrangling\n",
    "    1. Data Collection\n",
    "    2. Data Organization\n",
    "    3. Data Definition\n",
    "    4. Data Cleaning\n",
    "1. Exploratory Data Analysis\n"
   ]
  },
  {
   "cell_type": "markdown",
   "id": "7e90ad53-8ca7-4ee3-898b-9102ce014837",
   "metadata": {
    "tags": []
   },
   "source": [
    "#### Data Wrangling"
   ]
  },
  {
   "cell_type": "markdown",
   "id": "9d5505a7-07cb-4019-befa-8d8d305e6a57",
   "metadata": {},
   "source": [
    "##### Data Collection\n",
    "Info/Data\n",
    "- https://www.kaggle.com/datasets/hassaanmustafavi/phishing-urls-dataset"
   ]
  },
  {
   "cell_type": "code",
   "execution_count": 8,
   "id": "40331023-2d9a-44c4-965c-2a9822ddb85a",
   "metadata": {
    "tags": []
   },
   "outputs": [
    {
     "name": "stdout",
     "output_type": "stream",
     "text": [
      "Requirement already satisfied: kagglehub in c:\\users\\mg-laptop\\anaconda3\\lib\\site-packages (0.3.11)Note: you may need to restart the kernel to use updated packages.\n",
      "\n",
      "Requirement already satisfied: packaging in c:\\users\\mg-laptop\\anaconda3\\lib\\site-packages (from kagglehub) (23.1)\n",
      "Requirement already satisfied: pyyaml in c:\\users\\mg-laptop\\anaconda3\\lib\\site-packages (from kagglehub) (6.0.1)\n",
      "Requirement already satisfied: requests in c:\\users\\mg-laptop\\anaconda3\\lib\\site-packages (from kagglehub) (2.31.0)\n",
      "Requirement already satisfied: tqdm in c:\\users\\mg-laptop\\anaconda3\\lib\\site-packages (from kagglehub) (4.66.6)\n",
      "Requirement already satisfied: charset-normalizer<4,>=2 in c:\\users\\mg-laptop\\anaconda3\\lib\\site-packages (from requests->kagglehub) (2.0.4)\n",
      "Requirement already satisfied: idna<4,>=2.5 in c:\\users\\mg-laptop\\anaconda3\\lib\\site-packages (from requests->kagglehub) (3.4)\n",
      "Requirement already satisfied: urllib3<3,>=1.21.1 in c:\\users\\mg-laptop\\anaconda3\\lib\\site-packages (from requests->kagglehub) (2.0.7)\n",
      "Requirement already satisfied: certifi>=2017.4.17 in c:\\users\\mg-laptop\\anaconda3\\lib\\site-packages (from requests->kagglehub) (2024.8.30)\n",
      "Requirement already satisfied: colorama in c:\\users\\mg-laptop\\anaconda3\\lib\\site-packages (from tqdm->kagglehub) (0.4.6)\n"
     ]
    }
   ],
   "source": [
    "# Please Install KaggleHub if you don't already have it\n",
    "%pip install kagglehub"
   ]
  },
  {
   "cell_type": "code",
   "execution_count": 9,
   "id": "e1c5b1f8-57e2-4a69-9484-ab35d539142f",
   "metadata": {},
   "outputs": [],
   "source": [
    "# Import Packages\n",
    "import pandas as pd\n",
    "import kagglehub\n",
    "import os\n",
    "import shutil"
   ]
  },
  {
   "cell_type": "code",
   "execution_count": 10,
   "id": "27e54a9f-48aa-4551-88d8-2a07eadc5739",
   "metadata": {},
   "outputs": [],
   "source": [
    "# Download Data\n",
    "kPath = kagglehub.dataset_download(\"hassaanmustafavi/phishing-urls-dataset\")"
   ]
  },
  {
   "cell_type": "code",
   "execution_count": 14,
   "id": "ecd6ae3e-8072-46eb-9f0a-d368284eb9f5",
   "metadata": {
    "tags": []
   },
   "outputs": [
    {
     "ename": "FileNotFoundError",
     "evalue": "[Errno 2] No such file or directory: 'C:\\\\Users\\\\MG-Laptop\\\\.cache\\\\kagglehub\\\\datasets\\\\hassaanmustafavi\\\\phishing-urls-dataset\\\\versions\\\\1\\\\url_dataset.csv'",
     "output_type": "error",
     "traceback": [
      "\u001b[1;31m---------------------------------------------------------------------------\u001b[0m",
      "\u001b[1;31mFileNotFoundError\u001b[0m                         Traceback (most recent call last)",
      "File \u001b[1;32m~\\anaconda3\\Lib\\shutil.py:825\u001b[0m, in \u001b[0;36mmove\u001b[1;34m(src, dst, copy_function)\u001b[0m\n\u001b[0;32m    824\u001b[0m \u001b[38;5;28;01mtry\u001b[39;00m:\n\u001b[1;32m--> 825\u001b[0m     os\u001b[38;5;241m.\u001b[39mrename(src, real_dst)\n\u001b[0;32m    826\u001b[0m \u001b[38;5;28;01mexcept\u001b[39;00m \u001b[38;5;167;01mOSError\u001b[39;00m:\n",
      "\u001b[1;31mFileNotFoundError\u001b[0m: [WinError 2] The system cannot find the file specified: 'C:\\\\Users\\\\MG-Laptop\\\\.cache\\\\kagglehub\\\\datasets\\\\hassaanmustafavi\\\\phishing-urls-dataset\\\\versions\\\\1\\\\url_dataset.csv' -> '..\\\\data\\\\raw\\\\url_dataset.csv'",
      "\nDuring handling of the above exception, another exception occurred:\n",
      "\u001b[1;31mFileNotFoundError\u001b[0m                         Traceback (most recent call last)",
      "Cell \u001b[1;32mIn[14], line 5\u001b[0m\n\u001b[0;32m      3\u001b[0m srcFilePath \u001b[38;5;241m=\u001b[39m os\u001b[38;5;241m.\u001b[39mpath\u001b[38;5;241m.\u001b[39mjoin(kPath, fileName)\n\u001b[0;32m      4\u001b[0m dataDir \u001b[38;5;241m=\u001b[39m os\u001b[38;5;241m.\u001b[39mpath\u001b[38;5;241m.\u001b[39mjoin(os\u001b[38;5;241m.\u001b[39mpardir, \u001b[38;5;124m'\u001b[39m\u001b[38;5;124mdata\u001b[39m\u001b[38;5;124m'\u001b[39m, \u001b[38;5;124m'\u001b[39m\u001b[38;5;124mraw\u001b[39m\u001b[38;5;124m'\u001b[39m, fileName)\n\u001b[1;32m----> 5\u001b[0m shutil\u001b[38;5;241m.\u001b[39mmove(srcFilePath, dataDir)\n",
      "File \u001b[1;32m~\\anaconda3\\Lib\\shutil.py:845\u001b[0m, in \u001b[0;36mmove\u001b[1;34m(src, dst, copy_function)\u001b[0m\n\u001b[0;32m    843\u001b[0m         rmtree(src)\n\u001b[0;32m    844\u001b[0m     \u001b[38;5;28;01melse\u001b[39;00m:\n\u001b[1;32m--> 845\u001b[0m         copy_function(src, real_dst)\n\u001b[0;32m    846\u001b[0m         os\u001b[38;5;241m.\u001b[39munlink(src)\n\u001b[0;32m    847\u001b[0m \u001b[38;5;28;01mreturn\u001b[39;00m real_dst\n",
      "File \u001b[1;32m~\\anaconda3\\Lib\\shutil.py:436\u001b[0m, in \u001b[0;36mcopy2\u001b[1;34m(src, dst, follow_symlinks)\u001b[0m\n\u001b[0;32m    434\u001b[0m \u001b[38;5;28;01mif\u001b[39;00m os\u001b[38;5;241m.\u001b[39mpath\u001b[38;5;241m.\u001b[39misdir(dst):\n\u001b[0;32m    435\u001b[0m     dst \u001b[38;5;241m=\u001b[39m os\u001b[38;5;241m.\u001b[39mpath\u001b[38;5;241m.\u001b[39mjoin(dst, os\u001b[38;5;241m.\u001b[39mpath\u001b[38;5;241m.\u001b[39mbasename(src))\n\u001b[1;32m--> 436\u001b[0m copyfile(src, dst, follow_symlinks\u001b[38;5;241m=\u001b[39mfollow_symlinks)\n\u001b[0;32m    437\u001b[0m copystat(src, dst, follow_symlinks\u001b[38;5;241m=\u001b[39mfollow_symlinks)\n\u001b[0;32m    438\u001b[0m \u001b[38;5;28;01mreturn\u001b[39;00m dst\n",
      "File \u001b[1;32m~\\anaconda3\\Lib\\shutil.py:256\u001b[0m, in \u001b[0;36mcopyfile\u001b[1;34m(src, dst, follow_symlinks)\u001b[0m\n\u001b[0;32m    254\u001b[0m     os\u001b[38;5;241m.\u001b[39msymlink(os\u001b[38;5;241m.\u001b[39mreadlink(src), dst)\n\u001b[0;32m    255\u001b[0m \u001b[38;5;28;01melse\u001b[39;00m:\n\u001b[1;32m--> 256\u001b[0m     \u001b[38;5;28;01mwith\u001b[39;00m \u001b[38;5;28mopen\u001b[39m(src, \u001b[38;5;124m'\u001b[39m\u001b[38;5;124mrb\u001b[39m\u001b[38;5;124m'\u001b[39m) \u001b[38;5;28;01mas\u001b[39;00m fsrc:\n\u001b[0;32m    257\u001b[0m         \u001b[38;5;28;01mtry\u001b[39;00m:\n\u001b[0;32m    258\u001b[0m             \u001b[38;5;28;01mwith\u001b[39;00m \u001b[38;5;28mopen\u001b[39m(dst, \u001b[38;5;124m'\u001b[39m\u001b[38;5;124mwb\u001b[39m\u001b[38;5;124m'\u001b[39m) \u001b[38;5;28;01mas\u001b[39;00m fdst:\n\u001b[0;32m    259\u001b[0m                 \u001b[38;5;66;03m# macOS\u001b[39;00m\n",
      "\u001b[1;31mFileNotFoundError\u001b[0m: [Errno 2] No such file or directory: 'C:\\\\Users\\\\MG-Laptop\\\\.cache\\\\kagglehub\\\\datasets\\\\hassaanmustafavi\\\\phishing-urls-dataset\\\\versions\\\\1\\\\url_dataset.csv'"
     ]
    }
   ],
   "source": [
    "# Move File to project folder\n",
    "fileName = 'url_dataset.csv'\n",
    "srcFilePath = os.path.join(kPath, fileName)\n",
    "dataDir = os.path.join(os.pardir, 'data', 'raw', fileName)\n",
    "shutil.move(srcFilePath, dataDir)"
   ]
  },
  {
   "cell_type": "code",
   "execution_count": 16,
   "id": "44708fdc-4401-4972-9869-593db3e360ed",
   "metadata": {
    "tags": []
   },
   "outputs": [],
   "source": [
    "# Create pandas dataframe\n",
    "urlData = pd.read_csv(dataDir)"
   ]
  },
  {
   "cell_type": "code",
   "execution_count": 18,
   "id": "8e32c446-b610-4a0a-962b-dd5ba6da4067",
   "metadata": {
    "tags": []
   },
   "outputs": [
    {
     "name": "stdout",
     "output_type": "stream",
     "text": [
      "(450176, 2)\n"
     ]
    }
   ],
   "source": [
    "# check dataframe - # or rows\n",
    "print(urlData.shape)"
   ]
  },
  {
   "cell_type": "markdown",
   "id": "0556fb55-db18-400a-a9de-1775eb1610c6",
   "metadata": {},
   "source": [
    "##### Data Organization\n",
    "Project file structure based on the cookiecutter data science template. \\\n",
    "[https://drivendata.github.io/cookiecutter-data-science/](https://drivendata.github.io/cookiecutter-data-science/)\n",
    "\n",
    "Folder structure tree (GitHub) \\\n",
    "[https://github.com/mdgarber/DetectPhishURL/blob/7dd7d38c001590b4629f8810906a3724ab107fd5/DetectPhishURL/README.md](https://github.com/mdgarber/DetectPhishURL/blob/7dd7d38c001590b4629f8810906a3724ab107fd5/DetectPhishURL/README.md)"
   ]
  },
  {
   "cell_type": "markdown",
   "id": "eb0c242b-ce19-460e-8115-7fd00b74252c",
   "metadata": {},
   "source": [
    "##### Data Definition\n",
    "\n",
    "- Column names\n",
    "- Data types\n",
    "- Description of the columns\n",
    "- Counts and unique values\n",
    "- Ranges of values\n",
    "- Calc Summary statistics"
   ]
  },
  {
   "cell_type": "code",
   "execution_count": 22,
   "id": "dcdc1fcb-68d9-41be-8b8a-5f45e53edb28",
   "metadata": {
    "tags": []
   },
   "outputs": [
    {
     "name": "stdout",
     "output_type": "stream",
     "text": [
      "<class 'pandas.core.frame.DataFrame'>\n",
      "RangeIndex: 450176 entries, 0 to 450175\n",
      "Data columns (total 2 columns):\n",
      " #   Column  Non-Null Count   Dtype \n",
      "---  ------  --------------   ----- \n",
      " 0   url     450176 non-null  object\n",
      " 1   type    450176 non-null  object\n",
      "dtypes: object(2)\n",
      "memory usage: 6.9+ MB\n"
     ]
    }
   ],
   "source": [
    "# Data types, unique values, range of index\n",
    "urlData.info(verbose=True)"
   ]
  },
  {
   "cell_type": "markdown",
   "id": "a36c98a6-3f88-4839-9008-c53e25ef8882",
   "metadata": {},
   "source": [
    "Description of the columns\n",
    "- url - The web address to be analyzed.\n",
    "- type - The classification of the URL (phishing or legitimate)."
   ]
  },
  {
   "cell_type": "code",
   "execution_count": 93,
   "id": "3cbc1a1c-f097-494a-aa5b-39d4f15df53c",
   "metadata": {
    "tags": []
   },
   "outputs": [
    {
     "name": "stdout",
     "output_type": "stream",
     "text": [
      "\n",
      "======== Counts ========\n",
      "\n",
      "url\n",
      "https://www.google.com                                                                                                                             1\n",
      "https://www.tabheaven.com/gales-eric-tabs.html                                                                                                     1\n",
      "https://www.tabs-database.com/justin-mcroberts-chords.html                                                                                         1\n",
      "https://www.tabpower.com/a806.html                                                                                                                 1\n",
      "https://www.tabor.edu/alumni/directory?decade=1960                                                                                                 1\n",
      "                                                                                                                                                  ..\n",
      "https://www.billboard.com/artist/anita-pointer/discography/songs/23169                                                                             1\n",
      "https://www.billboard.com/artist/andy-kim/chart-history/21881                                                                                      1\n",
      "https://www.billboard.com/artist/alvino-rey/discography/compilations/9479?sort=alphabet                                                            1\n",
      "https://www.billboard.com/artist/3x-krazy/discography/albums/142659                                                                                1\n",
      "http://writeassociate.com/test/Portal/inicio/IO8Hc30w_Eq8DfVjyJGvwEO4GhAnH48CqLwGx-uH4XXCpAPCJlRkBsaGmGQ6QgAIyLKwQ/www.Bancasaleon.com.do/bhdi/    1\n",
      "Name: count, Length: 450176, dtype: int64\n",
      "\n",
      "\n",
      "type\n",
      "legitimate    345738\n",
      "phishing      104438\n",
      "Name: count, dtype: int64\n"
     ]
    }
   ],
   "source": [
    "# Value counts for fields\n",
    "print('\\n======== Counts ========\\n')\n",
    "print(urlData['url' ].value_counts())\n",
    "print('\\n') # line space\n",
    "print(urlData['type'].value_counts())"
   ]
  },
  {
   "cell_type": "code",
   "execution_count": 33,
   "id": "617606f4-fc99-4377-8477-62f1f560980a",
   "metadata": {
    "tags": []
   },
   "outputs": [
    {
     "data": {
      "text/html": [
       "<div>\n",
       "<style scoped>\n",
       "    .dataframe tbody tr th:only-of-type {\n",
       "        vertical-align: middle;\n",
       "    }\n",
       "\n",
       "    .dataframe tbody tr th {\n",
       "        vertical-align: top;\n",
       "    }\n",
       "\n",
       "    .dataframe thead th {\n",
       "        text-align: right;\n",
       "    }\n",
       "</style>\n",
       "<table border=\"1\" class=\"dataframe\">\n",
       "  <thead>\n",
       "    <tr style=\"text-align: right;\">\n",
       "      <th></th>\n",
       "      <th>url</th>\n",
       "      <th>type</th>\n",
       "    </tr>\n",
       "  </thead>\n",
       "  <tbody>\n",
       "    <tr>\n",
       "      <th>count</th>\n",
       "      <td>450176</td>\n",
       "      <td>450176</td>\n",
       "    </tr>\n",
       "    <tr>\n",
       "      <th>unique</th>\n",
       "      <td>450176</td>\n",
       "      <td>2</td>\n",
       "    </tr>\n",
       "    <tr>\n",
       "      <th>top</th>\n",
       "      <td>https://www.google.com</td>\n",
       "      <td>legitimate</td>\n",
       "    </tr>\n",
       "    <tr>\n",
       "      <th>freq</th>\n",
       "      <td>1</td>\n",
       "      <td>345738</td>\n",
       "    </tr>\n",
       "  </tbody>\n",
       "</table>\n",
       "</div>"
      ],
      "text/plain": [
       "                           url        type\n",
       "count                   450176      450176\n",
       "unique                  450176           2\n",
       "top     https://www.google.com  legitimate\n",
       "freq                         1      345738"
      ]
     },
     "execution_count": 33,
     "metadata": {},
     "output_type": "execute_result"
    }
   ],
   "source": [
    "# describe dataframe\n",
    "urlData.describe()"
   ]
  },
  {
   "cell_type": "markdown",
   "id": "2bd553c8-8edf-4e2a-a5e1-db9ad9e388ad",
   "metadata": {
    "tags": []
   },
   "source": [
    "Data Definition Summary\n",
    "\n",
    "- Column names\n",
    "    - url\n",
    "        - Data types\n",
    "            - series of string\n",
    "        - Description of the column \n",
    "            - The web address to be analyzed.\n",
    "        - Counts and unique values \n",
    "            - 450176 (all unique)\n",
    "        - Ranges of values \n",
    "            - all unique URLs\n",
    "    - type\n",
    "        - Data types \n",
    "            - series of string\n",
    "        - Description of the column\n",
    "            - The classification of the URL (phishing or legitimate).\n",
    "        - Counts and unique values\n",
    "            - legitimate    345738\n",
    "            - phishing      104438\n",
    "        - Ranges of values\n",
    "            - phishing\n",
    "            - legitimate\n",
    "            \n",
    "- Calc Summary statistics\n",
    "    - N/A ... text data"
   ]
  },
  {
   "cell_type": "markdown",
   "id": "40ff38ed-8479-4064-8999-a73023e99f23",
   "metadata": {},
   "source": [
    "##### Data Cleaning\n",
    "\n",
    "- this dataset is already clean  =)"
   ]
  },
  {
   "cell_type": "markdown",
   "id": "d07e2a98-63bb-4e62-a41d-42cffcf4a2a5",
   "metadata": {
    "tags": []
   },
   "source": [
    "#### EDA"
   ]
  },
  {
   "cell_type": "code",
   "execution_count": 85,
   "id": "c1207c63-1109-4964-96e4-86c9dfcadccd",
   "metadata": {
    "tags": []
   },
   "outputs": [
    {
     "data": {
      "text/html": [
       "<div>\n",
       "<style scoped>\n",
       "    .dataframe tbody tr th:only-of-type {\n",
       "        vertical-align: middle;\n",
       "    }\n",
       "\n",
       "    .dataframe tbody tr th {\n",
       "        vertical-align: top;\n",
       "    }\n",
       "\n",
       "    .dataframe thead th {\n",
       "        text-align: right;\n",
       "    }\n",
       "</style>\n",
       "<table border=\"1\" class=\"dataframe\">\n",
       "  <thead>\n",
       "    <tr style=\"text-align: right;\">\n",
       "      <th></th>\n",
       "      <th>url</th>\n",
       "      <th>type</th>\n",
       "    </tr>\n",
       "  </thead>\n",
       "  <tbody>\n",
       "    <tr>\n",
       "      <th>0</th>\n",
       "      <td>https://www.google.com</td>\n",
       "      <td>legitimate</td>\n",
       "    </tr>\n",
       "    <tr>\n",
       "      <th>1</th>\n",
       "      <td>https://www.youtube.com</td>\n",
       "      <td>legitimate</td>\n",
       "    </tr>\n",
       "    <tr>\n",
       "      <th>2</th>\n",
       "      <td>https://www.facebook.com</td>\n",
       "      <td>legitimate</td>\n",
       "    </tr>\n",
       "    <tr>\n",
       "      <th>3</th>\n",
       "      <td>https://www.baidu.com</td>\n",
       "      <td>legitimate</td>\n",
       "    </tr>\n",
       "    <tr>\n",
       "      <th>4</th>\n",
       "      <td>https://www.wikipedia.org</td>\n",
       "      <td>legitimate</td>\n",
       "    </tr>\n",
       "    <tr>\n",
       "      <th>5</th>\n",
       "      <td>https://www.reddit.com</td>\n",
       "      <td>legitimate</td>\n",
       "    </tr>\n",
       "    <tr>\n",
       "      <th>6</th>\n",
       "      <td>https://www.yahoo.com</td>\n",
       "      <td>legitimate</td>\n",
       "    </tr>\n",
       "    <tr>\n",
       "      <th>7</th>\n",
       "      <td>https://www.google.co.in</td>\n",
       "      <td>legitimate</td>\n",
       "    </tr>\n",
       "    <tr>\n",
       "      <th>8</th>\n",
       "      <td>https://www.qq.com</td>\n",
       "      <td>legitimate</td>\n",
       "    </tr>\n",
       "    <tr>\n",
       "      <th>9</th>\n",
       "      <td>https://www.amazon.com</td>\n",
       "      <td>legitimate</td>\n",
       "    </tr>\n",
       "  </tbody>\n",
       "</table>\n",
       "</div>"
      ],
      "text/plain": [
       "                         url        type\n",
       "0     https://www.google.com  legitimate\n",
       "1    https://www.youtube.com  legitimate\n",
       "2   https://www.facebook.com  legitimate\n",
       "3      https://www.baidu.com  legitimate\n",
       "4  https://www.wikipedia.org  legitimate\n",
       "5     https://www.reddit.com  legitimate\n",
       "6      https://www.yahoo.com  legitimate\n",
       "7   https://www.google.co.in  legitimate\n",
       "8         https://www.qq.com  legitimate\n",
       "9     https://www.amazon.com  legitimate"
      ]
     },
     "execution_count": 85,
     "metadata": {},
     "output_type": "execute_result"
    }
   ],
   "source": [
    "# view the data head\n",
    "urlData.head(10)"
   ]
  },
  {
   "cell_type": "code",
   "execution_count": 89,
   "id": "7278cc65-8361-4879-8fd3-cf77b1c27580",
   "metadata": {
    "tags": []
   },
   "outputs": [
    {
     "data": {
      "text/html": [
       "<div>\n",
       "<style scoped>\n",
       "    .dataframe tbody tr th:only-of-type {\n",
       "        vertical-align: middle;\n",
       "    }\n",
       "\n",
       "    .dataframe tbody tr th {\n",
       "        vertical-align: top;\n",
       "    }\n",
       "\n",
       "    .dataframe thead th {\n",
       "        text-align: right;\n",
       "    }\n",
       "</style>\n",
       "<table border=\"1\" class=\"dataframe\">\n",
       "  <thead>\n",
       "    <tr style=\"text-align: right;\">\n",
       "      <th></th>\n",
       "      <th>url</th>\n",
       "      <th>type</th>\n",
       "    </tr>\n",
       "  </thead>\n",
       "  <tbody>\n",
       "    <tr>\n",
       "      <th>345738</th>\n",
       "      <td>http://atualizacaodedados.online</td>\n",
       "      <td>phishing</td>\n",
       "    </tr>\n",
       "    <tr>\n",
       "      <th>345739</th>\n",
       "      <td>http://webmasteradmin.ukit.me/</td>\n",
       "      <td>phishing</td>\n",
       "    </tr>\n",
       "    <tr>\n",
       "      <th>345740</th>\n",
       "      <td>http://stcdxmt.bigperl.in/klxtv/apps/uk/</td>\n",
       "      <td>phishing</td>\n",
       "    </tr>\n",
       "    <tr>\n",
       "      <th>345741</th>\n",
       "      <td>https://tubuh-syarikat.com/plugins/fields/files/</td>\n",
       "      <td>phishing</td>\n",
       "    </tr>\n",
       "    <tr>\n",
       "      <th>345742</th>\n",
       "      <td>http://rolyborgesmd.com/exceword/excel.php?.ra...</td>\n",
       "      <td>phishing</td>\n",
       "    </tr>\n",
       "    <tr>\n",
       "      <th>345743</th>\n",
       "      <td>http://ongelezen-voda.000webhostapp.com/inlogg...</td>\n",
       "      <td>phishing</td>\n",
       "    </tr>\n",
       "    <tr>\n",
       "      <th>345744</th>\n",
       "      <td>http://www.valenzaceramic.com/home/webapps/e52...</td>\n",
       "      <td>phishing</td>\n",
       "    </tr>\n",
       "    <tr>\n",
       "      <th>345745</th>\n",
       "      <td>http://membership-issue.forteimpex.com/dk2mmm=...</td>\n",
       "      <td>phishing</td>\n",
       "    </tr>\n",
       "    <tr>\n",
       "      <th>345746</th>\n",
       "      <td>http://membership-issue.forteimpex.com/dk2mmm=...</td>\n",
       "      <td>phishing</td>\n",
       "    </tr>\n",
       "    <tr>\n",
       "      <th>345747</th>\n",
       "      <td>http://chronopost-service-enligne.net/56123s/r...</td>\n",
       "      <td>phishing</td>\n",
       "    </tr>\n",
       "  </tbody>\n",
       "</table>\n",
       "</div>"
      ],
      "text/plain": [
       "                                                      url      type\n",
       "345738                   http://atualizacaodedados.online  phishing\n",
       "345739                     http://webmasteradmin.ukit.me/  phishing\n",
       "345740           http://stcdxmt.bigperl.in/klxtv/apps/uk/  phishing\n",
       "345741   https://tubuh-syarikat.com/plugins/fields/files/  phishing\n",
       "345742  http://rolyborgesmd.com/exceword/excel.php?.ra...  phishing\n",
       "345743  http://ongelezen-voda.000webhostapp.com/inlogg...  phishing\n",
       "345744  http://www.valenzaceramic.com/home/webapps/e52...  phishing\n",
       "345745  http://membership-issue.forteimpex.com/dk2mmm=...  phishing\n",
       "345746  http://membership-issue.forteimpex.com/dk2mmm=...  phishing\n",
       "345747  http://chronopost-service-enligne.net/56123s/r...  phishing"
      ]
     },
     "execution_count": 89,
     "metadata": {},
     "output_type": "execute_result"
    }
   ],
   "source": [
    "# view the data head - only phish\n",
    "urlData[urlData['type'] == 'phishing'].head(10)"
   ]
  },
  {
   "cell_type": "code",
   "execution_count": 102,
   "id": "d771ecdd-081c-4e9c-ab0f-60d22c6ca76d",
   "metadata": {
    "tags": []
   },
   "outputs": [],
   "source": [
    "# Export df to file\n",
    "urlData.to_csv('../data/interim/urlData_raw.csv')"
   ]
  }
 ],
 "metadata": {
  "kernelspec": {
   "display_name": "Python 3 (ipykernel)",
   "language": "python",
   "name": "python3"
  },
  "language_info": {
   "codemirror_mode": {
    "name": "ipython",
    "version": 3
   },
   "file_extension": ".py",
   "mimetype": "text/x-python",
   "name": "python",
   "nbconvert_exporter": "python",
   "pygments_lexer": "ipython3",
   "version": "3.11.7"
  }
 },
 "nbformat": 4,
 "nbformat_minor": 5
}
