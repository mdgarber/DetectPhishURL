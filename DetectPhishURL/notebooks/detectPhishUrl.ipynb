{
 "cells": [
  {
   "cell_type": "markdown",
   "id": "fed30250-f75d-4850-ab49-1f8bf40d895e",
   "metadata": {},
   "source": [
    "# Detect Phishing URLs\n",
    "### Capstone 3 - Data Wrangling and EDA\n",
    "Michael Garber"
   ]
  },
  {
   "cell_type": "markdown",
   "id": "6f764038-11e6-47ac-a9f5-8ffcc797d699",
   "metadata": {},
   "source": [
    "#### High-Level Steps\n",
    "1. Data Wrangling\n",
    "    1. Data Collection\n",
    "    2. Data Organization\n",
    "    3. Data Definition\n",
    "    4. Data Cleaning\n",
    "1. Exploratory Data Analysis\n"
   ]
  },
  {
   "cell_type": "markdown",
   "id": "7e90ad53-8ca7-4ee3-898b-9102ce014837",
   "metadata": {
    "tags": []
   },
   "source": [
    "#### Data Wrangling"
   ]
  },
  {
   "cell_type": "markdown",
   "id": "9d5505a7-07cb-4019-befa-8d8d305e6a57",
   "metadata": {},
   "source": [
    "##### Data Collection\n",
    "Info/Data\n",
    "- https://www.kaggle.com/datasets/hassaanmustafavi/phishing-urls-dataset"
   ]
  },
  {
   "cell_type": "code",
   "execution_count": 6,
   "id": "40331023-2d9a-44c4-965c-2a9822ddb85a",
   "metadata": {
    "tags": []
   },
   "outputs": [
    {
     "name": "stdout",
     "output_type": "stream",
     "text": [
      "Requirement already satisfied: kagglehub in c:\\users\\mg-laptop\\anaconda3\\lib\\site-packages (0.3.11)\n",
      "Requirement already satisfied: packaging in c:\\users\\mg-laptop\\anaconda3\\lib\\site-packages (from kagglehub) (23.1)\n",
      "Requirement already satisfied: pyyaml in c:\\users\\mg-laptop\\anaconda3\\lib\\site-packages (from kagglehub) (6.0.1)\n",
      "Requirement already satisfied: requests in c:\\users\\mg-laptop\\anaconda3\\lib\\site-packages (from kagglehub) (2.31.0)\n",
      "Requirement already satisfied: tqdm in c:\\users\\mg-laptop\\anaconda3\\lib\\site-packages (from kagglehub) (4.66.6)\n",
      "Requirement already satisfied: charset-normalizer<4,>=2 in c:\\users\\mg-laptop\\anaconda3\\lib\\site-packages (from requests->kagglehub) (2.0.4)\n",
      "Requirement already satisfied: idna<4,>=2.5 in c:\\users\\mg-laptop\\anaconda3\\lib\\site-packages (from requests->kagglehub) (3.4)\n",
      "Requirement already satisfied: urllib3<3,>=1.21.1 in c:\\users\\mg-laptop\\anaconda3\\lib\\site-packages (from requests->kagglehub) (2.0.7)\n",
      "Requirement already satisfied: certifi>=2017.4.17 in c:\\users\\mg-laptop\\anaconda3\\lib\\site-packages (from requests->kagglehub) (2024.8.30)\n",
      "Requirement already satisfied: colorama in c:\\users\\mg-laptop\\anaconda3\\lib\\site-packages (from tqdm->kagglehub) (0.4.6)\n",
      "Note: you may need to restart the kernel to use updated packages.\n"
     ]
    }
   ],
   "source": [
    "# Please Install KaggleHub if you don't already have it\n",
    "%pip install kagglehub"
   ]
  },
  {
   "cell_type": "code",
   "execution_count": 7,
   "id": "e1c5b1f8-57e2-4a69-9484-ab35d539142f",
   "metadata": {},
   "outputs": [],
   "source": [
    "# Import Packages\n",
    "import pandas as pd\n",
    "import kagglehub\n",
    "import os\n",
    "import shutil\n",
    "from urllib.parse import urlparse"
   ]
  },
  {
   "cell_type": "code",
   "execution_count": 8,
   "id": "27e54a9f-48aa-4551-88d8-2a07eadc5739",
   "metadata": {},
   "outputs": [],
   "source": [
    "# Download Data\n",
    "kPath = kagglehub.dataset_download(\"hassaanmustafavi/phishing-urls-dataset\")"
   ]
  },
  {
   "cell_type": "code",
   "execution_count": 10,
   "id": "ecd6ae3e-8072-46eb-9f0a-d368284eb9f5",
   "metadata": {
    "tags": []
   },
   "outputs": [
    {
     "data": {
      "text/plain": [
       "'..\\\\data\\\\raw\\\\url_dataset.csv'"
      ]
     },
     "execution_count": 10,
     "metadata": {},
     "output_type": "execute_result"
    }
   ],
   "source": [
    "# build source file path\n",
    "fileName = 'url_dataset.csv'\n",
    "srcFilePath = os.path.join(kPath, fileName)\n",
    "dataDir = os.path.join(os.pardir, 'data', 'raw', fileName)\n",
    "\n",
    "# Move File to project folder\n",
    "shutil.copy(srcFilePath, dataDir)"
   ]
  },
  {
   "cell_type": "code",
   "execution_count": 12,
   "id": "44708fdc-4401-4972-9869-593db3e360ed",
   "metadata": {
    "tags": []
   },
   "outputs": [],
   "source": [
    "# Create pandas dataframe\n",
    "urlData = pd.read_csv(dataDir)"
   ]
  },
  {
   "cell_type": "code",
   "execution_count": 13,
   "id": "8e32c446-b610-4a0a-962b-dd5ba6da4067",
   "metadata": {
    "tags": []
   },
   "outputs": [
    {
     "name": "stdout",
     "output_type": "stream",
     "text": [
      "(450176, 2)\n"
     ]
    }
   ],
   "source": [
    "# check dataframe - # or rows\n",
    "print(urlData.shape)"
   ]
  },
  {
   "cell_type": "markdown",
   "id": "0556fb55-db18-400a-a9de-1775eb1610c6",
   "metadata": {},
   "source": [
    "##### Data Organization\n",
    "Project file structure based on the cookiecutter data science template. \\\n",
    "[https://drivendata.github.io/cookiecutter-data-science/](https://drivendata.github.io/cookiecutter-data-science/)\n",
    "\n",
    "Folder structure tree (GitHub) \\\n",
    "[https://github.com/mdgarber/DetectPhishURL/blob/7dd7d38c001590b4629f8810906a3724ab107fd5/DetectPhishURL/README.md](https://github.com/mdgarber/DetectPhishURL/blob/7dd7d38c001590b4629f8810906a3724ab107fd5/DetectPhishURL/README.md)"
   ]
  },
  {
   "cell_type": "markdown",
   "id": "eb0c242b-ce19-460e-8115-7fd00b74252c",
   "metadata": {},
   "source": [
    "##### Data Definition\n",
    "\n",
    "- Column names\n",
    "- Data types\n",
    "- Description of the columns\n",
    "- Counts and unique values\n",
    "- Ranges of values\n",
    "- Calc Summary statistics"
   ]
  },
  {
   "cell_type": "code",
   "execution_count": 16,
   "id": "dcdc1fcb-68d9-41be-8b8a-5f45e53edb28",
   "metadata": {
    "tags": []
   },
   "outputs": [
    {
     "name": "stdout",
     "output_type": "stream",
     "text": [
      "<class 'pandas.core.frame.DataFrame'>\n",
      "RangeIndex: 450176 entries, 0 to 450175\n",
      "Data columns (total 2 columns):\n",
      " #   Column  Non-Null Count   Dtype \n",
      "---  ------  --------------   ----- \n",
      " 0   url     450176 non-null  object\n",
      " 1   type    450176 non-null  object\n",
      "dtypes: object(2)\n",
      "memory usage: 6.9+ MB\n"
     ]
    }
   ],
   "source": [
    "# Data types, unique values, range of index\n",
    "urlData.info(verbose=True)"
   ]
  },
  {
   "cell_type": "markdown",
   "id": "a36c98a6-3f88-4839-9008-c53e25ef8882",
   "metadata": {},
   "source": [
    "Description of the columns\n",
    "- url - The web address to be analyzed.\n",
    "- type - The classification of the URL (phishing or legitimate)."
   ]
  },
  {
   "cell_type": "code",
   "execution_count": 18,
   "id": "3cbc1a1c-f097-494a-aa5b-39d4f15df53c",
   "metadata": {
    "tags": []
   },
   "outputs": [
    {
     "name": "stdout",
     "output_type": "stream",
     "text": [
      "\n",
      "======== Counts ========\n",
      "\n",
      "url\n",
      "https://www.google.com                                                                                                                             1\n",
      "https://www.tabheaven.com/gales-eric-tabs.html                                                                                                     1\n",
      "https://www.tabs-database.com/justin-mcroberts-chords.html                                                                                         1\n",
      "https://www.tabpower.com/a806.html                                                                                                                 1\n",
      "https://www.tabor.edu/alumni/directory?decade=1960                                                                                                 1\n",
      "                                                                                                                                                  ..\n",
      "https://www.billboard.com/artist/anita-pointer/discography/songs/23169                                                                             1\n",
      "https://www.billboard.com/artist/andy-kim/chart-history/21881                                                                                      1\n",
      "https://www.billboard.com/artist/alvino-rey/discography/compilations/9479?sort=alphabet                                                            1\n",
      "https://www.billboard.com/artist/3x-krazy/discography/albums/142659                                                                                1\n",
      "http://writeassociate.com/test/Portal/inicio/IO8Hc30w_Eq8DfVjyJGvwEO4GhAnH48CqLwGx-uH4XXCpAPCJlRkBsaGmGQ6QgAIyLKwQ/www.Bancasaleon.com.do/bhdi/    1\n",
      "Name: count, Length: 450176, dtype: int64\n",
      "\n",
      "\n",
      "type\n",
      "legitimate    345738\n",
      "phishing      104438\n",
      "Name: count, dtype: int64\n"
     ]
    }
   ],
   "source": [
    "# Value counts for fields\n",
    "print('\\n======== Counts ========\\n')\n",
    "print(urlData['url' ].value_counts())\n",
    "print('\\n') # line space\n",
    "print(urlData['type'].value_counts())"
   ]
  },
  {
   "cell_type": "code",
   "execution_count": 19,
   "id": "617606f4-fc99-4377-8477-62f1f560980a",
   "metadata": {
    "tags": []
   },
   "outputs": [
    {
     "data": {
      "text/html": [
       "<div>\n",
       "<style scoped>\n",
       "    .dataframe tbody tr th:only-of-type {\n",
       "        vertical-align: middle;\n",
       "    }\n",
       "\n",
       "    .dataframe tbody tr th {\n",
       "        vertical-align: top;\n",
       "    }\n",
       "\n",
       "    .dataframe thead th {\n",
       "        text-align: right;\n",
       "    }\n",
       "</style>\n",
       "<table border=\"1\" class=\"dataframe\">\n",
       "  <thead>\n",
       "    <tr style=\"text-align: right;\">\n",
       "      <th></th>\n",
       "      <th>url</th>\n",
       "      <th>type</th>\n",
       "    </tr>\n",
       "  </thead>\n",
       "  <tbody>\n",
       "    <tr>\n",
       "      <th>count</th>\n",
       "      <td>450176</td>\n",
       "      <td>450176</td>\n",
       "    </tr>\n",
       "    <tr>\n",
       "      <th>unique</th>\n",
       "      <td>450176</td>\n",
       "      <td>2</td>\n",
       "    </tr>\n",
       "    <tr>\n",
       "      <th>top</th>\n",
       "      <td>https://www.google.com</td>\n",
       "      <td>legitimate</td>\n",
       "    </tr>\n",
       "    <tr>\n",
       "      <th>freq</th>\n",
       "      <td>1</td>\n",
       "      <td>345738</td>\n",
       "    </tr>\n",
       "  </tbody>\n",
       "</table>\n",
       "</div>"
      ],
      "text/plain": [
       "                           url        type\n",
       "count                   450176      450176\n",
       "unique                  450176           2\n",
       "top     https://www.google.com  legitimate\n",
       "freq                         1      345738"
      ]
     },
     "execution_count": 19,
     "metadata": {},
     "output_type": "execute_result"
    }
   ],
   "source": [
    "# describe dataframe\n",
    "urlData.describe()"
   ]
  },
  {
   "cell_type": "markdown",
   "id": "2bd553c8-8edf-4e2a-a5e1-db9ad9e388ad",
   "metadata": {
    "tags": []
   },
   "source": [
    "Data Definition Summary\n",
    "\n",
    "- Column names\n",
    "    - url\n",
    "        - Data types\n",
    "            - series of string\n",
    "        - Description of the column \n",
    "            - The web address to be analyzed.\n",
    "        - Counts and unique values \n",
    "            - 450176 (all unique)\n",
    "        - Ranges of values \n",
    "            - all unique URLs\n",
    "    - type\n",
    "        - Data types \n",
    "            - series of string\n",
    "        - Description of the column\n",
    "            - The classification of the URL (phishing or legitimate).\n",
    "        - Counts and unique values\n",
    "            - legitimate    345738\n",
    "            - phishing      104438\n",
    "        - Ranges of values\n",
    "            - phishing\n",
    "            - legitimate\n",
    "            \n",
    "- Calc Summary statistics\n",
    "    - N/A ... text data"
   ]
  },
  {
   "cell_type": "markdown",
   "id": "40ff38ed-8479-4064-8999-a73023e99f23",
   "metadata": {},
   "source": [
    "##### Data Cleaning\n",
    "\n",
    "- this dataset is already clean  =)"
   ]
  },
  {
   "cell_type": "markdown",
   "id": "d07e2a98-63bb-4e62-a41d-42cffcf4a2a5",
   "metadata": {
    "tags": []
   },
   "source": [
    "#### Exploratory Data Analysis"
   ]
  },
  {
   "cell_type": "code",
   "execution_count": 23,
   "id": "c1207c63-1109-4964-96e4-86c9dfcadccd",
   "metadata": {
    "tags": []
   },
   "outputs": [
    {
     "data": {
      "text/html": [
       "<div>\n",
       "<style scoped>\n",
       "    .dataframe tbody tr th:only-of-type {\n",
       "        vertical-align: middle;\n",
       "    }\n",
       "\n",
       "    .dataframe tbody tr th {\n",
       "        vertical-align: top;\n",
       "    }\n",
       "\n",
       "    .dataframe thead th {\n",
       "        text-align: right;\n",
       "    }\n",
       "</style>\n",
       "<table border=\"1\" class=\"dataframe\">\n",
       "  <thead>\n",
       "    <tr style=\"text-align: right;\">\n",
       "      <th></th>\n",
       "      <th>url</th>\n",
       "      <th>type</th>\n",
       "    </tr>\n",
       "  </thead>\n",
       "  <tbody>\n",
       "    <tr>\n",
       "      <th>0</th>\n",
       "      <td>https://www.google.com</td>\n",
       "      <td>legitimate</td>\n",
       "    </tr>\n",
       "    <tr>\n",
       "      <th>1</th>\n",
       "      <td>https://www.youtube.com</td>\n",
       "      <td>legitimate</td>\n",
       "    </tr>\n",
       "    <tr>\n",
       "      <th>2</th>\n",
       "      <td>https://www.facebook.com</td>\n",
       "      <td>legitimate</td>\n",
       "    </tr>\n",
       "    <tr>\n",
       "      <th>3</th>\n",
       "      <td>https://www.baidu.com</td>\n",
       "      <td>legitimate</td>\n",
       "    </tr>\n",
       "    <tr>\n",
       "      <th>4</th>\n",
       "      <td>https://www.wikipedia.org</td>\n",
       "      <td>legitimate</td>\n",
       "    </tr>\n",
       "    <tr>\n",
       "      <th>5</th>\n",
       "      <td>https://www.reddit.com</td>\n",
       "      <td>legitimate</td>\n",
       "    </tr>\n",
       "    <tr>\n",
       "      <th>6</th>\n",
       "      <td>https://www.yahoo.com</td>\n",
       "      <td>legitimate</td>\n",
       "    </tr>\n",
       "    <tr>\n",
       "      <th>7</th>\n",
       "      <td>https://www.google.co.in</td>\n",
       "      <td>legitimate</td>\n",
       "    </tr>\n",
       "    <tr>\n",
       "      <th>8</th>\n",
       "      <td>https://www.qq.com</td>\n",
       "      <td>legitimate</td>\n",
       "    </tr>\n",
       "    <tr>\n",
       "      <th>9</th>\n",
       "      <td>https://www.amazon.com</td>\n",
       "      <td>legitimate</td>\n",
       "    </tr>\n",
       "  </tbody>\n",
       "</table>\n",
       "</div>"
      ],
      "text/plain": [
       "                         url        type\n",
       "0     https://www.google.com  legitimate\n",
       "1    https://www.youtube.com  legitimate\n",
       "2   https://www.facebook.com  legitimate\n",
       "3      https://www.baidu.com  legitimate\n",
       "4  https://www.wikipedia.org  legitimate\n",
       "5     https://www.reddit.com  legitimate\n",
       "6      https://www.yahoo.com  legitimate\n",
       "7   https://www.google.co.in  legitimate\n",
       "8         https://www.qq.com  legitimate\n",
       "9     https://www.amazon.com  legitimate"
      ]
     },
     "execution_count": 23,
     "metadata": {},
     "output_type": "execute_result"
    }
   ],
   "source": [
    "# view the data head\n",
    "urlData.head(10)"
   ]
  },
  {
   "cell_type": "code",
   "execution_count": 24,
   "id": "7278cc65-8361-4879-8fd3-cf77b1c27580",
   "metadata": {
    "tags": []
   },
   "outputs": [
    {
     "data": {
      "text/html": [
       "<div>\n",
       "<style scoped>\n",
       "    .dataframe tbody tr th:only-of-type {\n",
       "        vertical-align: middle;\n",
       "    }\n",
       "\n",
       "    .dataframe tbody tr th {\n",
       "        vertical-align: top;\n",
       "    }\n",
       "\n",
       "    .dataframe thead th {\n",
       "        text-align: right;\n",
       "    }\n",
       "</style>\n",
       "<table border=\"1\" class=\"dataframe\">\n",
       "  <thead>\n",
       "    <tr style=\"text-align: right;\">\n",
       "      <th></th>\n",
       "      <th>url</th>\n",
       "      <th>type</th>\n",
       "    </tr>\n",
       "  </thead>\n",
       "  <tbody>\n",
       "    <tr>\n",
       "      <th>345738</th>\n",
       "      <td>http://atualizacaodedados.online</td>\n",
       "      <td>phishing</td>\n",
       "    </tr>\n",
       "    <tr>\n",
       "      <th>345739</th>\n",
       "      <td>http://webmasteradmin.ukit.me/</td>\n",
       "      <td>phishing</td>\n",
       "    </tr>\n",
       "    <tr>\n",
       "      <th>345740</th>\n",
       "      <td>http://stcdxmt.bigperl.in/klxtv/apps/uk/</td>\n",
       "      <td>phishing</td>\n",
       "    </tr>\n",
       "    <tr>\n",
       "      <th>345741</th>\n",
       "      <td>https://tubuh-syarikat.com/plugins/fields/files/</td>\n",
       "      <td>phishing</td>\n",
       "    </tr>\n",
       "    <tr>\n",
       "      <th>345742</th>\n",
       "      <td>http://rolyborgesmd.com/exceword/excel.php?.ra...</td>\n",
       "      <td>phishing</td>\n",
       "    </tr>\n",
       "    <tr>\n",
       "      <th>345743</th>\n",
       "      <td>http://ongelezen-voda.000webhostapp.com/inlogg...</td>\n",
       "      <td>phishing</td>\n",
       "    </tr>\n",
       "    <tr>\n",
       "      <th>345744</th>\n",
       "      <td>http://www.valenzaceramic.com/home/webapps/e52...</td>\n",
       "      <td>phishing</td>\n",
       "    </tr>\n",
       "    <tr>\n",
       "      <th>345745</th>\n",
       "      <td>http://membership-issue.forteimpex.com/dk2mmm=...</td>\n",
       "      <td>phishing</td>\n",
       "    </tr>\n",
       "    <tr>\n",
       "      <th>345746</th>\n",
       "      <td>http://membership-issue.forteimpex.com/dk2mmm=...</td>\n",
       "      <td>phishing</td>\n",
       "    </tr>\n",
       "    <tr>\n",
       "      <th>345747</th>\n",
       "      <td>http://chronopost-service-enligne.net/56123s/r...</td>\n",
       "      <td>phishing</td>\n",
       "    </tr>\n",
       "  </tbody>\n",
       "</table>\n",
       "</div>"
      ],
      "text/plain": [
       "                                                      url      type\n",
       "345738                   http://atualizacaodedados.online  phishing\n",
       "345739                     http://webmasteradmin.ukit.me/  phishing\n",
       "345740           http://stcdxmt.bigperl.in/klxtv/apps/uk/  phishing\n",
       "345741   https://tubuh-syarikat.com/plugins/fields/files/  phishing\n",
       "345742  http://rolyborgesmd.com/exceword/excel.php?.ra...  phishing\n",
       "345743  http://ongelezen-voda.000webhostapp.com/inlogg...  phishing\n",
       "345744  http://www.valenzaceramic.com/home/webapps/e52...  phishing\n",
       "345745  http://membership-issue.forteimpex.com/dk2mmm=...  phishing\n",
       "345746  http://membership-issue.forteimpex.com/dk2mmm=...  phishing\n",
       "345747  http://chronopost-service-enligne.net/56123s/r...  phishing"
      ]
     },
     "execution_count": 24,
     "metadata": {},
     "output_type": "execute_result"
    }
   ],
   "source": [
    "# view the data head - only phish\n",
    "urlData[urlData['type'] == 'phishing'].head(10)"
   ]
  },
  {
   "cell_type": "code",
   "execution_count": 125,
   "id": "5a62d1a3-49c3-47cf-82c8-4089289a2d90",
   "metadata": {
    "tags": []
   },
   "outputs": [],
   "source": [
    "# create function urlparse_try \n",
    "#    otherwise, parsing will fail on an invalid URL\n",
    "def urlparse_try(url):\n",
    "    try:\n",
    "        return urlparse(url)\n",
    "    except:\n",
    "        return 'invalid URL'"
   ]
  },
  {
   "cell_type": "code",
   "execution_count": 127,
   "id": "ca381087-3484-4170-ab37-f16f8a2a6385",
   "metadata": {
    "tags": []
   },
   "outputs": [],
   "source": [
    "# engineer new feature for EDA - parsedUrl\n",
    "urlData['parsedUrl'] = urlData['url'].apply(urlparse_try)"
   ]
  },
  {
   "cell_type": "code",
   "execution_count": 137,
   "id": "60e291fb-46f2-4c28-97b2-5ab88c13da01",
   "metadata": {
    "tags": []
   },
   "outputs": [
    {
     "name": "stdout",
     "output_type": "stream",
     "text": [
      "Example of a parsed url \n",
      "\n",
      "ParseResult(scheme='https', netloc='www.youtube.com', path='', params='', query='', fragment='')\n"
     ]
    }
   ],
   "source": [
    "# example of a parsed url\n",
    "print('Example of a parsed url \\n')\n",
    "print(urlparse(urlData['url'][1]))"
   ]
  },
  {
   "cell_type": "code",
   "execution_count": 155,
   "id": "207a44cc-ab8c-410a-acce-e15e2285d366",
   "metadata": {
    "tags": []
   },
   "outputs": [
    {
     "data": {
      "text/plain": [
       "\"\\n'count',\\n 'encode',\\n 'fragment',\\n 'geturl',\\n 'hostname',\\n 'index',\\n 'netloc',\\n 'params',\\n 'password',\\n 'path',\\n 'port',\\n 'query',\\n 'scheme',\\n 'username'\\n \\n\""
      ]
     },
     "execution_count": 155,
     "metadata": {},
     "output_type": "execute_result"
    }
   ],
   "source": [
    "# available fields in parseurl\n",
    "'''\n",
    "'count',\n",
    " 'encode',\n",
    " 'fragment',\n",
    " 'geturl',\n",
    " 'hostname',\n",
    " 'index',\n",
    " 'netloc',\n",
    " 'params',\n",
    " 'password',\n",
    " 'path',\n",
    " 'port',\n",
    " 'query',\n",
    " 'scheme',\n",
    " 'username'\n",
    " \n",
    "'''"
   ]
  },
  {
   "cell_type": "code",
   "execution_count": 129,
   "id": "3a664a7e-b1d0-419c-b6e5-cfc86cc07d28",
   "metadata": {
    "tags": []
   },
   "outputs": [
    {
     "data": {
      "text/html": [
       "<div>\n",
       "<style scoped>\n",
       "    .dataframe tbody tr th:only-of-type {\n",
       "        vertical-align: middle;\n",
       "    }\n",
       "\n",
       "    .dataframe tbody tr th {\n",
       "        vertical-align: top;\n",
       "    }\n",
       "\n",
       "    .dataframe thead th {\n",
       "        text-align: right;\n",
       "    }\n",
       "</style>\n",
       "<table border=\"1\" class=\"dataframe\">\n",
       "  <thead>\n",
       "    <tr style=\"text-align: right;\">\n",
       "      <th></th>\n",
       "      <th>url</th>\n",
       "      <th>type</th>\n",
       "      <th>parsedUrl</th>\n",
       "    </tr>\n",
       "  </thead>\n",
       "  <tbody>\n",
       "    <tr>\n",
       "      <th>0</th>\n",
       "      <td>https://www.google.com</td>\n",
       "      <td>legitimate</td>\n",
       "      <td>(https, www.google.com, , , , )</td>\n",
       "    </tr>\n",
       "    <tr>\n",
       "      <th>1</th>\n",
       "      <td>https://www.youtube.com</td>\n",
       "      <td>legitimate</td>\n",
       "      <td>(https, www.youtube.com, , , , )</td>\n",
       "    </tr>\n",
       "    <tr>\n",
       "      <th>2</th>\n",
       "      <td>https://www.facebook.com</td>\n",
       "      <td>legitimate</td>\n",
       "      <td>(https, www.facebook.com, , , , )</td>\n",
       "    </tr>\n",
       "    <tr>\n",
       "      <th>3</th>\n",
       "      <td>https://www.baidu.com</td>\n",
       "      <td>legitimate</td>\n",
       "      <td>(https, www.baidu.com, , , , )</td>\n",
       "    </tr>\n",
       "    <tr>\n",
       "      <th>4</th>\n",
       "      <td>https://www.wikipedia.org</td>\n",
       "      <td>legitimate</td>\n",
       "      <td>(https, www.wikipedia.org, , , , )</td>\n",
       "    </tr>\n",
       "  </tbody>\n",
       "</table>\n",
       "</div>"
      ],
      "text/plain": [
       "                         url        type                           parsedUrl\n",
       "0     https://www.google.com  legitimate     (https, www.google.com, , , , )\n",
       "1    https://www.youtube.com  legitimate    (https, www.youtube.com, , , , )\n",
       "2   https://www.facebook.com  legitimate   (https, www.facebook.com, , , , )\n",
       "3      https://www.baidu.com  legitimate      (https, www.baidu.com, , , , )\n",
       "4  https://www.wikipedia.org  legitimate  (https, www.wikipedia.org, , , , )"
      ]
     },
     "execution_count": 129,
     "metadata": {},
     "output_type": "execute_result"
    }
   ],
   "source": [
    "urlData[urlData[]].head()"
   ]
  },
  {
   "cell_type": "code",
   "execution_count": 141,
   "id": "581b1815-bd43-40d4-8389-96ed527be060",
   "metadata": {
    "tags": []
   },
   "outputs": [
    {
     "name": "stdout",
     "output_type": "stream",
     "text": [
      "None\n"
     ]
    }
   ],
   "source": [
    "print(urlData['parsedUrl'][1])"
   ]
  },
  {
   "cell_type": "code",
   "execution_count": 153,
   "id": "8be6a13a-7877-4646-b81b-799393e1197c",
   "metadata": {
    "collapsed": true,
    "jupyter": {
     "outputs_hidden": true
    },
    "tags": []
   },
   "outputs": [
    {
     "data": {
      "text/plain": [
       "['__add__',\n",
       " '__class__',\n",
       " '__class_getitem__',\n",
       " '__contains__',\n",
       " '__delattr__',\n",
       " '__dir__',\n",
       " '__doc__',\n",
       " '__eq__',\n",
       " '__format__',\n",
       " '__ge__',\n",
       " '__getattribute__',\n",
       " '__getitem__',\n",
       " '__getnewargs__',\n",
       " '__getstate__',\n",
       " '__gt__',\n",
       " '__hash__',\n",
       " '__init__',\n",
       " '__init_subclass__',\n",
       " '__iter__',\n",
       " '__le__',\n",
       " '__len__',\n",
       " '__lt__',\n",
       " '__match_args__',\n",
       " '__module__',\n",
       " '__mul__',\n",
       " '__ne__',\n",
       " '__new__',\n",
       " '__reduce__',\n",
       " '__reduce_ex__',\n",
       " '__repr__',\n",
       " '__rmul__',\n",
       " '__setattr__',\n",
       " '__sizeof__',\n",
       " '__slots__',\n",
       " '__str__',\n",
       " '__subclasshook__',\n",
       " '_asdict',\n",
       " '_encoded_counterpart',\n",
       " '_field_defaults',\n",
       " '_fields',\n",
       " '_hostinfo',\n",
       " '_make',\n",
       " '_replace',\n",
       " '_userinfo',\n",
       " 'count',\n",
       " 'encode',\n",
       " 'fragment',\n",
       " 'geturl',\n",
       " 'hostname',\n",
       " 'index',\n",
       " 'netloc',\n",
       " 'params',\n",
       " 'password',\n",
       " 'path',\n",
       " 'port',\n",
       " 'query',\n",
       " 'scheme',\n",
       " 'username']"
      ]
     },
     "execution_count": 153,
     "metadata": {},
     "output_type": "execute_result"
    }
   ],
   "source": [
    "#print(urlData['parsedUrl'][1].port)\n",
    "dir(urlData['parsedUrl'][1])"
   ]
  },
  {
   "cell_type": "code",
   "execution_count": 28,
   "id": "1f9e4065-5d2f-41e8-bc0d-b34965b15489",
   "metadata": {},
   "outputs": [],
   "source": [
    "# relationship between http vs https (secure) and type (phish or not)"
   ]
  },
  {
   "cell_type": "code",
   "execution_count": 29,
   "id": "3c5c18a4-a5e0-4ecb-9e3a-0b3cc219af24",
   "metadata": {},
   "outputs": [],
   "source": [
    "# relationship between top level domain and type (phish or not)\n",
    "# "
   ]
  },
  {
   "cell_type": "code",
   "execution_count": 30,
   "id": "d771ecdd-081c-4e9c-ab0f-60d22c6ca76d",
   "metadata": {
    "tags": []
   },
   "outputs": [],
   "source": [
    "# Export df to file\n",
    "urlData.to_csv('../data/interim/urlData_raw.csv')"
   ]
  },
  {
   "cell_type": "markdown",
   "id": "86994cf7-3f6e-4d67-8902-07474e35c589",
   "metadata": {},
   "source": [
    "- the dataset is very simple and not well suited for statistical analysis in it's current form\n",
    "- will parse the URLs and perform feature engineering in the next notebook for pre-processing\n",
    "\n",
    "- play with the data a bit more for EDA\n",
    "- look at relationship between target and\n",
    "    - https and http urls\n",
    "    - .com and .com.in (country specific domains)\n",
    "    - any other initial analysis that can be done without extensive feature engineering (that will be done in next notebook)\n",
    "    - resources\n",
    "        - https://www.geeksforgeeks.org/components-of-a-url/\n",
    "        - https://www.techtarget.com/whatis/definition/named-entity-recognition-NER   (from Kevin)"
   ]
  }
 ],
 "metadata": {
  "kernelspec": {
   "display_name": "Python 3 (ipykernel)",
   "language": "python",
   "name": "python3"
  },
  "language_info": {
   "codemirror_mode": {
    "name": "ipython",
    "version": 3
   },
   "file_extension": ".py",
   "mimetype": "text/x-python",
   "name": "python",
   "nbconvert_exporter": "python",
   "pygments_lexer": "ipython3",
   "version": "3.11.7"
  }
 },
 "nbformat": 4,
 "nbformat_minor": 5
}
