{
 "cells": [
  {
   "cell_type": "markdown",
   "id": "fed30250-f75d-4850-ab49-1f8bf40d895e",
   "metadata": {},
   "source": [
    "# Detect Phishing URLs\n",
    "### Capstone 3 - Data Wrangling and EDA\n",
    "Michael Garber"
   ]
  },
  {
   "cell_type": "markdown",
   "id": "6f764038-11e6-47ac-a9f5-8ffcc797d699",
   "metadata": {},
   "source": [
    "#### High-Level Steps\n",
    "1. Data Wrangling\n",
    "    1. Data Collection\n",
    "    2. Data Organization\n",
    "    3. Data Definition\n",
    "    4. Data Cleaning\n",
    "1. Exploratory Data Analysis\n"
   ]
  },
  {
   "cell_type": "code",
   "execution_count": 5,
   "id": "6e7b1ee4-e38e-4787-94ed-89bfc37001f7",
   "metadata": {
    "tags": []
   },
   "outputs": [
    {
     "data": {
      "text/plain": [
       "'\\nrough notes\\n\\n#### Data Wrangling High-Level Steps\\n1. Data Collection\\n2. Data Organization\\n3. Data Definition\\n4. Data Cleaning\\n    Clean the dataset and address issues like missing values and duplicate values. \\n\\n\\n#### EDA High-Level Steps\\n● Investigate the relationships between features and the relationship between the response variable and the features\\n\\nThings you may want to evaluate include:\\n● Is the response variable unbalanced?\\n● What is the distribution of each of the features?\\n● Are there features are correlated with a particular response value?\\n● Are there collinear features in the data?\\n● Are there outliers?\\n● What are the seasonal or linear trends?\\nWays to evaluate these include:\\n● Histograms or Distribution plots\\n● Histograms, Word Count- bigram, trigrams\\n● Scatter plots or Bi-plots\\n● Pearson correlation coefficients heat map\\n● Box plots\\n● Line plots\\n\\n'"
      ]
     },
     "execution_count": 5,
     "metadata": {},
     "output_type": "execute_result"
    }
   ],
   "source": [
    "'''\n",
    "rough notes\n",
    "\n",
    "#### Data Wrangling High-Level Steps\n",
    "1. Data Collection\n",
    "2. Data Organization\n",
    "3. Data Definition\n",
    "4. Data Cleaning\n",
    "    Clean the dataset and address issues like missing values and duplicate values. \n",
    "\n",
    "\n",
    "#### EDA High-Level Steps\n",
    "● Investigate the relationships between features and the relationship between the response variable and the features\n",
    "\n",
    "Things you may want to evaluate include:\n",
    "● Is the response variable unbalanced?\n",
    "● What is the distribution of each of the features?\n",
    "● Are there features are correlated with a particular response value?\n",
    "● Are there collinear features in the data?\n",
    "● Are there outliers?\n",
    "● What are the seasonal or linear trends?\n",
    "Ways to evaluate these include:\n",
    "● Histograms or Distribution plots\n",
    "● Histograms, Word Count- bigram, trigrams\n",
    "● Scatter plots or Bi-plots\n",
    "● Pearson correlation coefficients heat map\n",
    "● Box plots\n",
    "● Line plots\n",
    "\n",
    "'''"
   ]
  },
  {
   "cell_type": "markdown",
   "id": "7e90ad53-8ca7-4ee3-898b-9102ce014837",
   "metadata": {
    "tags": []
   },
   "source": [
    "#### Data Wrangling"
   ]
  },
  {
   "cell_type": "markdown",
   "id": "9d5505a7-07cb-4019-befa-8d8d305e6a57",
   "metadata": {},
   "source": [
    "##### Data Collection\n",
    "Info/Data\n",
    "- https://www.kaggle.com/datasets/hassaanmustafavi/phishing-urls-dataset"
   ]
  },
  {
   "cell_type": "code",
   "execution_count": 8,
   "id": "40331023-2d9a-44c4-965c-2a9822ddb85a",
   "metadata": {
    "tags": []
   },
   "outputs": [
    {
     "name": "stdout",
     "output_type": "stream",
     "text": [
      "Requirement already satisfied: kagglehub in c:\\users\\mg-laptop\\anaconda3\\lib\\site-packages (0.3.11)\n",
      "Requirement already satisfied: packaging in c:\\users\\mg-laptop\\anaconda3\\lib\\site-packages (from kagglehub) (23.1)\n",
      "Requirement already satisfied: pyyaml in c:\\users\\mg-laptop\\anaconda3\\lib\\site-packages (from kagglehub) (6.0.1)\n",
      "Requirement already satisfied: requests in c:\\users\\mg-laptop\\anaconda3\\lib\\site-packages (from kagglehub) (2.31.0)\n",
      "Requirement already satisfied: tqdm in c:\\users\\mg-laptop\\anaconda3\\lib\\site-packages (from kagglehub) (4.66.6)\n",
      "Requirement already satisfied: charset-normalizer<4,>=2 in c:\\users\\mg-laptop\\anaconda3\\lib\\site-packages (from requests->kagglehub) (2.0.4)\n",
      "Requirement already satisfied: idna<4,>=2.5 in c:\\users\\mg-laptop\\anaconda3\\lib\\site-packages (from requests->kagglehub) (3.4)\n",
      "Requirement already satisfied: urllib3<3,>=1.21.1 in c:\\users\\mg-laptop\\anaconda3\\lib\\site-packages (from requests->kagglehub) (2.0.7)\n",
      "Requirement already satisfied: certifi>=2017.4.17 in c:\\users\\mg-laptop\\anaconda3\\lib\\site-packages (from requests->kagglehub) (2024.8.30)\n",
      "Requirement already satisfied: colorama in c:\\users\\mg-laptop\\anaconda3\\lib\\site-packages (from tqdm->kagglehub) (0.4.6)\n",
      "Note: you may need to restart the kernel to use updated packages.\n"
     ]
    }
   ],
   "source": [
    "# Please Install KaggleHub if you don't already have it\n",
    "%pip install kagglehub"
   ]
  },
  {
   "cell_type": "code",
   "execution_count": 9,
   "id": "e1c5b1f8-57e2-4a69-9484-ab35d539142f",
   "metadata": {},
   "outputs": [],
   "source": [
    "# Import Packages\n",
    "import pandas as pd\n",
    "import kagglehub\n",
    "import os\n",
    "import shutil"
   ]
  },
  {
   "cell_type": "code",
   "execution_count": 10,
   "id": "27e54a9f-48aa-4551-88d8-2a07eadc5739",
   "metadata": {},
   "outputs": [
    {
     "name": "stdout",
     "output_type": "stream",
     "text": [
      "Downloading from https://www.kaggle.com/api/v1/datasets/download/hassaanmustafavi/phishing-urls-dataset?dataset_version_number=1...\n"
     ]
    },
    {
     "name": "stderr",
     "output_type": "stream",
     "text": [
      "100%|█████████████████████████████████████████████████████████████████████████████| 7.56M/7.56M [00:00<00:00, 8.30MB/s]"
     ]
    },
    {
     "name": "stdout",
     "output_type": "stream",
     "text": [
      "Extracting files...\n"
     ]
    },
    {
     "name": "stderr",
     "output_type": "stream",
     "text": [
      "\n"
     ]
    }
   ],
   "source": [
    "# Download Data\n",
    "kPath = kagglehub.dataset_download(\"hassaanmustafavi/phishing-urls-dataset\")"
   ]
  },
  {
   "cell_type": "code",
   "execution_count": 11,
   "id": "ecd6ae3e-8072-46eb-9f0a-d368284eb9f5",
   "metadata": {
    "tags": []
   },
   "outputs": [
    {
     "data": {
      "text/plain": [
       "'..\\\\data\\\\raw\\\\url_dataset.csv'"
      ]
     },
     "execution_count": 11,
     "metadata": {},
     "output_type": "execute_result"
    }
   ],
   "source": [
    "# Move File to project folder\n",
    "fileName = 'url_dataset.csv'\n",
    "srcFilePath = os.path.join(kPath, fileName)\n",
    "dataDir = os.path.join(os.pardir, 'data', 'raw', fileName)\n",
    "shutil.move(srcFilePath, dataDir)"
   ]
  },
  {
   "cell_type": "code",
   "execution_count": 12,
   "id": "44708fdc-4401-4972-9869-593db3e360ed",
   "metadata": {
    "tags": []
   },
   "outputs": [],
   "source": [
    "# Create pandas dataframe\n",
    "urlData = pd.read_csv(dataDir)"
   ]
  },
  {
   "cell_type": "code",
   "execution_count": 13,
   "id": "8e32c446-b610-4a0a-962b-dd5ba6da4067",
   "metadata": {
    "tags": []
   },
   "outputs": [
    {
     "name": "stdout",
     "output_type": "stream",
     "text": [
      "(450176, 2)\n"
     ]
    }
   ],
   "source": [
    "# check dataframe - # or rows\n",
    "print(urlData.shape)"
   ]
  },
  {
   "cell_type": "markdown",
   "id": "0556fb55-db18-400a-a9de-1775eb1610c6",
   "metadata": {},
   "source": [
    "##### Data Organization\n",
    "Project file structure based on the cookiecutter data science template. \\\n",
    "[https://drivendata.github.io/cookiecutter-data-science/](https://drivendata.github.io/cookiecutter-data-science/)\n",
    "\n",
    "Folder structure tree (GitHub) \\\n",
    "[https://github.com/mdgarber/DetectPhishURL/blob/7dd7d38c001590b4629f8810906a3724ab107fd5/DetectPhishURL/README.md](https://github.com/mdgarber/DetectPhishURL/blob/7dd7d38c001590b4629f8810906a3724ab107fd5/DetectPhishURL/README.md)"
   ]
  },
  {
   "cell_type": "markdown",
   "id": "eb0c242b-ce19-460e-8115-7fd00b74252c",
   "metadata": {},
   "source": [
    "##### Data Definition\n",
    "\n",
    "Column names\n",
    "- Data types\n",
    "- Description of the columns\n",
    "- Counts and unique values\n",
    "- Ranges of values\n",
    "- Calc Summary statistics"
   ]
  },
  {
   "cell_type": "code",
   "execution_count": 16,
   "id": "dcdc1fcb-68d9-41be-8b8a-5f45e53edb28",
   "metadata": {
    "tags": []
   },
   "outputs": [
    {
     "name": "stdout",
     "output_type": "stream",
     "text": [
      "<class 'pandas.core.frame.DataFrame'>\n",
      "RangeIndex: 450176 entries, 0 to 450175\n",
      "Data columns (total 2 columns):\n",
      " #   Column  Non-Null Count   Dtype \n",
      "---  ------  --------------   ----- \n",
      " 0   url     450176 non-null  object\n",
      " 1   type    450176 non-null  object\n",
      "dtypes: object(2)\n",
      "memory usage: 6.9+ MB\n"
     ]
    }
   ],
   "source": [
    "# Data types, unique values, range of index\n",
    "urlData.info(verbose=True)"
   ]
  },
  {
   "cell_type": "markdown",
   "id": "a36c98a6-3f88-4839-9008-c53e25ef8882",
   "metadata": {},
   "source": [
    "Description of the columns\n",
    "- url - The web address to be analyzed.\n",
    "- type - The classification of the URL (phishing or legitimate)."
   ]
  },
  {
   "cell_type": "code",
   "execution_count": 18,
   "id": "3cbc1a1c-f097-494a-aa5b-39d4f15df53c",
   "metadata": {
    "tags": []
   },
   "outputs": [
    {
     "name": "stdout",
     "output_type": "stream",
     "text": [
      "\n",
      "======== Counts ========\n",
      "url\n",
      "https://www.google.com                                                                                                                             1\n",
      "https://www.tabheaven.com/gales-eric-tabs.html                                                                                                     1\n",
      "https://www.tabs-database.com/justin-mcroberts-chords.html                                                                                         1\n",
      "https://www.tabpower.com/a806.html                                                                                                                 1\n",
      "https://www.tabor.edu/alumni/directory?decade=1960                                                                                                 1\n",
      "                                                                                                                                                  ..\n",
      "https://www.billboard.com/artist/anita-pointer/discography/songs/23169                                                                             1\n",
      "https://www.billboard.com/artist/andy-kim/chart-history/21881                                                                                      1\n",
      "https://www.billboard.com/artist/alvino-rey/discography/compilations/9479?sort=alphabet                                                            1\n",
      "https://www.billboard.com/artist/3x-krazy/discography/albums/142659                                                                                1\n",
      "http://writeassociate.com/test/Portal/inicio/IO8Hc30w_Eq8DfVjyJGvwEO4GhAnH48CqLwGx-uH4XXCpAPCJlRkBsaGmGQ6QgAIyLKwQ/www.Bancasaleon.com.do/bhdi/    1\n",
      "Name: count, Length: 450176, dtype: int64\n",
      "type\n",
      "legitimate    345738\n",
      "phishing      104438\n",
      "Name: count, dtype: int64\n"
     ]
    }
   ],
   "source": [
    "# Value counts for fields\n",
    "print('\\n======== Counts ========')\n",
    "print(urlData['url' ].value_counts())\n",
    "print(urlData['type'].value_counts())"
   ]
  },
  {
   "cell_type": "code",
   "execution_count": 38,
   "id": "617606f4-fc99-4377-8477-62f1f560980a",
   "metadata": {
    "tags": []
   },
   "outputs": [
    {
     "data": {
      "text/html": [
       "<div>\n",
       "<style scoped>\n",
       "    .dataframe tbody tr th:only-of-type {\n",
       "        vertical-align: middle;\n",
       "    }\n",
       "\n",
       "    .dataframe tbody tr th {\n",
       "        vertical-align: top;\n",
       "    }\n",
       "\n",
       "    .dataframe thead th {\n",
       "        text-align: right;\n",
       "    }\n",
       "</style>\n",
       "<table border=\"1\" class=\"dataframe\">\n",
       "  <thead>\n",
       "    <tr style=\"text-align: right;\">\n",
       "      <th></th>\n",
       "      <th>url</th>\n",
       "      <th>type</th>\n",
       "    </tr>\n",
       "  </thead>\n",
       "  <tbody>\n",
       "    <tr>\n",
       "      <th>count</th>\n",
       "      <td>450176</td>\n",
       "      <td>450176</td>\n",
       "    </tr>\n",
       "    <tr>\n",
       "      <th>unique</th>\n",
       "      <td>450176</td>\n",
       "      <td>2</td>\n",
       "    </tr>\n",
       "    <tr>\n",
       "      <th>top</th>\n",
       "      <td>https://www.google.com</td>\n",
       "      <td>legitimate</td>\n",
       "    </tr>\n",
       "    <tr>\n",
       "      <th>freq</th>\n",
       "      <td>1</td>\n",
       "      <td>345738</td>\n",
       "    </tr>\n",
       "  </tbody>\n",
       "</table>\n",
       "</div>"
      ],
      "text/plain": [
       "                           url        type\n",
       "count                   450176      450176\n",
       "unique                  450176           2\n",
       "top     https://www.google.com  legitimate\n",
       "freq                         1      345738"
      ]
     },
     "execution_count": 38,
     "metadata": {},
     "output_type": "execute_result"
    }
   ],
   "source": [
    "# describe dataframe\n",
    "urlData.describe()"
   ]
  },
  {
   "cell_type": "markdown",
   "id": "40ff38ed-8479-4064-8999-a73023e99f23",
   "metadata": {},
   "source": [
    "##### Data Cleaning\n",
    "\n",
    "- Data set is already clean"
   ]
  },
  {
   "cell_type": "markdown",
   "id": "d07e2a98-63bb-4e62-a41d-42cffcf4a2a5",
   "metadata": {
    "tags": []
   },
   "source": [
    "#### EDA"
   ]
  }
 ],
 "metadata": {
  "kernelspec": {
   "display_name": "Python 3 (ipykernel)",
   "language": "python",
   "name": "python3"
  },
  "language_info": {
   "codemirror_mode": {
    "name": "ipython",
    "version": 3
   },
   "file_extension": ".py",
   "mimetype": "text/x-python",
   "name": "python",
   "nbconvert_exporter": "python",
   "pygments_lexer": "ipython3",
   "version": "3.11.7"
  }
 },
 "nbformat": 4,
 "nbformat_minor": 5
}
