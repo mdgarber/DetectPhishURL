{
 "cells": [
  {
   "cell_type": "markdown",
   "id": "fed30250-f75d-4850-ab49-1f8bf40d895e",
   "metadata": {},
   "source": [
    "# Detect Phishing URLs\n",
    "### Capstone 3 - Data Wrangling and EDA\n",
    "Michael Garber"
   ]
  },
  {
   "cell_type": "markdown",
   "id": "6f764038-11e6-47ac-a9f5-8ffcc797d699",
   "metadata": {},
   "source": [
    "#### High-Level Steps\n",
    "1. Data Wrangling\n",
    "    1. Data Collection\n",
    "    2. Data Organization\n",
    "    3. Data Definition\n",
    "    4. Data Cleaning\n",
    "1. Exploratory Data Analysis\n"
   ]
  },
  {
   "cell_type": "markdown",
   "id": "7e90ad53-8ca7-4ee3-898b-9102ce014837",
   "metadata": {
    "tags": []
   },
   "source": [
    "#### Data Wrangling"
   ]
  },
  {
   "cell_type": "markdown",
   "id": "9d5505a7-07cb-4019-befa-8d8d305e6a57",
   "metadata": {},
   "source": [
    "##### Data Collection\n",
    "URL Data\n",
    "- https://www.kaggle.com/datasets/hassaanmustafavi/phishing-urls-dataset\n",
    "\n",
    "TLD (Top-level Domain) Data\n",
    "- https://www.iana.org/domains/root/db"
   ]
  },
  {
   "cell_type": "code",
   "execution_count": 6,
   "id": "40331023-2d9a-44c4-965c-2a9822ddb85a",
   "metadata": {
    "tags": []
   },
   "outputs": [
    {
     "name": "stdout",
     "output_type": "stream",
     "text": [
      "Requirement already satisfied: kagglehub in c:\\users\\mg-laptop\\anaconda3\\lib\\site-packages (0.3.11)\n",
      "Requirement already satisfied: packaging in c:\\users\\mg-laptop\\anaconda3\\lib\\site-packages (from kagglehub) (23.1)\n",
      "Requirement already satisfied: pyyaml in c:\\users\\mg-laptop\\anaconda3\\lib\\site-packages (from kagglehub) (6.0.1)\n",
      "Requirement already satisfied: requests in c:\\users\\mg-laptop\\anaconda3\\lib\\site-packages (from kagglehub) (2.31.0)\n",
      "Requirement already satisfied: tqdm in c:\\users\\mg-laptop\\anaconda3\\lib\\site-packages (from kagglehub) (4.66.6)\n",
      "Requirement already satisfied: charset-normalizer<4,>=2 in c:\\users\\mg-laptop\\anaconda3\\lib\\site-packages (from requests->kagglehub) (2.0.4)\n",
      "Requirement already satisfied: idna<4,>=2.5 in c:\\users\\mg-laptop\\anaconda3\\lib\\site-packages (from requests->kagglehub) (3.4)\n",
      "Requirement already satisfied: urllib3<3,>=1.21.1 in c:\\users\\mg-laptop\\anaconda3\\lib\\site-packages (from requests->kagglehub) (2.0.7)\n",
      "Requirement already satisfied: certifi>=2017.4.17 in c:\\users\\mg-laptop\\anaconda3\\lib\\site-packages (from requests->kagglehub) (2024.8.30)\n",
      "Requirement already satisfied: colorama in c:\\users\\mg-laptop\\anaconda3\\lib\\site-packages (from tqdm->kagglehub) (0.4.6)\n",
      "Note: you may need to restart the kernel to use updated packages.\n"
     ]
    }
   ],
   "source": [
    "# Please Install KaggleHub if you don't already have it\n",
    "%pip install kagglehub"
   ]
  },
  {
   "cell_type": "code",
   "execution_count": 7,
   "id": "8490f8e2-1b26-4eb0-8f10-a76329805e0d",
   "metadata": {
    "tags": []
   },
   "outputs": [
    {
     "name": "stdout",
     "output_type": "stream",
     "text": [
      "Requirement already satisfied: tldextract in c:\\users\\mg-laptop\\anaconda3\\lib\\site-packages (3.2.0)\n",
      "Requirement already satisfied: idna in c:\\users\\mg-laptop\\anaconda3\\lib\\site-packages (from tldextract) (3.4)\n",
      "Requirement already satisfied: requests>=2.1.0 in c:\\users\\mg-laptop\\anaconda3\\lib\\site-packages (from tldextract) (2.31.0)\n",
      "Requirement already satisfied: requests-file>=1.4 in c:\\users\\mg-laptop\\anaconda3\\lib\\site-packages (from tldextract) (1.5.1)\n",
      "Requirement already satisfied: filelock>=3.0.8 in c:\\users\\mg-laptop\\anaconda3\\lib\\site-packages (from tldextract) (3.13.1)\n",
      "Requirement already satisfied: charset-normalizer<4,>=2 in c:\\users\\mg-laptop\\anaconda3\\lib\\site-packages (from requests>=2.1.0->tldextract) (2.0.4)\n",
      "Requirement already satisfied: urllib3<3,>=1.21.1 in c:\\users\\mg-laptop\\anaconda3\\lib\\site-packages (from requests>=2.1.0->tldextract) (2.0.7)\n",
      "Requirement already satisfied: certifi>=2017.4.17 in c:\\users\\mg-laptop\\anaconda3\\lib\\site-packages (from requests>=2.1.0->tldextract) (2024.8.30)\n",
      "Requirement already satisfied: six in c:\\users\\mg-laptop\\anaconda3\\lib\\site-packages (from requests-file>=1.4->tldextract) (1.16.0)\n",
      "Note: you may need to restart the kernel to use updated packages.\n"
     ]
    }
   ],
   "source": [
    "# Please Installtldextract if you don't already have it\n",
    "%pip install tldextract"
   ]
  },
  {
   "cell_type": "code",
   "execution_count": 8,
   "id": "e1c5b1f8-57e2-4a69-9484-ab35d539142f",
   "metadata": {},
   "outputs": [],
   "source": [
    "# Import Packages\n",
    "import pandas as pd\n",
    "import kagglehub\n",
    "import os\n",
    "import shutil\n",
    "from urllib.parse import urlparse\n",
    "import tldextract\n",
    "import ipaddress"
   ]
  },
  {
   "cell_type": "code",
   "execution_count": 9,
   "id": "27e54a9f-48aa-4551-88d8-2a07eadc5739",
   "metadata": {},
   "outputs": [],
   "source": [
    "# Download Data\n",
    "kPath = kagglehub.dataset_download(\"hassaanmustafavi/phishing-urls-dataset\")"
   ]
  },
  {
   "cell_type": "code",
   "execution_count": 10,
   "id": "ecd6ae3e-8072-46eb-9f0a-d368284eb9f5",
   "metadata": {
    "tags": []
   },
   "outputs": [
    {
     "data": {
      "text/plain": [
       "'..\\\\data\\\\raw\\\\url_dataset.csv'"
      ]
     },
     "execution_count": 10,
     "metadata": {},
     "output_type": "execute_result"
    }
   ],
   "source": [
    "# build source file path\n",
    "fileName = 'url_dataset.csv'\n",
    "srcFilePath = os.path.join(kPath, fileName)\n",
    "dataDir = os.path.join(os.pardir, 'data', 'raw', fileName)\n",
    "\n",
    "# Move File to project folder\n",
    "shutil.copy(srcFilePath, dataDir)"
   ]
  },
  {
   "cell_type": "code",
   "execution_count": 11,
   "id": "44708fdc-4401-4972-9869-593db3e360ed",
   "metadata": {
    "tags": []
   },
   "outputs": [],
   "source": [
    "# Create pandas dataframe - urlData\n",
    "urlData = pd.read_csv(dataDir)"
   ]
  },
  {
   "cell_type": "code",
   "execution_count": 12,
   "id": "70f04dd1-2975-448e-890a-36bb99afa887",
   "metadata": {
    "tags": []
   },
   "outputs": [],
   "source": [
    "# Create pandas dataframe - TLDs (Top-level Domains)\n",
    "tldDir = '../data/raw/TLDs.csv'\n",
    "tldNames = pd.read_csv(tldDir)\n",
    "\n",
    "# TLDs source...\n",
    "# https://www.iana.org/domains/root/db"
   ]
  },
  {
   "cell_type": "code",
   "execution_count": 13,
   "id": "8e32c446-b610-4a0a-962b-dd5ba6da4067",
   "metadata": {
    "tags": []
   },
   "outputs": [
    {
     "name": "stdout",
     "output_type": "stream",
     "text": [
      "(450176, 2)\n"
     ]
    }
   ],
   "source": [
    "# check dataframe urlData - # or rows\n",
    "print(urlData.shape)"
   ]
  },
  {
   "cell_type": "code",
   "execution_count": 14,
   "id": "6b804f2c-3656-4b19-847a-9665bd8a609d",
   "metadata": {
    "tags": []
   },
   "outputs": [
    {
     "name": "stdout",
     "output_type": "stream",
     "text": [
      "(1591, 3)\n"
     ]
    }
   ],
   "source": [
    "# check dataframe tldNames - # or rows\n",
    "print(tldNames.shape)"
   ]
  },
  {
   "cell_type": "markdown",
   "id": "0556fb55-db18-400a-a9de-1775eb1610c6",
   "metadata": {},
   "source": [
    "##### Data Organization\n",
    "Project file structure based on the cookiecutter data science template. \\\n",
    "[https://drivendata.github.io/cookiecutter-data-science/](https://drivendata.github.io/cookiecutter-data-science/)\n",
    "\n",
    "Folder structure tree (GitHub) \\\n",
    "[https://github.com/mdgarber/DetectPhishURL/blob/7dd7d38c001590b4629f8810906a3724ab107fd5/DetectPhishURL/README.md](https://github.com/mdgarber/DetectPhishURL/blob/7dd7d38c001590b4629f8810906a3724ab107fd5/DetectPhishURL/README.md)"
   ]
  },
  {
   "cell_type": "markdown",
   "id": "eb0c242b-ce19-460e-8115-7fd00b74252c",
   "metadata": {},
   "source": [
    "##### Data Definition\n",
    "\n",
    "- Column names\n",
    "- Data types\n",
    "- Description of the columns\n",
    "- Counts and unique values\n",
    "- Ranges of values\n",
    "- Calc Summary statistics"
   ]
  },
  {
   "cell_type": "code",
   "execution_count": 17,
   "id": "dcdc1fcb-68d9-41be-8b8a-5f45e53edb28",
   "metadata": {
    "tags": []
   },
   "outputs": [
    {
     "name": "stdout",
     "output_type": "stream",
     "text": [
      "<class 'pandas.core.frame.DataFrame'>\n",
      "RangeIndex: 450176 entries, 0 to 450175\n",
      "Data columns (total 2 columns):\n",
      " #   Column  Non-Null Count   Dtype \n",
      "---  ------  --------------   ----- \n",
      " 0   url     450176 non-null  object\n",
      " 1   type    450176 non-null  object\n",
      "dtypes: object(2)\n",
      "memory usage: 6.9+ MB\n"
     ]
    }
   ],
   "source": [
    "# Data types, unique values, range of index\n",
    "urlData.info(verbose=True)"
   ]
  },
  {
   "cell_type": "markdown",
   "id": "a36c98a6-3f88-4839-9008-c53e25ef8882",
   "metadata": {},
   "source": [
    "Description of the columns\n",
    "- url - The web address to be analyzed.\n",
    "- type - The classification of the URL (phishing or legitimate)."
   ]
  },
  {
   "cell_type": "code",
   "execution_count": 19,
   "id": "7c1670f2-b0c4-4d2a-a291-3ab881ee5f48",
   "metadata": {
    "tags": []
   },
   "outputs": [],
   "source": [
    "# increase pandas dataframe column width - full size\n",
    "pd.set_option('display.width', None)"
   ]
  },
  {
   "cell_type": "code",
   "execution_count": 20,
   "id": "3cbc1a1c-f097-494a-aa5b-39d4f15df53c",
   "metadata": {
    "tags": []
   },
   "outputs": [
    {
     "data": {
      "text/html": [
       "<div>\n",
       "<style scoped>\n",
       "    .dataframe tbody tr th:only-of-type {\n",
       "        vertical-align: middle;\n",
       "    }\n",
       "\n",
       "    .dataframe tbody tr th {\n",
       "        vertical-align: top;\n",
       "    }\n",
       "\n",
       "    .dataframe thead th {\n",
       "        text-align: right;\n",
       "    }\n",
       "</style>\n",
       "<table border=\"1\" class=\"dataframe\">\n",
       "  <thead>\n",
       "    <tr style=\"text-align: right;\">\n",
       "      <th></th>\n",
       "      <th>count</th>\n",
       "    </tr>\n",
       "    <tr>\n",
       "      <th>url</th>\n",
       "      <th></th>\n",
       "    </tr>\n",
       "  </thead>\n",
       "  <tbody>\n",
       "    <tr>\n",
       "      <th>https://www.google.com</th>\n",
       "      <td>1</td>\n",
       "    </tr>\n",
       "    <tr>\n",
       "      <th>https://www.tabheaven.com/gales-eric-tabs.html</th>\n",
       "      <td>1</td>\n",
       "    </tr>\n",
       "    <tr>\n",
       "      <th>https://www.tabs-database.com/justin-mcroberts-chords.html</th>\n",
       "      <td>1</td>\n",
       "    </tr>\n",
       "    <tr>\n",
       "      <th>https://www.tabpower.com/a806.html</th>\n",
       "      <td>1</td>\n",
       "    </tr>\n",
       "    <tr>\n",
       "      <th>https://www.tabor.edu/alumni/directory?decade=1960</th>\n",
       "      <td>1</td>\n",
       "    </tr>\n",
       "    <tr>\n",
       "      <th>...</th>\n",
       "      <td>...</td>\n",
       "    </tr>\n",
       "    <tr>\n",
       "      <th>https://www.billboard.com/artist/anita-pointer/discography/songs/23169</th>\n",
       "      <td>1</td>\n",
       "    </tr>\n",
       "    <tr>\n",
       "      <th>https://www.billboard.com/artist/andy-kim/chart-history/21881</th>\n",
       "      <td>1</td>\n",
       "    </tr>\n",
       "    <tr>\n",
       "      <th>https://www.billboard.com/artist/alvino-rey/discography/compilations/9479?sort=alphabet</th>\n",
       "      <td>1</td>\n",
       "    </tr>\n",
       "    <tr>\n",
       "      <th>https://www.billboard.com/artist/3x-krazy/discography/albums/142659</th>\n",
       "      <td>1</td>\n",
       "    </tr>\n",
       "    <tr>\n",
       "      <th>http://writeassociate.com/test/Portal/inicio/IO8Hc30w_Eq8DfVjyJGvwEO4GhAnH48CqLwGx-uH4XXCpAPCJlRkBsaGmGQ6QgAIyLKwQ/www.Bancasaleon.com.do/bhdi/</th>\n",
       "      <td>1</td>\n",
       "    </tr>\n",
       "  </tbody>\n",
       "</table>\n",
       "<p>450176 rows × 1 columns</p>\n",
       "</div>"
      ],
      "text/plain": [
       "                                                    count\n",
       "url                                                      \n",
       "https://www.google.com                                  1\n",
       "https://www.tabheaven.com/gales-eric-tabs.html          1\n",
       "https://www.tabs-database.com/justin-mcroberts-...      1\n",
       "https://www.tabpower.com/a806.html                      1\n",
       "https://www.tabor.edu/alumni/directory?decade=1960      1\n",
       "...                                                   ...\n",
       "https://www.billboard.com/artist/anita-pointer/...      1\n",
       "https://www.billboard.com/artist/andy-kim/chart...      1\n",
       "https://www.billboard.com/artist/alvino-rey/dis...      1\n",
       "https://www.billboard.com/artist/3x-krazy/disco...      1\n",
       "http://writeassociate.com/test/Portal/inicio/IO...      1\n",
       "\n",
       "[450176 rows x 1 columns]"
      ]
     },
     "execution_count": 20,
     "metadata": {},
     "output_type": "execute_result"
    }
   ],
   "source": [
    "# Value counts for URLs\n",
    "pd.DataFrame(urlData['url' ].value_counts())"
   ]
  },
  {
   "cell_type": "markdown",
   "id": "834ebe3b-968d-4263-81f4-aa1dcaf52753",
   "metadata": {},
   "source": [
    "- These URLs above are all unique ^"
   ]
  },
  {
   "cell_type": "code",
   "execution_count": 22,
   "id": "28fd4fd2-8b5d-497d-a485-dc0bd32db96e",
   "metadata": {
    "tags": []
   },
   "outputs": [
    {
     "data": {
      "text/html": [
       "<div>\n",
       "<style scoped>\n",
       "    .dataframe tbody tr th:only-of-type {\n",
       "        vertical-align: middle;\n",
       "    }\n",
       "\n",
       "    .dataframe tbody tr th {\n",
       "        vertical-align: top;\n",
       "    }\n",
       "\n",
       "    .dataframe thead th {\n",
       "        text-align: right;\n",
       "    }\n",
       "</style>\n",
       "<table border=\"1\" class=\"dataframe\">\n",
       "  <thead>\n",
       "    <tr style=\"text-align: right;\">\n",
       "      <th></th>\n",
       "      <th>count</th>\n",
       "    </tr>\n",
       "    <tr>\n",
       "      <th>type</th>\n",
       "      <th></th>\n",
       "    </tr>\n",
       "  </thead>\n",
       "  <tbody>\n",
       "    <tr>\n",
       "      <th>legitimate</th>\n",
       "      <td>345738</td>\n",
       "    </tr>\n",
       "    <tr>\n",
       "      <th>phishing</th>\n",
       "      <td>104438</td>\n",
       "    </tr>\n",
       "  </tbody>\n",
       "</table>\n",
       "</div>"
      ],
      "text/plain": [
       "             count\n",
       "type              \n",
       "legitimate  345738\n",
       "phishing    104438"
      ]
     },
     "execution_count": 22,
     "metadata": {},
     "output_type": "execute_result"
    }
   ],
   "source": [
    "pd.DataFrame(urlData['type' ].value_counts()).head()"
   ]
  },
  {
   "cell_type": "code",
   "execution_count": 23,
   "id": "617606f4-fc99-4377-8477-62f1f560980a",
   "metadata": {
    "tags": []
   },
   "outputs": [
    {
     "data": {
      "text/html": [
       "<div>\n",
       "<style scoped>\n",
       "    .dataframe tbody tr th:only-of-type {\n",
       "        vertical-align: middle;\n",
       "    }\n",
       "\n",
       "    .dataframe tbody tr th {\n",
       "        vertical-align: top;\n",
       "    }\n",
       "\n",
       "    .dataframe thead th {\n",
       "        text-align: right;\n",
       "    }\n",
       "</style>\n",
       "<table border=\"1\" class=\"dataframe\">\n",
       "  <thead>\n",
       "    <tr style=\"text-align: right;\">\n",
       "      <th></th>\n",
       "      <th>url</th>\n",
       "      <th>type</th>\n",
       "    </tr>\n",
       "  </thead>\n",
       "  <tbody>\n",
       "    <tr>\n",
       "      <th>count</th>\n",
       "      <td>450176</td>\n",
       "      <td>450176</td>\n",
       "    </tr>\n",
       "    <tr>\n",
       "      <th>unique</th>\n",
       "      <td>450176</td>\n",
       "      <td>2</td>\n",
       "    </tr>\n",
       "    <tr>\n",
       "      <th>top</th>\n",
       "      <td>https://www.google.com</td>\n",
       "      <td>legitimate</td>\n",
       "    </tr>\n",
       "    <tr>\n",
       "      <th>freq</th>\n",
       "      <td>1</td>\n",
       "      <td>345738</td>\n",
       "    </tr>\n",
       "  </tbody>\n",
       "</table>\n",
       "</div>"
      ],
      "text/plain": [
       "                           url        type\n",
       "count                   450176      450176\n",
       "unique                  450176           2\n",
       "top     https://www.google.com  legitimate\n",
       "freq                         1      345738"
      ]
     },
     "execution_count": 23,
     "metadata": {},
     "output_type": "execute_result"
    }
   ],
   "source": [
    "# describe dataframe\n",
    "urlData.describe()"
   ]
  },
  {
   "cell_type": "markdown",
   "id": "2bd553c8-8edf-4e2a-a5e1-db9ad9e388ad",
   "metadata": {
    "tags": []
   },
   "source": [
    "Data Definition Summary\n",
    "\n",
    "- Column names\n",
    "    - **url**\n",
    "        - Data types\n",
    "            - series of string\n",
    "        - Description of the column \n",
    "            - The web address to be analyzed.\n",
    "        - Counts and unique values \n",
    "            - 450176 (all unique)\n",
    "        - Ranges of values \n",
    "            - all unique URLs\n",
    "    - **type**\n",
    "        - Data types \n",
    "            - series of string\n",
    "        - Description of the column\n",
    "            - The classification of the URL (phishing or legitimate).\n",
    "        - Counts and unique values\n",
    "            - legitimate    345738\n",
    "            - phishing      104438\n",
    "        - Ranges of values\n",
    "            - phishing\n",
    "            - legitimate\n",
    "            \n",
    "- Calc Summary statistics\n",
    "    - N/A ... text data"
   ]
  },
  {
   "cell_type": "markdown",
   "id": "40ff38ed-8479-4064-8999-a73023e99f23",
   "metadata": {},
   "source": [
    "##### Data Cleaning\n",
    "\n",
    "- this dataset is mostly clean  =)\n",
    "- identify invalid URLs (those that urllib couldn't parse) and remove"
   ]
  },
  {
   "cell_type": "markdown",
   "id": "d07e2a98-63bb-4e62-a41d-42cffcf4a2a5",
   "metadata": {
    "tags": []
   },
   "source": [
    "#### Exploratory Data Analysis\n",
    "\n",
    "- create new features from parsed URLs\n",
    "- do value counts on the new url parts\n",
    "- check correlations of the url parts to the target variable"
   ]
  },
  {
   "cell_type": "code",
   "execution_count": 27,
   "id": "c1207c63-1109-4964-96e4-86c9dfcadccd",
   "metadata": {
    "tags": []
   },
   "outputs": [
    {
     "data": {
      "text/html": [
       "<div>\n",
       "<style scoped>\n",
       "    .dataframe tbody tr th:only-of-type {\n",
       "        vertical-align: middle;\n",
       "    }\n",
       "\n",
       "    .dataframe tbody tr th {\n",
       "        vertical-align: top;\n",
       "    }\n",
       "\n",
       "    .dataframe thead th {\n",
       "        text-align: right;\n",
       "    }\n",
       "</style>\n",
       "<table border=\"1\" class=\"dataframe\">\n",
       "  <thead>\n",
       "    <tr style=\"text-align: right;\">\n",
       "      <th></th>\n",
       "      <th>url</th>\n",
       "      <th>type</th>\n",
       "    </tr>\n",
       "  </thead>\n",
       "  <tbody>\n",
       "    <tr>\n",
       "      <th>0</th>\n",
       "      <td>https://www.google.com</td>\n",
       "      <td>legitimate</td>\n",
       "    </tr>\n",
       "    <tr>\n",
       "      <th>1</th>\n",
       "      <td>https://www.youtube.com</td>\n",
       "      <td>legitimate</td>\n",
       "    </tr>\n",
       "    <tr>\n",
       "      <th>2</th>\n",
       "      <td>https://www.facebook.com</td>\n",
       "      <td>legitimate</td>\n",
       "    </tr>\n",
       "    <tr>\n",
       "      <th>3</th>\n",
       "      <td>https://www.baidu.com</td>\n",
       "      <td>legitimate</td>\n",
       "    </tr>\n",
       "    <tr>\n",
       "      <th>4</th>\n",
       "      <td>https://www.wikipedia.org</td>\n",
       "      <td>legitimate</td>\n",
       "    </tr>\n",
       "    <tr>\n",
       "      <th>5</th>\n",
       "      <td>https://www.reddit.com</td>\n",
       "      <td>legitimate</td>\n",
       "    </tr>\n",
       "    <tr>\n",
       "      <th>6</th>\n",
       "      <td>https://www.yahoo.com</td>\n",
       "      <td>legitimate</td>\n",
       "    </tr>\n",
       "    <tr>\n",
       "      <th>7</th>\n",
       "      <td>https://www.google.co.in</td>\n",
       "      <td>legitimate</td>\n",
       "    </tr>\n",
       "    <tr>\n",
       "      <th>8</th>\n",
       "      <td>https://www.qq.com</td>\n",
       "      <td>legitimate</td>\n",
       "    </tr>\n",
       "    <tr>\n",
       "      <th>9</th>\n",
       "      <td>https://www.amazon.com</td>\n",
       "      <td>legitimate</td>\n",
       "    </tr>\n",
       "  </tbody>\n",
       "</table>\n",
       "</div>"
      ],
      "text/plain": [
       "                         url        type\n",
       "0     https://www.google.com  legitimate\n",
       "1    https://www.youtube.com  legitimate\n",
       "2   https://www.facebook.com  legitimate\n",
       "3      https://www.baidu.com  legitimate\n",
       "4  https://www.wikipedia.org  legitimate\n",
       "5     https://www.reddit.com  legitimate\n",
       "6      https://www.yahoo.com  legitimate\n",
       "7   https://www.google.co.in  legitimate\n",
       "8         https://www.qq.com  legitimate\n",
       "9     https://www.amazon.com  legitimate"
      ]
     },
     "execution_count": 27,
     "metadata": {},
     "output_type": "execute_result"
    }
   ],
   "source": [
    "# view the data head - URLs\n",
    "urlData.head(10)"
   ]
  },
  {
   "cell_type": "code",
   "execution_count": 28,
   "id": "7278cc65-8361-4879-8fd3-cf77b1c27580",
   "metadata": {
    "tags": []
   },
   "outputs": [
    {
     "data": {
      "text/html": [
       "<div>\n",
       "<style scoped>\n",
       "    .dataframe tbody tr th:only-of-type {\n",
       "        vertical-align: middle;\n",
       "    }\n",
       "\n",
       "    .dataframe tbody tr th {\n",
       "        vertical-align: top;\n",
       "    }\n",
       "\n",
       "    .dataframe thead th {\n",
       "        text-align: right;\n",
       "    }\n",
       "</style>\n",
       "<table border=\"1\" class=\"dataframe\">\n",
       "  <thead>\n",
       "    <tr style=\"text-align: right;\">\n",
       "      <th></th>\n",
       "      <th>url</th>\n",
       "      <th>type</th>\n",
       "    </tr>\n",
       "  </thead>\n",
       "  <tbody>\n",
       "    <tr>\n",
       "      <th>345738</th>\n",
       "      <td>http://atualizacaodedados.online</td>\n",
       "      <td>phishing</td>\n",
       "    </tr>\n",
       "    <tr>\n",
       "      <th>345739</th>\n",
       "      <td>http://webmasteradmin.ukit.me/</td>\n",
       "      <td>phishing</td>\n",
       "    </tr>\n",
       "    <tr>\n",
       "      <th>345740</th>\n",
       "      <td>http://stcdxmt.bigperl.in/klxtv/apps/uk/</td>\n",
       "      <td>phishing</td>\n",
       "    </tr>\n",
       "    <tr>\n",
       "      <th>345741</th>\n",
       "      <td>https://tubuh-syarikat.com/plugins/fields/files/</td>\n",
       "      <td>phishing</td>\n",
       "    </tr>\n",
       "    <tr>\n",
       "      <th>345742</th>\n",
       "      <td>http://rolyborgesmd.com/exceword/excel.php?.ra...</td>\n",
       "      <td>phishing</td>\n",
       "    </tr>\n",
       "    <tr>\n",
       "      <th>345743</th>\n",
       "      <td>http://ongelezen-voda.000webhostapp.com/inlogg...</td>\n",
       "      <td>phishing</td>\n",
       "    </tr>\n",
       "    <tr>\n",
       "      <th>345744</th>\n",
       "      <td>http://www.valenzaceramic.com/home/webapps/e52...</td>\n",
       "      <td>phishing</td>\n",
       "    </tr>\n",
       "    <tr>\n",
       "      <th>345745</th>\n",
       "      <td>http://membership-issue.forteimpex.com/dk2mmm=...</td>\n",
       "      <td>phishing</td>\n",
       "    </tr>\n",
       "    <tr>\n",
       "      <th>345746</th>\n",
       "      <td>http://membership-issue.forteimpex.com/dk2mmm=...</td>\n",
       "      <td>phishing</td>\n",
       "    </tr>\n",
       "    <tr>\n",
       "      <th>345747</th>\n",
       "      <td>http://chronopost-service-enligne.net/56123s/r...</td>\n",
       "      <td>phishing</td>\n",
       "    </tr>\n",
       "  </tbody>\n",
       "</table>\n",
       "</div>"
      ],
      "text/plain": [
       "                                                      url      type\n",
       "345738                   http://atualizacaodedados.online  phishing\n",
       "345739                     http://webmasteradmin.ukit.me/  phishing\n",
       "345740           http://stcdxmt.bigperl.in/klxtv/apps/uk/  phishing\n",
       "345741   https://tubuh-syarikat.com/plugins/fields/files/  phishing\n",
       "345742  http://rolyborgesmd.com/exceword/excel.php?.ra...  phishing\n",
       "345743  http://ongelezen-voda.000webhostapp.com/inlogg...  phishing\n",
       "345744  http://www.valenzaceramic.com/home/webapps/e52...  phishing\n",
       "345745  http://membership-issue.forteimpex.com/dk2mmm=...  phishing\n",
       "345746  http://membership-issue.forteimpex.com/dk2mmm=...  phishing\n",
       "345747  http://chronopost-service-enligne.net/56123s/r...  phishing"
      ]
     },
     "execution_count": 28,
     "metadata": {},
     "output_type": "execute_result"
    }
   ],
   "source": [
    "# view the data head - only phish\n",
    "urlData[urlData['type'] == 'phishing'].head(10)"
   ]
  },
  {
   "cell_type": "markdown",
   "id": "6df094b2-e729-4d0e-a6a6-9473a4ec32e6",
   "metadata": {},
   "source": [
    "##### TLD Data\n",
    "> \"Top level domains\" ...to be integrated with url data set"
   ]
  },
  {
   "cell_type": "code",
   "execution_count": 30,
   "id": "f59145db-6651-411b-bd7f-5c7903a50f83",
   "metadata": {
    "tags": []
   },
   "outputs": [
    {
     "data": {
      "text/html": [
       "<div>\n",
       "<style scoped>\n",
       "    .dataframe tbody tr th:only-of-type {\n",
       "        vertical-align: middle;\n",
       "    }\n",
       "\n",
       "    .dataframe tbody tr th {\n",
       "        vertical-align: top;\n",
       "    }\n",
       "\n",
       "    .dataframe thead th {\n",
       "        text-align: right;\n",
       "    }\n",
       "</style>\n",
       "<table border=\"1\" class=\"dataframe\">\n",
       "  <thead>\n",
       "    <tr style=\"text-align: right;\">\n",
       "      <th></th>\n",
       "      <th>Domain</th>\n",
       "      <th>Type</th>\n",
       "      <th>TLD Manager</th>\n",
       "    </tr>\n",
       "  </thead>\n",
       "  <tbody>\n",
       "    <tr>\n",
       "      <th>0</th>\n",
       "      <td>.aaa</td>\n",
       "      <td>generic</td>\n",
       "      <td>American Automobile Association, Inc.</td>\n",
       "    </tr>\n",
       "    <tr>\n",
       "      <th>1</th>\n",
       "      <td>.aarp</td>\n",
       "      <td>generic</td>\n",
       "      <td>AARP</td>\n",
       "    </tr>\n",
       "    <tr>\n",
       "      <th>2</th>\n",
       "      <td>.abarth</td>\n",
       "      <td>generic</td>\n",
       "      <td>Not assigned</td>\n",
       "    </tr>\n",
       "    <tr>\n",
       "      <th>3</th>\n",
       "      <td>.abb</td>\n",
       "      <td>generic</td>\n",
       "      <td>ABB Ltd</td>\n",
       "    </tr>\n",
       "    <tr>\n",
       "      <th>4</th>\n",
       "      <td>.abbott</td>\n",
       "      <td>generic</td>\n",
       "      <td>Abbott Laboratories, Inc.</td>\n",
       "    </tr>\n",
       "    <tr>\n",
       "      <th>...</th>\n",
       "      <td>...</td>\n",
       "      <td>...</td>\n",
       "      <td>...</td>\n",
       "    </tr>\n",
       "    <tr>\n",
       "      <th>1586</th>\n",
       "      <td>.zippo</td>\n",
       "      <td>generic</td>\n",
       "      <td>Not assigned</td>\n",
       "    </tr>\n",
       "    <tr>\n",
       "      <th>1587</th>\n",
       "      <td>.zm</td>\n",
       "      <td>country-code</td>\n",
       "      <td>Zambia Information and Communications Technolo...</td>\n",
       "    </tr>\n",
       "    <tr>\n",
       "      <th>1588</th>\n",
       "      <td>.zone</td>\n",
       "      <td>generic</td>\n",
       "      <td>Binky Moon, LLC</td>\n",
       "    </tr>\n",
       "    <tr>\n",
       "      <th>1589</th>\n",
       "      <td>.zuerich</td>\n",
       "      <td>generic</td>\n",
       "      <td>Kanton Zürich (Canton of Zurich)</td>\n",
       "    </tr>\n",
       "    <tr>\n",
       "      <th>1590</th>\n",
       "      <td>.zw</td>\n",
       "      <td>country-code</td>\n",
       "      <td>Postal and Telecommunications Regulatory Autho...</td>\n",
       "    </tr>\n",
       "  </tbody>\n",
       "</table>\n",
       "<p>1591 rows × 3 columns</p>\n",
       "</div>"
      ],
      "text/plain": [
       "        Domain          Type  \\\n",
       "0         .aaa       generic   \n",
       "1        .aarp       generic   \n",
       "2      .abarth       generic   \n",
       "3         .abb       generic   \n",
       "4      .abbott       generic   \n",
       "...        ...           ...   \n",
       "1586    .zippo       generic   \n",
       "1587       .zm  country-code   \n",
       "1588     .zone       generic   \n",
       "1589  .zuerich       generic   \n",
       "1590       .zw  country-code   \n",
       "\n",
       "                                            TLD Manager  \n",
       "0                 American Automobile Association, Inc.  \n",
       "1                                                  AARP  \n",
       "2                                          Not assigned  \n",
       "3                                               ABB Ltd  \n",
       "4                             Abbott Laboratories, Inc.  \n",
       "...                                                 ...  \n",
       "1586                                       Not assigned  \n",
       "1587  Zambia Information and Communications Technolo...  \n",
       "1588                                    Binky Moon, LLC  \n",
       "1589                   Kanton Zürich (Canton of Zurich)  \n",
       "1590  Postal and Telecommunications Regulatory Autho...  \n",
       "\n",
       "[1591 rows x 3 columns]"
      ]
     },
     "execution_count": 30,
     "metadata": {},
     "output_type": "execute_result"
    }
   ],
   "source": [
    "# view the data (to be used as metadata for URLs)\n",
    "tldNames"
   ]
  },
  {
   "cell_type": "code",
   "execution_count": 112,
   "id": "8f4790b3-6e91-4b86-9cf3-a5b3121a25c3",
   "metadata": {
    "tags": []
   },
   "outputs": [
    {
     "data": {
      "text/html": [
       "<div>\n",
       "<style scoped>\n",
       "    .dataframe tbody tr th:only-of-type {\n",
       "        vertical-align: middle;\n",
       "    }\n",
       "\n",
       "    .dataframe tbody tr th {\n",
       "        vertical-align: top;\n",
       "    }\n",
       "\n",
       "    .dataframe thead th {\n",
       "        text-align: right;\n",
       "    }\n",
       "</style>\n",
       "<table border=\"1\" class=\"dataframe\">\n",
       "  <thead>\n",
       "    <tr style=\"text-align: right;\">\n",
       "      <th></th>\n",
       "      <th>Domain</th>\n",
       "      <th>Type</th>\n",
       "      <th>TLD Manager</th>\n",
       "    </tr>\n",
       "  </thead>\n",
       "  <tbody>\n",
       "    <tr>\n",
       "      <th>count</th>\n",
       "      <td>1591</td>\n",
       "      <td>1591</td>\n",
       "      <td>1591</td>\n",
       "    </tr>\n",
       "    <tr>\n",
       "      <th>unique</th>\n",
       "      <td>1591</td>\n",
       "      <td>6</td>\n",
       "      <td>754</td>\n",
       "    </tr>\n",
       "    <tr>\n",
       "      <th>top</th>\n",
       "      <td>.aaa</td>\n",
       "      <td>generic</td>\n",
       "      <td>Binky Moon, LLC</td>\n",
       "    </tr>\n",
       "    <tr>\n",
       "      <th>freq</th>\n",
       "      <td>1</td>\n",
       "      <td>1246</td>\n",
       "      <td>196</td>\n",
       "    </tr>\n",
       "  </tbody>\n",
       "</table>\n",
       "</div>"
      ],
      "text/plain": [
       "       Domain     Type      TLD Manager\n",
       "count    1591     1591             1591\n",
       "unique   1591        6              754\n",
       "top      .aaa  generic  Binky Moon, LLC\n",
       "freq        1     1246              196"
      ]
     },
     "execution_count": 112,
     "metadata": {},
     "output_type": "execute_result"
    }
   ],
   "source": [
    "# describe tldNames\n",
    "tldNames.describe()"
   ]
  },
  {
   "cell_type": "code",
   "execution_count": 114,
   "id": "9c764740-c89b-45fc-9201-d98e5e8ca129",
   "metadata": {
    "tags": []
   },
   "outputs": [
    {
     "data": {
      "text/plain": [
       "Type\n",
       "generic               1246\n",
       "country-code           316\n",
       "sponsored               14\n",
       "test                    11\n",
       "generic-restricted       3\n",
       "infrastructure           1\n",
       "Name: count, dtype: int64"
      ]
     },
     "execution_count": 114,
     "metadata": {},
     "output_type": "execute_result"
    }
   ],
   "source": [
    "# get the different TLD types\n",
    "tldNames['Type'].value_counts()"
   ]
  },
  {
   "cell_type": "markdown",
   "id": "ca111e0a-8b93-4c74-94ab-4946adac6f68",
   "metadata": {
    "tags": []
   },
   "source": [
    "> **Country code** appears to be the most useful/interesting type among TLD type"
   ]
  },
  {
   "cell_type": "markdown",
   "id": "038cec8e-e32b-4aa3-92e2-16bb7aa5452f",
   "metadata": {
    "tags": []
   },
   "source": [
    "##### URL Parsing"
   ]
  },
  {
   "cell_type": "code",
   "execution_count": 32,
   "id": "5a62d1a3-49c3-47cf-82c8-4089289a2d90",
   "metadata": {
    "tags": []
   },
   "outputs": [],
   "source": [
    "# create function urlparse_try \n",
    "#    otherwise, parsing will fail on an invalid URL\n",
    "def urlparse_try(url):\n",
    "    try:\n",
    "        return urlparse(url)\n",
    "    except:\n",
    "        return 'invalid URL'"
   ]
  },
  {
   "cell_type": "code",
   "execution_count": 33,
   "id": "ca381087-3484-4170-ab37-f16f8a2a6385",
   "metadata": {
    "tags": []
   },
   "outputs": [],
   "source": [
    "# engineer new feature for EDA - parsedUrl\n",
    "urlData['parsedUrl'] = urlData['url'].apply(urlparse_try)"
   ]
  },
  {
   "cell_type": "code",
   "execution_count": 34,
   "id": "60e291fb-46f2-4c28-97b2-5ab88c13da01",
   "metadata": {
    "tags": []
   },
   "outputs": [
    {
     "name": "stdout",
     "output_type": "stream",
     "text": [
      "Example of a parsed url \n",
      "\n",
      "ParseResult(scheme='https', netloc='www.youtube.com', path='', params='', query='', fragment='')\n"
     ]
    }
   ],
   "source": [
    "# example of a parsed url\n",
    "print('Example of a parsed url \\n')\n",
    "print(urlparse(urlData['url'][1]))"
   ]
  },
  {
   "cell_type": "markdown",
   "id": "60e1ab1b-63b3-4b35-9242-1bfad88f1e93",
   "metadata": {},
   "source": [
    "Parsed URL parts\n",
    "> scheme://netloc/path;parameters?query#fragment"
   ]
  },
  {
   "cell_type": "markdown",
   "id": "2e60e8ff-bf31-4f6c-8cbc-a008f3a8cf63",
   "metadata": {
    "tags": []
   },
   "source": [
    "> **URL Part Reference**\n",
    "\n",
    "![Image](../references/URL_part_diagram.png)\n",
    "\n",
    "- image from https://www.geeksforgeeks.org/components-of-a-url/\n"
   ]
  },
  {
   "cell_type": "code",
   "execution_count": 37,
   "id": "dd6b6921-375e-4a02-8623-8d3bd8850c9c",
   "metadata": {
    "tags": []
   },
   "outputs": [
    {
     "data": {
      "text/html": [
       "<div>\n",
       "<style scoped>\n",
       "    .dataframe tbody tr th:only-of-type {\n",
       "        vertical-align: middle;\n",
       "    }\n",
       "\n",
       "    .dataframe tbody tr th {\n",
       "        vertical-align: top;\n",
       "    }\n",
       "\n",
       "    .dataframe thead th {\n",
       "        text-align: right;\n",
       "    }\n",
       "</style>\n",
       "<table border=\"1\" class=\"dataframe\">\n",
       "  <thead>\n",
       "    <tr style=\"text-align: right;\">\n",
       "      <th></th>\n",
       "      <th>url</th>\n",
       "      <th>type</th>\n",
       "      <th>parsedUrl</th>\n",
       "    </tr>\n",
       "  </thead>\n",
       "  <tbody>\n",
       "    <tr>\n",
       "      <th>397556</th>\n",
       "      <td>http://ladiesfirst-privileges[.]com/656465/d56...</td>\n",
       "      <td>phishing</td>\n",
       "      <td>invalid URL</td>\n",
       "    </tr>\n",
       "  </tbody>\n",
       "</table>\n",
       "</div>"
      ],
      "text/plain": [
       "                                                      url      type  \\\n",
       "397556  http://ladiesfirst-privileges[.]com/656465/d56...  phishing   \n",
       "\n",
       "          parsedUrl  \n",
       "397556  invalid URL  "
      ]
     },
     "execution_count": 37,
     "metadata": {},
     "output_type": "execute_result"
    }
   ],
   "source": [
    "# find invalid URLs (urls that failed urllib parsing...those will cause errors during processing)\n",
    "invalidUrlRows = urlData[urlData['parsedUrl'] == 'invalid URL']\n",
    "pd.DataFrame(invalidUrlRows).head()"
   ]
  },
  {
   "cell_type": "code",
   "execution_count": 38,
   "id": "bd4109de-c36f-494f-8cfe-e39a3135a0b5",
   "metadata": {
    "tags": []
   },
   "outputs": [],
   "source": [
    "# remove invalid URLs (they will causes errors)\n",
    "urlData = urlData.drop(invalidUrlRows.index)"
   ]
  },
  {
   "cell_type": "code",
   "execution_count": 39,
   "id": "d872c7bc-180c-4585-8b0c-6e6add45cc58",
   "metadata": {
    "tags": []
   },
   "outputs": [
    {
     "data": {
      "text/plain": [
       "(450175, 3)"
      ]
     },
     "execution_count": 39,
     "metadata": {},
     "output_type": "execute_result"
    }
   ],
   "source": [
    "# confirm 1 record removed\n",
    "urlData.shape"
   ]
  },
  {
   "cell_type": "markdown",
   "id": "80643e49-e264-42f6-aeb7-8a5671a0b688",
   "metadata": {},
   "source": [
    "> Engineer new features from parsedUrl"
   ]
  },
  {
   "cell_type": "code",
   "execution_count": 41,
   "id": "d4511e77-f999-40b2-8212-d6a629151bd5",
   "metadata": {
    "tags": []
   },
   "outputs": [],
   "source": [
    "# scheme\n",
    "urlData['urlPart_scheme'] = urlData['parsedUrl'].apply(lambda urlObj : urlObj.scheme)"
   ]
  },
  {
   "cell_type": "code",
   "execution_count": 42,
   "id": "6eeaffbe-bbf9-436b-a62e-b4afcf5b6101",
   "metadata": {
    "tags": []
   },
   "outputs": [],
   "source": [
    "# create feature - subdomain\n",
    "urlData['subDomain'] = urlData['url'].apply(lambda url : tldextract.extract(url).subdomain)\n",
    "\n",
    "# create feature - subdomain\n",
    "urlData['domain'] = urlData['url'].apply(lambda url : tldextract.extract(url).domain)\n",
    "\n",
    "# create feature - tld (top-level domain)\n",
    "urlData['tld'] = urlData['url'].apply(lambda url : tldextract.extract(url).suffix)"
   ]
  },
  {
   "cell_type": "code",
   "execution_count": 43,
   "id": "cab651b5-735f-43f4-8899-943a8af203fe",
   "metadata": {
    "tags": []
   },
   "outputs": [],
   "source": [
    "# make try except for port because it fails when port # is NULL\n",
    "# def retPort():\n",
    "#     try:\n",
    "#         urlObj.port\n",
    "#     except:\n",
    "#         None"
   ]
  },
  {
   "cell_type": "code",
   "execution_count": 44,
   "id": "ff042dc0-5e0c-4c56-8643-ce7cd53de629",
   "metadata": {},
   "outputs": [],
   "source": [
    "# port - ***no port numbers in the data so removing this code***\n",
    "# urlData['urlPart_port'] = urlData['parsedUrl'].apply(lambda urlObj : retPort())\n",
    "\n",
    "#  create feature - path\n",
    "urlData['urlPart_path'] = urlData['parsedUrl'].apply(lambda urlObj : urlObj.path)\n",
    "\n",
    "# create feature - query\n",
    "urlData['urlPart_query'] = urlData['parsedUrl'].apply(lambda urlObj : urlObj.query)\n",
    "\n",
    "# create feature - fragement\n",
    "urlData['urlPart_fragment'] = urlData['parsedUrl'].apply(lambda urlObj : urlObj.fragment)"
   ]
  },
  {
   "cell_type": "code",
   "execution_count": 119,
   "id": "eff7f443-53eb-4af5-adda-7bbd1ec48406",
   "metadata": {
    "tags": []
   },
   "outputs": [
    {
     "data": {
      "text/html": [
       "<div>\n",
       "<style scoped>\n",
       "    .dataframe tbody tr th:only-of-type {\n",
       "        vertical-align: middle;\n",
       "    }\n",
       "\n",
       "    .dataframe tbody tr th {\n",
       "        vertical-align: top;\n",
       "    }\n",
       "\n",
       "    .dataframe thead th {\n",
       "        text-align: right;\n",
       "    }\n",
       "</style>\n",
       "<table border=\"1\" class=\"dataframe\">\n",
       "  <thead>\n",
       "    <tr style=\"text-align: right;\">\n",
       "      <th></th>\n",
       "      <th>url</th>\n",
       "      <th>type</th>\n",
       "      <th>parsedUrl</th>\n",
       "      <th>urlPart_scheme</th>\n",
       "      <th>subDomain</th>\n",
       "      <th>domain</th>\n",
       "      <th>tld</th>\n",
       "      <th>urlPart_path</th>\n",
       "      <th>urlPart_query</th>\n",
       "      <th>urlPart_fragment</th>\n",
       "      <th>isIPaddress</th>\n",
       "    </tr>\n",
       "  </thead>\n",
       "  <tbody>\n",
       "    <tr>\n",
       "      <th>0</th>\n",
       "      <td>https://www.google.com</td>\n",
       "      <td>legitimate</td>\n",
       "      <td>(https, www.google.com, , , , )</td>\n",
       "      <td>https</td>\n",
       "      <td>www</td>\n",
       "      <td>google</td>\n",
       "      <td>com</td>\n",
       "      <td></td>\n",
       "      <td></td>\n",
       "      <td></td>\n",
       "      <td>False</td>\n",
       "    </tr>\n",
       "  </tbody>\n",
       "</table>\n",
       "</div>"
      ],
      "text/plain": [
       "                      url        type                        parsedUrl  \\\n",
       "0  https://www.google.com  legitimate  (https, www.google.com, , , , )   \n",
       "\n",
       "  urlPart_scheme subDomain  domain  tld urlPart_path urlPart_query  \\\n",
       "0          https       www  google  com                              \n",
       "\n",
       "  urlPart_fragment  isIPaddress  \n",
       "0                         False  "
      ]
     },
     "execution_count": 119,
     "metadata": {},
     "output_type": "execute_result"
    }
   ],
   "source": [
    "urlData.head(1)"
   ]
  },
  {
   "cell_type": "code",
   "execution_count": 347,
   "id": "70b8bda3-fc74-4f39-9a08-1b5f1eee6cf3",
   "metadata": {
    "tags": []
   },
   "outputs": [
    {
     "data": {
      "text/html": [
       "<div>\n",
       "<style scoped>\n",
       "    .dataframe tbody tr th:only-of-type {\n",
       "        vertical-align: middle;\n",
       "    }\n",
       "\n",
       "    .dataframe tbody tr th {\n",
       "        vertical-align: top;\n",
       "    }\n",
       "\n",
       "    .dataframe thead th {\n",
       "        text-align: right;\n",
       "    }\n",
       "</style>\n",
       "<table border=\"1\" class=\"dataframe\">\n",
       "  <thead>\n",
       "    <tr style=\"text-align: right;\">\n",
       "      <th></th>\n",
       "      <th>Domain</th>\n",
       "      <th>Type</th>\n",
       "      <th>TLD Manager</th>\n",
       "    </tr>\n",
       "  </thead>\n",
       "  <tbody>\n",
       "    <tr>\n",
       "      <th>0</th>\n",
       "      <td>.aaa</td>\n",
       "      <td>generic</td>\n",
       "      <td>American Automobile Association, Inc.</td>\n",
       "    </tr>\n",
       "  </tbody>\n",
       "</table>\n",
       "</div>"
      ],
      "text/plain": [
       "  Domain     Type                            TLD Manager\n",
       "0   .aaa  generic  American Automobile Association, Inc."
      ]
     },
     "execution_count": 347,
     "metadata": {},
     "output_type": "execute_result"
    }
   ],
   "source": [
    "tldNames.head(1)"
   ]
  },
  {
   "cell_type": "code",
   "execution_count": 349,
   "id": "72d4ce0e-d0e7-49d2-8156-f8f93790e26e",
   "metadata": {
    "tags": []
   },
   "outputs": [],
   "source": [
    "# remove initial period from tlds (as that will prevent merge/joining)\n",
    "tldsNoPeriod = tldNames['Domain'].apply(lambda tld : tld[1:] if tld[0] == '.' else tld)"
   ]
  },
  {
   "cell_type": "code",
   "execution_count": 351,
   "id": "f9de55a1-a208-4273-a806-f5037121e559",
   "metadata": {
    "tags": []
   },
   "outputs": [
    {
     "data": {
      "text/plain": [
       "0        com\n",
       "1        com\n",
       "2        com\n",
       "3        com\n",
       "4        org\n",
       "5        com\n",
       "6        com\n",
       "7      co.in\n",
       "8        com\n",
       "9        com\n",
       "10       com\n",
       "11       com\n",
       "12       com\n",
       "13     co.jp\n",
       "14       com\n",
       "15       com\n",
       "16       com\n",
       "17       com\n",
       "18    com.cn\n",
       "19       com\n",
       "20       com\n",
       "21        cn\n",
       "22        de\n",
       "23     co.uk\n",
       "24    com.br\n",
       "25        fr\n",
       "26        ru\n",
       "27       com\n",
       "28        ru\n",
       "29       com\n",
       "Name: tld, dtype: object"
      ]
     },
     "execution_count": 351,
     "metadata": {},
     "output_type": "execute_result"
    }
   ],
   "source": [
    "urlData['tld'].head(30)"
   ]
  },
  {
   "cell_type": "code",
   "execution_count": 353,
   "id": "f9d1772b-8fd6-4605-be3f-0b320301de7e",
   "metadata": {
    "tags": []
   },
   "outputs": [],
   "source": [
    "# create column for urlData.tld with period and part before period removed\n",
    "urlData['tld_join'] = urlData['tld'].apply(lambda tld : tld[(tld.find('.') + 1):] if tld.find('.') != -1 else tld)"
   ]
  },
  {
   "cell_type": "code",
   "execution_count": 355,
   "id": "998038df-2a4c-4a48-9708-0fbd24ef3175",
   "metadata": {
    "tags": []
   },
   "outputs": [
    {
     "ename": "ValueError",
     "evalue": "cannot insert key_0, already exists",
     "output_type": "error",
     "traceback": [
      "\u001b[1;31m---------------------------------------------------------------------------\u001b[0m",
      "\u001b[1;31mValueError\u001b[0m                                Traceback (most recent call last)",
      "\u001b[1;32m~\\AppData\\Local\\Temp\\ipykernel_1888\\10626199.py\u001b[0m in \u001b[0;36m?\u001b[1;34m()\u001b[0m\n\u001b[0;32m      1\u001b[0m \u001b[1;31m# add rows from TLD data set\u001b[0m\u001b[1;33m\u001b[0m\u001b[1;33m\u001b[0m\u001b[0m\n\u001b[1;32m----> 2\u001b[1;33m \u001b[0murlData\u001b[0m \u001b[1;33m=\u001b[0m \u001b[0mpd\u001b[0m\u001b[1;33m.\u001b[0m\u001b[0mmerge\u001b[0m\u001b[1;33m(\u001b[0m\u001b[0murlData\u001b[0m\u001b[1;33m,\u001b[0m \u001b[0mtldNames\u001b[0m\u001b[1;33m,\u001b[0m \u001b[0mleft_on\u001b[0m\u001b[1;33m=\u001b[0m\u001b[0murlData\u001b[0m\u001b[1;33m.\u001b[0m\u001b[0mtld_join\u001b[0m\u001b[1;33m,\u001b[0m \u001b[0mright_on\u001b[0m\u001b[1;33m=\u001b[0m\u001b[0mtldsNoPeriod\u001b[0m\u001b[1;33m,\u001b[0m \u001b[0mhow\u001b[0m\u001b[1;33m=\u001b[0m\u001b[1;34m'left'\u001b[0m\u001b[1;33m)\u001b[0m\u001b[1;33m\u001b[0m\u001b[1;33m\u001b[0m\u001b[0m\n\u001b[0m",
      "\u001b[1;32m~\\anaconda3\\Lib\\site-packages\\pandas\\core\\reshape\\merge.py\u001b[0m in \u001b[0;36m?\u001b[1;34m(left, right, how, on, left_on, right_on, left_index, right_index, sort, suffixes, copy, indicator, validate)\u001b[0m\n\u001b[0;32m    179\u001b[0m             \u001b[0msuffixes\u001b[0m\u001b[1;33m=\u001b[0m\u001b[0msuffixes\u001b[0m\u001b[1;33m,\u001b[0m\u001b[1;33m\u001b[0m\u001b[1;33m\u001b[0m\u001b[0m\n\u001b[0;32m    180\u001b[0m             \u001b[0mindicator\u001b[0m\u001b[1;33m=\u001b[0m\u001b[0mindicator\u001b[0m\u001b[1;33m,\u001b[0m\u001b[1;33m\u001b[0m\u001b[1;33m\u001b[0m\u001b[0m\n\u001b[0;32m    181\u001b[0m             \u001b[0mvalidate\u001b[0m\u001b[1;33m=\u001b[0m\u001b[0mvalidate\u001b[0m\u001b[1;33m,\u001b[0m\u001b[1;33m\u001b[0m\u001b[1;33m\u001b[0m\u001b[0m\n\u001b[0;32m    182\u001b[0m         )\n\u001b[1;32m--> 183\u001b[1;33m         \u001b[1;32mreturn\u001b[0m \u001b[0mop\u001b[0m\u001b[1;33m.\u001b[0m\u001b[0mget_result\u001b[0m\u001b[1;33m(\u001b[0m\u001b[0mcopy\u001b[0m\u001b[1;33m=\u001b[0m\u001b[0mcopy\u001b[0m\u001b[1;33m)\u001b[0m\u001b[1;33m\u001b[0m\u001b[1;33m\u001b[0m\u001b[0m\n\u001b[0m",
      "\u001b[1;32m~\\anaconda3\\Lib\\site-packages\\pandas\\core\\reshape\\merge.py\u001b[0m in \u001b[0;36m?\u001b[1;34m(self, copy)\u001b[0m\n\u001b[0;32m    889\u001b[0m \u001b[1;33m\u001b[0m\u001b[0m\n\u001b[0;32m    890\u001b[0m         \u001b[1;32mif\u001b[0m \u001b[0mself\u001b[0m\u001b[1;33m.\u001b[0m\u001b[0mindicator\u001b[0m\u001b[1;33m:\u001b[0m\u001b[1;33m\u001b[0m\u001b[1;33m\u001b[0m\u001b[0m\n\u001b[0;32m    891\u001b[0m             \u001b[0mresult\u001b[0m \u001b[1;33m=\u001b[0m \u001b[0mself\u001b[0m\u001b[1;33m.\u001b[0m\u001b[0m_indicator_post_merge\u001b[0m\u001b[1;33m(\u001b[0m\u001b[0mresult\u001b[0m\u001b[1;33m)\u001b[0m\u001b[1;33m\u001b[0m\u001b[1;33m\u001b[0m\u001b[0m\n\u001b[0;32m    892\u001b[0m \u001b[1;33m\u001b[0m\u001b[0m\n\u001b[1;32m--> 893\u001b[1;33m         \u001b[0mself\u001b[0m\u001b[1;33m.\u001b[0m\u001b[0m_maybe_add_join_keys\u001b[0m\u001b[1;33m(\u001b[0m\u001b[0mresult\u001b[0m\u001b[1;33m,\u001b[0m \u001b[0mleft_indexer\u001b[0m\u001b[1;33m,\u001b[0m \u001b[0mright_indexer\u001b[0m\u001b[1;33m)\u001b[0m\u001b[1;33m\u001b[0m\u001b[1;33m\u001b[0m\u001b[0m\n\u001b[0m\u001b[0;32m    894\u001b[0m \u001b[1;33m\u001b[0m\u001b[0m\n\u001b[0;32m    895\u001b[0m         \u001b[0mself\u001b[0m\u001b[1;33m.\u001b[0m\u001b[0m_maybe_restore_index_levels\u001b[0m\u001b[1;33m(\u001b[0m\u001b[0mresult\u001b[0m\u001b[1;33m)\u001b[0m\u001b[1;33m\u001b[0m\u001b[1;33m\u001b[0m\u001b[0m\n\u001b[0;32m    896\u001b[0m \u001b[1;33m\u001b[0m\u001b[0m\n",
      "\u001b[1;32m~\\anaconda3\\Lib\\site-packages\\pandas\\core\\reshape\\merge.py\u001b[0m in \u001b[0;36m?\u001b[1;34m(self, result, left_indexer, right_indexer)\u001b[0m\n\u001b[0;32m   1097\u001b[0m                         \u001b[0mresult\u001b[0m\u001b[1;33m.\u001b[0m\u001b[0mset_index\u001b[0m\u001b[1;33m(\u001b[0m\u001b[0midx_list\u001b[0m\u001b[1;33m,\u001b[0m \u001b[0minplace\u001b[0m\u001b[1;33m=\u001b[0m\u001b[1;32mTrue\u001b[0m\u001b[1;33m)\u001b[0m\u001b[1;33m\u001b[0m\u001b[1;33m\u001b[0m\u001b[0m\n\u001b[0;32m   1098\u001b[0m                     \u001b[1;32melse\u001b[0m\u001b[1;33m:\u001b[0m\u001b[1;33m\u001b[0m\u001b[1;33m\u001b[0m\u001b[0m\n\u001b[0;32m   1099\u001b[0m                         \u001b[0mresult\u001b[0m\u001b[1;33m.\u001b[0m\u001b[0mindex\u001b[0m \u001b[1;33m=\u001b[0m \u001b[0mIndex\u001b[0m\u001b[1;33m(\u001b[0m\u001b[0mkey_col\u001b[0m\u001b[1;33m,\u001b[0m \u001b[0mname\u001b[0m\u001b[1;33m=\u001b[0m\u001b[0mname\u001b[0m\u001b[1;33m)\u001b[0m\u001b[1;33m\u001b[0m\u001b[1;33m\u001b[0m\u001b[0m\n\u001b[0;32m   1100\u001b[0m                 \u001b[1;32melse\u001b[0m\u001b[1;33m:\u001b[0m\u001b[1;33m\u001b[0m\u001b[1;33m\u001b[0m\u001b[0m\n\u001b[1;32m-> 1101\u001b[1;33m                     \u001b[0mresult\u001b[0m\u001b[1;33m.\u001b[0m\u001b[0minsert\u001b[0m\u001b[1;33m(\u001b[0m\u001b[0mi\u001b[0m\u001b[1;33m,\u001b[0m \u001b[0mname\u001b[0m \u001b[1;32mor\u001b[0m \u001b[1;34mf\"key_{i}\"\u001b[0m\u001b[1;33m,\u001b[0m \u001b[0mkey_col\u001b[0m\u001b[1;33m)\u001b[0m\u001b[1;33m\u001b[0m\u001b[1;33m\u001b[0m\u001b[0m\n\u001b[0m",
      "\u001b[1;32m~\\anaconda3\\Lib\\site-packages\\pandas\\core\\frame.py\u001b[0m in \u001b[0;36m?\u001b[1;34m(self, loc, column, value, allow_duplicates)\u001b[0m\n\u001b[0;32m   4927\u001b[0m                 \u001b[1;34m\"'self.flags.allows_duplicate_labels' is False.\"\u001b[0m\u001b[1;33m\u001b[0m\u001b[1;33m\u001b[0m\u001b[0m\n\u001b[0;32m   4928\u001b[0m             )\n\u001b[0;32m   4929\u001b[0m         \u001b[1;32mif\u001b[0m \u001b[1;32mnot\u001b[0m \u001b[0mallow_duplicates\u001b[0m \u001b[1;32mand\u001b[0m \u001b[0mcolumn\u001b[0m \u001b[1;32min\u001b[0m \u001b[0mself\u001b[0m\u001b[1;33m.\u001b[0m\u001b[0mcolumns\u001b[0m\u001b[1;33m:\u001b[0m\u001b[1;33m\u001b[0m\u001b[1;33m\u001b[0m\u001b[0m\n\u001b[0;32m   4930\u001b[0m             \u001b[1;31m# Should this be a different kind of error??\u001b[0m\u001b[1;33m\u001b[0m\u001b[1;33m\u001b[0m\u001b[0m\n\u001b[1;32m-> 4931\u001b[1;33m             \u001b[1;32mraise\u001b[0m \u001b[0mValueError\u001b[0m\u001b[1;33m(\u001b[0m\u001b[1;34mf\"cannot insert {column}, already exists\"\u001b[0m\u001b[1;33m)\u001b[0m\u001b[1;33m\u001b[0m\u001b[1;33m\u001b[0m\u001b[0m\n\u001b[0m\u001b[0;32m   4932\u001b[0m         \u001b[1;32mif\u001b[0m \u001b[1;32mnot\u001b[0m \u001b[0mis_integer\u001b[0m\u001b[1;33m(\u001b[0m\u001b[0mloc\u001b[0m\u001b[1;33m)\u001b[0m\u001b[1;33m:\u001b[0m\u001b[1;33m\u001b[0m\u001b[1;33m\u001b[0m\u001b[0m\n\u001b[0;32m   4933\u001b[0m             \u001b[1;32mraise\u001b[0m \u001b[0mTypeError\u001b[0m\u001b[1;33m(\u001b[0m\u001b[1;34m\"loc must be int\"\u001b[0m\u001b[1;33m)\u001b[0m\u001b[1;33m\u001b[0m\u001b[1;33m\u001b[0m\u001b[0m\n\u001b[0;32m   4934\u001b[0m         \u001b[1;31m# convert non stdlib ints to satisfy typing checks\u001b[0m\u001b[1;33m\u001b[0m\u001b[1;33m\u001b[0m\u001b[0m\n",
      "\u001b[1;31mValueError\u001b[0m: cannot insert key_0, already exists"
     ]
    }
   ],
   "source": [
    "# add rows from TLD data set\n",
    "urlData = pd.merge(urlData, tldNames, left_on=urlData.tld_join, right_on=tldsNoPeriod, how='left')"
   ]
  },
  {
   "cell_type": "code",
   "execution_count": 357,
   "id": "318f6e9f-a5ab-41f1-9ed8-b2f8bf386df2",
   "metadata": {
    "tags": []
   },
   "outputs": [
    {
     "data": {
      "text/html": [
       "<div>\n",
       "<style scoped>\n",
       "    .dataframe tbody tr th:only-of-type {\n",
       "        vertical-align: middle;\n",
       "    }\n",
       "\n",
       "    .dataframe tbody tr th {\n",
       "        vertical-align: top;\n",
       "    }\n",
       "\n",
       "    .dataframe thead th {\n",
       "        text-align: right;\n",
       "    }\n",
       "</style>\n",
       "<table border=\"1\" class=\"dataframe\">\n",
       "  <thead>\n",
       "    <tr style=\"text-align: right;\">\n",
       "      <th></th>\n",
       "      <th>key_0</th>\n",
       "      <th>url</th>\n",
       "      <th>type</th>\n",
       "      <th>parsedUrl</th>\n",
       "      <th>urlPart_scheme</th>\n",
       "      <th>subDomain</th>\n",
       "      <th>domain</th>\n",
       "      <th>tld</th>\n",
       "      <th>urlPart_path</th>\n",
       "      <th>urlPart_query</th>\n",
       "      <th>urlPart_fragment</th>\n",
       "      <th>isIPaddress</th>\n",
       "      <th>tld_join</th>\n",
       "      <th>Domain</th>\n",
       "      <th>Type</th>\n",
       "      <th>TLD Manager</th>\n",
       "    </tr>\n",
       "  </thead>\n",
       "  <tbody>\n",
       "    <tr>\n",
       "      <th>0</th>\n",
       "      <td>com</td>\n",
       "      <td>https://www.google.com</td>\n",
       "      <td>legitimate</td>\n",
       "      <td>(https, www.google.com, , , , )</td>\n",
       "      <td>https</td>\n",
       "      <td>www</td>\n",
       "      <td>google</td>\n",
       "      <td>com</td>\n",
       "      <td></td>\n",
       "      <td></td>\n",
       "      <td></td>\n",
       "      <td>False</td>\n",
       "      <td>com</td>\n",
       "      <td>.com</td>\n",
       "      <td>generic</td>\n",
       "      <td>VeriSign Global Registry Services</td>\n",
       "    </tr>\n",
       "    <tr>\n",
       "      <th>1</th>\n",
       "      <td>com</td>\n",
       "      <td>https://www.youtube.com</td>\n",
       "      <td>legitimate</td>\n",
       "      <td>(https, www.youtube.com, , , , )</td>\n",
       "      <td>https</td>\n",
       "      <td>www</td>\n",
       "      <td>youtube</td>\n",
       "      <td>com</td>\n",
       "      <td></td>\n",
       "      <td></td>\n",
       "      <td></td>\n",
       "      <td>False</td>\n",
       "      <td>com</td>\n",
       "      <td>.com</td>\n",
       "      <td>generic</td>\n",
       "      <td>VeriSign Global Registry Services</td>\n",
       "    </tr>\n",
       "    <tr>\n",
       "      <th>2</th>\n",
       "      <td>com</td>\n",
       "      <td>https://www.facebook.com</td>\n",
       "      <td>legitimate</td>\n",
       "      <td>(https, www.facebook.com, , , , )</td>\n",
       "      <td>https</td>\n",
       "      <td>www</td>\n",
       "      <td>facebook</td>\n",
       "      <td>com</td>\n",
       "      <td></td>\n",
       "      <td></td>\n",
       "      <td></td>\n",
       "      <td>False</td>\n",
       "      <td>com</td>\n",
       "      <td>.com</td>\n",
       "      <td>generic</td>\n",
       "      <td>VeriSign Global Registry Services</td>\n",
       "    </tr>\n",
       "    <tr>\n",
       "      <th>3</th>\n",
       "      <td>com</td>\n",
       "      <td>https://www.baidu.com</td>\n",
       "      <td>legitimate</td>\n",
       "      <td>(https, www.baidu.com, , , , )</td>\n",
       "      <td>https</td>\n",
       "      <td>www</td>\n",
       "      <td>baidu</td>\n",
       "      <td>com</td>\n",
       "      <td></td>\n",
       "      <td></td>\n",
       "      <td></td>\n",
       "      <td>False</td>\n",
       "      <td>com</td>\n",
       "      <td>.com</td>\n",
       "      <td>generic</td>\n",
       "      <td>VeriSign Global Registry Services</td>\n",
       "    </tr>\n",
       "    <tr>\n",
       "      <th>4</th>\n",
       "      <td>org</td>\n",
       "      <td>https://www.wikipedia.org</td>\n",
       "      <td>legitimate</td>\n",
       "      <td>(https, www.wikipedia.org, , , , )</td>\n",
       "      <td>https</td>\n",
       "      <td>www</td>\n",
       "      <td>wikipedia</td>\n",
       "      <td>org</td>\n",
       "      <td></td>\n",
       "      <td></td>\n",
       "      <td></td>\n",
       "      <td>False</td>\n",
       "      <td>org</td>\n",
       "      <td>.org</td>\n",
       "      <td>generic</td>\n",
       "      <td>Public Interest Registry (PIR)</td>\n",
       "    </tr>\n",
       "    <tr>\n",
       "      <th>5</th>\n",
       "      <td>com</td>\n",
       "      <td>https://www.reddit.com</td>\n",
       "      <td>legitimate</td>\n",
       "      <td>(https, www.reddit.com, , , , )</td>\n",
       "      <td>https</td>\n",
       "      <td>www</td>\n",
       "      <td>reddit</td>\n",
       "      <td>com</td>\n",
       "      <td></td>\n",
       "      <td></td>\n",
       "      <td></td>\n",
       "      <td>False</td>\n",
       "      <td>com</td>\n",
       "      <td>.com</td>\n",
       "      <td>generic</td>\n",
       "      <td>VeriSign Global Registry Services</td>\n",
       "    </tr>\n",
       "    <tr>\n",
       "      <th>6</th>\n",
       "      <td>com</td>\n",
       "      <td>https://www.yahoo.com</td>\n",
       "      <td>legitimate</td>\n",
       "      <td>(https, www.yahoo.com, , , , )</td>\n",
       "      <td>https</td>\n",
       "      <td>www</td>\n",
       "      <td>yahoo</td>\n",
       "      <td>com</td>\n",
       "      <td></td>\n",
       "      <td></td>\n",
       "      <td></td>\n",
       "      <td>False</td>\n",
       "      <td>com</td>\n",
       "      <td>.com</td>\n",
       "      <td>generic</td>\n",
       "      <td>VeriSign Global Registry Services</td>\n",
       "    </tr>\n",
       "    <tr>\n",
       "      <th>7</th>\n",
       "      <td>in</td>\n",
       "      <td>https://www.google.co.in</td>\n",
       "      <td>legitimate</td>\n",
       "      <td>(https, www.google.co.in, , , , )</td>\n",
       "      <td>https</td>\n",
       "      <td>www</td>\n",
       "      <td>google</td>\n",
       "      <td>co.in</td>\n",
       "      <td></td>\n",
       "      <td></td>\n",
       "      <td></td>\n",
       "      <td>False</td>\n",
       "      <td>in</td>\n",
       "      <td>.in</td>\n",
       "      <td>country-code</td>\n",
       "      <td>National Internet Exchange of India</td>\n",
       "    </tr>\n",
       "    <tr>\n",
       "      <th>8</th>\n",
       "      <td>com</td>\n",
       "      <td>https://www.qq.com</td>\n",
       "      <td>legitimate</td>\n",
       "      <td>(https, www.qq.com, , , , )</td>\n",
       "      <td>https</td>\n",
       "      <td>www</td>\n",
       "      <td>qq</td>\n",
       "      <td>com</td>\n",
       "      <td></td>\n",
       "      <td></td>\n",
       "      <td></td>\n",
       "      <td>False</td>\n",
       "      <td>com</td>\n",
       "      <td>.com</td>\n",
       "      <td>generic</td>\n",
       "      <td>VeriSign Global Registry Services</td>\n",
       "    </tr>\n",
       "    <tr>\n",
       "      <th>9</th>\n",
       "      <td>com</td>\n",
       "      <td>https://www.amazon.com</td>\n",
       "      <td>legitimate</td>\n",
       "      <td>(https, www.amazon.com, , , , )</td>\n",
       "      <td>https</td>\n",
       "      <td>www</td>\n",
       "      <td>amazon</td>\n",
       "      <td>com</td>\n",
       "      <td></td>\n",
       "      <td></td>\n",
       "      <td></td>\n",
       "      <td>False</td>\n",
       "      <td>com</td>\n",
       "      <td>.com</td>\n",
       "      <td>generic</td>\n",
       "      <td>VeriSign Global Registry Services</td>\n",
       "    </tr>\n",
       "    <tr>\n",
       "      <th>10</th>\n",
       "      <td>com</td>\n",
       "      <td>https://www.taobao.com</td>\n",
       "      <td>legitimate</td>\n",
       "      <td>(https, www.taobao.com, , , , )</td>\n",
       "      <td>https</td>\n",
       "      <td>www</td>\n",
       "      <td>taobao</td>\n",
       "      <td>com</td>\n",
       "      <td></td>\n",
       "      <td></td>\n",
       "      <td></td>\n",
       "      <td>False</td>\n",
       "      <td>com</td>\n",
       "      <td>.com</td>\n",
       "      <td>generic</td>\n",
       "      <td>VeriSign Global Registry Services</td>\n",
       "    </tr>\n",
       "    <tr>\n",
       "      <th>11</th>\n",
       "      <td>com</td>\n",
       "      <td>https://www.twitter.com</td>\n",
       "      <td>legitimate</td>\n",
       "      <td>(https, www.twitter.com, , , , )</td>\n",
       "      <td>https</td>\n",
       "      <td>www</td>\n",
       "      <td>twitter</td>\n",
       "      <td>com</td>\n",
       "      <td></td>\n",
       "      <td></td>\n",
       "      <td></td>\n",
       "      <td>False</td>\n",
       "      <td>com</td>\n",
       "      <td>.com</td>\n",
       "      <td>generic</td>\n",
       "      <td>VeriSign Global Registry Services</td>\n",
       "    </tr>\n",
       "    <tr>\n",
       "      <th>12</th>\n",
       "      <td>com</td>\n",
       "      <td>https://www.tmall.com</td>\n",
       "      <td>legitimate</td>\n",
       "      <td>(https, www.tmall.com, , , , )</td>\n",
       "      <td>https</td>\n",
       "      <td>www</td>\n",
       "      <td>tmall</td>\n",
       "      <td>com</td>\n",
       "      <td></td>\n",
       "      <td></td>\n",
       "      <td></td>\n",
       "      <td>False</td>\n",
       "      <td>com</td>\n",
       "      <td>.com</td>\n",
       "      <td>generic</td>\n",
       "      <td>VeriSign Global Registry Services</td>\n",
       "    </tr>\n",
       "    <tr>\n",
       "      <th>13</th>\n",
       "      <td>jp</td>\n",
       "      <td>https://www.google.co.jp</td>\n",
       "      <td>legitimate</td>\n",
       "      <td>(https, www.google.co.jp, , , , )</td>\n",
       "      <td>https</td>\n",
       "      <td>www</td>\n",
       "      <td>google</td>\n",
       "      <td>co.jp</td>\n",
       "      <td></td>\n",
       "      <td></td>\n",
       "      <td></td>\n",
       "      <td>False</td>\n",
       "      <td>jp</td>\n",
       "      <td>.jp</td>\n",
       "      <td>country-code</td>\n",
       "      <td>Japan Registry Services Co., Ltd.</td>\n",
       "    </tr>\n",
       "    <tr>\n",
       "      <th>14</th>\n",
       "      <td>com</td>\n",
       "      <td>https://www.vk.com</td>\n",
       "      <td>legitimate</td>\n",
       "      <td>(https, www.vk.com, , , , )</td>\n",
       "      <td>https</td>\n",
       "      <td>www</td>\n",
       "      <td>vk</td>\n",
       "      <td>com</td>\n",
       "      <td></td>\n",
       "      <td></td>\n",
       "      <td></td>\n",
       "      <td>False</td>\n",
       "      <td>com</td>\n",
       "      <td>.com</td>\n",
       "      <td>generic</td>\n",
       "      <td>VeriSign Global Registry Services</td>\n",
       "    </tr>\n",
       "    <tr>\n",
       "      <th>15</th>\n",
       "      <td>com</td>\n",
       "      <td>https://www.live.com</td>\n",
       "      <td>legitimate</td>\n",
       "      <td>(https, www.live.com, , , , )</td>\n",
       "      <td>https</td>\n",
       "      <td>www</td>\n",
       "      <td>live</td>\n",
       "      <td>com</td>\n",
       "      <td></td>\n",
       "      <td></td>\n",
       "      <td></td>\n",
       "      <td>False</td>\n",
       "      <td>com</td>\n",
       "      <td>.com</td>\n",
       "      <td>generic</td>\n",
       "      <td>VeriSign Global Registry Services</td>\n",
       "    </tr>\n",
       "    <tr>\n",
       "      <th>16</th>\n",
       "      <td>com</td>\n",
       "      <td>https://www.instagram.com</td>\n",
       "      <td>legitimate</td>\n",
       "      <td>(https, www.instagram.com, , , , )</td>\n",
       "      <td>https</td>\n",
       "      <td>www</td>\n",
       "      <td>instagram</td>\n",
       "      <td>com</td>\n",
       "      <td></td>\n",
       "      <td></td>\n",
       "      <td></td>\n",
       "      <td>False</td>\n",
       "      <td>com</td>\n",
       "      <td>.com</td>\n",
       "      <td>generic</td>\n",
       "      <td>VeriSign Global Registry Services</td>\n",
       "    </tr>\n",
       "    <tr>\n",
       "      <th>17</th>\n",
       "      <td>com</td>\n",
       "      <td>https://www.sohu.com</td>\n",
       "      <td>legitimate</td>\n",
       "      <td>(https, www.sohu.com, , , , )</td>\n",
       "      <td>https</td>\n",
       "      <td>www</td>\n",
       "      <td>sohu</td>\n",
       "      <td>com</td>\n",
       "      <td></td>\n",
       "      <td></td>\n",
       "      <td></td>\n",
       "      <td>False</td>\n",
       "      <td>com</td>\n",
       "      <td>.com</td>\n",
       "      <td>generic</td>\n",
       "      <td>VeriSign Global Registry Services</td>\n",
       "    </tr>\n",
       "    <tr>\n",
       "      <th>18</th>\n",
       "      <td>cn</td>\n",
       "      <td>https://www.sina.com.cn</td>\n",
       "      <td>legitimate</td>\n",
       "      <td>(https, www.sina.com.cn, , , , )</td>\n",
       "      <td>https</td>\n",
       "      <td>www</td>\n",
       "      <td>sina</td>\n",
       "      <td>com.cn</td>\n",
       "      <td></td>\n",
       "      <td></td>\n",
       "      <td></td>\n",
       "      <td>False</td>\n",
       "      <td>cn</td>\n",
       "      <td>.cn</td>\n",
       "      <td>country-code</td>\n",
       "      <td>China Internet Network Information Center (CNNIC)</td>\n",
       "    </tr>\n",
       "    <tr>\n",
       "      <th>19</th>\n",
       "      <td>com</td>\n",
       "      <td>https://www.jd.com</td>\n",
       "      <td>legitimate</td>\n",
       "      <td>(https, www.jd.com, , , , )</td>\n",
       "      <td>https</td>\n",
       "      <td>www</td>\n",
       "      <td>jd</td>\n",
       "      <td>com</td>\n",
       "      <td></td>\n",
       "      <td></td>\n",
       "      <td></td>\n",
       "      <td>False</td>\n",
       "      <td>com</td>\n",
       "      <td>.com</td>\n",
       "      <td>generic</td>\n",
       "      <td>VeriSign Global Registry Services</td>\n",
       "    </tr>\n",
       "    <tr>\n",
       "      <th>20</th>\n",
       "      <td>com</td>\n",
       "      <td>https://www.weibo.com</td>\n",
       "      <td>legitimate</td>\n",
       "      <td>(https, www.weibo.com, , , , )</td>\n",
       "      <td>https</td>\n",
       "      <td>www</td>\n",
       "      <td>weibo</td>\n",
       "      <td>com</td>\n",
       "      <td></td>\n",
       "      <td></td>\n",
       "      <td></td>\n",
       "      <td>False</td>\n",
       "      <td>com</td>\n",
       "      <td>.com</td>\n",
       "      <td>generic</td>\n",
       "      <td>VeriSign Global Registry Services</td>\n",
       "    </tr>\n",
       "    <tr>\n",
       "      <th>21</th>\n",
       "      <td>cn</td>\n",
       "      <td>https://www.360.cn</td>\n",
       "      <td>legitimate</td>\n",
       "      <td>(https, www.360.cn, , , , )</td>\n",
       "      <td>https</td>\n",
       "      <td>www</td>\n",
       "      <td>360</td>\n",
       "      <td>cn</td>\n",
       "      <td></td>\n",
       "      <td></td>\n",
       "      <td></td>\n",
       "      <td>False</td>\n",
       "      <td>cn</td>\n",
       "      <td>.cn</td>\n",
       "      <td>country-code</td>\n",
       "      <td>China Internet Network Information Center (CNNIC)</td>\n",
       "    </tr>\n",
       "    <tr>\n",
       "      <th>22</th>\n",
       "      <td>de</td>\n",
       "      <td>https://www.google.de</td>\n",
       "      <td>legitimate</td>\n",
       "      <td>(https, www.google.de, , , , )</td>\n",
       "      <td>https</td>\n",
       "      <td>www</td>\n",
       "      <td>google</td>\n",
       "      <td>de</td>\n",
       "      <td></td>\n",
       "      <td></td>\n",
       "      <td></td>\n",
       "      <td>False</td>\n",
       "      <td>de</td>\n",
       "      <td>.de</td>\n",
       "      <td>country-code</td>\n",
       "      <td>DENIC eG</td>\n",
       "    </tr>\n",
       "    <tr>\n",
       "      <th>23</th>\n",
       "      <td>uk</td>\n",
       "      <td>https://www.google.co.uk</td>\n",
       "      <td>legitimate</td>\n",
       "      <td>(https, www.google.co.uk, , , , )</td>\n",
       "      <td>https</td>\n",
       "      <td>www</td>\n",
       "      <td>google</td>\n",
       "      <td>co.uk</td>\n",
       "      <td></td>\n",
       "      <td></td>\n",
       "      <td></td>\n",
       "      <td>False</td>\n",
       "      <td>uk</td>\n",
       "      <td>.uk</td>\n",
       "      <td>country-code</td>\n",
       "      <td>Nominet UK</td>\n",
       "    </tr>\n",
       "    <tr>\n",
       "      <th>24</th>\n",
       "      <td>br</td>\n",
       "      <td>https://www.google.com.br</td>\n",
       "      <td>legitimate</td>\n",
       "      <td>(https, www.google.com.br, , , , )</td>\n",
       "      <td>https</td>\n",
       "      <td>www</td>\n",
       "      <td>google</td>\n",
       "      <td>com.br</td>\n",
       "      <td></td>\n",
       "      <td></td>\n",
       "      <td></td>\n",
       "      <td>False</td>\n",
       "      <td>br</td>\n",
       "      <td>.br</td>\n",
       "      <td>country-code</td>\n",
       "      <td>Comite Gestor da Internet no Brasil</td>\n",
       "    </tr>\n",
       "    <tr>\n",
       "      <th>25</th>\n",
       "      <td>fr</td>\n",
       "      <td>https://www.google.fr</td>\n",
       "      <td>legitimate</td>\n",
       "      <td>(https, www.google.fr, , , , )</td>\n",
       "      <td>https</td>\n",
       "      <td>www</td>\n",
       "      <td>google</td>\n",
       "      <td>fr</td>\n",
       "      <td></td>\n",
       "      <td></td>\n",
       "      <td></td>\n",
       "      <td>False</td>\n",
       "      <td>fr</td>\n",
       "      <td>.fr</td>\n",
       "      <td>country-code</td>\n",
       "      <td>Association Française pour le Nommage Internet...</td>\n",
       "    </tr>\n",
       "    <tr>\n",
       "      <th>26</th>\n",
       "      <td>ru</td>\n",
       "      <td>https://www.google.ru</td>\n",
       "      <td>legitimate</td>\n",
       "      <td>(https, www.google.ru, , , , )</td>\n",
       "      <td>https</td>\n",
       "      <td>www</td>\n",
       "      <td>google</td>\n",
       "      <td>ru</td>\n",
       "      <td></td>\n",
       "      <td></td>\n",
       "      <td></td>\n",
       "      <td>False</td>\n",
       "      <td>ru</td>\n",
       "      <td>.ru</td>\n",
       "      <td>country-code</td>\n",
       "      <td>Coordination Center for TLD RU</td>\n",
       "    </tr>\n",
       "    <tr>\n",
       "      <th>27</th>\n",
       "      <td>com</td>\n",
       "      <td>https://www.netflix.com</td>\n",
       "      <td>legitimate</td>\n",
       "      <td>(https, www.netflix.com, , , , )</td>\n",
       "      <td>https</td>\n",
       "      <td>www</td>\n",
       "      <td>netflix</td>\n",
       "      <td>com</td>\n",
       "      <td></td>\n",
       "      <td></td>\n",
       "      <td></td>\n",
       "      <td>False</td>\n",
       "      <td>com</td>\n",
       "      <td>.com</td>\n",
       "      <td>generic</td>\n",
       "      <td>VeriSign Global Registry Services</td>\n",
       "    </tr>\n",
       "    <tr>\n",
       "      <th>28</th>\n",
       "      <td>ru</td>\n",
       "      <td>https://www.yandex.ru</td>\n",
       "      <td>legitimate</td>\n",
       "      <td>(https, www.yandex.ru, , , , )</td>\n",
       "      <td>https</td>\n",
       "      <td>www</td>\n",
       "      <td>yandex</td>\n",
       "      <td>ru</td>\n",
       "      <td></td>\n",
       "      <td></td>\n",
       "      <td></td>\n",
       "      <td>False</td>\n",
       "      <td>ru</td>\n",
       "      <td>.ru</td>\n",
       "      <td>country-code</td>\n",
       "      <td>Coordination Center for TLD RU</td>\n",
       "    </tr>\n",
       "    <tr>\n",
       "      <th>29</th>\n",
       "      <td>com</td>\n",
       "      <td>https://www.list.tmall.com</td>\n",
       "      <td>legitimate</td>\n",
       "      <td>(https, www.list.tmall.com, , , , )</td>\n",
       "      <td>https</td>\n",
       "      <td>www.list</td>\n",
       "      <td>tmall</td>\n",
       "      <td>com</td>\n",
       "      <td></td>\n",
       "      <td></td>\n",
       "      <td></td>\n",
       "      <td>False</td>\n",
       "      <td>com</td>\n",
       "      <td>.com</td>\n",
       "      <td>generic</td>\n",
       "      <td>VeriSign Global Registry Services</td>\n",
       "    </tr>\n",
       "  </tbody>\n",
       "</table>\n",
       "</div>"
      ],
      "text/plain": [
       "   key_0                         url        type  \\\n",
       "0    com      https://www.google.com  legitimate   \n",
       "1    com     https://www.youtube.com  legitimate   \n",
       "2    com    https://www.facebook.com  legitimate   \n",
       "3    com       https://www.baidu.com  legitimate   \n",
       "4    org   https://www.wikipedia.org  legitimate   \n",
       "5    com      https://www.reddit.com  legitimate   \n",
       "6    com       https://www.yahoo.com  legitimate   \n",
       "7     in    https://www.google.co.in  legitimate   \n",
       "8    com          https://www.qq.com  legitimate   \n",
       "9    com      https://www.amazon.com  legitimate   \n",
       "10   com      https://www.taobao.com  legitimate   \n",
       "11   com     https://www.twitter.com  legitimate   \n",
       "12   com       https://www.tmall.com  legitimate   \n",
       "13    jp    https://www.google.co.jp  legitimate   \n",
       "14   com          https://www.vk.com  legitimate   \n",
       "15   com        https://www.live.com  legitimate   \n",
       "16   com   https://www.instagram.com  legitimate   \n",
       "17   com        https://www.sohu.com  legitimate   \n",
       "18    cn     https://www.sina.com.cn  legitimate   \n",
       "19   com          https://www.jd.com  legitimate   \n",
       "20   com       https://www.weibo.com  legitimate   \n",
       "21    cn          https://www.360.cn  legitimate   \n",
       "22    de       https://www.google.de  legitimate   \n",
       "23    uk    https://www.google.co.uk  legitimate   \n",
       "24    br   https://www.google.com.br  legitimate   \n",
       "25    fr       https://www.google.fr  legitimate   \n",
       "26    ru       https://www.google.ru  legitimate   \n",
       "27   com     https://www.netflix.com  legitimate   \n",
       "28    ru       https://www.yandex.ru  legitimate   \n",
       "29   com  https://www.list.tmall.com  legitimate   \n",
       "\n",
       "                              parsedUrl urlPart_scheme subDomain     domain  \\\n",
       "0       (https, www.google.com, , , , )          https       www     google   \n",
       "1      (https, www.youtube.com, , , , )          https       www    youtube   \n",
       "2     (https, www.facebook.com, , , , )          https       www   facebook   \n",
       "3        (https, www.baidu.com, , , , )          https       www      baidu   \n",
       "4    (https, www.wikipedia.org, , , , )          https       www  wikipedia   \n",
       "5       (https, www.reddit.com, , , , )          https       www     reddit   \n",
       "6        (https, www.yahoo.com, , , , )          https       www      yahoo   \n",
       "7     (https, www.google.co.in, , , , )          https       www     google   \n",
       "8           (https, www.qq.com, , , , )          https       www         qq   \n",
       "9       (https, www.amazon.com, , , , )          https       www     amazon   \n",
       "10      (https, www.taobao.com, , , , )          https       www     taobao   \n",
       "11     (https, www.twitter.com, , , , )          https       www    twitter   \n",
       "12       (https, www.tmall.com, , , , )          https       www      tmall   \n",
       "13    (https, www.google.co.jp, , , , )          https       www     google   \n",
       "14          (https, www.vk.com, , , , )          https       www         vk   \n",
       "15        (https, www.live.com, , , , )          https       www       live   \n",
       "16   (https, www.instagram.com, , , , )          https       www  instagram   \n",
       "17        (https, www.sohu.com, , , , )          https       www       sohu   \n",
       "18     (https, www.sina.com.cn, , , , )          https       www       sina   \n",
       "19          (https, www.jd.com, , , , )          https       www         jd   \n",
       "20       (https, www.weibo.com, , , , )          https       www      weibo   \n",
       "21          (https, www.360.cn, , , , )          https       www        360   \n",
       "22       (https, www.google.de, , , , )          https       www     google   \n",
       "23    (https, www.google.co.uk, , , , )          https       www     google   \n",
       "24   (https, www.google.com.br, , , , )          https       www     google   \n",
       "25       (https, www.google.fr, , , , )          https       www     google   \n",
       "26       (https, www.google.ru, , , , )          https       www     google   \n",
       "27     (https, www.netflix.com, , , , )          https       www    netflix   \n",
       "28       (https, www.yandex.ru, , , , )          https       www     yandex   \n",
       "29  (https, www.list.tmall.com, , , , )          https  www.list      tmall   \n",
       "\n",
       "       tld urlPart_path urlPart_query urlPart_fragment  isIPaddress tld_join  \\\n",
       "0      com                                                    False      com   \n",
       "1      com                                                    False      com   \n",
       "2      com                                                    False      com   \n",
       "3      com                                                    False      com   \n",
       "4      org                                                    False      org   \n",
       "5      com                                                    False      com   \n",
       "6      com                                                    False      com   \n",
       "7    co.in                                                    False       in   \n",
       "8      com                                                    False      com   \n",
       "9      com                                                    False      com   \n",
       "10     com                                                    False      com   \n",
       "11     com                                                    False      com   \n",
       "12     com                                                    False      com   \n",
       "13   co.jp                                                    False       jp   \n",
       "14     com                                                    False      com   \n",
       "15     com                                                    False      com   \n",
       "16     com                                                    False      com   \n",
       "17     com                                                    False      com   \n",
       "18  com.cn                                                    False       cn   \n",
       "19     com                                                    False      com   \n",
       "20     com                                                    False      com   \n",
       "21      cn                                                    False       cn   \n",
       "22      de                                                    False       de   \n",
       "23   co.uk                                                    False       uk   \n",
       "24  com.br                                                    False       br   \n",
       "25      fr                                                    False       fr   \n",
       "26      ru                                                    False       ru   \n",
       "27     com                                                    False      com   \n",
       "28      ru                                                    False       ru   \n",
       "29     com                                                    False      com   \n",
       "\n",
       "   Domain          Type                                        TLD Manager  \n",
       "0    .com       generic                  VeriSign Global Registry Services  \n",
       "1    .com       generic                  VeriSign Global Registry Services  \n",
       "2    .com       generic                  VeriSign Global Registry Services  \n",
       "3    .com       generic                  VeriSign Global Registry Services  \n",
       "4    .org       generic                     Public Interest Registry (PIR)  \n",
       "5    .com       generic                  VeriSign Global Registry Services  \n",
       "6    .com       generic                  VeriSign Global Registry Services  \n",
       "7     .in  country-code                National Internet Exchange of India  \n",
       "8    .com       generic                  VeriSign Global Registry Services  \n",
       "9    .com       generic                  VeriSign Global Registry Services  \n",
       "10   .com       generic                  VeriSign Global Registry Services  \n",
       "11   .com       generic                  VeriSign Global Registry Services  \n",
       "12   .com       generic                  VeriSign Global Registry Services  \n",
       "13    .jp  country-code                  Japan Registry Services Co., Ltd.  \n",
       "14   .com       generic                  VeriSign Global Registry Services  \n",
       "15   .com       generic                  VeriSign Global Registry Services  \n",
       "16   .com       generic                  VeriSign Global Registry Services  \n",
       "17   .com       generic                  VeriSign Global Registry Services  \n",
       "18    .cn  country-code  China Internet Network Information Center (CNNIC)  \n",
       "19   .com       generic                  VeriSign Global Registry Services  \n",
       "20   .com       generic                  VeriSign Global Registry Services  \n",
       "21    .cn  country-code  China Internet Network Information Center (CNNIC)  \n",
       "22    .de  country-code                                           DENIC eG  \n",
       "23    .uk  country-code                                         Nominet UK  \n",
       "24    .br  country-code                Comite Gestor da Internet no Brasil  \n",
       "25    .fr  country-code  Association Française pour le Nommage Internet...  \n",
       "26    .ru  country-code                     Coordination Center for TLD RU  \n",
       "27   .com       generic                  VeriSign Global Registry Services  \n",
       "28    .ru  country-code                     Coordination Center for TLD RU  \n",
       "29   .com       generic                  VeriSign Global Registry Services  "
      ]
     },
     "execution_count": 357,
     "metadata": {},
     "output_type": "execute_result"
    }
   ],
   "source": [
    "urlData.head(30)"
   ]
  },
  {
   "cell_type": "markdown",
   "id": "c552b01a-ae9b-4fe2-946f-81df86562513",
   "metadata": {
    "tags": []
   },
   "source": [
    "##### Is IP Address?"
   ]
  },
  {
   "cell_type": "code",
   "execution_count": 46,
   "id": "d52d3eff-5073-4408-a0e1-b0f2b1e7d58d",
   "metadata": {
    "tags": []
   },
   "outputs": [],
   "source": [
    "# check if netloc is an IP address function\n",
    "def is_ip_address(netloc):\n",
    "    try:\n",
    "        ipaddress.ip_address(netloc)\n",
    "        return True\n",
    "    except ValueError:\n",
    "        return False"
   ]
  },
  {
   "cell_type": "code",
   "execution_count": 47,
   "id": "7e1cdce5-f14f-4667-b64e-4b34aace9a6a",
   "metadata": {
    "tags": []
   },
   "outputs": [],
   "source": [
    "# create feature - isIPaddress\n",
    "urlData['isIPaddress'] = urlData['parsedUrl'].apply(lambda urlObj : is_ip_address(urlObj.netloc))"
   ]
  },
  {
   "cell_type": "code",
   "execution_count": 48,
   "id": "f68ff2a7-fa88-494b-8d47-c6a83ad6d2cc",
   "metadata": {
    "tags": []
   },
   "outputs": [
    {
     "data": {
      "text/html": [
       "<div>\n",
       "<style scoped>\n",
       "    .dataframe tbody tr th:only-of-type {\n",
       "        vertical-align: middle;\n",
       "    }\n",
       "\n",
       "    .dataframe tbody tr th {\n",
       "        vertical-align: top;\n",
       "    }\n",
       "\n",
       "    .dataframe thead th {\n",
       "        text-align: right;\n",
       "    }\n",
       "</style>\n",
       "<table border=\"1\" class=\"dataframe\">\n",
       "  <thead>\n",
       "    <tr style=\"text-align: right;\">\n",
       "      <th></th>\n",
       "      <th>url</th>\n",
       "      <th>type</th>\n",
       "      <th>parsedUrl</th>\n",
       "      <th>urlPart_scheme</th>\n",
       "      <th>subDomain</th>\n",
       "      <th>domain</th>\n",
       "      <th>tld</th>\n",
       "      <th>urlPart_path</th>\n",
       "      <th>urlPart_query</th>\n",
       "      <th>urlPart_fragment</th>\n",
       "      <th>isIPaddress</th>\n",
       "    </tr>\n",
       "  </thead>\n",
       "  <tbody>\n",
       "    <tr>\n",
       "      <th>0</th>\n",
       "      <td>https://www.google.com</td>\n",
       "      <td>legitimate</td>\n",
       "      <td>(https, www.google.com, , , , )</td>\n",
       "      <td>https</td>\n",
       "      <td>www</td>\n",
       "      <td>google</td>\n",
       "      <td>com</td>\n",
       "      <td></td>\n",
       "      <td></td>\n",
       "      <td></td>\n",
       "      <td>False</td>\n",
       "    </tr>\n",
       "    <tr>\n",
       "      <th>1</th>\n",
       "      <td>https://www.youtube.com</td>\n",
       "      <td>legitimate</td>\n",
       "      <td>(https, www.youtube.com, , , , )</td>\n",
       "      <td>https</td>\n",
       "      <td>www</td>\n",
       "      <td>youtube</td>\n",
       "      <td>com</td>\n",
       "      <td></td>\n",
       "      <td></td>\n",
       "      <td></td>\n",
       "      <td>False</td>\n",
       "    </tr>\n",
       "    <tr>\n",
       "      <th>2</th>\n",
       "      <td>https://www.facebook.com</td>\n",
       "      <td>legitimate</td>\n",
       "      <td>(https, www.facebook.com, , , , )</td>\n",
       "      <td>https</td>\n",
       "      <td>www</td>\n",
       "      <td>facebook</td>\n",
       "      <td>com</td>\n",
       "      <td></td>\n",
       "      <td></td>\n",
       "      <td></td>\n",
       "      <td>False</td>\n",
       "    </tr>\n",
       "    <tr>\n",
       "      <th>3</th>\n",
       "      <td>https://www.baidu.com</td>\n",
       "      <td>legitimate</td>\n",
       "      <td>(https, www.baidu.com, , , , )</td>\n",
       "      <td>https</td>\n",
       "      <td>www</td>\n",
       "      <td>baidu</td>\n",
       "      <td>com</td>\n",
       "      <td></td>\n",
       "      <td></td>\n",
       "      <td></td>\n",
       "      <td>False</td>\n",
       "    </tr>\n",
       "    <tr>\n",
       "      <th>4</th>\n",
       "      <td>https://www.wikipedia.org</td>\n",
       "      <td>legitimate</td>\n",
       "      <td>(https, www.wikipedia.org, , , , )</td>\n",
       "      <td>https</td>\n",
       "      <td>www</td>\n",
       "      <td>wikipedia</td>\n",
       "      <td>org</td>\n",
       "      <td></td>\n",
       "      <td></td>\n",
       "      <td></td>\n",
       "      <td>False</td>\n",
       "    </tr>\n",
       "  </tbody>\n",
       "</table>\n",
       "</div>"
      ],
      "text/plain": [
       "                         url        type                           parsedUrl  \\\n",
       "0     https://www.google.com  legitimate     (https, www.google.com, , , , )   \n",
       "1    https://www.youtube.com  legitimate    (https, www.youtube.com, , , , )   \n",
       "2   https://www.facebook.com  legitimate   (https, www.facebook.com, , , , )   \n",
       "3      https://www.baidu.com  legitimate      (https, www.baidu.com, , , , )   \n",
       "4  https://www.wikipedia.org  legitimate  (https, www.wikipedia.org, , , , )   \n",
       "\n",
       "  urlPart_scheme subDomain     domain  tld urlPart_path urlPart_query  \\\n",
       "0          https       www     google  com                              \n",
       "1          https       www    youtube  com                              \n",
       "2          https       www   facebook  com                              \n",
       "3          https       www      baidu  com                              \n",
       "4          https       www  wikipedia  org                              \n",
       "\n",
       "  urlPart_fragment  isIPaddress  \n",
       "0                         False  \n",
       "1                         False  \n",
       "2                         False  \n",
       "3                         False  \n",
       "4                         False  "
      ]
     },
     "execution_count": 48,
     "metadata": {},
     "output_type": "execute_result"
    }
   ],
   "source": [
    "# new features - check head\n",
    "urlData.head()"
   ]
  },
  {
   "cell_type": "code",
   "execution_count": 49,
   "id": "1b006591-0801-451a-beac-18b03a75d993",
   "metadata": {
    "tags": []
   },
   "outputs": [],
   "source": [
    "# indices of all phish urls\n",
    "isPhishIdx = urlData[urlData['type'] == 'phishing'].index"
   ]
  },
  {
   "cell_type": "code",
   "execution_count": 50,
   "id": "726f3e0c-79f6-4266-92f2-d6dd8ca1183b",
   "metadata": {
    "tags": []
   },
   "outputs": [
    {
     "data": {
      "text/html": [
       "<div>\n",
       "<style scoped>\n",
       "    .dataframe tbody tr th:only-of-type {\n",
       "        vertical-align: middle;\n",
       "    }\n",
       "\n",
       "    .dataframe tbody tr th {\n",
       "        vertical-align: top;\n",
       "    }\n",
       "\n",
       "    .dataframe thead th {\n",
       "        text-align: right;\n",
       "    }\n",
       "</style>\n",
       "<table border=\"1\" class=\"dataframe\">\n",
       "  <thead>\n",
       "    <tr style=\"text-align: right;\">\n",
       "      <th></th>\n",
       "      <th></th>\n",
       "      <th>count</th>\n",
       "    </tr>\n",
       "    <tr>\n",
       "      <th>urlPart_scheme</th>\n",
       "      <th>type</th>\n",
       "      <th></th>\n",
       "    </tr>\n",
       "  </thead>\n",
       "  <tbody>\n",
       "    <tr>\n",
       "      <th>http</th>\n",
       "      <th>phishing</th>\n",
       "      <td>97947</td>\n",
       "    </tr>\n",
       "    <tr>\n",
       "      <th>https</th>\n",
       "      <th>phishing</th>\n",
       "      <td>6483</td>\n",
       "    </tr>\n",
       "    <tr>\n",
       "      <th>ftp</th>\n",
       "      <th>phishing</th>\n",
       "      <td>7</td>\n",
       "    </tr>\n",
       "  </tbody>\n",
       "</table>\n",
       "</div>"
      ],
      "text/plain": [
       "                         count\n",
       "urlPart_scheme type           \n",
       "http           phishing  97947\n",
       "https          phishing   6483\n",
       "ftp            phishing      7"
      ]
     },
     "execution_count": 50,
     "metadata": {},
     "output_type": "execute_result"
    }
   ],
   "source": [
    "# Top phishing schemes\n",
    "pd.DataFrame(urlData[['urlPart_scheme', 'type']].loc[isPhishIdx].value_counts()).head()"
   ]
  },
  {
   "cell_type": "code",
   "execution_count": 51,
   "id": "9ebc78c3-b369-4160-99cb-e3ab1cdad48e",
   "metadata": {
    "tags": []
   },
   "outputs": [
    {
     "data": {
      "text/html": [
       "<div>\n",
       "<style scoped>\n",
       "    .dataframe tbody tr th:only-of-type {\n",
       "        vertical-align: middle;\n",
       "    }\n",
       "\n",
       "    .dataframe tbody tr th {\n",
       "        vertical-align: top;\n",
       "    }\n",
       "\n",
       "    .dataframe thead th {\n",
       "        text-align: right;\n",
       "    }\n",
       "</style>\n",
       "<table border=\"1\" class=\"dataframe\">\n",
       "  <thead>\n",
       "    <tr style=\"text-align: right;\">\n",
       "      <th></th>\n",
       "      <th></th>\n",
       "      <th>count</th>\n",
       "    </tr>\n",
       "    <tr>\n",
       "      <th>domain</th>\n",
       "      <th>type</th>\n",
       "      <th></th>\n",
       "    </tr>\n",
       "  </thead>\n",
       "  <tbody>\n",
       "    <tr>\n",
       "      <th>google</th>\n",
       "      <th>phishing</th>\n",
       "      <td>1325</td>\n",
       "    </tr>\n",
       "    <tr>\n",
       "      <th>000webhostapp</th>\n",
       "      <th>phishing</th>\n",
       "      <td>978</td>\n",
       "    </tr>\n",
       "    <tr>\n",
       "      <th>mhcable</th>\n",
       "      <th>phishing</th>\n",
       "      <td>381</td>\n",
       "    </tr>\n",
       "    <tr>\n",
       "      <th>kf25zx</th>\n",
       "      <th>phishing</th>\n",
       "      <td>265</td>\n",
       "    </tr>\n",
       "    <tr>\n",
       "      <th>adnxs</th>\n",
       "      <th>phishing</th>\n",
       "      <td>255</td>\n",
       "    </tr>\n",
       "  </tbody>\n",
       "</table>\n",
       "</div>"
      ],
      "text/plain": [
       "                        count\n",
       "domain        type           \n",
       "google        phishing   1325\n",
       "000webhostapp phishing    978\n",
       "mhcable       phishing    381\n",
       "kf25zx        phishing    265\n",
       "adnxs         phishing    255"
      ]
     },
     "execution_count": 51,
     "metadata": {},
     "output_type": "execute_result"
    }
   ],
   "source": [
    "# Top phishing domains\n",
    "pd.DataFrame(urlData[['domain', 'type']].loc[isPhishIdx].value_counts()).head()"
   ]
  },
  {
   "cell_type": "code",
   "execution_count": 52,
   "id": "da37026c-aaa1-4855-915f-2361a2244457",
   "metadata": {
    "tags": []
   },
   "outputs": [
    {
     "data": {
      "text/html": [
       "<div>\n",
       "<style scoped>\n",
       "    .dataframe tbody tr th:only-of-type {\n",
       "        vertical-align: middle;\n",
       "    }\n",
       "\n",
       "    .dataframe tbody tr th {\n",
       "        vertical-align: top;\n",
       "    }\n",
       "\n",
       "    .dataframe thead th {\n",
       "        text-align: right;\n",
       "    }\n",
       "</style>\n",
       "<table border=\"1\" class=\"dataframe\">\n",
       "  <thead>\n",
       "    <tr style=\"text-align: right;\">\n",
       "      <th></th>\n",
       "      <th></th>\n",
       "      <th>count</th>\n",
       "    </tr>\n",
       "    <tr>\n",
       "      <th>subDomain</th>\n",
       "      <th>type</th>\n",
       "      <th></th>\n",
       "    </tr>\n",
       "  </thead>\n",
       "  <tbody>\n",
       "    <tr>\n",
       "      <th></th>\n",
       "      <th>phishing</th>\n",
       "      <td>69955</td>\n",
       "    </tr>\n",
       "    <tr>\n",
       "      <th>www</th>\n",
       "      <th>phishing</th>\n",
       "      <td>13014</td>\n",
       "    </tr>\n",
       "    <tr>\n",
       "      <th>sites</th>\n",
       "      <th>phishing</th>\n",
       "      <td>982</td>\n",
       "    </tr>\n",
       "    <tr>\n",
       "      <th>webmail</th>\n",
       "      <th>phishing</th>\n",
       "      <td>397</td>\n",
       "    </tr>\n",
       "    <tr>\n",
       "      <th>mail</th>\n",
       "      <th>phishing</th>\n",
       "      <td>177</td>\n",
       "    </tr>\n",
       "  </tbody>\n",
       "</table>\n",
       "</div>"
      ],
      "text/plain": [
       "                    count\n",
       "subDomain type           \n",
       "          phishing  69955\n",
       "www       phishing  13014\n",
       "sites     phishing    982\n",
       "webmail   phishing    397\n",
       "mail      phishing    177"
      ]
     },
     "execution_count": 52,
     "metadata": {},
     "output_type": "execute_result"
    }
   ],
   "source": [
    "# Top phishing subdomains\n",
    "pd.DataFrame(urlData[['subDomain', 'type']].loc[isPhishIdx].value_counts()).head()"
   ]
  },
  {
   "cell_type": "code",
   "execution_count": 53,
   "id": "b04a63f0-3edd-4dab-8665-3e4bf8e3d289",
   "metadata": {
    "tags": []
   },
   "outputs": [
    {
     "data": {
      "text/html": [
       "<div>\n",
       "<style scoped>\n",
       "    .dataframe tbody tr th:only-of-type {\n",
       "        vertical-align: middle;\n",
       "    }\n",
       "\n",
       "    .dataframe tbody tr th {\n",
       "        vertical-align: top;\n",
       "    }\n",
       "\n",
       "    .dataframe thead th {\n",
       "        text-align: right;\n",
       "    }\n",
       "</style>\n",
       "<table border=\"1\" class=\"dataframe\">\n",
       "  <thead>\n",
       "    <tr style=\"text-align: right;\">\n",
       "      <th></th>\n",
       "      <th></th>\n",
       "      <th>count</th>\n",
       "    </tr>\n",
       "    <tr>\n",
       "      <th>tld</th>\n",
       "      <th>type</th>\n",
       "      <th></th>\n",
       "    </tr>\n",
       "  </thead>\n",
       "  <tbody>\n",
       "    <tr>\n",
       "      <th>com</th>\n",
       "      <th>phishing</th>\n",
       "      <td>51092</td>\n",
       "    </tr>\n",
       "    <tr>\n",
       "      <th>net</th>\n",
       "      <th>phishing</th>\n",
       "      <td>5242</td>\n",
       "    </tr>\n",
       "    <tr>\n",
       "      <th></th>\n",
       "      <th>phishing</th>\n",
       "      <td>4321</td>\n",
       "    </tr>\n",
       "    <tr>\n",
       "      <th>org</th>\n",
       "      <th>phishing</th>\n",
       "      <td>3540</td>\n",
       "    </tr>\n",
       "    <tr>\n",
       "      <th>ru</th>\n",
       "      <th>phishing</th>\n",
       "      <td>3523</td>\n",
       "    </tr>\n",
       "    <tr>\n",
       "      <th>com.br</th>\n",
       "      <th>phishing</th>\n",
       "      <td>3319</td>\n",
       "    </tr>\n",
       "    <tr>\n",
       "      <th>info</th>\n",
       "      <th>phishing</th>\n",
       "      <td>1827</td>\n",
       "    </tr>\n",
       "    <tr>\n",
       "      <th>com.au</th>\n",
       "      <th>phishing</th>\n",
       "      <td>1822</td>\n",
       "    </tr>\n",
       "    <tr>\n",
       "      <th>pl</th>\n",
       "      <th>phishing</th>\n",
       "      <td>1326</td>\n",
       "    </tr>\n",
       "    <tr>\n",
       "      <th>co.uk</th>\n",
       "      <th>phishing</th>\n",
       "      <td>1295</td>\n",
       "    </tr>\n",
       "  </tbody>\n",
       "</table>\n",
       "</div>"
      ],
      "text/plain": [
       "                 count\n",
       "tld    type           \n",
       "com    phishing  51092\n",
       "net    phishing   5242\n",
       "       phishing   4321\n",
       "org    phishing   3540\n",
       "ru     phishing   3523\n",
       "com.br phishing   3319\n",
       "info   phishing   1827\n",
       "com.au phishing   1822\n",
       "pl     phishing   1326\n",
       "co.uk  phishing   1295"
      ]
     },
     "execution_count": 53,
     "metadata": {},
     "output_type": "execute_result"
    }
   ],
   "source": [
    "# Top phishing TLDs\n",
    "pd.DataFrame(urlData[['tld', 'type']].loc[isPhishIdx].value_counts()).head(10)"
   ]
  },
  {
   "cell_type": "code",
   "execution_count": 54,
   "id": "d4fdfffd-28c6-40c1-b5a3-6cbe8611d028",
   "metadata": {
    "tags": []
   },
   "outputs": [
    {
     "data": {
      "text/html": [
       "<div>\n",
       "<style scoped>\n",
       "    .dataframe tbody tr th:only-of-type {\n",
       "        vertical-align: middle;\n",
       "    }\n",
       "\n",
       "    .dataframe tbody tr th {\n",
       "        vertical-align: top;\n",
       "    }\n",
       "\n",
       "    .dataframe thead th {\n",
       "        text-align: right;\n",
       "    }\n",
       "</style>\n",
       "<table border=\"1\" class=\"dataframe\">\n",
       "  <thead>\n",
       "    <tr style=\"text-align: right;\">\n",
       "      <th>isIPaddress</th>\n",
       "      <th>False</th>\n",
       "      <th>True</th>\n",
       "    </tr>\n",
       "    <tr>\n",
       "      <th>type</th>\n",
       "      <th></th>\n",
       "      <th></th>\n",
       "    </tr>\n",
       "  </thead>\n",
       "  <tbody>\n",
       "    <tr>\n",
       "      <th>legitimate</th>\n",
       "      <td>345738</td>\n",
       "      <td>0</td>\n",
       "    </tr>\n",
       "    <tr>\n",
       "      <th>phishing</th>\n",
       "      <td>101571</td>\n",
       "      <td>2866</td>\n",
       "    </tr>\n",
       "  </tbody>\n",
       "</table>\n",
       "</div>"
      ],
      "text/plain": [
       "isIPaddress   False  True \n",
       "type                      \n",
       "legitimate   345738      0\n",
       "phishing     101571   2866"
      ]
     },
     "execution_count": 54,
     "metadata": {},
     "output_type": "execute_result"
    }
   ],
   "source": [
    "# % of IP address URLs that is phish\n",
    "pd.crosstab(urlData['type'], urlData['isIPaddress'])"
   ]
  },
  {
   "cell_type": "markdown",
   "id": "d009390f-668f-41be-946d-6a3de6b3de58",
   "metadata": {},
   "source": [
    "> 100% of the IP address URLs were phishing in this data set"
   ]
  },
  {
   "cell_type": "markdown",
   "id": "b2a2855a-d6f2-48d9-b782-3d323e63976b",
   "metadata": {},
   "source": [
    "##### Correlation to Target"
   ]
  },
  {
   "cell_type": "code",
   "execution_count": 56,
   "id": "1f9e4065-5d2f-41e8-bc0d-b34965b15489",
   "metadata": {},
   "outputs": [],
   "source": [
    "# relationship between http vs https (secure) and type (phish or not)"
   ]
  },
  {
   "cell_type": "code",
   "execution_count": 57,
   "id": "3c5c18a4-a5e0-4ecb-9e3a-0b3cc219af24",
   "metadata": {},
   "outputs": [],
   "source": [
    "# relationship between top level domain and type (phish or not)\n",
    "# "
   ]
  },
  {
   "cell_type": "code",
   "execution_count": 58,
   "id": "d771ecdd-081c-4e9c-ab0f-60d22c6ca76d",
   "metadata": {
    "tags": []
   },
   "outputs": [],
   "source": [
    "# Export df to file\n",
    "urlData.to_csv('../data/interim/urlData_raw.csv')"
   ]
  },
  {
   "cell_type": "markdown",
   "id": "86994cf7-3f6e-4d67-8902-07474e35c589",
   "metadata": {},
   "source": [
    "- the dataset is very simple and not well suited for statistical analysis in it's current form\n",
    "- will parse the URLs and perform feature engineering in the next notebook for pre-processing\n",
    "\n",
    "- play with the data a bit more for EDA\n",
    "- look at relationship between target and\n",
    "    - https and http urls\n",
    "    - .com and .com.in (country specific domains)\n",
    "    - any other initial analysis that can be done without extensive feature engineering (that will be done in next notebook)\n",
    "    - resources\n",
    "        - https://www.geeksforgeeks.org/components-of-a-url/\n",
    "        - https://www.techtarget.com/whatis/definition/named-entity-recognition-NER   (from Kevin)"
   ]
  },
  {
   "cell_type": "code",
   "execution_count": 60,
   "id": "986420b8-2c73-4a05-869e-d692d79931ab",
   "metadata": {
    "tags": []
   },
   "outputs": [],
   "source": [
    "# TO DO\n",
    "# -join the TLD columns\n",
    "# -do additional EDA\n",
    "#   -country specific domains    \n",
    "#   -pivot table (or crosstab or groupby) on the biggest phisher combos\n",
    "#   -correlations - heatmap"
   ]
  }
 ],
 "metadata": {
  "kernelspec": {
   "display_name": "Python 3 (ipykernel)",
   "language": "python",
   "name": "python3"
  },
  "language_info": {
   "codemirror_mode": {
    "name": "ipython",
    "version": 3
   },
   "file_extension": ".py",
   "mimetype": "text/x-python",
   "name": "python",
   "nbconvert_exporter": "python",
   "pygments_lexer": "ipython3",
   "version": "3.11.7"
  }
 },
 "nbformat": 4,
 "nbformat_minor": 5
}
