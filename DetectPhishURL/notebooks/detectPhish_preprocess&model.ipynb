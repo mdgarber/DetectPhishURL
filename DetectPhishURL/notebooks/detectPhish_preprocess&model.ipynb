{
 "cells": [
  {
   "cell_type": "markdown",
   "id": "d4ff1023-35dd-44fa-9bfd-79397c624e4a",
   "metadata": {},
   "source": [
    "# Detect Phishing URLs\n",
    "### Capstone 3 - Preprocessing and Modeling\n",
    "Michael Garber"
   ]
  },
  {
   "cell_type": "markdown",
   "id": "9c4a87ac-d5b0-4e64-a3cd-703c33edbcc0",
   "metadata": {},
   "source": [
    "#### High-Level Steps\n",
    "1. Preprocessing\n",
    "    1. Create dummy/indicator features for categorical variables\n",
    "    2. Standardize/scale numeric features\n",
    "    3. Train/Test Split \n",
    "2. Modeling\n",
    "    1. Fit your models with a training dataset\n",
    "    2. Review model outcomes — Iterate over additional models as needed.\n",
    "    3. Identify the final model that you think is the best model for this project"
   ]
  },
  {
   "cell_type": "code",
   "execution_count": 4,
   "id": "ae85bcb3-7674-4346-b993-6ea398f2e0c9",
   "metadata": {
    "tags": []
   },
   "outputs": [],
   "source": [
    "# Import Libraries\n",
    "import pandas as pd\n",
    "import os\n",
    "import numpy as np\n",
    "from sklearn.preprocessing import MinMaxScaler, TargetEncoder     # requires scikit-learn 1.3 or greater\n",
    "from sklearn.model_selection import train_test_split, GridSearchCV, StratifiedKFold\n",
    "from sklearn.metrics import classification_report, precision_recall_curve, auc\n",
    "import keras\n",
    "from keras import layers\n",
    "from scikeras.wrappers import KerasClassifier\n",
    "import seaborn as sns\n",
    "import matplotlib.pyplot as plt"
   ]
  },
  {
   "cell_type": "markdown",
   "id": "79b9667a-cf8b-44da-a801-e4cced08eb47",
   "metadata": {},
   "source": [
    "#### Preprocessing"
   ]
  },
  {
   "cell_type": "code",
   "execution_count": 6,
   "id": "124e0e6e-eaf8-4734-ae90-02a4f1247b1c",
   "metadata": {
    "tags": []
   },
   "outputs": [
    {
     "name": "stderr",
     "output_type": "stream",
     "text": [
      "C:\\Users\\MG-Laptop\\AppData\\Local\\Temp\\ipykernel_12584\\2659773463.py:3: DtypeWarning: Columns (11) have mixed types. Specify dtype option on import or set low_memory=False.\n",
      "  urlData = pd.read_csv(dataDir)\n"
     ]
    }
   ],
   "source": [
    "# Import Data set\n",
    "dataDir = os.path.join('../data/interim/urlData_raw.csv')\n",
    "urlData = pd.read_csv(dataDir)"
   ]
  },
  {
   "cell_type": "code",
   "execution_count": 7,
   "id": "e1efaf2c-6145-4ca6-bfc4-e25d9315c0a0",
   "metadata": {},
   "outputs": [],
   "source": [
    "# add new useful feature: URL length\n",
    "urlData['url_Length'] = urlData['url'].apply(len)"
   ]
  },
  {
   "cell_type": "code",
   "execution_count": 8,
   "id": "87d56b43-46e3-4939-b0b7-c536dce5c0a1",
   "metadata": {
    "tags": []
   },
   "outputs": [
    {
     "name": "stdout",
     "output_type": "stream",
     "text": [
      "<class 'pandas.core.frame.DataFrame'>\n",
      "RangeIndex: 450175 entries, 0 to 450174\n",
      "Data columns (total 19 columns):\n",
      " #   Column            Non-Null Count   Dtype \n",
      "---  ------            --------------   ----- \n",
      " 0   Unnamed: 0        450175 non-null  int64 \n",
      " 1   key_0             445854 non-null  object\n",
      " 2   url               450175 non-null  object\n",
      " 3   type              450175 non-null  object\n",
      " 4   parsedUrl         450175 non-null  object\n",
      " 5   urlPart_scheme    450175 non-null  object\n",
      " 6   subDomain         379885 non-null  object\n",
      " 7   domain            450167 non-null  object\n",
      " 8   tld               445854 non-null  object\n",
      " 9   urlPart_path      444917 non-null  object\n",
      " 10  urlPart_query     65541 non-null   object\n",
      " 11  urlPart_fragment  359 non-null     object\n",
      " 12  tld_join          445854 non-null  object\n",
      " 13  Domain            445451 non-null  object\n",
      " 14  Type              445451 non-null  object\n",
      " 15  TLD Manager       445451 non-null  object\n",
      " 16  isIPaddress       450175 non-null  bool  \n",
      " 17  isPhish_bool      450175 non-null  bool  \n",
      " 18  url_Length        450175 non-null  int64 \n",
      "dtypes: bool(2), int64(2), object(15)\n",
      "memory usage: 59.2+ MB\n"
     ]
    }
   ],
   "source": [
    "# Data Info\n",
    "urlData.info()"
   ]
  },
  {
   "cell_type": "markdown",
   "id": "2b17468c-f394-4962-a9ea-70cd4717f23f",
   "metadata": {},
   "source": [
    "**Additional data cleaning** - identify features that have **missing values** (that we ares till planning on keeping)\n",
    "- subDomain\n",
    "- domain\n",
    "- tld\n",
    "- urlPart_path\n",
    "- urlPart_query\n",
    "- urlPart_fragment\n",
    "- Type\n",
    "- TLD Manager    "
   ]
  },
  {
   "cell_type": "code",
   "execution_count": 10,
   "id": "206febf3-0337-4ce6-b3f4-6d5636d0afb7",
   "metadata": {
    "tags": []
   },
   "outputs": [],
   "source": [
    "# Additional data cleaning - set missing values to zero\n",
    "values = {\n",
    "    'subDomain': '0',\n",
    "    'domain': '0',\n",
    "    'tld': '0',\n",
    "    'urlPart_path': '0',\n",
    "    'urlPart_query': '0',\n",
    "    'urlPart_fragment': '0',\n",
    "    'Type': '0',\n",
    "    'TLD Manager': '0'}\n",
    "\n",
    "urlData = urlData.fillna(value=values)"
   ]
  },
  {
   "cell_type": "code",
   "execution_count": 11,
   "id": "b90e6621-66c9-4c27-82fd-d0c22f1822d0",
   "metadata": {
    "tags": []
   },
   "outputs": [
    {
     "name": "stdout",
     "output_type": "stream",
     "text": [
      "<class 'pandas.core.frame.DataFrame'>\n",
      "RangeIndex: 450175 entries, 0 to 450174\n",
      "Data columns (total 19 columns):\n",
      " #   Column            Non-Null Count   Dtype \n",
      "---  ------            --------------   ----- \n",
      " 0   Unnamed: 0        450175 non-null  int64 \n",
      " 1   key_0             445854 non-null  object\n",
      " 2   url               450175 non-null  object\n",
      " 3   type              450175 non-null  object\n",
      " 4   parsedUrl         450175 non-null  object\n",
      " 5   urlPart_scheme    450175 non-null  object\n",
      " 6   subDomain         450175 non-null  object\n",
      " 7   domain            450175 non-null  object\n",
      " 8   tld               450175 non-null  object\n",
      " 9   urlPart_path      450175 non-null  object\n",
      " 10  urlPart_query     450175 non-null  object\n",
      " 11  urlPart_fragment  450175 non-null  object\n",
      " 12  tld_join          445854 non-null  object\n",
      " 13  Domain            445451 non-null  object\n",
      " 14  Type              450175 non-null  object\n",
      " 15  TLD Manager       450175 non-null  object\n",
      " 16  isIPaddress       450175 non-null  bool  \n",
      " 17  isPhish_bool      450175 non-null  bool  \n",
      " 18  url_Length        450175 non-null  int64 \n",
      "dtypes: bool(2), int64(2), object(15)\n",
      "memory usage: 59.2+ MB\n"
     ]
    }
   ],
   "source": [
    "# Data Info - checking NULLs again (key and tld will be dropped)\n",
    "urlData.info()"
   ]
  },
  {
   "cell_type": "code",
   "execution_count": 12,
   "id": "7b365d83-da6c-4940-926e-6c0857c36811",
   "metadata": {
    "tags": []
   },
   "outputs": [
    {
     "data": {
      "text/html": [
       "<div>\n",
       "<style scoped>\n",
       "    .dataframe tbody tr th:only-of-type {\n",
       "        vertical-align: middle;\n",
       "    }\n",
       "\n",
       "    .dataframe tbody tr th {\n",
       "        vertical-align: top;\n",
       "    }\n",
       "\n",
       "    .dataframe thead th {\n",
       "        text-align: right;\n",
       "    }\n",
       "</style>\n",
       "<table border=\"1\" class=\"dataframe\">\n",
       "  <thead>\n",
       "    <tr style=\"text-align: right;\">\n",
       "      <th></th>\n",
       "      <th>Unnamed: 0</th>\n",
       "      <th>key_0</th>\n",
       "      <th>url</th>\n",
       "      <th>type</th>\n",
       "      <th>parsedUrl</th>\n",
       "      <th>urlPart_scheme</th>\n",
       "      <th>subDomain</th>\n",
       "      <th>domain</th>\n",
       "      <th>tld</th>\n",
       "      <th>urlPart_path</th>\n",
       "      <th>urlPart_query</th>\n",
       "      <th>urlPart_fragment</th>\n",
       "      <th>tld_join</th>\n",
       "      <th>Domain</th>\n",
       "      <th>Type</th>\n",
       "      <th>TLD Manager</th>\n",
       "      <th>isIPaddress</th>\n",
       "      <th>isPhish_bool</th>\n",
       "      <th>url_Length</th>\n",
       "    </tr>\n",
       "  </thead>\n",
       "  <tbody>\n",
       "    <tr>\n",
       "      <th>0</th>\n",
       "      <td>0</td>\n",
       "      <td>com</td>\n",
       "      <td>https://www.google.com</td>\n",
       "      <td>legitimate</td>\n",
       "      <td>ParseResult(scheme='https', netloc='www.google...</td>\n",
       "      <td>https</td>\n",
       "      <td>www</td>\n",
       "      <td>google</td>\n",
       "      <td>com</td>\n",
       "      <td>0</td>\n",
       "      <td>0</td>\n",
       "      <td>0</td>\n",
       "      <td>com</td>\n",
       "      <td>.com</td>\n",
       "      <td>generic</td>\n",
       "      <td>VeriSign Global Registry Services</td>\n",
       "      <td>False</td>\n",
       "      <td>False</td>\n",
       "      <td>22</td>\n",
       "    </tr>\n",
       "    <tr>\n",
       "      <th>1</th>\n",
       "      <td>1</td>\n",
       "      <td>com</td>\n",
       "      <td>https://www.youtube.com</td>\n",
       "      <td>legitimate</td>\n",
       "      <td>ParseResult(scheme='https', netloc='www.youtub...</td>\n",
       "      <td>https</td>\n",
       "      <td>www</td>\n",
       "      <td>youtube</td>\n",
       "      <td>com</td>\n",
       "      <td>0</td>\n",
       "      <td>0</td>\n",
       "      <td>0</td>\n",
       "      <td>com</td>\n",
       "      <td>.com</td>\n",
       "      <td>generic</td>\n",
       "      <td>VeriSign Global Registry Services</td>\n",
       "      <td>False</td>\n",
       "      <td>False</td>\n",
       "      <td>23</td>\n",
       "    </tr>\n",
       "    <tr>\n",
       "      <th>2</th>\n",
       "      <td>2</td>\n",
       "      <td>com</td>\n",
       "      <td>https://www.facebook.com</td>\n",
       "      <td>legitimate</td>\n",
       "      <td>ParseResult(scheme='https', netloc='www.facebo...</td>\n",
       "      <td>https</td>\n",
       "      <td>www</td>\n",
       "      <td>facebook</td>\n",
       "      <td>com</td>\n",
       "      <td>0</td>\n",
       "      <td>0</td>\n",
       "      <td>0</td>\n",
       "      <td>com</td>\n",
       "      <td>.com</td>\n",
       "      <td>generic</td>\n",
       "      <td>VeriSign Global Registry Services</td>\n",
       "      <td>False</td>\n",
       "      <td>False</td>\n",
       "      <td>24</td>\n",
       "    </tr>\n",
       "    <tr>\n",
       "      <th>3</th>\n",
       "      <td>3</td>\n",
       "      <td>com</td>\n",
       "      <td>https://www.baidu.com</td>\n",
       "      <td>legitimate</td>\n",
       "      <td>ParseResult(scheme='https', netloc='www.baidu....</td>\n",
       "      <td>https</td>\n",
       "      <td>www</td>\n",
       "      <td>baidu</td>\n",
       "      <td>com</td>\n",
       "      <td>0</td>\n",
       "      <td>0</td>\n",
       "      <td>0</td>\n",
       "      <td>com</td>\n",
       "      <td>.com</td>\n",
       "      <td>generic</td>\n",
       "      <td>VeriSign Global Registry Services</td>\n",
       "      <td>False</td>\n",
       "      <td>False</td>\n",
       "      <td>21</td>\n",
       "    </tr>\n",
       "    <tr>\n",
       "      <th>4</th>\n",
       "      <td>4</td>\n",
       "      <td>org</td>\n",
       "      <td>https://www.wikipedia.org</td>\n",
       "      <td>legitimate</td>\n",
       "      <td>ParseResult(scheme='https', netloc='www.wikipe...</td>\n",
       "      <td>https</td>\n",
       "      <td>www</td>\n",
       "      <td>wikipedia</td>\n",
       "      <td>org</td>\n",
       "      <td>0</td>\n",
       "      <td>0</td>\n",
       "      <td>0</td>\n",
       "      <td>org</td>\n",
       "      <td>.org</td>\n",
       "      <td>generic</td>\n",
       "      <td>Public Interest Registry (PIR)</td>\n",
       "      <td>False</td>\n",
       "      <td>False</td>\n",
       "      <td>25</td>\n",
       "    </tr>\n",
       "  </tbody>\n",
       "</table>\n",
       "</div>"
      ],
      "text/plain": [
       "   Unnamed: 0 key_0                        url        type  \\\n",
       "0           0   com     https://www.google.com  legitimate   \n",
       "1           1   com    https://www.youtube.com  legitimate   \n",
       "2           2   com   https://www.facebook.com  legitimate   \n",
       "3           3   com      https://www.baidu.com  legitimate   \n",
       "4           4   org  https://www.wikipedia.org  legitimate   \n",
       "\n",
       "                                           parsedUrl urlPart_scheme subDomain  \\\n",
       "0  ParseResult(scheme='https', netloc='www.google...          https       www   \n",
       "1  ParseResult(scheme='https', netloc='www.youtub...          https       www   \n",
       "2  ParseResult(scheme='https', netloc='www.facebo...          https       www   \n",
       "3  ParseResult(scheme='https', netloc='www.baidu....          https       www   \n",
       "4  ParseResult(scheme='https', netloc='www.wikipe...          https       www   \n",
       "\n",
       "      domain  tld urlPart_path urlPart_query urlPart_fragment tld_join Domain  \\\n",
       "0     google  com            0             0                0      com   .com   \n",
       "1    youtube  com            0             0                0      com   .com   \n",
       "2   facebook  com            0             0                0      com   .com   \n",
       "3      baidu  com            0             0                0      com   .com   \n",
       "4  wikipedia  org            0             0                0      org   .org   \n",
       "\n",
       "      Type                        TLD Manager  isIPaddress  isPhish_bool  \\\n",
       "0  generic  VeriSign Global Registry Services        False         False   \n",
       "1  generic  VeriSign Global Registry Services        False         False   \n",
       "2  generic  VeriSign Global Registry Services        False         False   \n",
       "3  generic  VeriSign Global Registry Services        False         False   \n",
       "4  generic     Public Interest Registry (PIR)        False         False   \n",
       "\n",
       "   url_Length  \n",
       "0          22  \n",
       "1          23  \n",
       "2          24  \n",
       "3          21  \n",
       "4          25  "
      ]
     },
     "execution_count": 12,
     "metadata": {},
     "output_type": "execute_result"
    }
   ],
   "source": [
    "urlData.head()"
   ]
  },
  {
   "cell_type": "code",
   "execution_count": 13,
   "id": "20596967-85a4-4a0e-a01c-ce587f8086bb",
   "metadata": {
    "tags": []
   },
   "outputs": [
    {
     "data": {
      "text/plain": [
       "Index(['Unnamed: 0', 'key_0', 'url', 'type', 'parsedUrl', 'urlPart_scheme',\n",
       "       'subDomain', 'domain', 'tld', 'urlPart_path', 'urlPart_query',\n",
       "       'urlPart_fragment', 'tld_join', 'Domain', 'Type', 'TLD Manager',\n",
       "       'isIPaddress', 'isPhish_bool', 'url_Length'],\n",
       "      dtype='object')"
      ]
     },
     "execution_count": 13,
     "metadata": {},
     "output_type": "execute_result"
    }
   ],
   "source": [
    "urlData.columns[:]"
   ]
  },
  {
   "cell_type": "markdown",
   "id": "18725a33-0cfd-4435-b4d5-236116a66f30",
   "metadata": {},
   "source": [
    "**Value Counts - urlPart_scheme**"
   ]
  },
  {
   "cell_type": "code",
   "execution_count": 15,
   "id": "b26eda2e-6c76-4d54-8eb7-188fa4fd3025",
   "metadata": {
    "tags": []
   },
   "outputs": [
    {
     "data": {
      "text/html": [
       "<div>\n",
       "<style scoped>\n",
       "    .dataframe tbody tr th:only-of-type {\n",
       "        vertical-align: middle;\n",
       "    }\n",
       "\n",
       "    .dataframe tbody tr th {\n",
       "        vertical-align: top;\n",
       "    }\n",
       "\n",
       "    .dataframe thead th {\n",
       "        text-align: right;\n",
       "    }\n",
       "</style>\n",
       "<table border=\"1\" class=\"dataframe\">\n",
       "  <thead>\n",
       "    <tr style=\"text-align: right;\">\n",
       "      <th></th>\n",
       "      <th>count</th>\n",
       "    </tr>\n",
       "    <tr>\n",
       "      <th>urlPart_scheme</th>\n",
       "      <th></th>\n",
       "    </tr>\n",
       "  </thead>\n",
       "  <tbody>\n",
       "    <tr>\n",
       "      <th>https</th>\n",
       "      <td>352185</td>\n",
       "    </tr>\n",
       "    <tr>\n",
       "      <th>http</th>\n",
       "      <td>97947</td>\n",
       "    </tr>\n",
       "    <tr>\n",
       "      <th>httpss</th>\n",
       "      <td>35</td>\n",
       "    </tr>\n",
       "    <tr>\n",
       "      <th>ftp</th>\n",
       "      <td>8</td>\n",
       "    </tr>\n",
       "  </tbody>\n",
       "</table>\n",
       "</div>"
      ],
      "text/plain": [
       "                 count\n",
       "urlPart_scheme        \n",
       "https           352185\n",
       "http             97947\n",
       "httpss              35\n",
       "ftp                  8"
      ]
     },
     "execution_count": 15,
     "metadata": {},
     "output_type": "execute_result"
    }
   ],
   "source": [
    "#urlData[['url', 'urlPart_scheme', 'subDomain', 'tld', 'domain', 'type', 'TLD Manager', 'isIPaddress', 'isPhish_bool']]\n",
    "pd.DataFrame(urlData['urlPart_scheme'].value_counts())"
   ]
  },
  {
   "cell_type": "markdown",
   "id": "92c0c82c-349c-48cb-8a98-b4b1e425cc5a",
   "metadata": {
    "tags": []
   },
   "source": [
    "**Value Counts - subDomain**"
   ]
  },
  {
   "cell_type": "code",
   "execution_count": 17,
   "id": "ca48295a-c2e1-4405-9196-dbc54eb197e1",
   "metadata": {
    "tags": []
   },
   "outputs": [
    {
     "data": {
      "text/html": [
       "<div>\n",
       "<style scoped>\n",
       "    .dataframe tbody tr th:only-of-type {\n",
       "        vertical-align: middle;\n",
       "    }\n",
       "\n",
       "    .dataframe tbody tr th {\n",
       "        vertical-align: top;\n",
       "    }\n",
       "\n",
       "    .dataframe thead th {\n",
       "        text-align: right;\n",
       "    }\n",
       "</style>\n",
       "<table border=\"1\" class=\"dataframe\">\n",
       "  <thead>\n",
       "    <tr style=\"text-align: right;\">\n",
       "      <th></th>\n",
       "      <th>count</th>\n",
       "    </tr>\n",
       "    <tr>\n",
       "      <th>subDomain</th>\n",
       "      <th></th>\n",
       "    </tr>\n",
       "  </thead>\n",
       "  <tbody>\n",
       "    <tr>\n",
       "      <th>www</th>\n",
       "      <td>276100</td>\n",
       "    </tr>\n",
       "    <tr>\n",
       "      <th>0</th>\n",
       "      <td>70290</td>\n",
       "    </tr>\n",
       "    <tr>\n",
       "      <th>www.en</th>\n",
       "      <td>13626</td>\n",
       "    </tr>\n",
       "    <tr>\n",
       "      <th>www.music</th>\n",
       "      <td>1289</td>\n",
       "    </tr>\n",
       "    <tr>\n",
       "      <th>www.people</th>\n",
       "      <td>1228</td>\n",
       "    </tr>\n",
       "    <tr>\n",
       "      <th>...</th>\n",
       "      <td>...</td>\n",
       "    </tr>\n",
       "    <tr>\n",
       "      <th>www.ohv.parks</th>\n",
       "      <td>1</td>\n",
       "    </tr>\n",
       "    <tr>\n",
       "      <th>www.ohtheplaceswewillgo-books</th>\n",
       "      <td>1</td>\n",
       "    </tr>\n",
       "    <tr>\n",
       "      <th>www.ohr</th>\n",
       "      <td>1</td>\n",
       "    </tr>\n",
       "    <tr>\n",
       "      <th>www.ohomen171s-journey-through-life</th>\n",
       "      <td>1</td>\n",
       "    </tr>\n",
       "    <tr>\n",
       "      <th>boasecg7</th>\n",
       "      <td>1</td>\n",
       "    </tr>\n",
       "  </tbody>\n",
       "</table>\n",
       "<p>32041 rows × 1 columns</p>\n",
       "</div>"
      ],
      "text/plain": [
       "                                      count\n",
       "subDomain                                  \n",
       "www                                  276100\n",
       "0                                     70290\n",
       "www.en                                13626\n",
       "www.music                              1289\n",
       "www.people                             1228\n",
       "...                                     ...\n",
       "www.ohv.parks                             1\n",
       "www.ohtheplaceswewillgo-books             1\n",
       "www.ohr                                   1\n",
       "www.ohomen171s-journey-through-life       1\n",
       "boasecg7                                  1\n",
       "\n",
       "[32041 rows x 1 columns]"
      ]
     },
     "execution_count": 17,
     "metadata": {},
     "output_type": "execute_result"
    }
   ],
   "source": [
    "pd.DataFrame(urlData['subDomain'].value_counts())"
   ]
  },
  {
   "cell_type": "markdown",
   "id": "e88cbb96-59fa-47de-a01b-cba7db8710bd",
   "metadata": {},
   "source": [
    "**Value Counts - TLD Manager**"
   ]
  },
  {
   "cell_type": "code",
   "execution_count": 19,
   "id": "b2401310-7eb1-4c3c-8309-ddce3c42b111",
   "metadata": {
    "tags": []
   },
   "outputs": [
    {
     "data": {
      "text/plain": [
       "TLD Manager\n",
       "VeriSign Global Registry Services                                                                               333004\n",
       "Public Interest Registry (PIR)                                                                                   38393\n",
       "Canadian Internet Registration Authority (CIRA) Autorité Canadienne pour les enregistrements Internet (ACEI)     10086\n",
       "EDUCAUSE                                                                                                          6976\n",
       "Nominet UK                                                                                                        5997\n",
       "                                                                                                                 ...  \n",
       "AS Domain Registry                                                                                                   1\n",
       "University of Swaziland Department of Computer Science                                                               1\n",
       "Dot London Domains Limited                                                                                           1\n",
       "Macao Post and Telecommunications Bureau (CTT)                                                                       1\n",
       "University of Guyana                                                                                                 1\n",
       "Name: count, Length: 260, dtype: int64"
      ]
     },
     "execution_count": 19,
     "metadata": {},
     "output_type": "execute_result"
    }
   ],
   "source": [
    "urlData['TLD Manager'].value_counts()"
   ]
  },
  {
   "cell_type": "markdown",
   "id": "8443a531-0c3e-4761-a7b6-24b8898e33fd",
   "metadata": {
    "tags": []
   },
   "source": [
    "**Determine how to handle categorical features**"
   ]
  },
  {
   "cell_type": "code",
   "execution_count": 21,
   "id": "ea7e10fb-6966-4166-963d-52a876fd28a7",
   "metadata": {
    "tags": []
   },
   "outputs": [
    {
     "data": {
      "text/html": [
       "<div>\n",
       "<style scoped>\n",
       "    .dataframe tbody tr th:only-of-type {\n",
       "        vertical-align: middle;\n",
       "    }\n",
       "\n",
       "    .dataframe tbody tr th {\n",
       "        vertical-align: top;\n",
       "    }\n",
       "\n",
       "    .dataframe thead th {\n",
       "        text-align: right;\n",
       "    }\n",
       "</style>\n",
       "<table border=\"1\" class=\"dataframe\">\n",
       "  <thead>\n",
       "    <tr style=\"text-align: right;\">\n",
       "      <th></th>\n",
       "      <th>key_0</th>\n",
       "      <th>url</th>\n",
       "      <th>type</th>\n",
       "      <th>parsedUrl</th>\n",
       "      <th>urlPart_scheme</th>\n",
       "      <th>subDomain</th>\n",
       "      <th>domain</th>\n",
       "      <th>tld</th>\n",
       "      <th>urlPart_path</th>\n",
       "      <th>urlPart_query</th>\n",
       "      <th>urlPart_fragment</th>\n",
       "      <th>tld_join</th>\n",
       "      <th>Domain</th>\n",
       "      <th>Type</th>\n",
       "      <th>TLD Manager</th>\n",
       "      <th>isIPaddress</th>\n",
       "      <th>isPhish_bool</th>\n",
       "    </tr>\n",
       "  </thead>\n",
       "  <tbody>\n",
       "    <tr>\n",
       "      <th>count</th>\n",
       "      <td>445854</td>\n",
       "      <td>450175</td>\n",
       "      <td>450175</td>\n",
       "      <td>450175</td>\n",
       "      <td>450175</td>\n",
       "      <td>450175</td>\n",
       "      <td>450175</td>\n",
       "      <td>450175</td>\n",
       "      <td>450175</td>\n",
       "      <td>450175</td>\n",
       "      <td>450175</td>\n",
       "      <td>445854</td>\n",
       "      <td>445451</td>\n",
       "      <td>450175</td>\n",
       "      <td>450175</td>\n",
       "      <td>450175</td>\n",
       "      <td>450175</td>\n",
       "    </tr>\n",
       "    <tr>\n",
       "      <th>unique</th>\n",
       "      <td>415</td>\n",
       "      <td>450175</td>\n",
       "      <td>2</td>\n",
       "      <td>450132</td>\n",
       "      <td>4</td>\n",
       "      <td>32041</td>\n",
       "      <td>130747</td>\n",
       "      <td>832</td>\n",
       "      <td>317144</td>\n",
       "      <td>55325</td>\n",
       "      <td>72</td>\n",
       "      <td>415</td>\n",
       "      <td>360</td>\n",
       "      <td>5</td>\n",
       "      <td>260</td>\n",
       "      <td>2</td>\n",
       "      <td>2</td>\n",
       "    </tr>\n",
       "    <tr>\n",
       "      <th>top</th>\n",
       "      <td>com</td>\n",
       "      <td>https://www.google.com</td>\n",
       "      <td>legitimate</td>\n",
       "      <td>ParseResult(scheme='http', netloc='new.sosnovs...</td>\n",
       "      <td>https</td>\n",
       "      <td>www</td>\n",
       "      <td>wikipedia</td>\n",
       "      <td>com</td>\n",
       "      <td>/</td>\n",
       "      <td>0</td>\n",
       "      <td>0</td>\n",
       "      <td>com</td>\n",
       "      <td>.com</td>\n",
       "      <td>generic</td>\n",
       "      <td>VeriSign Global Registry Services</td>\n",
       "      <td>False</td>\n",
       "      <td>False</td>\n",
       "    </tr>\n",
       "    <tr>\n",
       "      <th>freq</th>\n",
       "      <td>316414</td>\n",
       "      <td>1</td>\n",
       "      <td>345738</td>\n",
       "      <td>2</td>\n",
       "      <td>352185</td>\n",
       "      <td>276100</td>\n",
       "      <td>12895</td>\n",
       "      <td>316414</td>\n",
       "      <td>55253</td>\n",
       "      <td>384636</td>\n",
       "      <td>449816</td>\n",
       "      <td>316414</td>\n",
       "      <td>316414</td>\n",
       "      <td>376803</td>\n",
       "      <td>333004</td>\n",
       "      <td>447309</td>\n",
       "      <td>345738</td>\n",
       "    </tr>\n",
       "  </tbody>\n",
       "</table>\n",
       "</div>"
      ],
      "text/plain": [
       "         key_0                     url        type  \\\n",
       "count   445854                  450175      450175   \n",
       "unique     415                  450175           2   \n",
       "top        com  https://www.google.com  legitimate   \n",
       "freq    316414                       1      345738   \n",
       "\n",
       "                                                parsedUrl urlPart_scheme  \\\n",
       "count                                              450175         450175   \n",
       "unique                                             450132              4   \n",
       "top     ParseResult(scheme='http', netloc='new.sosnovs...          https   \n",
       "freq                                                    2         352185   \n",
       "\n",
       "       subDomain     domain     tld urlPart_path urlPart_query  \\\n",
       "count     450175     450175  450175       450175        450175   \n",
       "unique     32041     130747     832       317144         55325   \n",
       "top          www  wikipedia     com            /             0   \n",
       "freq      276100      12895  316414        55253        384636   \n",
       "\n",
       "       urlPart_fragment tld_join  Domain     Type  \\\n",
       "count            450175   445854  445451   450175   \n",
       "unique               72      415     360        5   \n",
       "top                   0      com    .com  generic   \n",
       "freq             449816   316414  316414   376803   \n",
       "\n",
       "                              TLD Manager isIPaddress isPhish_bool  \n",
       "count                              450175      450175       450175  \n",
       "unique                                260           2            2  \n",
       "top     VeriSign Global Registry Services       False        False  \n",
       "freq                               333004      447309       345738  "
      ]
     },
     "execution_count": 21,
     "metadata": {},
     "output_type": "execute_result"
    }
   ],
   "source": [
    "# Let's see cardinality / # of uniques for each feature - use to determine categorical fields to dummy and how to encode - one-hot vs label\n",
    "urlData[['key_0', 'url', 'type', 'parsedUrl', 'urlPart_scheme',\n",
    "       'subDomain', 'domain', 'tld', 'urlPart_path', 'urlPart_query',\n",
    "       'urlPart_fragment', 'tld_join', 'Domain', 'Type', 'TLD Manager',\n",
    "       'isIPaddress', 'isPhish_bool']].describe()"
   ]
  },
  {
   "cell_type": "markdown",
   "id": "aca4dbd2-b969-4d5c-98c9-e65f5dfade45",
   "metadata": {},
   "source": [
    "> - Will use **mean encoding** for the **high cardinality columns** (e.x. domain) as using one-hot would create too many columns and with sparse data\n",
    "> - Will **mean encode after train/test splitting** to **avoid data leakage**"
   ]
  },
  {
   "cell_type": "raw",
   "id": "0899aa55-d6c5-4dfb-8590-5fc41a09c469",
   "metadata": {},
   "source": [
    "# Features selection and categorical encoding decisions\n",
    "\n",
    "'Unnamed: 0', -drop\n",
    "'key_0', -drop\n",
    "'url', -drop\n",
    "'type',  -drop\n",
    "'parsedUrl',  -drop\n",
    "'urlPart_scheme' -one hot encode\n",
    "'subDomain' -label encode\n",
    "'domain' -label encode\n",
    "'tld' -mean encode\n",
    "'urlPart_path' -mean encode\n",
    "'urlPart_query' -mean encode\n",
    "'urlPart_fragment' -mean encode\n",
    "'tld_join' -drop\n",
    "'Domain' -drop\n",
    "'Type' -one-hot encode\n",
    "'TLD Manager' -mean encode\n",
    "'isIPaddress' -one-hot encode\n",
    "'isPhish_bool' -one-hot encode"
   ]
  },
  {
   "cell_type": "code",
   "execution_count": 23,
   "id": "cf29ed9c-3569-4715-987d-74de2fe325e1",
   "metadata": {
    "tags": []
   },
   "outputs": [],
   "source": [
    "# Select/Drop features - create new dataframe for this major data change\n",
    "urlDataV2 = urlData.drop(['Unnamed: 0', 'key_0', 'url', 'type', 'parsedUrl', 'tld_join', 'Domain'], axis=1)"
   ]
  },
  {
   "cell_type": "code",
   "execution_count": 24,
   "id": "7f59ed9d-0597-4c70-8269-89e45bc9e042",
   "metadata": {
    "tags": []
   },
   "outputs": [
    {
     "data": {
      "text/html": [
       "<div>\n",
       "<style scoped>\n",
       "    .dataframe tbody tr th:only-of-type {\n",
       "        vertical-align: middle;\n",
       "    }\n",
       "\n",
       "    .dataframe tbody tr th {\n",
       "        vertical-align: top;\n",
       "    }\n",
       "\n",
       "    .dataframe thead th {\n",
       "        text-align: right;\n",
       "    }\n",
       "</style>\n",
       "<table border=\"1\" class=\"dataframe\">\n",
       "  <thead>\n",
       "    <tr style=\"text-align: right;\">\n",
       "      <th></th>\n",
       "      <th>urlPart_scheme</th>\n",
       "      <th>subDomain</th>\n",
       "      <th>domain</th>\n",
       "      <th>tld</th>\n",
       "      <th>urlPart_path</th>\n",
       "      <th>urlPart_query</th>\n",
       "      <th>urlPart_fragment</th>\n",
       "      <th>Type</th>\n",
       "      <th>TLD Manager</th>\n",
       "      <th>isIPaddress</th>\n",
       "      <th>isPhish_bool</th>\n",
       "      <th>url_Length</th>\n",
       "    </tr>\n",
       "  </thead>\n",
       "  <tbody>\n",
       "    <tr>\n",
       "      <th>0</th>\n",
       "      <td>https</td>\n",
       "      <td>www</td>\n",
       "      <td>google</td>\n",
       "      <td>com</td>\n",
       "      <td>0</td>\n",
       "      <td>0</td>\n",
       "      <td>0</td>\n",
       "      <td>generic</td>\n",
       "      <td>VeriSign Global Registry Services</td>\n",
       "      <td>False</td>\n",
       "      <td>False</td>\n",
       "      <td>22</td>\n",
       "    </tr>\n",
       "    <tr>\n",
       "      <th>1</th>\n",
       "      <td>https</td>\n",
       "      <td>www</td>\n",
       "      <td>youtube</td>\n",
       "      <td>com</td>\n",
       "      <td>0</td>\n",
       "      <td>0</td>\n",
       "      <td>0</td>\n",
       "      <td>generic</td>\n",
       "      <td>VeriSign Global Registry Services</td>\n",
       "      <td>False</td>\n",
       "      <td>False</td>\n",
       "      <td>23</td>\n",
       "    </tr>\n",
       "    <tr>\n",
       "      <th>2</th>\n",
       "      <td>https</td>\n",
       "      <td>www</td>\n",
       "      <td>facebook</td>\n",
       "      <td>com</td>\n",
       "      <td>0</td>\n",
       "      <td>0</td>\n",
       "      <td>0</td>\n",
       "      <td>generic</td>\n",
       "      <td>VeriSign Global Registry Services</td>\n",
       "      <td>False</td>\n",
       "      <td>False</td>\n",
       "      <td>24</td>\n",
       "    </tr>\n",
       "    <tr>\n",
       "      <th>3</th>\n",
       "      <td>https</td>\n",
       "      <td>www</td>\n",
       "      <td>baidu</td>\n",
       "      <td>com</td>\n",
       "      <td>0</td>\n",
       "      <td>0</td>\n",
       "      <td>0</td>\n",
       "      <td>generic</td>\n",
       "      <td>VeriSign Global Registry Services</td>\n",
       "      <td>False</td>\n",
       "      <td>False</td>\n",
       "      <td>21</td>\n",
       "    </tr>\n",
       "    <tr>\n",
       "      <th>4</th>\n",
       "      <td>https</td>\n",
       "      <td>www</td>\n",
       "      <td>wikipedia</td>\n",
       "      <td>org</td>\n",
       "      <td>0</td>\n",
       "      <td>0</td>\n",
       "      <td>0</td>\n",
       "      <td>generic</td>\n",
       "      <td>Public Interest Registry (PIR)</td>\n",
       "      <td>False</td>\n",
       "      <td>False</td>\n",
       "      <td>25</td>\n",
       "    </tr>\n",
       "  </tbody>\n",
       "</table>\n",
       "</div>"
      ],
      "text/plain": [
       "  urlPart_scheme subDomain     domain  tld urlPart_path urlPart_query  \\\n",
       "0          https       www     google  com            0             0   \n",
       "1          https       www    youtube  com            0             0   \n",
       "2          https       www   facebook  com            0             0   \n",
       "3          https       www      baidu  com            0             0   \n",
       "4          https       www  wikipedia  org            0             0   \n",
       "\n",
       "  urlPart_fragment     Type                        TLD Manager  isIPaddress  \\\n",
       "0                0  generic  VeriSign Global Registry Services        False   \n",
       "1                0  generic  VeriSign Global Registry Services        False   \n",
       "2                0  generic  VeriSign Global Registry Services        False   \n",
       "3                0  generic  VeriSign Global Registry Services        False   \n",
       "4                0  generic     Public Interest Registry (PIR)        False   \n",
       "\n",
       "   isPhish_bool  url_Length  \n",
       "0         False          22  \n",
       "1         False          23  \n",
       "2         False          24  \n",
       "3         False          21  \n",
       "4         False          25  "
      ]
     },
     "execution_count": 24,
     "metadata": {},
     "output_type": "execute_result"
    }
   ],
   "source": [
    "# View new DF\n",
    "urlDataV2.head()"
   ]
  },
  {
   "cell_type": "markdown",
   "id": "f199fb24-89f9-42bf-b2e3-017be312f499",
   "metadata": {
    "tags": []
   },
   "source": [
    "**Features to One-Hot encode**\n",
    "- 'urlPart_scheme'\n",
    "- 'Type'\n",
    "- 'isIPaddress'\n",
    "- 'isPhish_bool'\n",
    "\n",
    "*...because they are lower cardinality*"
   ]
  },
  {
   "cell_type": "code",
   "execution_count": 26,
   "id": "aca9774a-2280-44d9-a96a-cf97030a48f4",
   "metadata": {
    "tags": []
   },
   "outputs": [],
   "source": [
    "# Let's rename \"type\" to a more descriptive name before encoding\n",
    "urlDataV2 = urlDataV2.rename(columns={'Type':'TLD_type'})"
   ]
  },
  {
   "cell_type": "markdown",
   "id": "4215f723-42b0-4852-b048-78f3a174b885",
   "metadata": {
    "tags": []
   },
   "source": [
    "##### Create dummies \\ one-hot encode"
   ]
  },
  {
   "cell_type": "code",
   "execution_count": 28,
   "id": "8b0d3793-01b8-4a3a-a67b-942fee40c36b",
   "metadata": {
    "tags": []
   },
   "outputs": [],
   "source": [
    "# One-Hot encode features\n",
    "urlDataV2 = pd.get_dummies(urlDataV2, columns=['urlPart_scheme', 'TLD_type'])"
   ]
  },
  {
   "cell_type": "code",
   "execution_count": 29,
   "id": "f584a894-efa9-4e13-b815-040568ff77a3",
   "metadata": {
    "tags": []
   },
   "outputs": [
    {
     "data": {
      "text/html": [
       "<div>\n",
       "<style scoped>\n",
       "    .dataframe tbody tr th:only-of-type {\n",
       "        vertical-align: middle;\n",
       "    }\n",
       "\n",
       "    .dataframe tbody tr th {\n",
       "        vertical-align: top;\n",
       "    }\n",
       "\n",
       "    .dataframe thead th {\n",
       "        text-align: right;\n",
       "    }\n",
       "</style>\n",
       "<table border=\"1\" class=\"dataframe\">\n",
       "  <thead>\n",
       "    <tr style=\"text-align: right;\">\n",
       "      <th></th>\n",
       "      <th>subDomain</th>\n",
       "      <th>domain</th>\n",
       "      <th>tld</th>\n",
       "      <th>urlPart_path</th>\n",
       "      <th>urlPart_query</th>\n",
       "      <th>urlPart_fragment</th>\n",
       "      <th>TLD Manager</th>\n",
       "      <th>isIPaddress</th>\n",
       "      <th>isPhish_bool</th>\n",
       "      <th>url_Length</th>\n",
       "      <th>urlPart_scheme_ftp</th>\n",
       "      <th>urlPart_scheme_http</th>\n",
       "      <th>urlPart_scheme_https</th>\n",
       "      <th>urlPart_scheme_httpss</th>\n",
       "      <th>TLD_type_0</th>\n",
       "      <th>TLD_type_country-code</th>\n",
       "      <th>TLD_type_generic</th>\n",
       "      <th>TLD_type_generic-restricted</th>\n",
       "      <th>TLD_type_sponsored</th>\n",
       "    </tr>\n",
       "  </thead>\n",
       "  <tbody>\n",
       "    <tr>\n",
       "      <th>0</th>\n",
       "      <td>www</td>\n",
       "      <td>google</td>\n",
       "      <td>com</td>\n",
       "      <td>0</td>\n",
       "      <td>0</td>\n",
       "      <td>0</td>\n",
       "      <td>VeriSign Global Registry Services</td>\n",
       "      <td>False</td>\n",
       "      <td>False</td>\n",
       "      <td>22</td>\n",
       "      <td>False</td>\n",
       "      <td>False</td>\n",
       "      <td>True</td>\n",
       "      <td>False</td>\n",
       "      <td>False</td>\n",
       "      <td>False</td>\n",
       "      <td>True</td>\n",
       "      <td>False</td>\n",
       "      <td>False</td>\n",
       "    </tr>\n",
       "    <tr>\n",
       "      <th>1</th>\n",
       "      <td>www</td>\n",
       "      <td>youtube</td>\n",
       "      <td>com</td>\n",
       "      <td>0</td>\n",
       "      <td>0</td>\n",
       "      <td>0</td>\n",
       "      <td>VeriSign Global Registry Services</td>\n",
       "      <td>False</td>\n",
       "      <td>False</td>\n",
       "      <td>23</td>\n",
       "      <td>False</td>\n",
       "      <td>False</td>\n",
       "      <td>True</td>\n",
       "      <td>False</td>\n",
       "      <td>False</td>\n",
       "      <td>False</td>\n",
       "      <td>True</td>\n",
       "      <td>False</td>\n",
       "      <td>False</td>\n",
       "    </tr>\n",
       "    <tr>\n",
       "      <th>2</th>\n",
       "      <td>www</td>\n",
       "      <td>facebook</td>\n",
       "      <td>com</td>\n",
       "      <td>0</td>\n",
       "      <td>0</td>\n",
       "      <td>0</td>\n",
       "      <td>VeriSign Global Registry Services</td>\n",
       "      <td>False</td>\n",
       "      <td>False</td>\n",
       "      <td>24</td>\n",
       "      <td>False</td>\n",
       "      <td>False</td>\n",
       "      <td>True</td>\n",
       "      <td>False</td>\n",
       "      <td>False</td>\n",
       "      <td>False</td>\n",
       "      <td>True</td>\n",
       "      <td>False</td>\n",
       "      <td>False</td>\n",
       "    </tr>\n",
       "    <tr>\n",
       "      <th>3</th>\n",
       "      <td>www</td>\n",
       "      <td>baidu</td>\n",
       "      <td>com</td>\n",
       "      <td>0</td>\n",
       "      <td>0</td>\n",
       "      <td>0</td>\n",
       "      <td>VeriSign Global Registry Services</td>\n",
       "      <td>False</td>\n",
       "      <td>False</td>\n",
       "      <td>21</td>\n",
       "      <td>False</td>\n",
       "      <td>False</td>\n",
       "      <td>True</td>\n",
       "      <td>False</td>\n",
       "      <td>False</td>\n",
       "      <td>False</td>\n",
       "      <td>True</td>\n",
       "      <td>False</td>\n",
       "      <td>False</td>\n",
       "    </tr>\n",
       "    <tr>\n",
       "      <th>4</th>\n",
       "      <td>www</td>\n",
       "      <td>wikipedia</td>\n",
       "      <td>org</td>\n",
       "      <td>0</td>\n",
       "      <td>0</td>\n",
       "      <td>0</td>\n",
       "      <td>Public Interest Registry (PIR)</td>\n",
       "      <td>False</td>\n",
       "      <td>False</td>\n",
       "      <td>25</td>\n",
       "      <td>False</td>\n",
       "      <td>False</td>\n",
       "      <td>True</td>\n",
       "      <td>False</td>\n",
       "      <td>False</td>\n",
       "      <td>False</td>\n",
       "      <td>True</td>\n",
       "      <td>False</td>\n",
       "      <td>False</td>\n",
       "    </tr>\n",
       "  </tbody>\n",
       "</table>\n",
       "</div>"
      ],
      "text/plain": [
       "  subDomain     domain  tld urlPart_path urlPart_query urlPart_fragment  \\\n",
       "0       www     google  com            0             0                0   \n",
       "1       www    youtube  com            0             0                0   \n",
       "2       www   facebook  com            0             0                0   \n",
       "3       www      baidu  com            0             0                0   \n",
       "4       www  wikipedia  org            0             0                0   \n",
       "\n",
       "                         TLD Manager  isIPaddress  isPhish_bool  url_Length  \\\n",
       "0  VeriSign Global Registry Services        False         False          22   \n",
       "1  VeriSign Global Registry Services        False         False          23   \n",
       "2  VeriSign Global Registry Services        False         False          24   \n",
       "3  VeriSign Global Registry Services        False         False          21   \n",
       "4     Public Interest Registry (PIR)        False         False          25   \n",
       "\n",
       "   urlPart_scheme_ftp  urlPart_scheme_http  urlPart_scheme_https  \\\n",
       "0               False                False                  True   \n",
       "1               False                False                  True   \n",
       "2               False                False                  True   \n",
       "3               False                False                  True   \n",
       "4               False                False                  True   \n",
       "\n",
       "   urlPart_scheme_httpss  TLD_type_0  TLD_type_country-code  TLD_type_generic  \\\n",
       "0                  False       False                  False              True   \n",
       "1                  False       False                  False              True   \n",
       "2                  False       False                  False              True   \n",
       "3                  False       False                  False              True   \n",
       "4                  False       False                  False              True   \n",
       "\n",
       "   TLD_type_generic-restricted  TLD_type_sponsored  \n",
       "0                        False               False  \n",
       "1                        False               False  \n",
       "2                        False               False  \n",
       "3                        False               False  \n",
       "4                        False               False  "
      ]
     },
     "execution_count": 29,
     "metadata": {},
     "output_type": "execute_result"
    }
   ],
   "source": [
    "# view new DF\n",
    "urlDataV2.head()"
   ]
  },
  {
   "cell_type": "markdown",
   "id": "94983b83-c064-4a61-8851-2252aa817d0b",
   "metadata": {},
   "source": [
    "*Note: Due to use of **Target encoding**, we will **preprocess** data in a **modified order**...\n",
    "\n",
    "    1. train/test split data\n",
    "    2. target encode data\n",
    "    3. Scale data"
   ]
  },
  {
   "cell_type": "code",
   "execution_count": 31,
   "id": "433c801e-2629-4264-832d-ea0199c8dfe3",
   "metadata": {
    "tags": []
   },
   "outputs": [
    {
     "name": "stdout",
     "output_type": "stream",
     "text": [
      "<class 'pandas.core.frame.DataFrame'>\n",
      "RangeIndex: 450175 entries, 0 to 450174\n",
      "Data columns (total 19 columns):\n",
      " #   Column                       Non-Null Count   Dtype \n",
      "---  ------                       --------------   ----- \n",
      " 0   subDomain                    450175 non-null  object\n",
      " 1   domain                       450175 non-null  object\n",
      " 2   tld                          450175 non-null  object\n",
      " 3   urlPart_path                 450175 non-null  object\n",
      " 4   urlPart_query                450175 non-null  object\n",
      " 5   urlPart_fragment             450175 non-null  object\n",
      " 6   TLD Manager                  450175 non-null  object\n",
      " 7   isIPaddress                  450175 non-null  bool  \n",
      " 8   isPhish_bool                 450175 non-null  bool  \n",
      " 9   url_Length                   450175 non-null  int64 \n",
      " 10  urlPart_scheme_ftp           450175 non-null  bool  \n",
      " 11  urlPart_scheme_http          450175 non-null  bool  \n",
      " 12  urlPart_scheme_https         450175 non-null  bool  \n",
      " 13  urlPart_scheme_httpss        450175 non-null  bool  \n",
      " 14  TLD_type_0                   450175 non-null  bool  \n",
      " 15  TLD_type_country-code        450175 non-null  bool  \n",
      " 16  TLD_type_generic             450175 non-null  bool  \n",
      " 17  TLD_type_generic-restricted  450175 non-null  bool  \n",
      " 18  TLD_type_sponsored           450175 non-null  bool  \n",
      "dtypes: bool(11), int64(1), object(7)\n",
      "memory usage: 32.2+ MB\n"
     ]
    }
   ],
   "source": [
    "# one more peek at columns and object types\n",
    "urlDataV2.info()"
   ]
  },
  {
   "cell_type": "markdown",
   "id": "edc2d286-9e23-4f75-b447-469245c46c24",
   "metadata": {
    "tags": []
   },
   "source": [
    "##### EDA: Feature correlation"
   ]
  },
  {
   "cell_type": "code",
   "execution_count": 33,
   "id": "ce547dde-9349-4702-bdab-dba6a0dfdbd0",
   "metadata": {
    "tags": []
   },
   "outputs": [
    {
     "data": {
      "text/html": [
       "<div>\n",
       "<style scoped>\n",
       "    .dataframe tbody tr th:only-of-type {\n",
       "        vertical-align: middle;\n",
       "    }\n",
       "\n",
       "    .dataframe tbody tr th {\n",
       "        vertical-align: top;\n",
       "    }\n",
       "\n",
       "    .dataframe thead th {\n",
       "        text-align: right;\n",
       "    }\n",
       "</style>\n",
       "<table border=\"1\" class=\"dataframe\">\n",
       "  <thead>\n",
       "    <tr style=\"text-align: right;\">\n",
       "      <th></th>\n",
       "      <th>0</th>\n",
       "    </tr>\n",
       "  </thead>\n",
       "  <tbody>\n",
       "    <tr>\n",
       "      <th>isPhish_bool</th>\n",
       "      <td>1.000000</td>\n",
       "    </tr>\n",
       "    <tr>\n",
       "      <th>urlPart_scheme_http</th>\n",
       "      <td>0.959467</td>\n",
       "    </tr>\n",
       "    <tr>\n",
       "      <th>TLD_type_country-code</th>\n",
       "      <td>0.338015</td>\n",
       "    </tr>\n",
       "    <tr>\n",
       "      <th>TLD_type_0</th>\n",
       "      <td>0.175337</td>\n",
       "    </tr>\n",
       "    <tr>\n",
       "      <th>isIPaddress</th>\n",
       "      <td>0.145640</td>\n",
       "    </tr>\n",
       "    <tr>\n",
       "      <th>url_Length</th>\n",
       "      <td>0.085058</td>\n",
       "    </tr>\n",
       "    <tr>\n",
       "      <th>TLD_type_generic-restricted</th>\n",
       "      <td>0.070401</td>\n",
       "    </tr>\n",
       "    <tr>\n",
       "      <th>urlPart_scheme_ftp</th>\n",
       "      <td>0.006422</td>\n",
       "    </tr>\n",
       "    <tr>\n",
       "      <th>urlPart_scheme_httpss</th>\n",
       "      <td>-0.004846</td>\n",
       "    </tr>\n",
       "    <tr>\n",
       "      <th>TLD_type_sponsored</th>\n",
       "      <td>-0.077846</td>\n",
       "    </tr>\n",
       "    <tr>\n",
       "      <th>TLD_type_generic</th>\n",
       "      <td>-0.332983</td>\n",
       "    </tr>\n",
       "    <tr>\n",
       "      <th>urlPart_scheme_https</th>\n",
       "      <td>-0.959277</td>\n",
       "    </tr>\n",
       "  </tbody>\n",
       "</table>\n",
       "</div>"
      ],
      "text/plain": [
       "                                    0\n",
       "isPhish_bool                 1.000000\n",
       "urlPart_scheme_http          0.959467\n",
       "TLD_type_country-code        0.338015\n",
       "TLD_type_0                   0.175337\n",
       "isIPaddress                  0.145640\n",
       "url_Length                   0.085058\n",
       "TLD_type_generic-restricted  0.070401\n",
       "urlPart_scheme_ftp           0.006422\n",
       "urlPart_scheme_httpss       -0.004846\n",
       "TLD_type_sponsored          -0.077846\n",
       "TLD_type_generic            -0.332983\n",
       "urlPart_scheme_https        -0.959277"
      ]
     },
     "execution_count": 33,
     "metadata": {},
     "output_type": "execute_result"
    }
   ],
   "source": [
    "# feature correlations (excluding non-numerics)\n",
    "pd.DataFrame(urlDataV2.corrwith(other=urlDataV2['isPhish_bool'], numeric_only=True).sort_values(ascending=False))"
   ]
  },
  {
   "cell_type": "markdown",
   "id": "00301b7a-12dc-4a51-a136-ffab424338c1",
   "metadata": {
    "tags": []
   },
   "source": [
    "> **Top feature correlations to target**\n",
    "> - urlPart_scheme_http**s** &emsp;&emsp;(~-96%)\n",
    "> - urlPart_scheme_http &emsp;&emsp; (~+96%) \n",
    "\n",
    "Woah! The **url scheme** (specifically the use of **'http'** or **'https'**) is *highly* predictive of the target in this data set.\n"
   ]
  },
  {
   "cell_type": "code",
   "execution_count": 35,
   "id": "275e6dcf-24cb-4691-af9e-496ec1058e46",
   "metadata": {
    "tags": []
   },
   "outputs": [
    {
     "data": {
      "text/html": [
       "<div>\n",
       "<style scoped>\n",
       "    .dataframe tbody tr th:only-of-type {\n",
       "        vertical-align: middle;\n",
       "    }\n",
       "\n",
       "    .dataframe tbody tr th {\n",
       "        vertical-align: top;\n",
       "    }\n",
       "\n",
       "    .dataframe thead th {\n",
       "        text-align: right;\n",
       "    }\n",
       "</style>\n",
       "<table border=\"1\" class=\"dataframe\">\n",
       "  <thead>\n",
       "    <tr style=\"text-align: right;\">\n",
       "      <th></th>\n",
       "      <th></th>\n",
       "      <th></th>\n",
       "      <th></th>\n",
       "      <th></th>\n",
       "      <th>count</th>\n",
       "    </tr>\n",
       "    <tr>\n",
       "      <th>urlPart_scheme_ftp</th>\n",
       "      <th>urlPart_scheme_http</th>\n",
       "      <th>urlPart_scheme_https</th>\n",
       "      <th>urlPart_scheme_httpss</th>\n",
       "      <th>isPhish_bool</th>\n",
       "      <th></th>\n",
       "    </tr>\n",
       "  </thead>\n",
       "  <tbody>\n",
       "    <tr>\n",
       "      <th rowspan=\"4\" valign=\"top\">False</th>\n",
       "      <th>False</th>\n",
       "      <th>True</th>\n",
       "      <th>False</th>\n",
       "      <th>False</th>\n",
       "      <td>345702</td>\n",
       "    </tr>\n",
       "    <tr>\n",
       "      <th>True</th>\n",
       "      <th>False</th>\n",
       "      <th>False</th>\n",
       "      <th>True</th>\n",
       "      <td>97947</td>\n",
       "    </tr>\n",
       "    <tr>\n",
       "      <th rowspan=\"2\" valign=\"top\">False</th>\n",
       "      <th>True</th>\n",
       "      <th>False</th>\n",
       "      <th>True</th>\n",
       "      <td>6483</td>\n",
       "    </tr>\n",
       "    <tr>\n",
       "      <th>False</th>\n",
       "      <th>True</th>\n",
       "      <th>False</th>\n",
       "      <td>35</td>\n",
       "    </tr>\n",
       "    <tr>\n",
       "      <th rowspan=\"2\" valign=\"top\">True</th>\n",
       "      <th rowspan=\"2\" valign=\"top\">False</th>\n",
       "      <th rowspan=\"2\" valign=\"top\">False</th>\n",
       "      <th rowspan=\"2\" valign=\"top\">False</th>\n",
       "      <th>True</th>\n",
       "      <td>7</td>\n",
       "    </tr>\n",
       "    <tr>\n",
       "      <th>False</th>\n",
       "      <td>1</td>\n",
       "    </tr>\n",
       "  </tbody>\n",
       "</table>\n",
       "</div>"
      ],
      "text/plain": [
       "                                                                                                 count\n",
       "urlPart_scheme_ftp urlPart_scheme_http urlPart_scheme_https urlPart_scheme_httpss isPhish_bool        \n",
       "False              False               True                 False                 False         345702\n",
       "                   True                False                False                 True           97947\n",
       "                   False               True                 False                 True            6483\n",
       "                                       False                True                  False             35\n",
       "True               False               False                False                 True               7\n",
       "                                                                                  False              1"
      ]
     },
     "execution_count": 35,
     "metadata": {},
     "output_type": "execute_result"
    }
   ],
   "source": [
    "pd.DataFrame(urlDataV2[['urlPart_scheme_ftp', 'urlPart_scheme_http', 'urlPart_scheme_https', 'urlPart_scheme_httpss', 'isPhish_bool']].value_counts())"
   ]
  },
  {
   "cell_type": "markdown",
   "id": "90c25510-1bcd-4de1-a680-4fb9949e2e26",
   "metadata": {},
   "source": [
    "> When the scheme is 'https', the URL **is** phishing     - 345702 times \\\n",
    "> When the scheme is 'http',  the URL is **not** phishing - 97947  times \\\n",
    "> URL scheme of 'http' or 'https' predicts the target value in over **98%** of rows in this data set!"
   ]
  },
  {
   "cell_type": "code",
   "execution_count": 37,
   "id": "8d0ea5ca-29f6-49f0-b7ce-b17afde8964e",
   "metadata": {
    "tags": []
   },
   "outputs": [
    {
     "name": "stdout",
     "output_type": "stream",
     "text": [
      "0.9855034153384795\n"
     ]
    }
   ],
   "source": [
    "# Calculate percentage of URLs that can be accurately classified solely via their urlPart_scheme*\n",
    "#      https    http     total record count\n",
    "print((345702 + 97947) / 450175.0)"
   ]
  },
  {
   "cell_type": "markdown",
   "id": "93c47218-4b59-488e-b197-f4a7fb90b740",
   "metadata": {},
   "source": [
    "##### Train/Test Split"
   ]
  },
  {
   "cell_type": "code",
   "execution_count": 39,
   "id": "6cc51441-1ed2-4cb8-98f5-74ff9825f24e",
   "metadata": {
    "tags": []
   },
   "outputs": [],
   "source": [
    "# assign X & y\n",
    "X = urlDataV2.drop(columns=['isPhish_bool'], axis=1).copy()\n",
    "y = urlDataV2['isPhish_bool'].copy()\n",
    "\n",
    "# perform train/test split\n",
    "X_train, X_test, y_train, y_test = train_test_split(X, y, random_state=42, stratify=y)"
   ]
  },
  {
   "cell_type": "markdown",
   "id": "44281791-28ea-4022-8d32-bcfd438ef65f",
   "metadata": {},
   "source": [
    "##### Target/Mean Encode\n",
    "> https://scikit-learn.org/stable/modules/generated/sklearn.preprocessing.TargetEncoder.html#sklearn.preprocessing.TargetEncoder"
   ]
  },
  {
   "cell_type": "raw",
   "id": "36a58ab4-cd77-42db-a4e1-b1e35fa8a9a0",
   "metadata": {},
   "source": [
    "features to encode\n",
    "\n",
    "'subDomain',\n",
    "'domain',\n",
    "'tld',\n",
    "'urlPart_path',\n",
    "'urlPart_query',\n",
    "'urlPart_fragment',\n",
    "'TLD Manager'"
   ]
  },
  {
   "cell_type": "code",
   "execution_count": 41,
   "id": "3b1cf7cf-abf1-4a1e-8a43-8c000bbe6937",
   "metadata": {
    "tags": []
   },
   "outputs": [],
   "source": [
    "# target encode (using auto-smoothing and cross-fitting)\n",
    "targetEncoderAuto = TargetEncoder(smooth='auto')\n",
    "colsToEncode = ['subDomain', 'domain', 'tld', 'urlPart_path', 'urlPart_query', 'urlPart_fragment', 'TLD Manager']\n",
    "\n",
    "X_train_encoded = X_train.copy()\n",
    "X_test_encoded  = X_test.copy()\n",
    "X_train_encoded[colsToEncode] = targetEncoderAuto.fit_transform(X_train[colsToEncode], y_train)\n",
    "X_test_encoded[colsToEncode]  = targetEncoderAuto.transform(X_test[colsToEncode])"
   ]
  },
  {
   "cell_type": "code",
   "execution_count": 42,
   "id": "f496d786-e848-4392-ae2e-f93a037742ad",
   "metadata": {
    "tags": []
   },
   "outputs": [
    {
     "data": {
      "text/html": [
       "<div>\n",
       "<style scoped>\n",
       "    .dataframe tbody tr th:only-of-type {\n",
       "        vertical-align: middle;\n",
       "    }\n",
       "\n",
       "    .dataframe tbody tr th {\n",
       "        vertical-align: top;\n",
       "    }\n",
       "\n",
       "    .dataframe thead th {\n",
       "        text-align: right;\n",
       "    }\n",
       "</style>\n",
       "<table border=\"1\" class=\"dataframe\">\n",
       "  <thead>\n",
       "    <tr style=\"text-align: right;\">\n",
       "      <th></th>\n",
       "      <th>subDomain</th>\n",
       "      <th>domain</th>\n",
       "      <th>tld</th>\n",
       "      <th>urlPart_path</th>\n",
       "      <th>urlPart_query</th>\n",
       "      <th>urlPart_fragment</th>\n",
       "      <th>TLD Manager</th>\n",
       "      <th>isIPaddress</th>\n",
       "      <th>url_Length</th>\n",
       "      <th>urlPart_scheme_ftp</th>\n",
       "      <th>urlPart_scheme_http</th>\n",
       "      <th>urlPart_scheme_https</th>\n",
       "      <th>urlPart_scheme_httpss</th>\n",
       "      <th>TLD_type_0</th>\n",
       "      <th>TLD_type_country-code</th>\n",
       "      <th>TLD_type_generic</th>\n",
       "      <th>TLD_type_generic-restricted</th>\n",
       "      <th>TLD_type_sponsored</th>\n",
       "    </tr>\n",
       "  </thead>\n",
       "  <tbody>\n",
       "    <tr>\n",
       "      <th>109475</th>\n",
       "      <td>0.047042</td>\n",
       "      <td>0.0</td>\n",
       "      <td>0.091356</td>\n",
       "      <td>0.231991</td>\n",
       "      <td>0.220560</td>\n",
       "      <td>0.231375</td>\n",
       "      <td>0.091356</td>\n",
       "      <td>False</td>\n",
       "      <td>62</td>\n",
       "      <td>False</td>\n",
       "      <td>False</td>\n",
       "      <td>True</td>\n",
       "      <td>False</td>\n",
       "      <td>False</td>\n",
       "      <td>False</td>\n",
       "      <td>True</td>\n",
       "      <td>False</td>\n",
       "      <td>False</td>\n",
       "    </tr>\n",
       "    <tr>\n",
       "      <th>360352</th>\n",
       "      <td>0.995309</td>\n",
       "      <td>1.0</td>\n",
       "      <td>1.000000</td>\n",
       "      <td>0.231991</td>\n",
       "      <td>0.220560</td>\n",
       "      <td>0.231375</td>\n",
       "      <td>0.953371</td>\n",
       "      <td>False</td>\n",
       "      <td>109</td>\n",
       "      <td>False</td>\n",
       "      <td>True</td>\n",
       "      <td>False</td>\n",
       "      <td>False</td>\n",
       "      <td>False</td>\n",
       "      <td>True</td>\n",
       "      <td>False</td>\n",
       "      <td>False</td>\n",
       "      <td>False</td>\n",
       "    </tr>\n",
       "    <tr>\n",
       "      <th>133254</th>\n",
       "      <td>0.047303</td>\n",
       "      <td>0.0</td>\n",
       "      <td>0.161406</td>\n",
       "      <td>0.231995</td>\n",
       "      <td>0.220784</td>\n",
       "      <td>0.231370</td>\n",
       "      <td>0.169295</td>\n",
       "      <td>False</td>\n",
       "      <td>68</td>\n",
       "      <td>False</td>\n",
       "      <td>False</td>\n",
       "      <td>True</td>\n",
       "      <td>False</td>\n",
       "      <td>False</td>\n",
       "      <td>False</td>\n",
       "      <td>True</td>\n",
       "      <td>False</td>\n",
       "      <td>False</td>\n",
       "    </tr>\n",
       "    <tr>\n",
       "      <th>175455</th>\n",
       "      <td>0.047303</td>\n",
       "      <td>0.0</td>\n",
       "      <td>0.008247</td>\n",
       "      <td>0.109994</td>\n",
       "      <td>0.000000</td>\n",
       "      <td>0.231370</td>\n",
       "      <td>0.069466</td>\n",
       "      <td>False</td>\n",
       "      <td>36</td>\n",
       "      <td>False</td>\n",
       "      <td>False</td>\n",
       "      <td>True</td>\n",
       "      <td>False</td>\n",
       "      <td>False</td>\n",
       "      <td>True</td>\n",
       "      <td>False</td>\n",
       "      <td>False</td>\n",
       "      <td>False</td>\n",
       "    </tr>\n",
       "    <tr>\n",
       "      <th>392895</th>\n",
       "      <td>0.231995</td>\n",
       "      <td>0.0</td>\n",
       "      <td>0.798733</td>\n",
       "      <td>0.231995</td>\n",
       "      <td>0.220707</td>\n",
       "      <td>0.231336</td>\n",
       "      <td>0.560678</td>\n",
       "      <td>False</td>\n",
       "      <td>46</td>\n",
       "      <td>False</td>\n",
       "      <td>True</td>\n",
       "      <td>False</td>\n",
       "      <td>False</td>\n",
       "      <td>False</td>\n",
       "      <td>False</td>\n",
       "      <td>False</td>\n",
       "      <td>True</td>\n",
       "      <td>False</td>\n",
       "    </tr>\n",
       "  </tbody>\n",
       "</table>\n",
       "</div>"
      ],
      "text/plain": [
       "        subDomain  domain       tld  urlPart_path  urlPart_query  \\\n",
       "109475   0.047042     0.0  0.091356      0.231991       0.220560   \n",
       "360352   0.995309     1.0  1.000000      0.231991       0.220560   \n",
       "133254   0.047303     0.0  0.161406      0.231995       0.220784   \n",
       "175455   0.047303     0.0  0.008247      0.109994       0.000000   \n",
       "392895   0.231995     0.0  0.798733      0.231995       0.220707   \n",
       "\n",
       "        urlPart_fragment  TLD Manager  isIPaddress  url_Length  \\\n",
       "109475          0.231375     0.091356        False          62   \n",
       "360352          0.231375     0.953371        False         109   \n",
       "133254          0.231370     0.169295        False          68   \n",
       "175455          0.231370     0.069466        False          36   \n",
       "392895          0.231336     0.560678        False          46   \n",
       "\n",
       "        urlPart_scheme_ftp  urlPart_scheme_http  urlPart_scheme_https  \\\n",
       "109475               False                False                  True   \n",
       "360352               False                 True                 False   \n",
       "133254               False                False                  True   \n",
       "175455               False                False                  True   \n",
       "392895               False                 True                 False   \n",
       "\n",
       "        urlPart_scheme_httpss  TLD_type_0  TLD_type_country-code  \\\n",
       "109475                  False       False                  False   \n",
       "360352                  False       False                   True   \n",
       "133254                  False       False                  False   \n",
       "175455                  False       False                   True   \n",
       "392895                  False       False                  False   \n",
       "\n",
       "        TLD_type_generic  TLD_type_generic-restricted  TLD_type_sponsored  \n",
       "109475              True                        False               False  \n",
       "360352             False                        False               False  \n",
       "133254              True                        False               False  \n",
       "175455             False                        False               False  \n",
       "392895             False                         True               False  "
      ]
     },
     "execution_count": 42,
     "metadata": {},
     "output_type": "execute_result"
    }
   ],
   "source": [
    "# Check encoding results\n",
    "pd.DataFrame(X_train_encoded).head()"
   ]
  },
  {
   "cell_type": "markdown",
   "id": "cdfeea23-8e8d-4bdb-b09a-71cad9e03676",
   "metadata": {},
   "source": [
    "> Encoding on columns 1-7 ('subDomain' to 'TLD Manager') looks good"
   ]
  },
  {
   "cell_type": "markdown",
   "id": "21d87bcc-dc54-4833-8285-94824148e8c0",
   "metadata": {
    "tags": []
   },
   "source": [
    "##### Standardize and Scale"
   ]
  },
  {
   "cell_type": "code",
   "execution_count": 45,
   "id": "26e829aa-15d5-49a2-af8e-84036478cd44",
   "metadata": {
    "tags": []
   },
   "outputs": [],
   "source": [
    "# MinMax Scale the data\n",
    "scaler = MinMaxScaler()\n",
    "scaler.fit(X_train_encoded)\n",
    "\n",
    "X_train_preprocessed = scaler.transform(X_train_encoded)\n",
    "X_test_preprocessed  = scaler.transform(X_test_encoded)"
   ]
  },
  {
   "cell_type": "code",
   "execution_count": 46,
   "id": "5378468b-961e-4dd5-8106-bfbdea5f5be7",
   "metadata": {
    "tags": []
   },
   "outputs": [
    {
     "data": {
      "text/html": [
       "<div>\n",
       "<style scoped>\n",
       "    .dataframe tbody tr th:only-of-type {\n",
       "        vertical-align: middle;\n",
       "    }\n",
       "\n",
       "    .dataframe tbody tr th {\n",
       "        vertical-align: top;\n",
       "    }\n",
       "\n",
       "    .dataframe thead th {\n",
       "        text-align: right;\n",
       "    }\n",
       "</style>\n",
       "<table border=\"1\" class=\"dataframe\">\n",
       "  <thead>\n",
       "    <tr style=\"text-align: right;\">\n",
       "      <th></th>\n",
       "      <th>0</th>\n",
       "      <th>1</th>\n",
       "      <th>2</th>\n",
       "      <th>3</th>\n",
       "      <th>4</th>\n",
       "      <th>5</th>\n",
       "      <th>6</th>\n",
       "      <th>7</th>\n",
       "      <th>8</th>\n",
       "      <th>9</th>\n",
       "      <th>10</th>\n",
       "      <th>11</th>\n",
       "      <th>12</th>\n",
       "      <th>13</th>\n",
       "      <th>14</th>\n",
       "      <th>15</th>\n",
       "      <th>16</th>\n",
       "      <th>17</th>\n",
       "    </tr>\n",
       "  </thead>\n",
       "  <tbody>\n",
       "    <tr>\n",
       "      <th>0</th>\n",
       "      <td>0.000000</td>\n",
       "      <td>0.000000</td>\n",
       "      <td>0.003428</td>\n",
       "      <td>0.231993</td>\n",
       "      <td>0.220613</td>\n",
       "      <td>0.000025</td>\n",
       "      <td>0.003428</td>\n",
       "      <td>0.0</td>\n",
       "      <td>0.014129</td>\n",
       "      <td>0.0</td>\n",
       "      <td>0.0</td>\n",
       "      <td>1.0</td>\n",
       "      <td>0.0</td>\n",
       "      <td>0.0</td>\n",
       "      <td>0.0</td>\n",
       "      <td>0.0</td>\n",
       "      <td>0.0</td>\n",
       "      <td>1.0</td>\n",
       "    </tr>\n",
       "    <tr>\n",
       "      <th>1</th>\n",
       "      <td>0.047212</td>\n",
       "      <td>0.000000</td>\n",
       "      <td>0.091958</td>\n",
       "      <td>0.231993</td>\n",
       "      <td>0.220613</td>\n",
       "      <td>0.000025</td>\n",
       "      <td>0.091958</td>\n",
       "      <td>0.0</td>\n",
       "      <td>0.028781</td>\n",
       "      <td>0.0</td>\n",
       "      <td>0.0</td>\n",
       "      <td>1.0</td>\n",
       "      <td>0.0</td>\n",
       "      <td>0.0</td>\n",
       "      <td>0.0</td>\n",
       "      <td>1.0</td>\n",
       "      <td>0.0</td>\n",
       "      <td>0.0</td>\n",
       "    </tr>\n",
       "    <tr>\n",
       "      <th>2</th>\n",
       "      <td>0.047212</td>\n",
       "      <td>0.231993</td>\n",
       "      <td>0.161421</td>\n",
       "      <td>0.109466</td>\n",
       "      <td>0.220613</td>\n",
       "      <td>0.000025</td>\n",
       "      <td>0.169260</td>\n",
       "      <td>0.0</td>\n",
       "      <td>0.008373</td>\n",
       "      <td>0.0</td>\n",
       "      <td>0.0</td>\n",
       "      <td>1.0</td>\n",
       "      <td>0.0</td>\n",
       "      <td>0.0</td>\n",
       "      <td>0.0</td>\n",
       "      <td>1.0</td>\n",
       "      <td>0.0</td>\n",
       "      <td>0.0</td>\n",
       "    </tr>\n",
       "    <tr>\n",
       "      <th>3</th>\n",
       "      <td>0.995200</td>\n",
       "      <td>0.231993</td>\n",
       "      <td>0.609738</td>\n",
       "      <td>0.231993</td>\n",
       "      <td>0.220613</td>\n",
       "      <td>0.000025</td>\n",
       "      <td>0.626788</td>\n",
       "      <td>0.0</td>\n",
       "      <td>0.010466</td>\n",
       "      <td>0.0</td>\n",
       "      <td>1.0</td>\n",
       "      <td>0.0</td>\n",
       "      <td>0.0</td>\n",
       "      <td>0.0</td>\n",
       "      <td>0.0</td>\n",
       "      <td>1.0</td>\n",
       "      <td>0.0</td>\n",
       "      <td>0.0</td>\n",
       "    </tr>\n",
       "    <tr>\n",
       "      <th>4</th>\n",
       "      <td>0.047212</td>\n",
       "      <td>0.231993</td>\n",
       "      <td>0.319154</td>\n",
       "      <td>0.231993</td>\n",
       "      <td>0.220613</td>\n",
       "      <td>0.000025</td>\n",
       "      <td>0.169260</td>\n",
       "      <td>0.0</td>\n",
       "      <td>0.060701</td>\n",
       "      <td>0.0</td>\n",
       "      <td>0.0</td>\n",
       "      <td>1.0</td>\n",
       "      <td>0.0</td>\n",
       "      <td>0.0</td>\n",
       "      <td>0.0</td>\n",
       "      <td>1.0</td>\n",
       "      <td>0.0</td>\n",
       "      <td>0.0</td>\n",
       "    </tr>\n",
       "  </tbody>\n",
       "</table>\n",
       "</div>"
      ],
      "text/plain": [
       "         0         1         2         3         4         5         6    7   \\\n",
       "0  0.000000  0.000000  0.003428  0.231993  0.220613  0.000025  0.003428  0.0   \n",
       "1  0.047212  0.000000  0.091958  0.231993  0.220613  0.000025  0.091958  0.0   \n",
       "2  0.047212  0.231993  0.161421  0.109466  0.220613  0.000025  0.169260  0.0   \n",
       "3  0.995200  0.231993  0.609738  0.231993  0.220613  0.000025  0.626788  0.0   \n",
       "4  0.047212  0.231993  0.319154  0.231993  0.220613  0.000025  0.169260  0.0   \n",
       "\n",
       "         8    9    10   11   12   13   14   15   16   17  \n",
       "0  0.014129  0.0  0.0  1.0  0.0  0.0  0.0  0.0  0.0  1.0  \n",
       "1  0.028781  0.0  0.0  1.0  0.0  0.0  0.0  1.0  0.0  0.0  \n",
       "2  0.008373  0.0  0.0  1.0  0.0  0.0  0.0  1.0  0.0  0.0  \n",
       "3  0.010466  0.0  1.0  0.0  0.0  0.0  0.0  1.0  0.0  0.0  \n",
       "4  0.060701  0.0  0.0  1.0  0.0  0.0  0.0  1.0  0.0  0.0  "
      ]
     },
     "execution_count": 46,
     "metadata": {},
     "output_type": "execute_result"
    }
   ],
   "source": [
    "# Check scaling results\n",
    "X_test_pp_DF = pd.DataFrame(X_test_preprocessed)  # make DF version X_test_preprocessed\n",
    "X_test_pp_DF.head()"
   ]
  },
  {
   "cell_type": "code",
   "execution_count": 47,
   "id": "ff959c85-6fff-4cb6-a2b8-1b5d81fa7907",
   "metadata": {
    "tags": []
   },
   "outputs": [
    {
     "data": {
      "text/html": [
       "<div>\n",
       "<style scoped>\n",
       "    .dataframe tbody tr th:only-of-type {\n",
       "        vertical-align: middle;\n",
       "    }\n",
       "\n",
       "    .dataframe tbody tr th {\n",
       "        vertical-align: top;\n",
       "    }\n",
       "\n",
       "    .dataframe thead th {\n",
       "        text-align: right;\n",
       "    }\n",
       "</style>\n",
       "<table border=\"1\" class=\"dataframe\">\n",
       "  <thead>\n",
       "    <tr style=\"text-align: right;\">\n",
       "      <th></th>\n",
       "      <th>0</th>\n",
       "      <th>1</th>\n",
       "      <th>2</th>\n",
       "      <th>3</th>\n",
       "      <th>4</th>\n",
       "      <th>5</th>\n",
       "      <th>6</th>\n",
       "      <th>7</th>\n",
       "      <th>8</th>\n",
       "      <th>9</th>\n",
       "      <th>10</th>\n",
       "      <th>11</th>\n",
       "      <th>12</th>\n",
       "      <th>13</th>\n",
       "      <th>14</th>\n",
       "      <th>15</th>\n",
       "      <th>16</th>\n",
       "      <th>17</th>\n",
       "    </tr>\n",
       "  </thead>\n",
       "  <tbody>\n",
       "    <tr>\n",
       "      <th>count</th>\n",
       "      <td>112544.000000</td>\n",
       "      <td>112544.000000</td>\n",
       "      <td>112544.000000</td>\n",
       "      <td>112544.000000</td>\n",
       "      <td>112544.000000</td>\n",
       "      <td>112544.000000</td>\n",
       "      <td>112544.000000</td>\n",
       "      <td>112544.000000</td>\n",
       "      <td>112544.000000</td>\n",
       "      <td>112544.000000</td>\n",
       "      <td>112544.000000</td>\n",
       "      <td>112544.000000</td>\n",
       "      <td>112544.000000</td>\n",
       "      <td>112544.000000</td>\n",
       "      <td>112544.000000</td>\n",
       "      <td>112544.000000</td>\n",
       "      <td>112544.000000</td>\n",
       "      <td>112544.000000</td>\n",
       "    </tr>\n",
       "    <tr>\n",
       "      <th>mean</th>\n",
       "      <td>0.225627</td>\n",
       "      <td>0.213279</td>\n",
       "      <td>0.232026</td>\n",
       "      <td>0.266458</td>\n",
       "      <td>0.235319</td>\n",
       "      <td>0.000558</td>\n",
       "      <td>0.232376</td>\n",
       "      <td>0.006540</td>\n",
       "      <td>0.027310</td>\n",
       "      <td>0.000018</td>\n",
       "      <td>0.217533</td>\n",
       "      <td>0.782361</td>\n",
       "      <td>0.000089</td>\n",
       "      <td>0.010698</td>\n",
       "      <td>0.127523</td>\n",
       "      <td>0.836117</td>\n",
       "      <td>0.003536</td>\n",
       "      <td>0.022125</td>\n",
       "    </tr>\n",
       "    <tr>\n",
       "      <th>std</th>\n",
       "      <td>0.368164</td>\n",
       "      <td>0.350663</td>\n",
       "      <td>0.227334</td>\n",
       "      <td>0.238814</td>\n",
       "      <td>0.108339</td>\n",
       "      <td>0.023083</td>\n",
       "      <td>0.222231</td>\n",
       "      <td>0.080604</td>\n",
       "      <td>0.019964</td>\n",
       "      <td>0.004216</td>\n",
       "      <td>0.412570</td>\n",
       "      <td>0.412643</td>\n",
       "      <td>0.009426</td>\n",
       "      <td>0.102877</td>\n",
       "      <td>0.333560</td>\n",
       "      <td>0.370171</td>\n",
       "      <td>0.059363</td>\n",
       "      <td>0.147090</td>\n",
       "    </tr>\n",
       "    <tr>\n",
       "      <th>min</th>\n",
       "      <td>0.000000</td>\n",
       "      <td>0.000000</td>\n",
       "      <td>0.000000</td>\n",
       "      <td>0.000000</td>\n",
       "      <td>0.000000</td>\n",
       "      <td>0.000025</td>\n",
       "      <td>0.000000</td>\n",
       "      <td>0.000000</td>\n",
       "      <td>0.002093</td>\n",
       "      <td>0.000000</td>\n",
       "      <td>0.000000</td>\n",
       "      <td>0.000000</td>\n",
       "      <td>0.000000</td>\n",
       "      <td>0.000000</td>\n",
       "      <td>0.000000</td>\n",
       "      <td>0.000000</td>\n",
       "      <td>0.000000</td>\n",
       "      <td>0.000000</td>\n",
       "    </tr>\n",
       "    <tr>\n",
       "      <th>25%</th>\n",
       "      <td>0.047212</td>\n",
       "      <td>0.000000</td>\n",
       "      <td>0.161421</td>\n",
       "      <td>0.231993</td>\n",
       "      <td>0.220613</td>\n",
       "      <td>0.000025</td>\n",
       "      <td>0.169260</td>\n",
       "      <td>0.000000</td>\n",
       "      <td>0.016745</td>\n",
       "      <td>0.000000</td>\n",
       "      <td>0.000000</td>\n",
       "      <td>1.000000</td>\n",
       "      <td>0.000000</td>\n",
       "      <td>0.000000</td>\n",
       "      <td>0.000000</td>\n",
       "      <td>1.000000</td>\n",
       "      <td>0.000000</td>\n",
       "      <td>0.000000</td>\n",
       "    </tr>\n",
       "    <tr>\n",
       "      <th>50%</th>\n",
       "      <td>0.047212</td>\n",
       "      <td>0.000000</td>\n",
       "      <td>0.161421</td>\n",
       "      <td>0.231993</td>\n",
       "      <td>0.220613</td>\n",
       "      <td>0.000025</td>\n",
       "      <td>0.169260</td>\n",
       "      <td>0.000000</td>\n",
       "      <td>0.023025</td>\n",
       "      <td>0.000000</td>\n",
       "      <td>0.000000</td>\n",
       "      <td>1.000000</td>\n",
       "      <td>0.000000</td>\n",
       "      <td>0.000000</td>\n",
       "      <td>0.000000</td>\n",
       "      <td>1.000000</td>\n",
       "      <td>0.000000</td>\n",
       "      <td>0.000000</td>\n",
       "    </tr>\n",
       "    <tr>\n",
       "      <th>75%</th>\n",
       "      <td>0.047212</td>\n",
       "      <td>0.231993</td>\n",
       "      <td>0.161421</td>\n",
       "      <td>0.231993</td>\n",
       "      <td>0.220613</td>\n",
       "      <td>0.000025</td>\n",
       "      <td>0.169260</td>\n",
       "      <td>0.000000</td>\n",
       "      <td>0.032967</td>\n",
       "      <td>0.000000</td>\n",
       "      <td>0.000000</td>\n",
       "      <td>1.000000</td>\n",
       "      <td>0.000000</td>\n",
       "      <td>0.000000</td>\n",
       "      <td>0.000000</td>\n",
       "      <td>1.000000</td>\n",
       "      <td>0.000000</td>\n",
       "      <td>0.000000</td>\n",
       "    </tr>\n",
       "    <tr>\n",
       "      <th>max</th>\n",
       "      <td>1.000000</td>\n",
       "      <td>1.000000</td>\n",
       "      <td>1.000000</td>\n",
       "      <td>1.000000</td>\n",
       "      <td>1.000000</td>\n",
       "      <td>1.000000</td>\n",
       "      <td>1.000000</td>\n",
       "      <td>1.000000</td>\n",
       "      <td>1.206698</td>\n",
       "      <td>1.000000</td>\n",
       "      <td>1.000000</td>\n",
       "      <td>1.000000</td>\n",
       "      <td>1.000000</td>\n",
       "      <td>1.000000</td>\n",
       "      <td>1.000000</td>\n",
       "      <td>1.000000</td>\n",
       "      <td>1.000000</td>\n",
       "      <td>1.000000</td>\n",
       "    </tr>\n",
       "  </tbody>\n",
       "</table>\n",
       "</div>"
      ],
      "text/plain": [
       "                  0              1              2              3   \\\n",
       "count  112544.000000  112544.000000  112544.000000  112544.000000   \n",
       "mean        0.225627       0.213279       0.232026       0.266458   \n",
       "std         0.368164       0.350663       0.227334       0.238814   \n",
       "min         0.000000       0.000000       0.000000       0.000000   \n",
       "25%         0.047212       0.000000       0.161421       0.231993   \n",
       "50%         0.047212       0.000000       0.161421       0.231993   \n",
       "75%         0.047212       0.231993       0.161421       0.231993   \n",
       "max         1.000000       1.000000       1.000000       1.000000   \n",
       "\n",
       "                  4              5              6              7   \\\n",
       "count  112544.000000  112544.000000  112544.000000  112544.000000   \n",
       "mean        0.235319       0.000558       0.232376       0.006540   \n",
       "std         0.108339       0.023083       0.222231       0.080604   \n",
       "min         0.000000       0.000025       0.000000       0.000000   \n",
       "25%         0.220613       0.000025       0.169260       0.000000   \n",
       "50%         0.220613       0.000025       0.169260       0.000000   \n",
       "75%         0.220613       0.000025       0.169260       0.000000   \n",
       "max         1.000000       1.000000       1.000000       1.000000   \n",
       "\n",
       "                  8              9              10             11  \\\n",
       "count  112544.000000  112544.000000  112544.000000  112544.000000   \n",
       "mean        0.027310       0.000018       0.217533       0.782361   \n",
       "std         0.019964       0.004216       0.412570       0.412643   \n",
       "min         0.002093       0.000000       0.000000       0.000000   \n",
       "25%         0.016745       0.000000       0.000000       1.000000   \n",
       "50%         0.023025       0.000000       0.000000       1.000000   \n",
       "75%         0.032967       0.000000       0.000000       1.000000   \n",
       "max         1.206698       1.000000       1.000000       1.000000   \n",
       "\n",
       "                  12             13             14             15  \\\n",
       "count  112544.000000  112544.000000  112544.000000  112544.000000   \n",
       "mean        0.000089       0.010698       0.127523       0.836117   \n",
       "std         0.009426       0.102877       0.333560       0.370171   \n",
       "min         0.000000       0.000000       0.000000       0.000000   \n",
       "25%         0.000000       0.000000       0.000000       1.000000   \n",
       "50%         0.000000       0.000000       0.000000       1.000000   \n",
       "75%         0.000000       0.000000       0.000000       1.000000   \n",
       "max         1.000000       1.000000       1.000000       1.000000   \n",
       "\n",
       "                  16             17  \n",
       "count  112544.000000  112544.000000  \n",
       "mean        0.003536       0.022125  \n",
       "std         0.059363       0.147090  \n",
       "min         0.000000       0.000000  \n",
       "25%         0.000000       0.000000  \n",
       "50%         0.000000       0.000000  \n",
       "75%         0.000000       0.000000  \n",
       "max         1.000000       1.000000  "
      ]
     },
     "execution_count": 47,
     "metadata": {},
     "output_type": "execute_result"
    }
   ],
   "source": [
    "X_test_pp_DF.describe()"
   ]
  },
  {
   "cell_type": "markdown",
   "id": "0440e798-a771-42e0-baa2-436526329ae3",
   "metadata": {},
   "source": [
    "#### Modeling"
   ]
  },
  {
   "cell_type": "code",
   "execution_count": 49,
   "id": "186e449d-d042-4121-8470-f84dc5912423",
   "metadata": {
    "tags": []
   },
   "outputs": [],
   "source": [
    "def createModel(meta, optimizer='adam', hidden_layer_sizes=(0,)):\n",
    "    from keras.models import Sequential\n",
    "    from keras.layers import Dense\n",
    "    \n",
    "    model = Sequential()\n",
    "    model.add(keras.Input(shape=(meta[\"n_features_in_\"],)))\n",
    "    for num_nodes in hidden_layer_sizes:\n",
    "        model.add(layers.Dense(num_nodes, activation='relu'))\n",
    "    model.add(layers.Dense(1, activation='sigmoid'))\n",
    "    model.compile(optimizer=optimizer, loss='binary_crossentropy', metrics=['Recall'])\n",
    "    return model"
   ]
  },
  {
   "cell_type": "code",
   "execution_count": 50,
   "id": "5977ab68-2a6a-42b0-b79f-bdf83d933826",
   "metadata": {
    "tags": []
   },
   "outputs": [],
   "source": [
    "# create keras model\n",
    "kModel = KerasClassifier(model=createModel, verbose=0)"
   ]
  },
  {
   "cell_type": "code",
   "execution_count": 51,
   "id": "97dd249a-ae58-4c6a-915e-fc74c8e7bc2a",
   "metadata": {
    "tags": []
   },
   "outputs": [],
   "source": [
    "# initialize a stratified KFold as the data set is unbalanced\n",
    "cv_stratified = StratifiedKFold(n_splits=3, shuffle=True, random_state=7)"
   ]
  },
  {
   "cell_type": "markdown",
   "id": "4a6b7c0d-8b17-4f32-96b1-045b150af917",
   "metadata": {
    "tags": []
   },
   "source": [
    "##### Test 3 Models"
   ]
  },
  {
   "cell_type": "code",
   "execution_count": 53,
   "id": "50826e70-b439-4193-b71c-194080cb2e13",
   "metadata": {
    "tags": []
   },
   "outputs": [],
   "source": [
    "# create parameter frid\n",
    "param_grid = {\n",
    "    'model__optimizer': ['adam'],\n",
    "    'model__hidden_layer_sizes': [\n",
    "        [1],                # model 1: 1 hidden layer with 1 node\n",
    "        [18],               # model 2: 1 hidden layers with 10 nodes\n",
    "        [5, 5, 5, 5, 5]     # model 3: 5 hidden layers with 2 node each\n",
    "    ],\n",
    "}"
   ]
  },
  {
   "cell_type": "markdown",
   "id": "7aa57f9d-4bcc-4189-9e25-277633e037b2",
   "metadata": {
    "tags": []
   },
   "source": [
    "##### Hyperparameter tune via grid search"
   ]
  },
  {
   "cell_type": "code",
   "execution_count": 55,
   "id": "480f126c-b28c-485d-8ca3-4d571cfe5cc4",
   "metadata": {
    "tags": []
   },
   "outputs": [
    {
     "name": "stdout",
     "output_type": "stream",
     "text": [
      "Fitting 3 folds for each of 3 candidates, totalling 9 fits\n"
     ]
    }
   ],
   "source": [
    "# Grid search CV\n",
    "grid = GridSearchCV(estimator=kModel, param_grid=param_grid, scoring='recall', n_jobs=-1, cv=cv_stratified, verbose=True)\n",
    "grid_result = grid.fit(X_train_preprocessed, y_train)"
   ]
  },
  {
   "cell_type": "code",
   "execution_count": 56,
   "id": "0e538800-9487-4274-80e8-a5b0f2a4a34f",
   "metadata": {
    "tags": []
   },
   "outputs": [
    {
     "data": {
      "text/plain": [
       "{'mean_fit_time': array([20.54781906, 21.63885768, 37.54701932]),\n",
       " 'std_fit_time': array([2.11126402, 4.81825184, 1.07044993]),\n",
       " 'mean_score_time': array([15.36713958, 15.08696659, 13.05680601]),\n",
       " 'std_score_time': array([4.13671715, 1.05922224, 3.34535187]),\n",
       " 'param_model__hidden_layer_sizes': masked_array(data=[list([1]), list([18]), list([5, 5, 5, 5, 5])],\n",
       "              mask=[False, False, False],\n",
       "        fill_value='?',\n",
       "             dtype=object),\n",
       " 'param_model__optimizer': masked_array(data=['adam', 'adam', 'adam'],\n",
       "              mask=[False, False, False],\n",
       "        fill_value='?',\n",
       "             dtype=object),\n",
       " 'params': [{'model__hidden_layer_sizes': [1], 'model__optimizer': 'adam'},\n",
       "  {'model__hidden_layer_sizes': [18], 'model__optimizer': 'adam'},\n",
       "  {'model__hidden_layer_sizes': [5, 5, 5, 5, 5], 'model__optimizer': 'adam'}],\n",
       " 'split0_test_score': array([0.99073117, 0.9919951 , 0.9921483 ]),\n",
       " 'split1_test_score': array([0.98946764, 0.99176561, 0.99165071]),\n",
       " 'split2_test_score': array([0.98992685, 0.99287602, 0.99103757]),\n",
       " 'mean_test_score': array([0.99004188, 0.99221224, 0.99161219]),\n",
       " 'std_test_score': array([0.00052221, 0.00047862, 0.00045427]),\n",
       " 'rank_test_score': array([3, 1, 2])}"
      ]
     },
     "execution_count": 56,
     "metadata": {},
     "output_type": "execute_result"
    }
   ],
   "source": [
    "# show detailed results of \n",
    "grid_result.cv_results_"
   ]
  },
  {
   "cell_type": "code",
   "execution_count": 57,
   "id": "2423f585-9693-4ed5-a126-401157933c3f",
   "metadata": {
    "tags": []
   },
   "outputs": [
    {
     "name": "stdout",
     "output_type": "stream",
     "text": [
      "Best: 0.992212 using {'model__hidden_layer_sizes': [18], 'model__optimizer': 'adam'}\n"
     ]
    }
   ],
   "source": [
    "# Summarize Gridsearch results\n",
    "print(\"Best: %f using %s\" % (grid_result.best_score_, grid_result.best_params_))"
   ]
  },
  {
   "cell_type": "markdown",
   "id": "92a67c80-6338-4f46-8cc8-a199ffc031fe",
   "metadata": {},
   "source": [
    "##### Evaluate model on test set"
   ]
  },
  {
   "cell_type": "code",
   "execution_count": 59,
   "id": "d0ea93fe-bff4-40dd-8a50-281fde225c29",
   "metadata": {
    "tags": []
   },
   "outputs": [],
   "source": [
    "# num of features\n",
    "X_shape = X_test_preprocessed.shape[1]"
   ]
  },
  {
   "cell_type": "code",
   "execution_count": 60,
   "id": "bd8e4da5-dbac-4795-93d7-44dcd7dab9aa",
   "metadata": {
    "tags": []
   },
   "outputs": [],
   "source": [
    "# create the tuned model\n",
    "finalModel = keras.Sequential()\n",
    "finalModel.add(keras.Input(shape=(X_shape,)))\n",
    "finalModel.add(layers.Dense(5, activation='relu'))\n",
    "finalModel.add(layers.Dense(5, activation='relu'))\n",
    "finalModel.add(layers.Dense(5, activation='relu'))\n",
    "finalModel.add(layers.Dense(5, activation='relu'))\n",
    "finalModel.add(layers.Dense(5, activation='relu'))\n",
    "finalModel.add(layers.Dense(1, activation='sigmoid'))\n",
    "finalModel.compile(optimizer='adam', loss='binary_crossentropy', metrics=['Recall'])"
   ]
  },
  {
   "cell_type": "code",
   "execution_count": 61,
   "id": "88911b88-51d6-45ab-bd41-2c6251dcb74f",
   "metadata": {
    "tags": []
   },
   "outputs": [
    {
     "data": {
      "text/html": [
       "<pre style=\"white-space:pre;overflow-x:auto;line-height:normal;font-family:Menlo,'DejaVu Sans Mono',consolas,'Courier New',monospace\"><span style=\"font-weight: bold\">Model: \"sequential_1\"</span>\n",
       "</pre>\n"
      ],
      "text/plain": [
       "\u001b[1mModel: \"sequential_1\"\u001b[0m\n"
      ]
     },
     "metadata": {},
     "output_type": "display_data"
    },
    {
     "data": {
      "text/html": [
       "<pre style=\"white-space:pre;overflow-x:auto;line-height:normal;font-family:Menlo,'DejaVu Sans Mono',consolas,'Courier New',monospace\">┏━━━━━━━━━━━━━━━━━━━━━━━━━━━━━━━━━━━━━━┳━━━━━━━━━━━━━━━━━━━━━━━━━━━━━┳━━━━━━━━━━━━━━━━━┓\n",
       "┃<span style=\"font-weight: bold\"> Layer (type)                         </span>┃<span style=\"font-weight: bold\"> Output Shape                </span>┃<span style=\"font-weight: bold\">         Param # </span>┃\n",
       "┡━━━━━━━━━━━━━━━━━━━━━━━━━━━━━━━━━━━━━━╇━━━━━━━━━━━━━━━━━━━━━━━━━━━━━╇━━━━━━━━━━━━━━━━━┩\n",
       "│ dense_2 (<span style=\"color: #0087ff; text-decoration-color: #0087ff\">Dense</span>)                      │ (<span style=\"color: #00d7ff; text-decoration-color: #00d7ff\">None</span>, <span style=\"color: #00af00; text-decoration-color: #00af00\">5</span>)                   │              <span style=\"color: #00af00; text-decoration-color: #00af00\">95</span> │\n",
       "├──────────────────────────────────────┼─────────────────────────────┼─────────────────┤\n",
       "│ dense_3 (<span style=\"color: #0087ff; text-decoration-color: #0087ff\">Dense</span>)                      │ (<span style=\"color: #00d7ff; text-decoration-color: #00d7ff\">None</span>, <span style=\"color: #00af00; text-decoration-color: #00af00\">5</span>)                   │              <span style=\"color: #00af00; text-decoration-color: #00af00\">30</span> │\n",
       "├──────────────────────────────────────┼─────────────────────────────┼─────────────────┤\n",
       "│ dense_4 (<span style=\"color: #0087ff; text-decoration-color: #0087ff\">Dense</span>)                      │ (<span style=\"color: #00d7ff; text-decoration-color: #00d7ff\">None</span>, <span style=\"color: #00af00; text-decoration-color: #00af00\">5</span>)                   │              <span style=\"color: #00af00; text-decoration-color: #00af00\">30</span> │\n",
       "├──────────────────────────────────────┼─────────────────────────────┼─────────────────┤\n",
       "│ dense_5 (<span style=\"color: #0087ff; text-decoration-color: #0087ff\">Dense</span>)                      │ (<span style=\"color: #00d7ff; text-decoration-color: #00d7ff\">None</span>, <span style=\"color: #00af00; text-decoration-color: #00af00\">5</span>)                   │              <span style=\"color: #00af00; text-decoration-color: #00af00\">30</span> │\n",
       "├──────────────────────────────────────┼─────────────────────────────┼─────────────────┤\n",
       "│ dense_6 (<span style=\"color: #0087ff; text-decoration-color: #0087ff\">Dense</span>)                      │ (<span style=\"color: #00d7ff; text-decoration-color: #00d7ff\">None</span>, <span style=\"color: #00af00; text-decoration-color: #00af00\">5</span>)                   │              <span style=\"color: #00af00; text-decoration-color: #00af00\">30</span> │\n",
       "├──────────────────────────────────────┼─────────────────────────────┼─────────────────┤\n",
       "│ dense_7 (<span style=\"color: #0087ff; text-decoration-color: #0087ff\">Dense</span>)                      │ (<span style=\"color: #00d7ff; text-decoration-color: #00d7ff\">None</span>, <span style=\"color: #00af00; text-decoration-color: #00af00\">1</span>)                   │               <span style=\"color: #00af00; text-decoration-color: #00af00\">6</span> │\n",
       "└──────────────────────────────────────┴─────────────────────────────┴─────────────────┘\n",
       "</pre>\n"
      ],
      "text/plain": [
       "┏━━━━━━━━━━━━━━━━━━━━━━━━━━━━━━━━━━━━━━┳━━━━━━━━━━━━━━━━━━━━━━━━━━━━━┳━━━━━━━━━━━━━━━━━┓\n",
       "┃\u001b[1m \u001b[0m\u001b[1mLayer (type)                        \u001b[0m\u001b[1m \u001b[0m┃\u001b[1m \u001b[0m\u001b[1mOutput Shape               \u001b[0m\u001b[1m \u001b[0m┃\u001b[1m \u001b[0m\u001b[1m        Param #\u001b[0m\u001b[1m \u001b[0m┃\n",
       "┡━━━━━━━━━━━━━━━━━━━━━━━━━━━━━━━━━━━━━━╇━━━━━━━━━━━━━━━━━━━━━━━━━━━━━╇━━━━━━━━━━━━━━━━━┩\n",
       "│ dense_2 (\u001b[38;5;33mDense\u001b[0m)                      │ (\u001b[38;5;45mNone\u001b[0m, \u001b[38;5;34m5\u001b[0m)                   │              \u001b[38;5;34m95\u001b[0m │\n",
       "├──────────────────────────────────────┼─────────────────────────────┼─────────────────┤\n",
       "│ dense_3 (\u001b[38;5;33mDense\u001b[0m)                      │ (\u001b[38;5;45mNone\u001b[0m, \u001b[38;5;34m5\u001b[0m)                   │              \u001b[38;5;34m30\u001b[0m │\n",
       "├──────────────────────────────────────┼─────────────────────────────┼─────────────────┤\n",
       "│ dense_4 (\u001b[38;5;33mDense\u001b[0m)                      │ (\u001b[38;5;45mNone\u001b[0m, \u001b[38;5;34m5\u001b[0m)                   │              \u001b[38;5;34m30\u001b[0m │\n",
       "├──────────────────────────────────────┼─────────────────────────────┼─────────────────┤\n",
       "│ dense_5 (\u001b[38;5;33mDense\u001b[0m)                      │ (\u001b[38;5;45mNone\u001b[0m, \u001b[38;5;34m5\u001b[0m)                   │              \u001b[38;5;34m30\u001b[0m │\n",
       "├──────────────────────────────────────┼─────────────────────────────┼─────────────────┤\n",
       "│ dense_6 (\u001b[38;5;33mDense\u001b[0m)                      │ (\u001b[38;5;45mNone\u001b[0m, \u001b[38;5;34m5\u001b[0m)                   │              \u001b[38;5;34m30\u001b[0m │\n",
       "├──────────────────────────────────────┼─────────────────────────────┼─────────────────┤\n",
       "│ dense_7 (\u001b[38;5;33mDense\u001b[0m)                      │ (\u001b[38;5;45mNone\u001b[0m, \u001b[38;5;34m1\u001b[0m)                   │               \u001b[38;5;34m6\u001b[0m │\n",
       "└──────────────────────────────────────┴─────────────────────────────┴─────────────────┘\n"
      ]
     },
     "metadata": {},
     "output_type": "display_data"
    },
    {
     "data": {
      "text/html": [
       "<pre style=\"white-space:pre;overflow-x:auto;line-height:normal;font-family:Menlo,'DejaVu Sans Mono',consolas,'Courier New',monospace\"><span style=\"font-weight: bold\"> Total params: </span><span style=\"color: #00af00; text-decoration-color: #00af00\">221</span> (884.00 B)\n",
       "</pre>\n"
      ],
      "text/plain": [
       "\u001b[1m Total params: \u001b[0m\u001b[38;5;34m221\u001b[0m (884.00 B)\n"
      ]
     },
     "metadata": {},
     "output_type": "display_data"
    },
    {
     "data": {
      "text/html": [
       "<pre style=\"white-space:pre;overflow-x:auto;line-height:normal;font-family:Menlo,'DejaVu Sans Mono',consolas,'Courier New',monospace\"><span style=\"font-weight: bold\"> Trainable params: </span><span style=\"color: #00af00; text-decoration-color: #00af00\">221</span> (884.00 B)\n",
       "</pre>\n"
      ],
      "text/plain": [
       "\u001b[1m Trainable params: \u001b[0m\u001b[38;5;34m221\u001b[0m (884.00 B)\n"
      ]
     },
     "metadata": {},
     "output_type": "display_data"
    },
    {
     "data": {
      "text/html": [
       "<pre style=\"white-space:pre;overflow-x:auto;line-height:normal;font-family:Menlo,'DejaVu Sans Mono',consolas,'Courier New',monospace\"><span style=\"font-weight: bold\"> Non-trainable params: </span><span style=\"color: #00af00; text-decoration-color: #00af00\">0</span> (0.00 B)\n",
       "</pre>\n"
      ],
      "text/plain": [
       "\u001b[1m Non-trainable params: \u001b[0m\u001b[38;5;34m0\u001b[0m (0.00 B)\n"
      ]
     },
     "metadata": {},
     "output_type": "display_data"
    }
   ],
   "source": [
    "# View Model Structure\n",
    "finalModel.summary()"
   ]
  },
  {
   "cell_type": "code",
   "execution_count": 62,
   "id": "c44f1f00-f226-4457-a1ca-154a05f0ca7b",
   "metadata": {
    "tags": []
   },
   "outputs": [
    {
     "name": "stdout",
     "output_type": "stream",
     "text": [
      "\u001b[1m10551/10551\u001b[0m \u001b[32m━━━━━━━━━━━━━━━━━━━━\u001b[0m\u001b[37m\u001b[0m \u001b[1m35s\u001b[0m 3ms/step - Recall: 0.9889 - loss: 0.0858\n"
     ]
    },
    {
     "data": {
      "text/plain": [
       "<keras.src.callbacks.history.History at 0x2064dd1a350>"
      ]
     },
     "execution_count": 62,
     "metadata": {},
     "output_type": "execute_result"
    }
   ],
   "source": [
    "# Fit Final Model\n",
    "finalModel.fit(X_train_preprocessed, y_train)"
   ]
  },
  {
   "cell_type": "code",
   "execution_count": 63,
   "id": "08dce9b4-f11d-469b-8899-ba82de731cf6",
   "metadata": {
    "tags": []
   },
   "outputs": [
    {
     "name": "stdout",
     "output_type": "stream",
     "text": [
      "\u001b[1m3517/3517\u001b[0m \u001b[32m━━━━━━━━━━━━━━━━━━━━\u001b[0m\u001b[37m\u001b[0m \u001b[1m8s\u001b[0m 2ms/step\n"
     ]
    }
   ],
   "source": [
    "# predict with Final model\n",
    "predictions = finalModel.predict(X_test_preprocessed)"
   ]
  },
  {
   "cell_type": "code",
   "execution_count": 64,
   "id": "cc3be943-4c45-4145-b3f0-cdb955c82337",
   "metadata": {
    "tags": []
   },
   "outputs": [],
   "source": [
    "# function : convert continuous value to boolean\n",
    "def makeBool(predictions):\n",
    "    '''make predictions boolean (0.5 threshold)'''\n",
    "    return predictions >= 0.5"
   ]
  },
  {
   "cell_type": "code",
   "execution_count": 65,
   "id": "9655913b-cf27-4440-ae2e-dc34b59b7a69",
   "metadata": {
    "tags": []
   },
   "outputs": [],
   "source": [
    "# make the results boolean\n",
    "predictions_bool = makeBool(predictions)"
   ]
  },
  {
   "cell_type": "code",
   "execution_count": 66,
   "id": "47be67a4-6976-4c35-861f-53f49856ab36",
   "metadata": {
    "tags": []
   },
   "outputs": [
    {
     "name": "stdout",
     "output_type": "stream",
     "text": [
      "                precision    recall  f1-score   support\n",
      "\n",
      "Legitimate URL    0.99788   0.99782   0.99785     86435\n",
      "     Phish URL    0.99280   0.99299   0.99290     26109\n",
      "\n",
      "      accuracy                        0.99670    112544\n",
      "     macro avg    0.99534   0.99541   0.99537    112544\n",
      "  weighted avg    0.99670   0.99670   0.99670    112544\n",
      "\n"
     ]
    }
   ],
   "source": [
    "# Classification Report\n",
    "classificationRpt = classification_report(y_test, predictions_bool, digits=5, target_names=['Legitimate URL', 'Phish URL'])\n",
    "print(classificationRpt)"
   ]
  },
  {
   "cell_type": "markdown",
   "id": "b9ef0683-f38a-46fa-9903-9d9f314eb588",
   "metadata": {},
   "source": [
    "> The recall of phish URLs with this model is ~99%"
   ]
  }
 ],
 "metadata": {
  "kernelspec": {
   "display_name": "Python 3 (ipykernel)",
   "language": "python",
   "name": "python3"
  },
  "language_info": {
   "codemirror_mode": {
    "name": "ipython",
    "version": 3
   },
   "file_extension": ".py",
   "mimetype": "text/x-python",
   "name": "python",
   "nbconvert_exporter": "python",
   "pygments_lexer": "ipython3",
   "version": "3.11.7"
  },
  "toc-autonumbering": false,
  "toc-showcode": false,
  "toc-showmarkdowntxt": false,
  "toc-showtags": false
 },
 "nbformat": 4,
 "nbformat_minor": 5
}
