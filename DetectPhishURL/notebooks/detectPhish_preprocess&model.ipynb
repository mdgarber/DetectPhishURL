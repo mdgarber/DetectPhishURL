{
 "cells": [
  {
   "cell_type": "markdown",
   "id": "d4ff1023-35dd-44fa-9bfd-79397c624e4a",
   "metadata": {},
   "source": [
    "# Detect Phishing URLs\n",
    "### Capstone 3 - Preprocessing and Modeling\n",
    "Michael Garber"
   ]
  },
  {
   "cell_type": "markdown",
   "id": "9c4a87ac-d5b0-4e64-a3cd-703c33edbcc0",
   "metadata": {},
   "source": [
    "#### High-Level Steps\n",
    "1. Preprocessing\n",
    "    1. Create dummy/indicator features for categorical variables\n",
    "    2. Standardize/scale numeric features\n",
    "    3. Train/Test Split \n",
    "2. Modeling\n",
    "    1. Fit your models with a training dataset\n",
    "    2. Review model outcomes — Iterate over additional models as needed.\n",
    "    3. Identify the final model that you think is the best model for this project"
   ]
  },
  {
   "cell_type": "code",
   "execution_count": 3,
   "id": "ae85bcb3-7674-4346-b993-6ea398f2e0c9",
   "metadata": {
    "tags": []
   },
   "outputs": [],
   "source": [
    "# Import Libraries\n",
    "import pandas as pd\n",
    "import os\n",
    "import numpy as np\n",
    "from sklearn.preprocessing import MinMaxScaler\n",
    "from sklearn.preprocessing import TargetEncoder     # requires scikit-learn 1.3 or greater\n",
    "from sklearn.model_selection import train_test_split\n",
    "from sklearn.metrics import classification_report, precision_recall_curve, auc\n",
    "import keras\n",
    "from keras import layers\n",
    "import seaborn as sns\n",
    "import matplotlib.pyplot as plt"
   ]
  },
  {
   "cell_type": "markdown",
   "id": "79b9667a-cf8b-44da-a801-e4cced08eb47",
   "metadata": {},
   "source": [
    "#### Preprocessing"
   ]
  },
  {
   "cell_type": "code",
   "execution_count": 5,
   "id": "124e0e6e-eaf8-4734-ae90-02a4f1247b1c",
   "metadata": {
    "tags": []
   },
   "outputs": [
    {
     "name": "stderr",
     "output_type": "stream",
     "text": [
      "C:\\Users\\MG-Laptop\\AppData\\Local\\Temp\\ipykernel_9076\\2659773463.py:3: DtypeWarning: Columns (11) have mixed types. Specify dtype option on import or set low_memory=False.\n",
      "  urlData = pd.read_csv(dataDir)\n"
     ]
    }
   ],
   "source": [
    "# Import Data set\n",
    "dataDir = os.path.join('../data/interim/urlData_raw.csv')\n",
    "urlData = pd.read_csv(dataDir)"
   ]
  },
  {
   "cell_type": "code",
   "execution_count": 6,
   "id": "e1efaf2c-6145-4ca6-bfc4-e25d9315c0a0",
   "metadata": {},
   "outputs": [],
   "source": [
    "# add new useful feature: URL length\n",
    "urlData['url_Length'] = urlData['url'].apply(len)"
   ]
  },
  {
   "cell_type": "code",
   "execution_count": 7,
   "id": "87d56b43-46e3-4939-b0b7-c536dce5c0a1",
   "metadata": {
    "tags": []
   },
   "outputs": [
    {
     "name": "stdout",
     "output_type": "stream",
     "text": [
      "<class 'pandas.core.frame.DataFrame'>\n",
      "RangeIndex: 450175 entries, 0 to 450174\n",
      "Data columns (total 19 columns):\n",
      " #   Column            Non-Null Count   Dtype \n",
      "---  ------            --------------   ----- \n",
      " 0   Unnamed: 0        450175 non-null  int64 \n",
      " 1   key_0             445854 non-null  object\n",
      " 2   url               450175 non-null  object\n",
      " 3   type              450175 non-null  object\n",
      " 4   parsedUrl         450175 non-null  object\n",
      " 5   urlPart_scheme    450175 non-null  object\n",
      " 6   subDomain         379885 non-null  object\n",
      " 7   domain            450167 non-null  object\n",
      " 8   tld               445854 non-null  object\n",
      " 9   urlPart_path      444917 non-null  object\n",
      " 10  urlPart_query     65541 non-null   object\n",
      " 11  urlPart_fragment  359 non-null     object\n",
      " 12  tld_join          445854 non-null  object\n",
      " 13  Domain            445451 non-null  object\n",
      " 14  Type              445451 non-null  object\n",
      " 15  TLD Manager       445451 non-null  object\n",
      " 16  isIPaddress       450175 non-null  bool  \n",
      " 17  isPhish_bool      450175 non-null  bool  \n",
      " 18  url_Length        450175 non-null  int64 \n",
      "dtypes: bool(2), int64(2), object(15)\n",
      "memory usage: 59.2+ MB\n"
     ]
    }
   ],
   "source": [
    "# Data Info\n",
    "urlData.info()"
   ]
  },
  {
   "cell_type": "markdown",
   "id": "2b17468c-f394-4962-a9ea-70cd4717f23f",
   "metadata": {},
   "source": [
    "**Additional data cleaning** - identify features that have **missing values** (that we ares till planning on keeping)\n",
    "- subDomain\n",
    "- domain\n",
    "- tld\n",
    "- urlPart_path\n",
    "- urlPart_query\n",
    "- urlPart_fragment\n",
    "- Type\n",
    "- TLD Manager    "
   ]
  },
  {
   "cell_type": "code",
   "execution_count": 9,
   "id": "206febf3-0337-4ce6-b3f4-6d5636d0afb7",
   "metadata": {
    "tags": []
   },
   "outputs": [],
   "source": [
    "# Additional data cleaning - set missing values to zero\n",
    "values = {\n",
    "    'subDomain': '0',\n",
    "    'domain': '0',\n",
    "    'tld': '0',\n",
    "    'urlPart_path': '0',\n",
    "    'urlPart_query': '0',\n",
    "    'urlPart_fragment': '0',\n",
    "    'Type': '0',\n",
    "    'TLD Manager': '0'}\n",
    "\n",
    "urlData = urlData.fillna(value=values)"
   ]
  },
  {
   "cell_type": "code",
   "execution_count": 10,
   "id": "b90e6621-66c9-4c27-82fd-d0c22f1822d0",
   "metadata": {
    "tags": []
   },
   "outputs": [
    {
     "name": "stdout",
     "output_type": "stream",
     "text": [
      "<class 'pandas.core.frame.DataFrame'>\n",
      "RangeIndex: 450175 entries, 0 to 450174\n",
      "Data columns (total 19 columns):\n",
      " #   Column            Non-Null Count   Dtype \n",
      "---  ------            --------------   ----- \n",
      " 0   Unnamed: 0        450175 non-null  int64 \n",
      " 1   key_0             445854 non-null  object\n",
      " 2   url               450175 non-null  object\n",
      " 3   type              450175 non-null  object\n",
      " 4   parsedUrl         450175 non-null  object\n",
      " 5   urlPart_scheme    450175 non-null  object\n",
      " 6   subDomain         450175 non-null  object\n",
      " 7   domain            450175 non-null  object\n",
      " 8   tld               450175 non-null  object\n",
      " 9   urlPart_path      450175 non-null  object\n",
      " 10  urlPart_query     450175 non-null  object\n",
      " 11  urlPart_fragment  450175 non-null  object\n",
      " 12  tld_join          445854 non-null  object\n",
      " 13  Domain            445451 non-null  object\n",
      " 14  Type              450175 non-null  object\n",
      " 15  TLD Manager       450175 non-null  object\n",
      " 16  isIPaddress       450175 non-null  bool  \n",
      " 17  isPhish_bool      450175 non-null  bool  \n",
      " 18  url_Length        450175 non-null  int64 \n",
      "dtypes: bool(2), int64(2), object(15)\n",
      "memory usage: 59.2+ MB\n"
     ]
    }
   ],
   "source": [
    "# Data Info - checking NULLs again (key and tld will be dropped)\n",
    "urlData.info()"
   ]
  },
  {
   "cell_type": "code",
   "execution_count": 11,
   "id": "7b365d83-da6c-4940-926e-6c0857c36811",
   "metadata": {
    "tags": []
   },
   "outputs": [
    {
     "data": {
      "text/html": [
       "<div>\n",
       "<style scoped>\n",
       "    .dataframe tbody tr th:only-of-type {\n",
       "        vertical-align: middle;\n",
       "    }\n",
       "\n",
       "    .dataframe tbody tr th {\n",
       "        vertical-align: top;\n",
       "    }\n",
       "\n",
       "    .dataframe thead th {\n",
       "        text-align: right;\n",
       "    }\n",
       "</style>\n",
       "<table border=\"1\" class=\"dataframe\">\n",
       "  <thead>\n",
       "    <tr style=\"text-align: right;\">\n",
       "      <th></th>\n",
       "      <th>Unnamed: 0</th>\n",
       "      <th>key_0</th>\n",
       "      <th>url</th>\n",
       "      <th>type</th>\n",
       "      <th>parsedUrl</th>\n",
       "      <th>urlPart_scheme</th>\n",
       "      <th>subDomain</th>\n",
       "      <th>domain</th>\n",
       "      <th>tld</th>\n",
       "      <th>urlPart_path</th>\n",
       "      <th>urlPart_query</th>\n",
       "      <th>urlPart_fragment</th>\n",
       "      <th>tld_join</th>\n",
       "      <th>Domain</th>\n",
       "      <th>Type</th>\n",
       "      <th>TLD Manager</th>\n",
       "      <th>isIPaddress</th>\n",
       "      <th>isPhish_bool</th>\n",
       "      <th>url_Length</th>\n",
       "    </tr>\n",
       "  </thead>\n",
       "  <tbody>\n",
       "    <tr>\n",
       "      <th>0</th>\n",
       "      <td>0</td>\n",
       "      <td>com</td>\n",
       "      <td>https://www.google.com</td>\n",
       "      <td>legitimate</td>\n",
       "      <td>ParseResult(scheme='https', netloc='www.google...</td>\n",
       "      <td>https</td>\n",
       "      <td>www</td>\n",
       "      <td>google</td>\n",
       "      <td>com</td>\n",
       "      <td>0</td>\n",
       "      <td>0</td>\n",
       "      <td>0</td>\n",
       "      <td>com</td>\n",
       "      <td>.com</td>\n",
       "      <td>generic</td>\n",
       "      <td>VeriSign Global Registry Services</td>\n",
       "      <td>False</td>\n",
       "      <td>False</td>\n",
       "      <td>22</td>\n",
       "    </tr>\n",
       "    <tr>\n",
       "      <th>1</th>\n",
       "      <td>1</td>\n",
       "      <td>com</td>\n",
       "      <td>https://www.youtube.com</td>\n",
       "      <td>legitimate</td>\n",
       "      <td>ParseResult(scheme='https', netloc='www.youtub...</td>\n",
       "      <td>https</td>\n",
       "      <td>www</td>\n",
       "      <td>youtube</td>\n",
       "      <td>com</td>\n",
       "      <td>0</td>\n",
       "      <td>0</td>\n",
       "      <td>0</td>\n",
       "      <td>com</td>\n",
       "      <td>.com</td>\n",
       "      <td>generic</td>\n",
       "      <td>VeriSign Global Registry Services</td>\n",
       "      <td>False</td>\n",
       "      <td>False</td>\n",
       "      <td>23</td>\n",
       "    </tr>\n",
       "    <tr>\n",
       "      <th>2</th>\n",
       "      <td>2</td>\n",
       "      <td>com</td>\n",
       "      <td>https://www.facebook.com</td>\n",
       "      <td>legitimate</td>\n",
       "      <td>ParseResult(scheme='https', netloc='www.facebo...</td>\n",
       "      <td>https</td>\n",
       "      <td>www</td>\n",
       "      <td>facebook</td>\n",
       "      <td>com</td>\n",
       "      <td>0</td>\n",
       "      <td>0</td>\n",
       "      <td>0</td>\n",
       "      <td>com</td>\n",
       "      <td>.com</td>\n",
       "      <td>generic</td>\n",
       "      <td>VeriSign Global Registry Services</td>\n",
       "      <td>False</td>\n",
       "      <td>False</td>\n",
       "      <td>24</td>\n",
       "    </tr>\n",
       "    <tr>\n",
       "      <th>3</th>\n",
       "      <td>3</td>\n",
       "      <td>com</td>\n",
       "      <td>https://www.baidu.com</td>\n",
       "      <td>legitimate</td>\n",
       "      <td>ParseResult(scheme='https', netloc='www.baidu....</td>\n",
       "      <td>https</td>\n",
       "      <td>www</td>\n",
       "      <td>baidu</td>\n",
       "      <td>com</td>\n",
       "      <td>0</td>\n",
       "      <td>0</td>\n",
       "      <td>0</td>\n",
       "      <td>com</td>\n",
       "      <td>.com</td>\n",
       "      <td>generic</td>\n",
       "      <td>VeriSign Global Registry Services</td>\n",
       "      <td>False</td>\n",
       "      <td>False</td>\n",
       "      <td>21</td>\n",
       "    </tr>\n",
       "    <tr>\n",
       "      <th>4</th>\n",
       "      <td>4</td>\n",
       "      <td>org</td>\n",
       "      <td>https://www.wikipedia.org</td>\n",
       "      <td>legitimate</td>\n",
       "      <td>ParseResult(scheme='https', netloc='www.wikipe...</td>\n",
       "      <td>https</td>\n",
       "      <td>www</td>\n",
       "      <td>wikipedia</td>\n",
       "      <td>org</td>\n",
       "      <td>0</td>\n",
       "      <td>0</td>\n",
       "      <td>0</td>\n",
       "      <td>org</td>\n",
       "      <td>.org</td>\n",
       "      <td>generic</td>\n",
       "      <td>Public Interest Registry (PIR)</td>\n",
       "      <td>False</td>\n",
       "      <td>False</td>\n",
       "      <td>25</td>\n",
       "    </tr>\n",
       "  </tbody>\n",
       "</table>\n",
       "</div>"
      ],
      "text/plain": [
       "   Unnamed: 0 key_0                        url        type  \\\n",
       "0           0   com     https://www.google.com  legitimate   \n",
       "1           1   com    https://www.youtube.com  legitimate   \n",
       "2           2   com   https://www.facebook.com  legitimate   \n",
       "3           3   com      https://www.baidu.com  legitimate   \n",
       "4           4   org  https://www.wikipedia.org  legitimate   \n",
       "\n",
       "                                           parsedUrl urlPart_scheme subDomain  \\\n",
       "0  ParseResult(scheme='https', netloc='www.google...          https       www   \n",
       "1  ParseResult(scheme='https', netloc='www.youtub...          https       www   \n",
       "2  ParseResult(scheme='https', netloc='www.facebo...          https       www   \n",
       "3  ParseResult(scheme='https', netloc='www.baidu....          https       www   \n",
       "4  ParseResult(scheme='https', netloc='www.wikipe...          https       www   \n",
       "\n",
       "      domain  tld urlPart_path urlPart_query urlPart_fragment tld_join Domain  \\\n",
       "0     google  com            0             0                0      com   .com   \n",
       "1    youtube  com            0             0                0      com   .com   \n",
       "2   facebook  com            0             0                0      com   .com   \n",
       "3      baidu  com            0             0                0      com   .com   \n",
       "4  wikipedia  org            0             0                0      org   .org   \n",
       "\n",
       "      Type                        TLD Manager  isIPaddress  isPhish_bool  \\\n",
       "0  generic  VeriSign Global Registry Services        False         False   \n",
       "1  generic  VeriSign Global Registry Services        False         False   \n",
       "2  generic  VeriSign Global Registry Services        False         False   \n",
       "3  generic  VeriSign Global Registry Services        False         False   \n",
       "4  generic     Public Interest Registry (PIR)        False         False   \n",
       "\n",
       "   url_Length  \n",
       "0          22  \n",
       "1          23  \n",
       "2          24  \n",
       "3          21  \n",
       "4          25  "
      ]
     },
     "execution_count": 11,
     "metadata": {},
     "output_type": "execute_result"
    }
   ],
   "source": [
    "urlData.head()"
   ]
  },
  {
   "cell_type": "code",
   "execution_count": 12,
   "id": "20596967-85a4-4a0e-a01c-ce587f8086bb",
   "metadata": {
    "tags": []
   },
   "outputs": [
    {
     "data": {
      "text/plain": [
       "Index(['Unnamed: 0', 'key_0', 'url', 'type', 'parsedUrl', 'urlPart_scheme',\n",
       "       'subDomain', 'domain', 'tld', 'urlPart_path', 'urlPart_query',\n",
       "       'urlPart_fragment', 'tld_join', 'Domain', 'Type', 'TLD Manager',\n",
       "       'isIPaddress', 'isPhish_bool', 'url_Length'],\n",
       "      dtype='object')"
      ]
     },
     "execution_count": 12,
     "metadata": {},
     "output_type": "execute_result"
    }
   ],
   "source": [
    "urlData.columns[:]"
   ]
  },
  {
   "cell_type": "markdown",
   "id": "18725a33-0cfd-4435-b4d5-236116a66f30",
   "metadata": {},
   "source": [
    "**Value Counts - urlPart_scheme**"
   ]
  },
  {
   "cell_type": "code",
   "execution_count": 14,
   "id": "b26eda2e-6c76-4d54-8eb7-188fa4fd3025",
   "metadata": {
    "tags": []
   },
   "outputs": [
    {
     "data": {
      "text/html": [
       "<div>\n",
       "<style scoped>\n",
       "    .dataframe tbody tr th:only-of-type {\n",
       "        vertical-align: middle;\n",
       "    }\n",
       "\n",
       "    .dataframe tbody tr th {\n",
       "        vertical-align: top;\n",
       "    }\n",
       "\n",
       "    .dataframe thead th {\n",
       "        text-align: right;\n",
       "    }\n",
       "</style>\n",
       "<table border=\"1\" class=\"dataframe\">\n",
       "  <thead>\n",
       "    <tr style=\"text-align: right;\">\n",
       "      <th></th>\n",
       "      <th>count</th>\n",
       "    </tr>\n",
       "    <tr>\n",
       "      <th>urlPart_scheme</th>\n",
       "      <th></th>\n",
       "    </tr>\n",
       "  </thead>\n",
       "  <tbody>\n",
       "    <tr>\n",
       "      <th>https</th>\n",
       "      <td>352185</td>\n",
       "    </tr>\n",
       "    <tr>\n",
       "      <th>http</th>\n",
       "      <td>97947</td>\n",
       "    </tr>\n",
       "    <tr>\n",
       "      <th>httpss</th>\n",
       "      <td>35</td>\n",
       "    </tr>\n",
       "    <tr>\n",
       "      <th>ftp</th>\n",
       "      <td>8</td>\n",
       "    </tr>\n",
       "  </tbody>\n",
       "</table>\n",
       "</div>"
      ],
      "text/plain": [
       "                 count\n",
       "urlPart_scheme        \n",
       "https           352185\n",
       "http             97947\n",
       "httpss              35\n",
       "ftp                  8"
      ]
     },
     "execution_count": 14,
     "metadata": {},
     "output_type": "execute_result"
    }
   ],
   "source": [
    "#urlData[['url', 'urlPart_scheme', 'subDomain', 'tld', 'domain', 'type', 'TLD Manager', 'isIPaddress', 'isPhish_bool']]\n",
    "pd.DataFrame(urlData['urlPart_scheme'].value_counts())"
   ]
  },
  {
   "cell_type": "markdown",
   "id": "92c0c82c-349c-48cb-8a98-b4b1e425cc5a",
   "metadata": {
    "tags": []
   },
   "source": [
    "**Value Counts - subDomain**"
   ]
  },
  {
   "cell_type": "code",
   "execution_count": 16,
   "id": "ca48295a-c2e1-4405-9196-dbc54eb197e1",
   "metadata": {
    "tags": []
   },
   "outputs": [
    {
     "data": {
      "text/html": [
       "<div>\n",
       "<style scoped>\n",
       "    .dataframe tbody tr th:only-of-type {\n",
       "        vertical-align: middle;\n",
       "    }\n",
       "\n",
       "    .dataframe tbody tr th {\n",
       "        vertical-align: top;\n",
       "    }\n",
       "\n",
       "    .dataframe thead th {\n",
       "        text-align: right;\n",
       "    }\n",
       "</style>\n",
       "<table border=\"1\" class=\"dataframe\">\n",
       "  <thead>\n",
       "    <tr style=\"text-align: right;\">\n",
       "      <th></th>\n",
       "      <th>count</th>\n",
       "    </tr>\n",
       "    <tr>\n",
       "      <th>subDomain</th>\n",
       "      <th></th>\n",
       "    </tr>\n",
       "  </thead>\n",
       "  <tbody>\n",
       "    <tr>\n",
       "      <th>www</th>\n",
       "      <td>276100</td>\n",
       "    </tr>\n",
       "    <tr>\n",
       "      <th>0</th>\n",
       "      <td>70290</td>\n",
       "    </tr>\n",
       "    <tr>\n",
       "      <th>www.en</th>\n",
       "      <td>13626</td>\n",
       "    </tr>\n",
       "    <tr>\n",
       "      <th>www.music</th>\n",
       "      <td>1289</td>\n",
       "    </tr>\n",
       "    <tr>\n",
       "      <th>www.people</th>\n",
       "      <td>1228</td>\n",
       "    </tr>\n",
       "    <tr>\n",
       "      <th>...</th>\n",
       "      <td>...</td>\n",
       "    </tr>\n",
       "    <tr>\n",
       "      <th>www.ohv.parks</th>\n",
       "      <td>1</td>\n",
       "    </tr>\n",
       "    <tr>\n",
       "      <th>www.ohtheplaceswewillgo-books</th>\n",
       "      <td>1</td>\n",
       "    </tr>\n",
       "    <tr>\n",
       "      <th>www.ohr</th>\n",
       "      <td>1</td>\n",
       "    </tr>\n",
       "    <tr>\n",
       "      <th>www.ohomen171s-journey-through-life</th>\n",
       "      <td>1</td>\n",
       "    </tr>\n",
       "    <tr>\n",
       "      <th>boasecg7</th>\n",
       "      <td>1</td>\n",
       "    </tr>\n",
       "  </tbody>\n",
       "</table>\n",
       "<p>32041 rows × 1 columns</p>\n",
       "</div>"
      ],
      "text/plain": [
       "                                      count\n",
       "subDomain                                  \n",
       "www                                  276100\n",
       "0                                     70290\n",
       "www.en                                13626\n",
       "www.music                              1289\n",
       "www.people                             1228\n",
       "...                                     ...\n",
       "www.ohv.parks                             1\n",
       "www.ohtheplaceswewillgo-books             1\n",
       "www.ohr                                   1\n",
       "www.ohomen171s-journey-through-life       1\n",
       "boasecg7                                  1\n",
       "\n",
       "[32041 rows x 1 columns]"
      ]
     },
     "execution_count": 16,
     "metadata": {},
     "output_type": "execute_result"
    }
   ],
   "source": [
    "pd.DataFrame(urlData['subDomain'].value_counts())"
   ]
  },
  {
   "cell_type": "markdown",
   "id": "e88cbb96-59fa-47de-a01b-cba7db8710bd",
   "metadata": {},
   "source": [
    "**Value Counts - TLD Manager**"
   ]
  },
  {
   "cell_type": "code",
   "execution_count": 18,
   "id": "b2401310-7eb1-4c3c-8309-ddce3c42b111",
   "metadata": {
    "tags": []
   },
   "outputs": [
    {
     "data": {
      "text/plain": [
       "TLD Manager\n",
       "VeriSign Global Registry Services                                                                               333004\n",
       "Public Interest Registry (PIR)                                                                                   38393\n",
       "Canadian Internet Registration Authority (CIRA) Autorité Canadienne pour les enregistrements Internet (ACEI)     10086\n",
       "EDUCAUSE                                                                                                          6976\n",
       "Nominet UK                                                                                                        5997\n",
       "                                                                                                                 ...  \n",
       "AS Domain Registry                                                                                                   1\n",
       "University of Swaziland Department of Computer Science                                                               1\n",
       "Dot London Domains Limited                                                                                           1\n",
       "Macao Post and Telecommunications Bureau (CTT)                                                                       1\n",
       "University of Guyana                                                                                                 1\n",
       "Name: count, Length: 260, dtype: int64"
      ]
     },
     "execution_count": 18,
     "metadata": {},
     "output_type": "execute_result"
    }
   ],
   "source": [
    "urlData['TLD Manager'].value_counts()"
   ]
  },
  {
   "cell_type": "markdown",
   "id": "8443a531-0c3e-4761-a7b6-24b8898e33fd",
   "metadata": {
    "tags": []
   },
   "source": [
    "**Determine how to handle categorical features**"
   ]
  },
  {
   "cell_type": "code",
   "execution_count": 20,
   "id": "ea7e10fb-6966-4166-963d-52a876fd28a7",
   "metadata": {
    "tags": []
   },
   "outputs": [
    {
     "data": {
      "text/html": [
       "<div>\n",
       "<style scoped>\n",
       "    .dataframe tbody tr th:only-of-type {\n",
       "        vertical-align: middle;\n",
       "    }\n",
       "\n",
       "    .dataframe tbody tr th {\n",
       "        vertical-align: top;\n",
       "    }\n",
       "\n",
       "    .dataframe thead th {\n",
       "        text-align: right;\n",
       "    }\n",
       "</style>\n",
       "<table border=\"1\" class=\"dataframe\">\n",
       "  <thead>\n",
       "    <tr style=\"text-align: right;\">\n",
       "      <th></th>\n",
       "      <th>key_0</th>\n",
       "      <th>url</th>\n",
       "      <th>type</th>\n",
       "      <th>parsedUrl</th>\n",
       "      <th>urlPart_scheme</th>\n",
       "      <th>subDomain</th>\n",
       "      <th>domain</th>\n",
       "      <th>tld</th>\n",
       "      <th>urlPart_path</th>\n",
       "      <th>urlPart_query</th>\n",
       "      <th>urlPart_fragment</th>\n",
       "      <th>tld_join</th>\n",
       "      <th>Domain</th>\n",
       "      <th>Type</th>\n",
       "      <th>TLD Manager</th>\n",
       "      <th>isIPaddress</th>\n",
       "      <th>isPhish_bool</th>\n",
       "    </tr>\n",
       "  </thead>\n",
       "  <tbody>\n",
       "    <tr>\n",
       "      <th>count</th>\n",
       "      <td>445854</td>\n",
       "      <td>450175</td>\n",
       "      <td>450175</td>\n",
       "      <td>450175</td>\n",
       "      <td>450175</td>\n",
       "      <td>450175</td>\n",
       "      <td>450175</td>\n",
       "      <td>450175</td>\n",
       "      <td>450175</td>\n",
       "      <td>450175</td>\n",
       "      <td>450175</td>\n",
       "      <td>445854</td>\n",
       "      <td>445451</td>\n",
       "      <td>450175</td>\n",
       "      <td>450175</td>\n",
       "      <td>450175</td>\n",
       "      <td>450175</td>\n",
       "    </tr>\n",
       "    <tr>\n",
       "      <th>unique</th>\n",
       "      <td>415</td>\n",
       "      <td>450175</td>\n",
       "      <td>2</td>\n",
       "      <td>450132</td>\n",
       "      <td>4</td>\n",
       "      <td>32041</td>\n",
       "      <td>130747</td>\n",
       "      <td>832</td>\n",
       "      <td>317144</td>\n",
       "      <td>55325</td>\n",
       "      <td>72</td>\n",
       "      <td>415</td>\n",
       "      <td>360</td>\n",
       "      <td>5</td>\n",
       "      <td>260</td>\n",
       "      <td>2</td>\n",
       "      <td>2</td>\n",
       "    </tr>\n",
       "    <tr>\n",
       "      <th>top</th>\n",
       "      <td>com</td>\n",
       "      <td>https://www.google.com</td>\n",
       "      <td>legitimate</td>\n",
       "      <td>ParseResult(scheme='http', netloc='new.sosnovs...</td>\n",
       "      <td>https</td>\n",
       "      <td>www</td>\n",
       "      <td>wikipedia</td>\n",
       "      <td>com</td>\n",
       "      <td>/</td>\n",
       "      <td>0</td>\n",
       "      <td>0</td>\n",
       "      <td>com</td>\n",
       "      <td>.com</td>\n",
       "      <td>generic</td>\n",
       "      <td>VeriSign Global Registry Services</td>\n",
       "      <td>False</td>\n",
       "      <td>False</td>\n",
       "    </tr>\n",
       "    <tr>\n",
       "      <th>freq</th>\n",
       "      <td>316414</td>\n",
       "      <td>1</td>\n",
       "      <td>345738</td>\n",
       "      <td>2</td>\n",
       "      <td>352185</td>\n",
       "      <td>276100</td>\n",
       "      <td>12895</td>\n",
       "      <td>316414</td>\n",
       "      <td>55253</td>\n",
       "      <td>384636</td>\n",
       "      <td>449816</td>\n",
       "      <td>316414</td>\n",
       "      <td>316414</td>\n",
       "      <td>376803</td>\n",
       "      <td>333004</td>\n",
       "      <td>447309</td>\n",
       "      <td>345738</td>\n",
       "    </tr>\n",
       "  </tbody>\n",
       "</table>\n",
       "</div>"
      ],
      "text/plain": [
       "         key_0                     url        type  \\\n",
       "count   445854                  450175      450175   \n",
       "unique     415                  450175           2   \n",
       "top        com  https://www.google.com  legitimate   \n",
       "freq    316414                       1      345738   \n",
       "\n",
       "                                                parsedUrl urlPart_scheme  \\\n",
       "count                                              450175         450175   \n",
       "unique                                             450132              4   \n",
       "top     ParseResult(scheme='http', netloc='new.sosnovs...          https   \n",
       "freq                                                    2         352185   \n",
       "\n",
       "       subDomain     domain     tld urlPart_path urlPart_query  \\\n",
       "count     450175     450175  450175       450175        450175   \n",
       "unique     32041     130747     832       317144         55325   \n",
       "top          www  wikipedia     com            /             0   \n",
       "freq      276100      12895  316414        55253        384636   \n",
       "\n",
       "       urlPart_fragment tld_join  Domain     Type  \\\n",
       "count            450175   445854  445451   450175   \n",
       "unique               72      415     360        5   \n",
       "top                   0      com    .com  generic   \n",
       "freq             449816   316414  316414   376803   \n",
       "\n",
       "                              TLD Manager isIPaddress isPhish_bool  \n",
       "count                              450175      450175       450175  \n",
       "unique                                260           2            2  \n",
       "top     VeriSign Global Registry Services       False        False  \n",
       "freq                               333004      447309       345738  "
      ]
     },
     "execution_count": 20,
     "metadata": {},
     "output_type": "execute_result"
    }
   ],
   "source": [
    "# Let's see cardinality / # of uniques for each feature - use to determine categorical fields to dummy and how to encode - one-hot vs label\n",
    "urlData[['key_0', 'url', 'type', 'parsedUrl', 'urlPart_scheme',\n",
    "       'subDomain', 'domain', 'tld', 'urlPart_path', 'urlPart_query',\n",
    "       'urlPart_fragment', 'tld_join', 'Domain', 'Type', 'TLD Manager',\n",
    "       'isIPaddress', 'isPhish_bool']].describe()"
   ]
  },
  {
   "cell_type": "markdown",
   "id": "aca4dbd2-b969-4d5c-98c9-e65f5dfade45",
   "metadata": {},
   "source": [
    "> - Will use **mean encoding** for the **high cardinality columns** (e.x. domain) as using one-hot would create too many columns and with sparse data\n",
    "> - Will **mean encode after train/test splitting** to **avoid data leakage**"
   ]
  },
  {
   "cell_type": "raw",
   "id": "0899aa55-d6c5-4dfb-8590-5fc41a09c469",
   "metadata": {},
   "source": [
    "# Features selection and categorical encoding decisions\n",
    "\n",
    "'Unnamed: 0', -drop\n",
    "'key_0', -drop\n",
    "'url', -drop\n",
    "'type',  -drop\n",
    "'parsedUrl',  -drop\n",
    "'urlPart_scheme' -one hot encode\n",
    "'subDomain' -label encode\n",
    "'domain' -label encode\n",
    "'tld' -mean encode\n",
    "'urlPart_path' -mean encode\n",
    "'urlPart_query' -mean encode\n",
    "'urlPart_fragment' -mean encode\n",
    "'tld_join' -drop\n",
    "'Domain' -drop\n",
    "'Type' -one-hot encode\n",
    "'TLD Manager' -mean encode\n",
    "'isIPaddress' -one-hot encode\n",
    "'isPhish_bool' -one-hot encode"
   ]
  },
  {
   "cell_type": "code",
   "execution_count": 22,
   "id": "cf29ed9c-3569-4715-987d-74de2fe325e1",
   "metadata": {
    "tags": []
   },
   "outputs": [],
   "source": [
    "# Select/Drop features - create new dataframe for this major data change\n",
    "urlDataV2 = urlData.drop(['Unnamed: 0', 'key_0', 'url', 'type', 'parsedUrl', 'tld_join', 'Domain'], axis=1)"
   ]
  },
  {
   "cell_type": "code",
   "execution_count": 23,
   "id": "7f59ed9d-0597-4c70-8269-89e45bc9e042",
   "metadata": {
    "tags": []
   },
   "outputs": [
    {
     "data": {
      "text/html": [
       "<div>\n",
       "<style scoped>\n",
       "    .dataframe tbody tr th:only-of-type {\n",
       "        vertical-align: middle;\n",
       "    }\n",
       "\n",
       "    .dataframe tbody tr th {\n",
       "        vertical-align: top;\n",
       "    }\n",
       "\n",
       "    .dataframe thead th {\n",
       "        text-align: right;\n",
       "    }\n",
       "</style>\n",
       "<table border=\"1\" class=\"dataframe\">\n",
       "  <thead>\n",
       "    <tr style=\"text-align: right;\">\n",
       "      <th></th>\n",
       "      <th>urlPart_scheme</th>\n",
       "      <th>subDomain</th>\n",
       "      <th>domain</th>\n",
       "      <th>tld</th>\n",
       "      <th>urlPart_path</th>\n",
       "      <th>urlPart_query</th>\n",
       "      <th>urlPart_fragment</th>\n",
       "      <th>Type</th>\n",
       "      <th>TLD Manager</th>\n",
       "      <th>isIPaddress</th>\n",
       "      <th>isPhish_bool</th>\n",
       "      <th>url_Length</th>\n",
       "    </tr>\n",
       "  </thead>\n",
       "  <tbody>\n",
       "    <tr>\n",
       "      <th>0</th>\n",
       "      <td>https</td>\n",
       "      <td>www</td>\n",
       "      <td>google</td>\n",
       "      <td>com</td>\n",
       "      <td>0</td>\n",
       "      <td>0</td>\n",
       "      <td>0</td>\n",
       "      <td>generic</td>\n",
       "      <td>VeriSign Global Registry Services</td>\n",
       "      <td>False</td>\n",
       "      <td>False</td>\n",
       "      <td>22</td>\n",
       "    </tr>\n",
       "    <tr>\n",
       "      <th>1</th>\n",
       "      <td>https</td>\n",
       "      <td>www</td>\n",
       "      <td>youtube</td>\n",
       "      <td>com</td>\n",
       "      <td>0</td>\n",
       "      <td>0</td>\n",
       "      <td>0</td>\n",
       "      <td>generic</td>\n",
       "      <td>VeriSign Global Registry Services</td>\n",
       "      <td>False</td>\n",
       "      <td>False</td>\n",
       "      <td>23</td>\n",
       "    </tr>\n",
       "    <tr>\n",
       "      <th>2</th>\n",
       "      <td>https</td>\n",
       "      <td>www</td>\n",
       "      <td>facebook</td>\n",
       "      <td>com</td>\n",
       "      <td>0</td>\n",
       "      <td>0</td>\n",
       "      <td>0</td>\n",
       "      <td>generic</td>\n",
       "      <td>VeriSign Global Registry Services</td>\n",
       "      <td>False</td>\n",
       "      <td>False</td>\n",
       "      <td>24</td>\n",
       "    </tr>\n",
       "    <tr>\n",
       "      <th>3</th>\n",
       "      <td>https</td>\n",
       "      <td>www</td>\n",
       "      <td>baidu</td>\n",
       "      <td>com</td>\n",
       "      <td>0</td>\n",
       "      <td>0</td>\n",
       "      <td>0</td>\n",
       "      <td>generic</td>\n",
       "      <td>VeriSign Global Registry Services</td>\n",
       "      <td>False</td>\n",
       "      <td>False</td>\n",
       "      <td>21</td>\n",
       "    </tr>\n",
       "    <tr>\n",
       "      <th>4</th>\n",
       "      <td>https</td>\n",
       "      <td>www</td>\n",
       "      <td>wikipedia</td>\n",
       "      <td>org</td>\n",
       "      <td>0</td>\n",
       "      <td>0</td>\n",
       "      <td>0</td>\n",
       "      <td>generic</td>\n",
       "      <td>Public Interest Registry (PIR)</td>\n",
       "      <td>False</td>\n",
       "      <td>False</td>\n",
       "      <td>25</td>\n",
       "    </tr>\n",
       "  </tbody>\n",
       "</table>\n",
       "</div>"
      ],
      "text/plain": [
       "  urlPart_scheme subDomain     domain  tld urlPart_path urlPart_query  \\\n",
       "0          https       www     google  com            0             0   \n",
       "1          https       www    youtube  com            0             0   \n",
       "2          https       www   facebook  com            0             0   \n",
       "3          https       www      baidu  com            0             0   \n",
       "4          https       www  wikipedia  org            0             0   \n",
       "\n",
       "  urlPart_fragment     Type                        TLD Manager  isIPaddress  \\\n",
       "0                0  generic  VeriSign Global Registry Services        False   \n",
       "1                0  generic  VeriSign Global Registry Services        False   \n",
       "2                0  generic  VeriSign Global Registry Services        False   \n",
       "3                0  generic  VeriSign Global Registry Services        False   \n",
       "4                0  generic     Public Interest Registry (PIR)        False   \n",
       "\n",
       "   isPhish_bool  url_Length  \n",
       "0         False          22  \n",
       "1         False          23  \n",
       "2         False          24  \n",
       "3         False          21  \n",
       "4         False          25  "
      ]
     },
     "execution_count": 23,
     "metadata": {},
     "output_type": "execute_result"
    }
   ],
   "source": [
    "# View new DF\n",
    "urlDataV2.head()"
   ]
  },
  {
   "cell_type": "markdown",
   "id": "f199fb24-89f9-42bf-b2e3-017be312f499",
   "metadata": {
    "tags": []
   },
   "source": [
    "**Features to One-Hot encode**\n",
    "- 'urlPart_scheme'\n",
    "- 'Type'\n",
    "- 'isIPaddress'\n",
    "- 'isPhish_bool'\n",
    "\n",
    "*...because they are lower cardinality*"
   ]
  },
  {
   "cell_type": "code",
   "execution_count": 25,
   "id": "aca9774a-2280-44d9-a96a-cf97030a48f4",
   "metadata": {
    "tags": []
   },
   "outputs": [],
   "source": [
    "# Let's rename \"type\" to a more descriptive name before encoding\n",
    "urlDataV2 = urlDataV2.rename(columns={'Type':'TLD_type'})"
   ]
  },
  {
   "cell_type": "markdown",
   "id": "4215f723-42b0-4852-b048-78f3a174b885",
   "metadata": {
    "tags": []
   },
   "source": [
    "##### Create dummies \\ one-hot encode"
   ]
  },
  {
   "cell_type": "code",
   "execution_count": 27,
   "id": "8b0d3793-01b8-4a3a-a67b-942fee40c36b",
   "metadata": {
    "tags": []
   },
   "outputs": [],
   "source": [
    "# One-Hot encode features\n",
    "urlDataV2 = pd.get_dummies(urlDataV2, columns=['urlPart_scheme', 'TLD_type'])"
   ]
  },
  {
   "cell_type": "code",
   "execution_count": 28,
   "id": "f584a894-efa9-4e13-b815-040568ff77a3",
   "metadata": {
    "tags": []
   },
   "outputs": [
    {
     "data": {
      "text/html": [
       "<div>\n",
       "<style scoped>\n",
       "    .dataframe tbody tr th:only-of-type {\n",
       "        vertical-align: middle;\n",
       "    }\n",
       "\n",
       "    .dataframe tbody tr th {\n",
       "        vertical-align: top;\n",
       "    }\n",
       "\n",
       "    .dataframe thead th {\n",
       "        text-align: right;\n",
       "    }\n",
       "</style>\n",
       "<table border=\"1\" class=\"dataframe\">\n",
       "  <thead>\n",
       "    <tr style=\"text-align: right;\">\n",
       "      <th></th>\n",
       "      <th>subDomain</th>\n",
       "      <th>domain</th>\n",
       "      <th>tld</th>\n",
       "      <th>urlPart_path</th>\n",
       "      <th>urlPart_query</th>\n",
       "      <th>urlPart_fragment</th>\n",
       "      <th>TLD Manager</th>\n",
       "      <th>isIPaddress</th>\n",
       "      <th>isPhish_bool</th>\n",
       "      <th>url_Length</th>\n",
       "      <th>urlPart_scheme_ftp</th>\n",
       "      <th>urlPart_scheme_http</th>\n",
       "      <th>urlPart_scheme_https</th>\n",
       "      <th>urlPart_scheme_httpss</th>\n",
       "      <th>TLD_type_0</th>\n",
       "      <th>TLD_type_country-code</th>\n",
       "      <th>TLD_type_generic</th>\n",
       "      <th>TLD_type_generic-restricted</th>\n",
       "      <th>TLD_type_sponsored</th>\n",
       "    </tr>\n",
       "  </thead>\n",
       "  <tbody>\n",
       "    <tr>\n",
       "      <th>0</th>\n",
       "      <td>www</td>\n",
       "      <td>google</td>\n",
       "      <td>com</td>\n",
       "      <td>0</td>\n",
       "      <td>0</td>\n",
       "      <td>0</td>\n",
       "      <td>VeriSign Global Registry Services</td>\n",
       "      <td>False</td>\n",
       "      <td>False</td>\n",
       "      <td>22</td>\n",
       "      <td>False</td>\n",
       "      <td>False</td>\n",
       "      <td>True</td>\n",
       "      <td>False</td>\n",
       "      <td>False</td>\n",
       "      <td>False</td>\n",
       "      <td>True</td>\n",
       "      <td>False</td>\n",
       "      <td>False</td>\n",
       "    </tr>\n",
       "    <tr>\n",
       "      <th>1</th>\n",
       "      <td>www</td>\n",
       "      <td>youtube</td>\n",
       "      <td>com</td>\n",
       "      <td>0</td>\n",
       "      <td>0</td>\n",
       "      <td>0</td>\n",
       "      <td>VeriSign Global Registry Services</td>\n",
       "      <td>False</td>\n",
       "      <td>False</td>\n",
       "      <td>23</td>\n",
       "      <td>False</td>\n",
       "      <td>False</td>\n",
       "      <td>True</td>\n",
       "      <td>False</td>\n",
       "      <td>False</td>\n",
       "      <td>False</td>\n",
       "      <td>True</td>\n",
       "      <td>False</td>\n",
       "      <td>False</td>\n",
       "    </tr>\n",
       "    <tr>\n",
       "      <th>2</th>\n",
       "      <td>www</td>\n",
       "      <td>facebook</td>\n",
       "      <td>com</td>\n",
       "      <td>0</td>\n",
       "      <td>0</td>\n",
       "      <td>0</td>\n",
       "      <td>VeriSign Global Registry Services</td>\n",
       "      <td>False</td>\n",
       "      <td>False</td>\n",
       "      <td>24</td>\n",
       "      <td>False</td>\n",
       "      <td>False</td>\n",
       "      <td>True</td>\n",
       "      <td>False</td>\n",
       "      <td>False</td>\n",
       "      <td>False</td>\n",
       "      <td>True</td>\n",
       "      <td>False</td>\n",
       "      <td>False</td>\n",
       "    </tr>\n",
       "    <tr>\n",
       "      <th>3</th>\n",
       "      <td>www</td>\n",
       "      <td>baidu</td>\n",
       "      <td>com</td>\n",
       "      <td>0</td>\n",
       "      <td>0</td>\n",
       "      <td>0</td>\n",
       "      <td>VeriSign Global Registry Services</td>\n",
       "      <td>False</td>\n",
       "      <td>False</td>\n",
       "      <td>21</td>\n",
       "      <td>False</td>\n",
       "      <td>False</td>\n",
       "      <td>True</td>\n",
       "      <td>False</td>\n",
       "      <td>False</td>\n",
       "      <td>False</td>\n",
       "      <td>True</td>\n",
       "      <td>False</td>\n",
       "      <td>False</td>\n",
       "    </tr>\n",
       "    <tr>\n",
       "      <th>4</th>\n",
       "      <td>www</td>\n",
       "      <td>wikipedia</td>\n",
       "      <td>org</td>\n",
       "      <td>0</td>\n",
       "      <td>0</td>\n",
       "      <td>0</td>\n",
       "      <td>Public Interest Registry (PIR)</td>\n",
       "      <td>False</td>\n",
       "      <td>False</td>\n",
       "      <td>25</td>\n",
       "      <td>False</td>\n",
       "      <td>False</td>\n",
       "      <td>True</td>\n",
       "      <td>False</td>\n",
       "      <td>False</td>\n",
       "      <td>False</td>\n",
       "      <td>True</td>\n",
       "      <td>False</td>\n",
       "      <td>False</td>\n",
       "    </tr>\n",
       "  </tbody>\n",
       "</table>\n",
       "</div>"
      ],
      "text/plain": [
       "  subDomain     domain  tld urlPart_path urlPart_query urlPart_fragment  \\\n",
       "0       www     google  com            0             0                0   \n",
       "1       www    youtube  com            0             0                0   \n",
       "2       www   facebook  com            0             0                0   \n",
       "3       www      baidu  com            0             0                0   \n",
       "4       www  wikipedia  org            0             0                0   \n",
       "\n",
       "                         TLD Manager  isIPaddress  isPhish_bool  url_Length  \\\n",
       "0  VeriSign Global Registry Services        False         False          22   \n",
       "1  VeriSign Global Registry Services        False         False          23   \n",
       "2  VeriSign Global Registry Services        False         False          24   \n",
       "3  VeriSign Global Registry Services        False         False          21   \n",
       "4     Public Interest Registry (PIR)        False         False          25   \n",
       "\n",
       "   urlPart_scheme_ftp  urlPart_scheme_http  urlPart_scheme_https  \\\n",
       "0               False                False                  True   \n",
       "1               False                False                  True   \n",
       "2               False                False                  True   \n",
       "3               False                False                  True   \n",
       "4               False                False                  True   \n",
       "\n",
       "   urlPart_scheme_httpss  TLD_type_0  TLD_type_country-code  TLD_type_generic  \\\n",
       "0                  False       False                  False              True   \n",
       "1                  False       False                  False              True   \n",
       "2                  False       False                  False              True   \n",
       "3                  False       False                  False              True   \n",
       "4                  False       False                  False              True   \n",
       "\n",
       "   TLD_type_generic-restricted  TLD_type_sponsored  \n",
       "0                        False               False  \n",
       "1                        False               False  \n",
       "2                        False               False  \n",
       "3                        False               False  \n",
       "4                        False               False  "
      ]
     },
     "execution_count": 28,
     "metadata": {},
     "output_type": "execute_result"
    }
   ],
   "source": [
    "# view new DF\n",
    "urlDataV2.head()"
   ]
  },
  {
   "cell_type": "markdown",
   "id": "94983b83-c064-4a61-8851-2252aa817d0b",
   "metadata": {},
   "source": [
    "*Note: Due to use of **Target encoding**, we will **preprocess** data in a **modified order**...\n",
    "\n",
    "    1. train/test split data\n",
    "    2. target encode data\n",
    "    3. Scale data"
   ]
  },
  {
   "cell_type": "code",
   "execution_count": 30,
   "id": "433c801e-2629-4264-832d-ea0199c8dfe3",
   "metadata": {
    "tags": []
   },
   "outputs": [
    {
     "name": "stdout",
     "output_type": "stream",
     "text": [
      "<class 'pandas.core.frame.DataFrame'>\n",
      "RangeIndex: 450175 entries, 0 to 450174\n",
      "Data columns (total 19 columns):\n",
      " #   Column                       Non-Null Count   Dtype \n",
      "---  ------                       --------------   ----- \n",
      " 0   subDomain                    450175 non-null  object\n",
      " 1   domain                       450175 non-null  object\n",
      " 2   tld                          450175 non-null  object\n",
      " 3   urlPart_path                 450175 non-null  object\n",
      " 4   urlPart_query                450175 non-null  object\n",
      " 5   urlPart_fragment             450175 non-null  object\n",
      " 6   TLD Manager                  450175 non-null  object\n",
      " 7   isIPaddress                  450175 non-null  bool  \n",
      " 8   isPhish_bool                 450175 non-null  bool  \n",
      " 9   url_Length                   450175 non-null  int64 \n",
      " 10  urlPart_scheme_ftp           450175 non-null  bool  \n",
      " 11  urlPart_scheme_http          450175 non-null  bool  \n",
      " 12  urlPart_scheme_https         450175 non-null  bool  \n",
      " 13  urlPart_scheme_httpss        450175 non-null  bool  \n",
      " 14  TLD_type_0                   450175 non-null  bool  \n",
      " 15  TLD_type_country-code        450175 non-null  bool  \n",
      " 16  TLD_type_generic             450175 non-null  bool  \n",
      " 17  TLD_type_generic-restricted  450175 non-null  bool  \n",
      " 18  TLD_type_sponsored           450175 non-null  bool  \n",
      "dtypes: bool(11), int64(1), object(7)\n",
      "memory usage: 32.2+ MB\n"
     ]
    }
   ],
   "source": [
    "# one more peek at columns and object types\n",
    "urlDataV2.info()"
   ]
  },
  {
   "cell_type": "markdown",
   "id": "edc2d286-9e23-4f75-b447-469245c46c24",
   "metadata": {
    "tags": []
   },
   "source": [
    "##### EDA: Feature correlation"
   ]
  },
  {
   "cell_type": "code",
   "execution_count": 32,
   "id": "ce547dde-9349-4702-bdab-dba6a0dfdbd0",
   "metadata": {
    "tags": []
   },
   "outputs": [
    {
     "data": {
      "text/html": [
       "<div>\n",
       "<style scoped>\n",
       "    .dataframe tbody tr th:only-of-type {\n",
       "        vertical-align: middle;\n",
       "    }\n",
       "\n",
       "    .dataframe tbody tr th {\n",
       "        vertical-align: top;\n",
       "    }\n",
       "\n",
       "    .dataframe thead th {\n",
       "        text-align: right;\n",
       "    }\n",
       "</style>\n",
       "<table border=\"1\" class=\"dataframe\">\n",
       "  <thead>\n",
       "    <tr style=\"text-align: right;\">\n",
       "      <th></th>\n",
       "      <th>0</th>\n",
       "    </tr>\n",
       "  </thead>\n",
       "  <tbody>\n",
       "    <tr>\n",
       "      <th>isPhish_bool</th>\n",
       "      <td>1.000000</td>\n",
       "    </tr>\n",
       "    <tr>\n",
       "      <th>urlPart_scheme_http</th>\n",
       "      <td>0.959467</td>\n",
       "    </tr>\n",
       "    <tr>\n",
       "      <th>TLD_type_country-code</th>\n",
       "      <td>0.338015</td>\n",
       "    </tr>\n",
       "    <tr>\n",
       "      <th>TLD_type_0</th>\n",
       "      <td>0.175337</td>\n",
       "    </tr>\n",
       "    <tr>\n",
       "      <th>isIPaddress</th>\n",
       "      <td>0.145640</td>\n",
       "    </tr>\n",
       "    <tr>\n",
       "      <th>url_Length</th>\n",
       "      <td>0.085058</td>\n",
       "    </tr>\n",
       "    <tr>\n",
       "      <th>TLD_type_generic-restricted</th>\n",
       "      <td>0.070401</td>\n",
       "    </tr>\n",
       "    <tr>\n",
       "      <th>urlPart_scheme_ftp</th>\n",
       "      <td>0.006422</td>\n",
       "    </tr>\n",
       "    <tr>\n",
       "      <th>urlPart_scheme_httpss</th>\n",
       "      <td>-0.004846</td>\n",
       "    </tr>\n",
       "    <tr>\n",
       "      <th>TLD_type_sponsored</th>\n",
       "      <td>-0.077846</td>\n",
       "    </tr>\n",
       "    <tr>\n",
       "      <th>TLD_type_generic</th>\n",
       "      <td>-0.332983</td>\n",
       "    </tr>\n",
       "    <tr>\n",
       "      <th>urlPart_scheme_https</th>\n",
       "      <td>-0.959277</td>\n",
       "    </tr>\n",
       "  </tbody>\n",
       "</table>\n",
       "</div>"
      ],
      "text/plain": [
       "                                    0\n",
       "isPhish_bool                 1.000000\n",
       "urlPart_scheme_http          0.959467\n",
       "TLD_type_country-code        0.338015\n",
       "TLD_type_0                   0.175337\n",
       "isIPaddress                  0.145640\n",
       "url_Length                   0.085058\n",
       "TLD_type_generic-restricted  0.070401\n",
       "urlPart_scheme_ftp           0.006422\n",
       "urlPart_scheme_httpss       -0.004846\n",
       "TLD_type_sponsored          -0.077846\n",
       "TLD_type_generic            -0.332983\n",
       "urlPart_scheme_https        -0.959277"
      ]
     },
     "execution_count": 32,
     "metadata": {},
     "output_type": "execute_result"
    }
   ],
   "source": [
    "# feature correlations (excluding non-numerics)\n",
    "pd.DataFrame(urlDataV2.corrwith(other=urlDataV2['isPhish_bool'], numeric_only=True).sort_values(ascending=False))"
   ]
  },
  {
   "cell_type": "markdown",
   "id": "00301b7a-12dc-4a51-a136-ffab424338c1",
   "metadata": {
    "tags": []
   },
   "source": [
    "> **Top feature correlations to target**\n",
    "> - urlPart_scheme_http**s** &emsp;&emsp;(~-96%)\n",
    "> - urlPart_scheme_http &emsp;&emsp; (~+96%) \n",
    "\n",
    "Woah! The **url scheme** (specifically the use of **'http'** or **'https'**) is *highly* predictive of the target in this data set.\n"
   ]
  },
  {
   "cell_type": "code",
   "execution_count": 34,
   "id": "275e6dcf-24cb-4691-af9e-496ec1058e46",
   "metadata": {
    "tags": []
   },
   "outputs": [
    {
     "data": {
      "text/html": [
       "<div>\n",
       "<style scoped>\n",
       "    .dataframe tbody tr th:only-of-type {\n",
       "        vertical-align: middle;\n",
       "    }\n",
       "\n",
       "    .dataframe tbody tr th {\n",
       "        vertical-align: top;\n",
       "    }\n",
       "\n",
       "    .dataframe thead th {\n",
       "        text-align: right;\n",
       "    }\n",
       "</style>\n",
       "<table border=\"1\" class=\"dataframe\">\n",
       "  <thead>\n",
       "    <tr style=\"text-align: right;\">\n",
       "      <th></th>\n",
       "      <th></th>\n",
       "      <th></th>\n",
       "      <th></th>\n",
       "      <th></th>\n",
       "      <th>count</th>\n",
       "    </tr>\n",
       "    <tr>\n",
       "      <th>urlPart_scheme_ftp</th>\n",
       "      <th>urlPart_scheme_http</th>\n",
       "      <th>urlPart_scheme_https</th>\n",
       "      <th>urlPart_scheme_httpss</th>\n",
       "      <th>isPhish_bool</th>\n",
       "      <th></th>\n",
       "    </tr>\n",
       "  </thead>\n",
       "  <tbody>\n",
       "    <tr>\n",
       "      <th rowspan=\"4\" valign=\"top\">False</th>\n",
       "      <th>False</th>\n",
       "      <th>True</th>\n",
       "      <th>False</th>\n",
       "      <th>False</th>\n",
       "      <td>345702</td>\n",
       "    </tr>\n",
       "    <tr>\n",
       "      <th>True</th>\n",
       "      <th>False</th>\n",
       "      <th>False</th>\n",
       "      <th>True</th>\n",
       "      <td>97947</td>\n",
       "    </tr>\n",
       "    <tr>\n",
       "      <th rowspan=\"2\" valign=\"top\">False</th>\n",
       "      <th>True</th>\n",
       "      <th>False</th>\n",
       "      <th>True</th>\n",
       "      <td>6483</td>\n",
       "    </tr>\n",
       "    <tr>\n",
       "      <th>False</th>\n",
       "      <th>True</th>\n",
       "      <th>False</th>\n",
       "      <td>35</td>\n",
       "    </tr>\n",
       "    <tr>\n",
       "      <th rowspan=\"2\" valign=\"top\">True</th>\n",
       "      <th rowspan=\"2\" valign=\"top\">False</th>\n",
       "      <th rowspan=\"2\" valign=\"top\">False</th>\n",
       "      <th rowspan=\"2\" valign=\"top\">False</th>\n",
       "      <th>True</th>\n",
       "      <td>7</td>\n",
       "    </tr>\n",
       "    <tr>\n",
       "      <th>False</th>\n",
       "      <td>1</td>\n",
       "    </tr>\n",
       "  </tbody>\n",
       "</table>\n",
       "</div>"
      ],
      "text/plain": [
       "                                                                                                 count\n",
       "urlPart_scheme_ftp urlPart_scheme_http urlPart_scheme_https urlPart_scheme_httpss isPhish_bool        \n",
       "False              False               True                 False                 False         345702\n",
       "                   True                False                False                 True           97947\n",
       "                   False               True                 False                 True            6483\n",
       "                                       False                True                  False             35\n",
       "True               False               False                False                 True               7\n",
       "                                                                                  False              1"
      ]
     },
     "execution_count": 34,
     "metadata": {},
     "output_type": "execute_result"
    }
   ],
   "source": [
    "pd.DataFrame(urlDataV2[['urlPart_scheme_ftp', 'urlPart_scheme_http', 'urlPart_scheme_https', 'urlPart_scheme_httpss', 'isPhish_bool']].value_counts())"
   ]
  },
  {
   "cell_type": "markdown",
   "id": "90c25510-1bcd-4de1-a680-4fb9949e2e26",
   "metadata": {},
   "source": [
    "> When the scheme is 'https', the URL **is** phishing     - 345702 times \\\n",
    "> When the scheme is 'http',  the URL is **not** phishing - 97947  times \\\n",
    "> URL scheme of 'http' or 'https' predicts the target value in over **98%** of rows in this data set!"
   ]
  },
  {
   "cell_type": "code",
   "execution_count": 36,
   "id": "8d0ea5ca-29f6-49f0-b7ce-b17afde8964e",
   "metadata": {
    "tags": []
   },
   "outputs": [
    {
     "name": "stdout",
     "output_type": "stream",
     "text": [
      "0.9855034153384795\n"
     ]
    }
   ],
   "source": [
    "# Calculate percentage of URLs that can be accurately classified solely via their urlPart_scheme*\n",
    "#      https    http     total record count\n",
    "print((345702 + 97947) / 450175.0)"
   ]
  },
  {
   "cell_type": "markdown",
   "id": "93c47218-4b59-488e-b197-f4a7fb90b740",
   "metadata": {},
   "source": [
    "##### Train/Test Split"
   ]
  },
  {
   "cell_type": "code",
   "execution_count": 38,
   "id": "6cc51441-1ed2-4cb8-98f5-74ff9825f24e",
   "metadata": {
    "tags": []
   },
   "outputs": [],
   "source": [
    "# assign X & y\n",
    "X = urlDataV2.drop(columns=['isPhish_bool'], axis=1).copy()\n",
    "y = urlDataV2['isPhish_bool'].copy()\n",
    "\n",
    "# perform train/test split\n",
    "X_train, X_test, y_train, y_test = train_test_split(X, y, random_state=42, stratify=y)"
   ]
  },
  {
   "cell_type": "markdown",
   "id": "44281791-28ea-4022-8d32-bcfd438ef65f",
   "metadata": {},
   "source": [
    "##### Target/Mean Encode\n",
    "> https://scikit-learn.org/stable/modules/generated/sklearn.preprocessing.TargetEncoder.html#sklearn.preprocessing.TargetEncoder"
   ]
  },
  {
   "cell_type": "raw",
   "id": "36a58ab4-cd77-42db-a4e1-b1e35fa8a9a0",
   "metadata": {},
   "source": [
    "features to encode\n",
    "\n",
    "'subDomain',\n",
    "'domain',\n",
    "'tld',\n",
    "'urlPart_path',\n",
    "'urlPart_query',\n",
    "'urlPart_fragment',\n",
    "'TLD Manager'"
   ]
  },
  {
   "cell_type": "code",
   "execution_count": 40,
   "id": "3b1cf7cf-abf1-4a1e-8a43-8c000bbe6937",
   "metadata": {
    "tags": []
   },
   "outputs": [],
   "source": [
    "# target encode (using auto-smoothing and cross-fitting)\n",
    "targetEncoderAuto = TargetEncoder(smooth='auto')\n",
    "colsToEncode = ['subDomain', 'domain', 'tld', 'urlPart_path', 'urlPart_query', 'urlPart_fragment', 'TLD Manager']\n",
    "\n",
    "X_train_encoded = X_train.copy()\n",
    "X_test_encoded  = X_test.copy()\n",
    "X_train_encoded[colsToEncode] = targetEncoderAuto.fit_transform(X_train[colsToEncode], y_train)\n",
    "X_test_encoded[colsToEncode]  = targetEncoderAuto.transform(X_test[colsToEncode])"
   ]
  },
  {
   "cell_type": "code",
   "execution_count": 41,
   "id": "f496d786-e848-4392-ae2e-f93a037742ad",
   "metadata": {
    "tags": []
   },
   "outputs": [
    {
     "data": {
      "text/html": [
       "<div>\n",
       "<style scoped>\n",
       "    .dataframe tbody tr th:only-of-type {\n",
       "        vertical-align: middle;\n",
       "    }\n",
       "\n",
       "    .dataframe tbody tr th {\n",
       "        vertical-align: top;\n",
       "    }\n",
       "\n",
       "    .dataframe thead th {\n",
       "        text-align: right;\n",
       "    }\n",
       "</style>\n",
       "<table border=\"1\" class=\"dataframe\">\n",
       "  <thead>\n",
       "    <tr style=\"text-align: right;\">\n",
       "      <th></th>\n",
       "      <th>subDomain</th>\n",
       "      <th>domain</th>\n",
       "      <th>tld</th>\n",
       "      <th>urlPart_path</th>\n",
       "      <th>urlPart_query</th>\n",
       "      <th>urlPart_fragment</th>\n",
       "      <th>TLD Manager</th>\n",
       "      <th>isIPaddress</th>\n",
       "      <th>url_Length</th>\n",
       "      <th>urlPart_scheme_ftp</th>\n",
       "      <th>urlPart_scheme_http</th>\n",
       "      <th>urlPart_scheme_https</th>\n",
       "      <th>urlPart_scheme_httpss</th>\n",
       "      <th>TLD_type_0</th>\n",
       "      <th>TLD_type_country-code</th>\n",
       "      <th>TLD_type_generic</th>\n",
       "      <th>TLD_type_generic-restricted</th>\n",
       "      <th>TLD_type_sponsored</th>\n",
       "    </tr>\n",
       "  </thead>\n",
       "  <tbody>\n",
       "    <tr>\n",
       "      <th>109475</th>\n",
       "      <td>0.047353</td>\n",
       "      <td>0.0000</td>\n",
       "      <td>0.092551</td>\n",
       "      <td>0.231991</td>\n",
       "      <td>0.220528</td>\n",
       "      <td>0.231338</td>\n",
       "      <td>0.092551</td>\n",
       "      <td>False</td>\n",
       "      <td>62</td>\n",
       "      <td>False</td>\n",
       "      <td>False</td>\n",
       "      <td>True</td>\n",
       "      <td>False</td>\n",
       "      <td>False</td>\n",
       "      <td>False</td>\n",
       "      <td>True</td>\n",
       "      <td>False</td>\n",
       "      <td>False</td>\n",
       "    </tr>\n",
       "    <tr>\n",
       "      <th>360352</th>\n",
       "      <td>0.995044</td>\n",
       "      <td>1.0000</td>\n",
       "      <td>1.000000</td>\n",
       "      <td>0.231992</td>\n",
       "      <td>0.220863</td>\n",
       "      <td>0.231356</td>\n",
       "      <td>0.971896</td>\n",
       "      <td>False</td>\n",
       "      <td>109</td>\n",
       "      <td>False</td>\n",
       "      <td>True</td>\n",
       "      <td>False</td>\n",
       "      <td>False</td>\n",
       "      <td>False</td>\n",
       "      <td>True</td>\n",
       "      <td>False</td>\n",
       "      <td>False</td>\n",
       "      <td>False</td>\n",
       "    </tr>\n",
       "    <tr>\n",
       "      <th>133254</th>\n",
       "      <td>0.047202</td>\n",
       "      <td>0.0000</td>\n",
       "      <td>0.161810</td>\n",
       "      <td>0.231991</td>\n",
       "      <td>0.220484</td>\n",
       "      <td>0.231357</td>\n",
       "      <td>0.169517</td>\n",
       "      <td>False</td>\n",
       "      <td>68</td>\n",
       "      <td>False</td>\n",
       "      <td>False</td>\n",
       "      <td>True</td>\n",
       "      <td>False</td>\n",
       "      <td>False</td>\n",
       "      <td>False</td>\n",
       "      <td>True</td>\n",
       "      <td>False</td>\n",
       "      <td>False</td>\n",
       "    </tr>\n",
       "    <tr>\n",
       "      <th>175455</th>\n",
       "      <td>0.047202</td>\n",
       "      <td>0.0000</td>\n",
       "      <td>0.010369</td>\n",
       "      <td>0.109659</td>\n",
       "      <td>0.000000</td>\n",
       "      <td>0.231357</td>\n",
       "      <td>0.067467</td>\n",
       "      <td>False</td>\n",
       "      <td>36</td>\n",
       "      <td>False</td>\n",
       "      <td>False</td>\n",
       "      <td>True</td>\n",
       "      <td>False</td>\n",
       "      <td>False</td>\n",
       "      <td>True</td>\n",
       "      <td>False</td>\n",
       "      <td>False</td>\n",
       "      <td>False</td>\n",
       "    </tr>\n",
       "    <tr>\n",
       "      <th>392895</th>\n",
       "      <td>1.000000</td>\n",
       "      <td>0.3895</td>\n",
       "      <td>0.784243</td>\n",
       "      <td>0.231995</td>\n",
       "      <td>0.220462</td>\n",
       "      <td>0.231331</td>\n",
       "      <td>0.559523</td>\n",
       "      <td>False</td>\n",
       "      <td>46</td>\n",
       "      <td>False</td>\n",
       "      <td>True</td>\n",
       "      <td>False</td>\n",
       "      <td>False</td>\n",
       "      <td>False</td>\n",
       "      <td>False</td>\n",
       "      <td>False</td>\n",
       "      <td>True</td>\n",
       "      <td>False</td>\n",
       "    </tr>\n",
       "  </tbody>\n",
       "</table>\n",
       "</div>"
      ],
      "text/plain": [
       "        subDomain  domain       tld  urlPart_path  urlPart_query  \\\n",
       "109475   0.047353  0.0000  0.092551      0.231991       0.220528   \n",
       "360352   0.995044  1.0000  1.000000      0.231992       0.220863   \n",
       "133254   0.047202  0.0000  0.161810      0.231991       0.220484   \n",
       "175455   0.047202  0.0000  0.010369      0.109659       0.000000   \n",
       "392895   1.000000  0.3895  0.784243      0.231995       0.220462   \n",
       "\n",
       "        urlPart_fragment  TLD Manager  isIPaddress  url_Length  \\\n",
       "109475          0.231338     0.092551        False          62   \n",
       "360352          0.231356     0.971896        False         109   \n",
       "133254          0.231357     0.169517        False          68   \n",
       "175455          0.231357     0.067467        False          36   \n",
       "392895          0.231331     0.559523        False          46   \n",
       "\n",
       "        urlPart_scheme_ftp  urlPart_scheme_http  urlPart_scheme_https  \\\n",
       "109475               False                False                  True   \n",
       "360352               False                 True                 False   \n",
       "133254               False                False                  True   \n",
       "175455               False                False                  True   \n",
       "392895               False                 True                 False   \n",
       "\n",
       "        urlPart_scheme_httpss  TLD_type_0  TLD_type_country-code  \\\n",
       "109475                  False       False                  False   \n",
       "360352                  False       False                   True   \n",
       "133254                  False       False                  False   \n",
       "175455                  False       False                   True   \n",
       "392895                  False       False                  False   \n",
       "\n",
       "        TLD_type_generic  TLD_type_generic-restricted  TLD_type_sponsored  \n",
       "109475              True                        False               False  \n",
       "360352             False                        False               False  \n",
       "133254              True                        False               False  \n",
       "175455             False                        False               False  \n",
       "392895             False                         True               False  "
      ]
     },
     "execution_count": 41,
     "metadata": {},
     "output_type": "execute_result"
    }
   ],
   "source": [
    "# Check encoding results\n",
    "pd.DataFrame(X_train_encoded).head()"
   ]
  },
  {
   "cell_type": "markdown",
   "id": "cdfeea23-8e8d-4bdb-b09a-71cad9e03676",
   "metadata": {},
   "source": [
    "> Encoding on columns 1-7 ('subDomain' to 'TLD Manager') looks good"
   ]
  },
  {
   "cell_type": "markdown",
   "id": "21d87bcc-dc54-4833-8285-94824148e8c0",
   "metadata": {
    "tags": []
   },
   "source": [
    "##### Standardize and Scale"
   ]
  },
  {
   "cell_type": "code",
   "execution_count": 44,
   "id": "26e829aa-15d5-49a2-af8e-84036478cd44",
   "metadata": {
    "tags": []
   },
   "outputs": [],
   "source": [
    "# MinMax Scale the data\n",
    "scaler = MinMaxScaler()\n",
    "scaler.fit(X_train_encoded)\n",
    "\n",
    "X_train_preprocessed = scaler.transform(X_train_encoded)\n",
    "X_test_preprocessed  = scaler.transform(X_test_encoded)"
   ]
  },
  {
   "cell_type": "code",
   "execution_count": 45,
   "id": "5378468b-961e-4dd5-8106-bfbdea5f5be7",
   "metadata": {
    "tags": []
   },
   "outputs": [
    {
     "data": {
      "text/html": [
       "<div>\n",
       "<style scoped>\n",
       "    .dataframe tbody tr th:only-of-type {\n",
       "        vertical-align: middle;\n",
       "    }\n",
       "\n",
       "    .dataframe tbody tr th {\n",
       "        vertical-align: top;\n",
       "    }\n",
       "\n",
       "    .dataframe thead th {\n",
       "        text-align: right;\n",
       "    }\n",
       "</style>\n",
       "<table border=\"1\" class=\"dataframe\">\n",
       "  <thead>\n",
       "    <tr style=\"text-align: right;\">\n",
       "      <th></th>\n",
       "      <th>0</th>\n",
       "      <th>1</th>\n",
       "      <th>2</th>\n",
       "      <th>3</th>\n",
       "      <th>4</th>\n",
       "      <th>5</th>\n",
       "      <th>6</th>\n",
       "      <th>7</th>\n",
       "      <th>8</th>\n",
       "      <th>9</th>\n",
       "      <th>10</th>\n",
       "      <th>11</th>\n",
       "      <th>12</th>\n",
       "      <th>13</th>\n",
       "      <th>14</th>\n",
       "      <th>15</th>\n",
       "      <th>16</th>\n",
       "      <th>17</th>\n",
       "    </tr>\n",
       "  </thead>\n",
       "  <tbody>\n",
       "    <tr>\n",
       "      <th>0</th>\n",
       "      <td>0.000000</td>\n",
       "      <td>0.000000</td>\n",
       "      <td>0.003428</td>\n",
       "      <td>0.231993</td>\n",
       "      <td>0.220613</td>\n",
       "      <td>0.000031</td>\n",
       "      <td>0.003428</td>\n",
       "      <td>0.0</td>\n",
       "      <td>0.014129</td>\n",
       "      <td>0.0</td>\n",
       "      <td>0.0</td>\n",
       "      <td>1.0</td>\n",
       "      <td>0.0</td>\n",
       "      <td>0.0</td>\n",
       "      <td>0.0</td>\n",
       "      <td>0.0</td>\n",
       "      <td>0.0</td>\n",
       "      <td>1.0</td>\n",
       "    </tr>\n",
       "    <tr>\n",
       "      <th>1</th>\n",
       "      <td>0.047212</td>\n",
       "      <td>0.000000</td>\n",
       "      <td>0.091958</td>\n",
       "      <td>0.231993</td>\n",
       "      <td>0.220613</td>\n",
       "      <td>0.000031</td>\n",
       "      <td>0.091958</td>\n",
       "      <td>0.0</td>\n",
       "      <td>0.028781</td>\n",
       "      <td>0.0</td>\n",
       "      <td>0.0</td>\n",
       "      <td>1.0</td>\n",
       "      <td>0.0</td>\n",
       "      <td>0.0</td>\n",
       "      <td>0.0</td>\n",
       "      <td>1.0</td>\n",
       "      <td>0.0</td>\n",
       "      <td>0.0</td>\n",
       "    </tr>\n",
       "    <tr>\n",
       "      <th>2</th>\n",
       "      <td>0.047212</td>\n",
       "      <td>0.231993</td>\n",
       "      <td>0.161421</td>\n",
       "      <td>0.109466</td>\n",
       "      <td>0.220613</td>\n",
       "      <td>0.000031</td>\n",
       "      <td>0.169260</td>\n",
       "      <td>0.0</td>\n",
       "      <td>0.008373</td>\n",
       "      <td>0.0</td>\n",
       "      <td>0.0</td>\n",
       "      <td>1.0</td>\n",
       "      <td>0.0</td>\n",
       "      <td>0.0</td>\n",
       "      <td>0.0</td>\n",
       "      <td>1.0</td>\n",
       "      <td>0.0</td>\n",
       "      <td>0.0</td>\n",
       "    </tr>\n",
       "    <tr>\n",
       "      <th>3</th>\n",
       "      <td>0.995200</td>\n",
       "      <td>0.231993</td>\n",
       "      <td>0.609738</td>\n",
       "      <td>0.231993</td>\n",
       "      <td>0.220613</td>\n",
       "      <td>0.000031</td>\n",
       "      <td>0.626788</td>\n",
       "      <td>0.0</td>\n",
       "      <td>0.010466</td>\n",
       "      <td>0.0</td>\n",
       "      <td>1.0</td>\n",
       "      <td>0.0</td>\n",
       "      <td>0.0</td>\n",
       "      <td>0.0</td>\n",
       "      <td>0.0</td>\n",
       "      <td>1.0</td>\n",
       "      <td>0.0</td>\n",
       "      <td>0.0</td>\n",
       "    </tr>\n",
       "    <tr>\n",
       "      <th>4</th>\n",
       "      <td>0.047212</td>\n",
       "      <td>0.231993</td>\n",
       "      <td>0.319154</td>\n",
       "      <td>0.231993</td>\n",
       "      <td>0.220613</td>\n",
       "      <td>0.000031</td>\n",
       "      <td>0.169260</td>\n",
       "      <td>0.0</td>\n",
       "      <td>0.060701</td>\n",
       "      <td>0.0</td>\n",
       "      <td>0.0</td>\n",
       "      <td>1.0</td>\n",
       "      <td>0.0</td>\n",
       "      <td>0.0</td>\n",
       "      <td>0.0</td>\n",
       "      <td>1.0</td>\n",
       "      <td>0.0</td>\n",
       "      <td>0.0</td>\n",
       "    </tr>\n",
       "  </tbody>\n",
       "</table>\n",
       "</div>"
      ],
      "text/plain": [
       "         0         1         2         3         4         5         6    7   \\\n",
       "0  0.000000  0.000000  0.003428  0.231993  0.220613  0.000031  0.003428  0.0   \n",
       "1  0.047212  0.000000  0.091958  0.231993  0.220613  0.000031  0.091958  0.0   \n",
       "2  0.047212  0.231993  0.161421  0.109466  0.220613  0.000031  0.169260  0.0   \n",
       "3  0.995200  0.231993  0.609738  0.231993  0.220613  0.000031  0.626788  0.0   \n",
       "4  0.047212  0.231993  0.319154  0.231993  0.220613  0.000031  0.169260  0.0   \n",
       "\n",
       "         8    9    10   11   12   13   14   15   16   17  \n",
       "0  0.014129  0.0  0.0  1.0  0.0  0.0  0.0  0.0  0.0  1.0  \n",
       "1  0.028781  0.0  0.0  1.0  0.0  0.0  0.0  1.0  0.0  0.0  \n",
       "2  0.008373  0.0  0.0  1.0  0.0  0.0  0.0  1.0  0.0  0.0  \n",
       "3  0.010466  0.0  1.0  0.0  0.0  0.0  0.0  1.0  0.0  0.0  \n",
       "4  0.060701  0.0  0.0  1.0  0.0  0.0  0.0  1.0  0.0  0.0  "
      ]
     },
     "execution_count": 45,
     "metadata": {},
     "output_type": "execute_result"
    }
   ],
   "source": [
    "# Check scaling results\n",
    "X_test_pp_DF = pd.DataFrame(X_test_preprocessed)  # make DF version X_test_preprocessed\n",
    "X_test_pp_DF.head()"
   ]
  },
  {
   "cell_type": "code",
   "execution_count": 46,
   "id": "ff959c85-6fff-4cb6-a2b8-1b5d81fa7907",
   "metadata": {
    "tags": []
   },
   "outputs": [
    {
     "data": {
      "text/html": [
       "<div>\n",
       "<style scoped>\n",
       "    .dataframe tbody tr th:only-of-type {\n",
       "        vertical-align: middle;\n",
       "    }\n",
       "\n",
       "    .dataframe tbody tr th {\n",
       "        vertical-align: top;\n",
       "    }\n",
       "\n",
       "    .dataframe thead th {\n",
       "        text-align: right;\n",
       "    }\n",
       "</style>\n",
       "<table border=\"1\" class=\"dataframe\">\n",
       "  <thead>\n",
       "    <tr style=\"text-align: right;\">\n",
       "      <th></th>\n",
       "      <th>0</th>\n",
       "      <th>1</th>\n",
       "      <th>2</th>\n",
       "      <th>3</th>\n",
       "      <th>4</th>\n",
       "      <th>5</th>\n",
       "      <th>6</th>\n",
       "      <th>7</th>\n",
       "      <th>8</th>\n",
       "      <th>9</th>\n",
       "      <th>10</th>\n",
       "      <th>11</th>\n",
       "      <th>12</th>\n",
       "      <th>13</th>\n",
       "      <th>14</th>\n",
       "      <th>15</th>\n",
       "      <th>16</th>\n",
       "      <th>17</th>\n",
       "    </tr>\n",
       "  </thead>\n",
       "  <tbody>\n",
       "    <tr>\n",
       "      <th>count</th>\n",
       "      <td>112544.000000</td>\n",
       "      <td>112544.000000</td>\n",
       "      <td>112544.000000</td>\n",
       "      <td>112544.000000</td>\n",
       "      <td>112544.000000</td>\n",
       "      <td>112544.000000</td>\n",
       "      <td>112544.000000</td>\n",
       "      <td>112544.000000</td>\n",
       "      <td>112544.000000</td>\n",
       "      <td>112544.000000</td>\n",
       "      <td>112544.000000</td>\n",
       "      <td>112544.000000</td>\n",
       "      <td>112544.000000</td>\n",
       "      <td>112544.000000</td>\n",
       "      <td>112544.000000</td>\n",
       "      <td>112544.000000</td>\n",
       "      <td>112544.000000</td>\n",
       "      <td>112544.000000</td>\n",
       "    </tr>\n",
       "    <tr>\n",
       "      <th>mean</th>\n",
       "      <td>0.225627</td>\n",
       "      <td>0.213279</td>\n",
       "      <td>0.232026</td>\n",
       "      <td>0.266458</td>\n",
       "      <td>0.235319</td>\n",
       "      <td>0.000564</td>\n",
       "      <td>0.232376</td>\n",
       "      <td>0.006540</td>\n",
       "      <td>0.027310</td>\n",
       "      <td>0.000018</td>\n",
       "      <td>0.217533</td>\n",
       "      <td>0.782361</td>\n",
       "      <td>0.000089</td>\n",
       "      <td>0.010698</td>\n",
       "      <td>0.127523</td>\n",
       "      <td>0.836117</td>\n",
       "      <td>0.003536</td>\n",
       "      <td>0.022125</td>\n",
       "    </tr>\n",
       "    <tr>\n",
       "      <th>std</th>\n",
       "      <td>0.368164</td>\n",
       "      <td>0.350663</td>\n",
       "      <td>0.227334</td>\n",
       "      <td>0.238814</td>\n",
       "      <td>0.108339</td>\n",
       "      <td>0.023083</td>\n",
       "      <td>0.222231</td>\n",
       "      <td>0.080604</td>\n",
       "      <td>0.019964</td>\n",
       "      <td>0.004216</td>\n",
       "      <td>0.412570</td>\n",
       "      <td>0.412643</td>\n",
       "      <td>0.009426</td>\n",
       "      <td>0.102877</td>\n",
       "      <td>0.333560</td>\n",
       "      <td>0.370171</td>\n",
       "      <td>0.059363</td>\n",
       "      <td>0.147090</td>\n",
       "    </tr>\n",
       "    <tr>\n",
       "      <th>min</th>\n",
       "      <td>0.000000</td>\n",
       "      <td>0.000000</td>\n",
       "      <td>0.000000</td>\n",
       "      <td>0.000000</td>\n",
       "      <td>0.000000</td>\n",
       "      <td>0.000031</td>\n",
       "      <td>0.000000</td>\n",
       "      <td>0.000000</td>\n",
       "      <td>0.002093</td>\n",
       "      <td>0.000000</td>\n",
       "      <td>0.000000</td>\n",
       "      <td>0.000000</td>\n",
       "      <td>0.000000</td>\n",
       "      <td>0.000000</td>\n",
       "      <td>0.000000</td>\n",
       "      <td>0.000000</td>\n",
       "      <td>0.000000</td>\n",
       "      <td>0.000000</td>\n",
       "    </tr>\n",
       "    <tr>\n",
       "      <th>25%</th>\n",
       "      <td>0.047212</td>\n",
       "      <td>0.000000</td>\n",
       "      <td>0.161421</td>\n",
       "      <td>0.231993</td>\n",
       "      <td>0.220613</td>\n",
       "      <td>0.000031</td>\n",
       "      <td>0.169260</td>\n",
       "      <td>0.000000</td>\n",
       "      <td>0.016745</td>\n",
       "      <td>0.000000</td>\n",
       "      <td>0.000000</td>\n",
       "      <td>1.000000</td>\n",
       "      <td>0.000000</td>\n",
       "      <td>0.000000</td>\n",
       "      <td>0.000000</td>\n",
       "      <td>1.000000</td>\n",
       "      <td>0.000000</td>\n",
       "      <td>0.000000</td>\n",
       "    </tr>\n",
       "    <tr>\n",
       "      <th>50%</th>\n",
       "      <td>0.047212</td>\n",
       "      <td>0.000000</td>\n",
       "      <td>0.161421</td>\n",
       "      <td>0.231993</td>\n",
       "      <td>0.220613</td>\n",
       "      <td>0.000031</td>\n",
       "      <td>0.169260</td>\n",
       "      <td>0.000000</td>\n",
       "      <td>0.023025</td>\n",
       "      <td>0.000000</td>\n",
       "      <td>0.000000</td>\n",
       "      <td>1.000000</td>\n",
       "      <td>0.000000</td>\n",
       "      <td>0.000000</td>\n",
       "      <td>0.000000</td>\n",
       "      <td>1.000000</td>\n",
       "      <td>0.000000</td>\n",
       "      <td>0.000000</td>\n",
       "    </tr>\n",
       "    <tr>\n",
       "      <th>75%</th>\n",
       "      <td>0.047212</td>\n",
       "      <td>0.231993</td>\n",
       "      <td>0.161421</td>\n",
       "      <td>0.231993</td>\n",
       "      <td>0.220613</td>\n",
       "      <td>0.000031</td>\n",
       "      <td>0.169260</td>\n",
       "      <td>0.000000</td>\n",
       "      <td>0.032967</td>\n",
       "      <td>0.000000</td>\n",
       "      <td>0.000000</td>\n",
       "      <td>1.000000</td>\n",
       "      <td>0.000000</td>\n",
       "      <td>0.000000</td>\n",
       "      <td>0.000000</td>\n",
       "      <td>1.000000</td>\n",
       "      <td>0.000000</td>\n",
       "      <td>0.000000</td>\n",
       "    </tr>\n",
       "    <tr>\n",
       "      <th>max</th>\n",
       "      <td>1.000000</td>\n",
       "      <td>1.000000</td>\n",
       "      <td>1.000000</td>\n",
       "      <td>1.000000</td>\n",
       "      <td>1.000000</td>\n",
       "      <td>1.000000</td>\n",
       "      <td>1.000000</td>\n",
       "      <td>1.000000</td>\n",
       "      <td>1.206698</td>\n",
       "      <td>1.000000</td>\n",
       "      <td>1.000000</td>\n",
       "      <td>1.000000</td>\n",
       "      <td>1.000000</td>\n",
       "      <td>1.000000</td>\n",
       "      <td>1.000000</td>\n",
       "      <td>1.000000</td>\n",
       "      <td>1.000000</td>\n",
       "      <td>1.000000</td>\n",
       "    </tr>\n",
       "  </tbody>\n",
       "</table>\n",
       "</div>"
      ],
      "text/plain": [
       "                  0              1              2              3   \\\n",
       "count  112544.000000  112544.000000  112544.000000  112544.000000   \n",
       "mean        0.225627       0.213279       0.232026       0.266458   \n",
       "std         0.368164       0.350663       0.227334       0.238814   \n",
       "min         0.000000       0.000000       0.000000       0.000000   \n",
       "25%         0.047212       0.000000       0.161421       0.231993   \n",
       "50%         0.047212       0.000000       0.161421       0.231993   \n",
       "75%         0.047212       0.231993       0.161421       0.231993   \n",
       "max         1.000000       1.000000       1.000000       1.000000   \n",
       "\n",
       "                  4              5              6              7   \\\n",
       "count  112544.000000  112544.000000  112544.000000  112544.000000   \n",
       "mean        0.235319       0.000564       0.232376       0.006540   \n",
       "std         0.108339       0.023083       0.222231       0.080604   \n",
       "min         0.000000       0.000031       0.000000       0.000000   \n",
       "25%         0.220613       0.000031       0.169260       0.000000   \n",
       "50%         0.220613       0.000031       0.169260       0.000000   \n",
       "75%         0.220613       0.000031       0.169260       0.000000   \n",
       "max         1.000000       1.000000       1.000000       1.000000   \n",
       "\n",
       "                  8              9              10             11  \\\n",
       "count  112544.000000  112544.000000  112544.000000  112544.000000   \n",
       "mean        0.027310       0.000018       0.217533       0.782361   \n",
       "std         0.019964       0.004216       0.412570       0.412643   \n",
       "min         0.002093       0.000000       0.000000       0.000000   \n",
       "25%         0.016745       0.000000       0.000000       1.000000   \n",
       "50%         0.023025       0.000000       0.000000       1.000000   \n",
       "75%         0.032967       0.000000       0.000000       1.000000   \n",
       "max         1.206698       1.000000       1.000000       1.000000   \n",
       "\n",
       "                  12             13             14             15  \\\n",
       "count  112544.000000  112544.000000  112544.000000  112544.000000   \n",
       "mean        0.000089       0.010698       0.127523       0.836117   \n",
       "std         0.009426       0.102877       0.333560       0.370171   \n",
       "min         0.000000       0.000000       0.000000       0.000000   \n",
       "25%         0.000000       0.000000       0.000000       1.000000   \n",
       "50%         0.000000       0.000000       0.000000       1.000000   \n",
       "75%         0.000000       0.000000       0.000000       1.000000   \n",
       "max         1.000000       1.000000       1.000000       1.000000   \n",
       "\n",
       "                  16             17  \n",
       "count  112544.000000  112544.000000  \n",
       "mean        0.003536       0.022125  \n",
       "std         0.059363       0.147090  \n",
       "min         0.000000       0.000000  \n",
       "25%         0.000000       0.000000  \n",
       "50%         0.000000       0.000000  \n",
       "75%         0.000000       0.000000  \n",
       "max         1.000000       1.000000  "
      ]
     },
     "execution_count": 46,
     "metadata": {},
     "output_type": "execute_result"
    }
   ],
   "source": [
    "X_test_pp_DF.describe()"
   ]
  },
  {
   "cell_type": "markdown",
   "id": "0440e798-a771-42e0-baa2-436526329ae3",
   "metadata": {},
   "source": [
    "#### Modeling"
   ]
  },
  {
   "cell_type": "code",
   "execution_count": 48,
   "id": "8a8d00eb-8a80-46d9-a27d-64993ab59ac2",
   "metadata": {
    "tags": []
   },
   "outputs": [
    {
     "data": {
      "text/plain": [
       "18"
      ]
     },
     "execution_count": 48,
     "metadata": {},
     "output_type": "execute_result"
    }
   ],
   "source": [
    "# Get Dataset Shape\n",
    "X_shape = X_train_preprocessed.shape[1]\n",
    "X_shape"
   ]
  },
  {
   "cell_type": "code",
   "execution_count": 49,
   "id": "b757126a-49e7-4b80-8b1a-244af48e62aa",
   "metadata": {
    "tags": []
   },
   "outputs": [],
   "source": [
    "# Build (Basic) Model - A\n",
    "model = keras.Sequential()\n",
    "model.add(keras.Input(shape=(X_shape,)))\n",
    "model.add(layers.Dense(20, activation='relu'))\n",
    "model.add(layers.Dense(1, activation='sigmoid'))\n",
    "model.compile(optimizer='adam', loss='binary_crossentropy', metrics=['Recall'])"
   ]
  },
  {
   "cell_type": "code",
   "execution_count": 50,
   "id": "d8f336c0-5532-4b33-a685-2436f5520d8b",
   "metadata": {
    "tags": []
   },
   "outputs": [
    {
     "data": {
      "text/html": [
       "<pre style=\"white-space:pre;overflow-x:auto;line-height:normal;font-family:Menlo,'DejaVu Sans Mono',consolas,'Courier New',monospace\"><span style=\"font-weight: bold\">Model: \"sequential\"</span>\n",
       "</pre>\n"
      ],
      "text/plain": [
       "\u001b[1mModel: \"sequential\"\u001b[0m\n"
      ]
     },
     "metadata": {},
     "output_type": "display_data"
    },
    {
     "data": {
      "text/html": [
       "<pre style=\"white-space:pre;overflow-x:auto;line-height:normal;font-family:Menlo,'DejaVu Sans Mono',consolas,'Courier New',monospace\">┏━━━━━━━━━━━━━━━━━━━━━━━━━━━━━━━━━━━━━━┳━━━━━━━━━━━━━━━━━━━━━━━━━━━━━┳━━━━━━━━━━━━━━━━━┓\n",
       "┃<span style=\"font-weight: bold\"> Layer (type)                         </span>┃<span style=\"font-weight: bold\"> Output Shape                </span>┃<span style=\"font-weight: bold\">         Param # </span>┃\n",
       "┡━━━━━━━━━━━━━━━━━━━━━━━━━━━━━━━━━━━━━━╇━━━━━━━━━━━━━━━━━━━━━━━━━━━━━╇━━━━━━━━━━━━━━━━━┩\n",
       "│ dense (<span style=\"color: #0087ff; text-decoration-color: #0087ff\">Dense</span>)                        │ (<span style=\"color: #00d7ff; text-decoration-color: #00d7ff\">None</span>, <span style=\"color: #00af00; text-decoration-color: #00af00\">20</span>)                  │             <span style=\"color: #00af00; text-decoration-color: #00af00\">380</span> │\n",
       "├──────────────────────────────────────┼─────────────────────────────┼─────────────────┤\n",
       "│ dense_1 (<span style=\"color: #0087ff; text-decoration-color: #0087ff\">Dense</span>)                      │ (<span style=\"color: #00d7ff; text-decoration-color: #00d7ff\">None</span>, <span style=\"color: #00af00; text-decoration-color: #00af00\">1</span>)                   │              <span style=\"color: #00af00; text-decoration-color: #00af00\">21</span> │\n",
       "└──────────────────────────────────────┴─────────────────────────────┴─────────────────┘\n",
       "</pre>\n"
      ],
      "text/plain": [
       "┏━━━━━━━━━━━━━━━━━━━━━━━━━━━━━━━━━━━━━━┳━━━━━━━━━━━━━━━━━━━━━━━━━━━━━┳━━━━━━━━━━━━━━━━━┓\n",
       "┃\u001b[1m \u001b[0m\u001b[1mLayer (type)                        \u001b[0m\u001b[1m \u001b[0m┃\u001b[1m \u001b[0m\u001b[1mOutput Shape               \u001b[0m\u001b[1m \u001b[0m┃\u001b[1m \u001b[0m\u001b[1m        Param #\u001b[0m\u001b[1m \u001b[0m┃\n",
       "┡━━━━━━━━━━━━━━━━━━━━━━━━━━━━━━━━━━━━━━╇━━━━━━━━━━━━━━━━━━━━━━━━━━━━━╇━━━━━━━━━━━━━━━━━┩\n",
       "│ dense (\u001b[38;5;33mDense\u001b[0m)                        │ (\u001b[38;5;45mNone\u001b[0m, \u001b[38;5;34m20\u001b[0m)                  │             \u001b[38;5;34m380\u001b[0m │\n",
       "├──────────────────────────────────────┼─────────────────────────────┼─────────────────┤\n",
       "│ dense_1 (\u001b[38;5;33mDense\u001b[0m)                      │ (\u001b[38;5;45mNone\u001b[0m, \u001b[38;5;34m1\u001b[0m)                   │              \u001b[38;5;34m21\u001b[0m │\n",
       "└──────────────────────────────────────┴─────────────────────────────┴─────────────────┘\n"
      ]
     },
     "metadata": {},
     "output_type": "display_data"
    },
    {
     "data": {
      "text/html": [
       "<pre style=\"white-space:pre;overflow-x:auto;line-height:normal;font-family:Menlo,'DejaVu Sans Mono',consolas,'Courier New',monospace\"><span style=\"font-weight: bold\"> Total params: </span><span style=\"color: #00af00; text-decoration-color: #00af00\">401</span> (1.57 KB)\n",
       "</pre>\n"
      ],
      "text/plain": [
       "\u001b[1m Total params: \u001b[0m\u001b[38;5;34m401\u001b[0m (1.57 KB)\n"
      ]
     },
     "metadata": {},
     "output_type": "display_data"
    },
    {
     "data": {
      "text/html": [
       "<pre style=\"white-space:pre;overflow-x:auto;line-height:normal;font-family:Menlo,'DejaVu Sans Mono',consolas,'Courier New',monospace\"><span style=\"font-weight: bold\"> Trainable params: </span><span style=\"color: #00af00; text-decoration-color: #00af00\">401</span> (1.57 KB)\n",
       "</pre>\n"
      ],
      "text/plain": [
       "\u001b[1m Trainable params: \u001b[0m\u001b[38;5;34m401\u001b[0m (1.57 KB)\n"
      ]
     },
     "metadata": {},
     "output_type": "display_data"
    },
    {
     "data": {
      "text/html": [
       "<pre style=\"white-space:pre;overflow-x:auto;line-height:normal;font-family:Menlo,'DejaVu Sans Mono',consolas,'Courier New',monospace\"><span style=\"font-weight: bold\"> Non-trainable params: </span><span style=\"color: #00af00; text-decoration-color: #00af00\">0</span> (0.00 B)\n",
       "</pre>\n"
      ],
      "text/plain": [
       "\u001b[1m Non-trainable params: \u001b[0m\u001b[38;5;34m0\u001b[0m (0.00 B)\n"
      ]
     },
     "metadata": {},
     "output_type": "display_data"
    }
   ],
   "source": [
    "#View Model Structure\n",
    "model.summary()"
   ]
  },
  {
   "cell_type": "markdown",
   "id": "27e7114f-947c-4b2e-8e81-2e4604a3eb85",
   "metadata": {
    "tags": []
   },
   "source": [
    "##### Fit Model - A"
   ]
  },
  {
   "cell_type": "code",
   "execution_count": 52,
   "id": "386a87ef-a368-45b3-bc1d-d12abe916d56",
   "metadata": {},
   "outputs": [
    {
     "name": "stdout",
     "output_type": "stream",
     "text": [
      "\u001b[1m7914/7914\u001b[0m \u001b[32m━━━━━━━━━━━━━━━━━━━━\u001b[0m\u001b[37m\u001b[0m \u001b[1m19s\u001b[0m 2ms/step - Recall: 0.9121 - loss: 0.0782 - val_Recall: 0.9917 - val_loss: 0.0120\n"
     ]
    },
    {
     "data": {
      "text/plain": [
       "<keras.src.callbacks.history.History at 0x1d4aba61350>"
      ]
     },
     "execution_count": 52,
     "metadata": {},
     "output_type": "execute_result"
    }
   ],
   "source": [
    "model.fit(X_train_preprocessed, y_train, validation_split=0.25)"
   ]
  },
  {
   "cell_type": "code",
   "execution_count": 53,
   "id": "b6b3664a-8315-4f6c-b74d-32d461b3a392",
   "metadata": {
    "tags": []
   },
   "outputs": [
    {
     "name": "stdout",
     "output_type": "stream",
     "text": [
      "\u001b[1m3517/3517\u001b[0m \u001b[32m━━━━━━━━━━━━━━━━━━━━\u001b[0m\u001b[37m\u001b[0m \u001b[1m4s\u001b[0m 1ms/step\n"
     ]
    }
   ],
   "source": [
    "# predict with model\n",
    "predictions = model.predict(X_test_preprocessed)"
   ]
  },
  {
   "cell_type": "code",
   "execution_count": 54,
   "id": "e5a07865-ca9f-4940-98a6-14a2ca4e3528",
   "metadata": {
    "tags": []
   },
   "outputs": [],
   "source": [
    "# function : convert continuous value to boolean\n",
    "def makeBool(predictions):\n",
    "    '''make predictions boolean (0.5 threshold)'''\n",
    "    return predictions >= 0.5"
   ]
  },
  {
   "cell_type": "code",
   "execution_count": 55,
   "id": "be7c1f31-6a40-41d1-84f9-b9af07b1460d",
   "metadata": {
    "tags": []
   },
   "outputs": [],
   "source": [
    "# make the results boolean\n",
    "predictions_bool = makeBool(predictions)"
   ]
  },
  {
   "cell_type": "markdown",
   "id": "9ae66608-3b63-46a3-aae8-1de38be3a773",
   "metadata": {},
   "source": [
    "##### Evaluate model - A"
   ]
  },
  {
   "cell_type": "code",
   "execution_count": 57,
   "id": "eaf04325-8673-4928-bf89-051e0c6ef0ac",
   "metadata": {
    "tags": []
   },
   "outputs": [
    {
     "name": "stdout",
     "output_type": "stream",
     "text": [
      "                precision    recall  f1-score   support\n",
      "\n",
      "Legitimate URL    0.99756   0.99823   0.99790     86435\n",
      "     Phish URL    0.99413   0.99192   0.99302     26109\n",
      "\n",
      "      accuracy                        0.99677    112544\n",
      "     macro avg    0.99584   0.99507   0.99546    112544\n",
      "  weighted avg    0.99676   0.99677   0.99676    112544\n",
      "\n"
     ]
    }
   ],
   "source": [
    "# Classification Report\n",
    "classRptModelA = classification_report(y_test, predictions_bool, digits=5, target_names=['Legitimate URL', 'Phish URL'])\n",
    "print(classRptModelA)"
   ]
  },
  {
   "cell_type": "markdown",
   "id": "3e437170-b91c-49e9-bd88-461eeafd3076",
   "metadata": {},
   "source": [
    "> I believe these (otherwise suspiciously) good classification metrics is because of the outsized effect of the url_scheme feature"
   ]
  },
  {
   "cell_type": "code",
   "execution_count": 59,
   "id": "f256619d-8052-4127-8dce-6414889faceb",
   "metadata": {
    "tags": []
   },
   "outputs": [],
   "source": [
    "# Precision Recall Curve\n",
    "precision, recall, thresholds = precision_recall_curve(y_test, predictions_bool)\n",
    "auc_score = auc(recall, precision)\n",
    "\n",
    "#https://www.geeksforgeeks.org/precision-recall-curve-ml/"
   ]
  },
  {
   "cell_type": "code",
   "execution_count": 60,
   "id": "644e49d9-3294-4c8e-93ec-e8cf8e741510",
   "metadata": {},
   "outputs": [
    {
     "name": "stdout",
     "output_type": "stream",
     "text": [
      "precision: \n",
      "[0.23198927 0.9941269  1.        ]\n",
      "\n",
      "recall: \n",
      "[1.        0.9919185 0.       ]\n",
      "\n",
      "AUC score: \n",
      "0.9939601113734704\n"
     ]
    }
   ],
   "source": [
    "# peek at Pr values - TEMP\n",
    "print('precision: ')\n",
    "print(precision)\n",
    "print('\\nrecall: ')\n",
    "print(recall)\n",
    "print('\\nAUC score: ')\n",
    "print(auc_score)"
   ]
  },
  {
   "cell_type": "code",
   "execution_count": 61,
   "id": "91f6aeb2-a700-4b90-903f-143bf60b462d",
   "metadata": {
    "tags": []
   },
   "outputs": [],
   "source": [
    "# Plot precision-recall curve function\n",
    "def plotPRcurve(recall, precision):\n",
    "    ''' just plot the PR curve'''\n",
    "    plt.figure(figsize=(8, 6))\n",
    "    plt.plot(recall, precision, label=f'Precision-Recall Curve (AUC = {auc_score:.2f})')\n",
    "    plt.xlabel('Recall')\n",
    "    plt.ylabel('Precision')\n",
    "    plt.title('Precision-Recall Curve - Phish Detect Model')\n",
    "    plt.legend()\n",
    "    plt.show()"
   ]
  },
  {
   "cell_type": "code",
   "execution_count": 62,
   "id": "ee075518-1222-48cd-8bc6-c1851bde02f1",
   "metadata": {
    "tags": []
   },
   "outputs": [
    {
     "data": {
      "image/png": "[encoded data removed]",
      "text/plain": [
       "<Figure size 800x600 with 1 Axes>"
      ]
     },
     "metadata": {},
     "output_type": "display_data"
    }
   ],
   "source": [
    "# plot PR Curve\n",
    "plotPRcurve(recall, precision)"
   ]
  },
  {
   "cell_type": "markdown",
   "id": "e27150f1-cc55-40f3-a802-5e3d24e529de",
   "metadata": {
    "tags": []
   },
   "source": [
    "##### Evaluate Scenario #2\n",
    "check results on non-http nor https scheme URLs\n",
    "- we know having \"http\" and \"https\" in the URL has an outsized influence on the target in this dataset.\n",
    "- Let's see the results on the significantly smaller set of URLs **not** using http or https"
   ]
  },
  {
   "cell_type": "code",
   "execution_count": 64,
   "id": "4e44efe2-42c0-4a5b-a182-0a4c114e41d1",
   "metadata": {
    "tags": []
   },
   "outputs": [
    {
     "name": "stdout",
     "output_type": "stream",
     "text": [
      "<class 'pandas.core.frame.DataFrame'>\n",
      "Index: 112544 entries, 79843 to 308686\n",
      "Data columns (total 18 columns):\n",
      " #   Column                       Non-Null Count   Dtype  \n",
      "---  ------                       --------------   -----  \n",
      " 0   subDomain                    112544 non-null  float64\n",
      " 1   domain                       112544 non-null  float64\n",
      " 2   tld                          112544 non-null  float64\n",
      " 3   urlPart_path                 112544 non-null  float64\n",
      " 4   urlPart_query                112544 non-null  float64\n",
      " 5   urlPart_fragment             112544 non-null  float64\n",
      " 6   TLD Manager                  112544 non-null  float64\n",
      " 7   isIPaddress                  112544 non-null  bool   \n",
      " 8   url_Length                   112544 non-null  int64  \n",
      " 9   urlPart_scheme_ftp           112544 non-null  bool   \n",
      " 10  urlPart_scheme_http          112544 non-null  bool   \n",
      " 11  urlPart_scheme_https         112544 non-null  bool   \n",
      " 12  urlPart_scheme_httpss        112544 non-null  bool   \n",
      " 13  TLD_type_0                   112544 non-null  bool   \n",
      " 14  TLD_type_country-code        112544 non-null  bool   \n",
      " 15  TLD_type_generic             112544 non-null  bool   \n",
      " 16  TLD_type_generic-restricted  112544 non-null  bool   \n",
      " 17  TLD_type_sponsored           112544 non-null  bool   \n",
      "dtypes: bool(10), float64(7), int64(1)\n",
      "memory usage: 8.8 MB\n"
     ]
    }
   ],
   "source": [
    "# check which cols are https and http\n",
    "X_test_encoded.info()"
   ]
  },
  {
   "cell_type": "markdown",
   "id": "6ab2c167-335e-4cef-bcce-e3fb23fcf2c3",
   "metadata": {},
   "source": [
    "> We'll check model results for the data without these...\n",
    "> - 10  urlPart_scheme_http\n",
    "> - 11  urlPart_scheme_https"
   ]
  },
  {
   "cell_type": "code",
   "execution_count": 66,
   "id": "903c77bc-f558-43aa-a502-98e4be2e70f2",
   "metadata": {
    "tags": []
   },
   "outputs": [],
   "source": [
    "# mask for numpy array - exclude http and https\n",
    "np_mask_scheme = (X_test_preprocessed[:,10] == 0) & (X_test_preprocessed[:,11] == 0)"
   ]
  },
  {
   "cell_type": "code",
   "execution_count": 67,
   "id": "f9845aa5-4283-416d-9f81-7f8cf6f377fe",
   "metadata": {
    "tags": []
   },
   "outputs": [],
   "source": [
    "# create new filter of predictions bool\n",
    "predictions_bool_S2 = makeBool(predictions[np_mask_scheme])"
   ]
  },
  {
   "cell_type": "code",
   "execution_count": 68,
   "id": "c1a3478a-1588-4def-9f41-cc7b512d03b1",
   "metadata": {
    "tags": []
   },
   "outputs": [
    {
     "name": "stdout",
     "output_type": "stream",
     "text": [
      "                precision    recall  f1-score   support\n",
      "\n",
      "Legitimate URL    1.00000   0.90000   0.94737        10\n",
      "     Phish URL    0.66667   1.00000   0.80000         2\n",
      "\n",
      "      accuracy                        0.91667        12\n",
      "     macro avg    0.83333   0.95000   0.87368        12\n",
      "  weighted avg    0.94444   0.91667   0.92281        12\n",
      "\n"
     ]
    }
   ],
   "source": [
    "# Classification Report - scenario #2\n",
    "print(classification_report(y_test[np_mask_scheme], predictions_bool_S2, digits=5, target_names=['Legitimate URL', 'Phish URL']))"
   ]
  },
  {
   "cell_type": "code",
   "execution_count": 69,
   "id": "448f731f-064b-47c2-958d-724cfb50497c",
   "metadata": {
    "tags": []
   },
   "outputs": [],
   "source": [
    "# Precision Recall Curve\n",
    "precision, recall, thresholds = precision_recall_curve(y_test[np_mask_scheme], predictions_bool_S2)\n",
    "auc_score = auc(recall, precision)"
   ]
  },
  {
   "cell_type": "code",
   "execution_count": 70,
   "id": "e3abc322-1684-45e9-976e-921a0e216924",
   "metadata": {},
   "outputs": [
    {
     "name": "stdout",
     "output_type": "stream",
     "text": [
      "precision: \n",
      "[0.16666667 0.66666667 1.        ]\n",
      "\n",
      "recall: \n",
      "[1. 1. 0.]\n",
      "\n",
      "AUC score: \n",
      "0.8333333333333333\n"
     ]
    }
   ],
   "source": [
    "# peek at Pr values - TEMP\n",
    "print('precision: ')\n",
    "print(precision)\n",
    "print('\\nrecall: ')\n",
    "print(recall)\n",
    "print('\\nAUC score: ')\n",
    "print(auc_score)"
   ]
  },
  {
   "cell_type": "code",
   "execution_count": 71,
   "id": "6e118f88-e3ea-4e66-9ed0-14f7d41712d2",
   "metadata": {
    "tags": []
   },
   "outputs": [
    {
     "data": {
      "image/png": "[encoded data removed]",
      "text/plain": [
       "<Figure size 800x600 with 1 Axes>"
      ]
     },
     "metadata": {},
     "output_type": "display_data"
    }
   ],
   "source": [
    "# plot PR curve - scenario #2\n",
    "plotPRcurve(recall, precision)"
   ]
  },
  {
   "cell_type": "markdown",
   "id": "fd40f1ce-b475-4abe-8ddc-0080dd941b2a",
   "metadata": {},
   "source": [
    "> As expected, the results suffer somewhat when observing only the non-http and https URLs. Results look more \"real world\""
   ]
  },
  {
   "cell_type": "markdown",
   "id": "7554eec3-8daa-47c0-a14a-9e08a1efd2d4",
   "metadata": {},
   "source": [
    "**Evaluate a New Model \"B\"**\n",
    "\n",
    "- The previous model had a single hidden layer with 20 nodes (tall?)\n",
    "- How about we evaluate a model with different dimensions - 3 hidden layers and 10 + 2 + 2 nodes (longer)"
   ]
  },
  {
   "cell_type": "code",
   "execution_count": 74,
   "id": "599dc19d-60b2-4730-8dd0-ad838816ba95",
   "metadata": {
    "tags": []
   },
   "outputs": [],
   "source": [
    "# Build (Basic) Model - B\n",
    "modelB = keras.Sequential()\n",
    "modelB.add(keras.Input(shape=(X_shape,)))\n",
    "modelB.add(layers.Dense(10, activation='relu'))\n",
    "modelB.add(layers.Dense(2, activation='relu'))\n",
    "modelB.add(layers.Dense(2, activation='relu'))\n",
    "modelB.add(layers.Dense(1, activation='sigmoid'))\n",
    "modelB.compile(optimizer='adam', loss='binary_crossentropy', metrics=['Recall'])"
   ]
  },
  {
   "cell_type": "code",
   "execution_count": 75,
   "id": "5de97222-9bca-481c-8c66-5670cf1e7125",
   "metadata": {
    "tags": []
   },
   "outputs": [
    {
     "data": {
      "text/html": [
       "<pre style=\"white-space:pre;overflow-x:auto;line-height:normal;font-family:Menlo,'DejaVu Sans Mono',consolas,'Courier New',monospace\"><span style=\"font-weight: bold\">Model: \"sequential_1\"</span>\n",
       "</pre>\n"
      ],
      "text/plain": [
       "\u001b[1mModel: \"sequential_1\"\u001b[0m\n"
      ]
     },
     "metadata": {},
     "output_type": "display_data"
    },
    {
     "data": {
      "text/html": [
       "<pre style=\"white-space:pre;overflow-x:auto;line-height:normal;font-family:Menlo,'DejaVu Sans Mono',consolas,'Courier New',monospace\">┏━━━━━━━━━━━━━━━━━━━━━━━━━━━━━━━━━━━━━━┳━━━━━━━━━━━━━━━━━━━━━━━━━━━━━┳━━━━━━━━━━━━━━━━━┓\n",
       "┃<span style=\"font-weight: bold\"> Layer (type)                         </span>┃<span style=\"font-weight: bold\"> Output Shape                </span>┃<span style=\"font-weight: bold\">         Param # </span>┃\n",
       "┡━━━━━━━━━━━━━━━━━━━━━━━━━━━━━━━━━━━━━━╇━━━━━━━━━━━━━━━━━━━━━━━━━━━━━╇━━━━━━━━━━━━━━━━━┩\n",
       "│ dense_2 (<span style=\"color: #0087ff; text-decoration-color: #0087ff\">Dense</span>)                      │ (<span style=\"color: #00d7ff; text-decoration-color: #00d7ff\">None</span>, <span style=\"color: #00af00; text-decoration-color: #00af00\">10</span>)                  │             <span style=\"color: #00af00; text-decoration-color: #00af00\">190</span> │\n",
       "├──────────────────────────────────────┼─────────────────────────────┼─────────────────┤\n",
       "│ dense_3 (<span style=\"color: #0087ff; text-decoration-color: #0087ff\">Dense</span>)                      │ (<span style=\"color: #00d7ff; text-decoration-color: #00d7ff\">None</span>, <span style=\"color: #00af00; text-decoration-color: #00af00\">2</span>)                   │              <span style=\"color: #00af00; text-decoration-color: #00af00\">22</span> │\n",
       "├──────────────────────────────────────┼─────────────────────────────┼─────────────────┤\n",
       "│ dense_4 (<span style=\"color: #0087ff; text-decoration-color: #0087ff\">Dense</span>)                      │ (<span style=\"color: #00d7ff; text-decoration-color: #00d7ff\">None</span>, <span style=\"color: #00af00; text-decoration-color: #00af00\">2</span>)                   │               <span style=\"color: #00af00; text-decoration-color: #00af00\">6</span> │\n",
       "├──────────────────────────────────────┼─────────────────────────────┼─────────────────┤\n",
       "│ dense_5 (<span style=\"color: #0087ff; text-decoration-color: #0087ff\">Dense</span>)                      │ (<span style=\"color: #00d7ff; text-decoration-color: #00d7ff\">None</span>, <span style=\"color: #00af00; text-decoration-color: #00af00\">1</span>)                   │               <span style=\"color: #00af00; text-decoration-color: #00af00\">3</span> │\n",
       "└──────────────────────────────────────┴─────────────────────────────┴─────────────────┘\n",
       "</pre>\n"
      ],
      "text/plain": [
       "┏━━━━━━━━━━━━━━━━━━━━━━━━━━━━━━━━━━━━━━┳━━━━━━━━━━━━━━━━━━━━━━━━━━━━━┳━━━━━━━━━━━━━━━━━┓\n",
       "┃\u001b[1m \u001b[0m\u001b[1mLayer (type)                        \u001b[0m\u001b[1m \u001b[0m┃\u001b[1m \u001b[0m\u001b[1mOutput Shape               \u001b[0m\u001b[1m \u001b[0m┃\u001b[1m \u001b[0m\u001b[1m        Param #\u001b[0m\u001b[1m \u001b[0m┃\n",
       "┡━━━━━━━━━━━━━━━━━━━━━━━━━━━━━━━━━━━━━━╇━━━━━━━━━━━━━━━━━━━━━━━━━━━━━╇━━━━━━━━━━━━━━━━━┩\n",
       "│ dense_2 (\u001b[38;5;33mDense\u001b[0m)                      │ (\u001b[38;5;45mNone\u001b[0m, \u001b[38;5;34m10\u001b[0m)                  │             \u001b[38;5;34m190\u001b[0m │\n",
       "├──────────────────────────────────────┼─────────────────────────────┼─────────────────┤\n",
       "│ dense_3 (\u001b[38;5;33mDense\u001b[0m)                      │ (\u001b[38;5;45mNone\u001b[0m, \u001b[38;5;34m2\u001b[0m)                   │              \u001b[38;5;34m22\u001b[0m │\n",
       "├──────────────────────────────────────┼─────────────────────────────┼─────────────────┤\n",
       "│ dense_4 (\u001b[38;5;33mDense\u001b[0m)                      │ (\u001b[38;5;45mNone\u001b[0m, \u001b[38;5;34m2\u001b[0m)                   │               \u001b[38;5;34m6\u001b[0m │\n",
       "├──────────────────────────────────────┼─────────────────────────────┼─────────────────┤\n",
       "│ dense_5 (\u001b[38;5;33mDense\u001b[0m)                      │ (\u001b[38;5;45mNone\u001b[0m, \u001b[38;5;34m1\u001b[0m)                   │               \u001b[38;5;34m3\u001b[0m │\n",
       "└──────────────────────────────────────┴─────────────────────────────┴─────────────────┘\n"
      ]
     },
     "metadata": {},
     "output_type": "display_data"
    },
    {
     "data": {
      "text/html": [
       "<pre style=\"white-space:pre;overflow-x:auto;line-height:normal;font-family:Menlo,'DejaVu Sans Mono',consolas,'Courier New',monospace\"><span style=\"font-weight: bold\"> Total params: </span><span style=\"color: #00af00; text-decoration-color: #00af00\">221</span> (884.00 B)\n",
       "</pre>\n"
      ],
      "text/plain": [
       "\u001b[1m Total params: \u001b[0m\u001b[38;5;34m221\u001b[0m (884.00 B)\n"
      ]
     },
     "metadata": {},
     "output_type": "display_data"
    },
    {
     "data": {
      "text/html": [
       "<pre style=\"white-space:pre;overflow-x:auto;line-height:normal;font-family:Menlo,'DejaVu Sans Mono',consolas,'Courier New',monospace\"><span style=\"font-weight: bold\"> Trainable params: </span><span style=\"color: #00af00; text-decoration-color: #00af00\">221</span> (884.00 B)\n",
       "</pre>\n"
      ],
      "text/plain": [
       "\u001b[1m Trainable params: \u001b[0m\u001b[38;5;34m221\u001b[0m (884.00 B)\n"
      ]
     },
     "metadata": {},
     "output_type": "display_data"
    },
    {
     "data": {
      "text/html": [
       "<pre style=\"white-space:pre;overflow-x:auto;line-height:normal;font-family:Menlo,'DejaVu Sans Mono',consolas,'Courier New',monospace\"><span style=\"font-weight: bold\"> Non-trainable params: </span><span style=\"color: #00af00; text-decoration-color: #00af00\">0</span> (0.00 B)\n",
       "</pre>\n"
      ],
      "text/plain": [
       "\u001b[1m Non-trainable params: \u001b[0m\u001b[38;5;34m0\u001b[0m (0.00 B)\n"
      ]
     },
     "metadata": {},
     "output_type": "display_data"
    }
   ],
   "source": [
    "# View Model Structure\n",
    "modelB.summary()"
   ]
  },
  {
   "cell_type": "markdown",
   "id": "99a0a5b8-74c3-4845-b7d5-3e0eae0aeb8e",
   "metadata": {
    "tags": []
   },
   "source": [
    "##### Fit model- B"
   ]
  },
  {
   "cell_type": "code",
   "execution_count": 77,
   "id": "57332f0e-7a34-49cd-8c81-a6788328945d",
   "metadata": {
    "tags": []
   },
   "outputs": [
    {
     "name": "stdout",
     "output_type": "stream",
     "text": [
      "\u001b[1m7914/7914\u001b[0m \u001b[32m━━━━━━━━━━━━━━━━━━━━\u001b[0m\u001b[37m\u001b[0m \u001b[1m23s\u001b[0m 3ms/step - Recall: 0.8454 - loss: 0.1225 - val_Recall: 0.9914 - val_loss: 0.0159\n"
     ]
    },
    {
     "data": {
      "text/plain": [
       "<keras.src.callbacks.history.History at 0x1d4aba6a710>"
      ]
     },
     "execution_count": 77,
     "metadata": {},
     "output_type": "execute_result"
    }
   ],
   "source": [
    "# Fit Model B\n",
    "modelB.fit(X_train_preprocessed, y_train, validation_split=0.25)"
   ]
  },
  {
   "cell_type": "code",
   "execution_count": 78,
   "id": "904023b1-acd5-498e-8a40-ecbeb278c331",
   "metadata": {
    "tags": []
   },
   "outputs": [
    {
     "name": "stdout",
     "output_type": "stream",
     "text": [
      "\u001b[1m3517/3517\u001b[0m \u001b[32m━━━━━━━━━━━━━━━━━━━━\u001b[0m\u001b[37m\u001b[0m \u001b[1m5s\u001b[0m 1ms/step\n"
     ]
    }
   ],
   "source": [
    "# predict with model - B\n",
    "predictionsB = modelB.predict(X_test_preprocessed)"
   ]
  },
  {
   "cell_type": "code",
   "execution_count": 79,
   "id": "7754ba4e-0864-418a-a59e-cd5b9b91458a",
   "metadata": {
    "tags": []
   },
   "outputs": [],
   "source": [
    "# make the results boolean\n",
    "predictions_boolB = makeBool(predictionsB)"
   ]
  },
  {
   "cell_type": "markdown",
   "id": "9e8b694e-8f9e-4a4f-baed-c6982fb6abbc",
   "metadata": {
    "tags": []
   },
   "source": [
    "##### Select best model"
   ]
  },
  {
   "cell_type": "markdown",
   "id": "1502057d-a8f7-4cb3-bd36-205f2be602f6",
   "metadata": {
    "tags": []
   },
   "source": [
    "Model B"
   ]
  },
  {
   "cell_type": "code",
   "execution_count": 82,
   "id": "5f348351-bdbc-492a-ad74-65c5617101bc",
   "metadata": {
    "tags": []
   },
   "outputs": [
    {
     "name": "stdout",
     "output_type": "stream",
     "text": [
      "                precision    recall  f1-score   support\n",
      "\n",
      "Legitimate URL    0.99746   0.99829   0.99787     86435\n",
      "     Phish URL    0.99432   0.99157   0.99294     26109\n",
      "\n",
      "      accuracy                        0.99673    112544\n",
      "     macro avg    0.99589   0.99493   0.99541    112544\n",
      "  weighted avg    0.99673   0.99673   0.99673    112544\n",
      "\n"
     ]
    }
   ],
   "source": [
    "# Classification Report - model B\n",
    "classRptModelB = classification_report(y_test, predictions_boolB, digits=5, target_names=['Legitimate URL', 'Phish URL'])\n",
    "print(classRptModelB)"
   ]
  },
  {
   "cell_type": "markdown",
   "id": "c7b2386e-2f5b-4784-8ba7-5a0fe0f485be",
   "metadata": {},
   "source": [
    "Model A"
   ]
  },
  {
   "cell_type": "code",
   "execution_count": 84,
   "id": "67c793b0-959e-4668-bf2c-04a1f9df6f06",
   "metadata": {
    "tags": []
   },
   "outputs": [
    {
     "name": "stdout",
     "output_type": "stream",
     "text": [
      "                precision    recall  f1-score   support\n",
      "\n",
      "Legitimate URL    0.99756   0.99823   0.99790     86435\n",
      "     Phish URL    0.99413   0.99192   0.99302     26109\n",
      "\n",
      "      accuracy                        0.99677    112544\n",
      "     macro avg    0.99584   0.99507   0.99546    112544\n",
      "  weighted avg    0.99676   0.99677   0.99676    112544\n",
      "\n"
     ]
    }
   ],
   "source": [
    "print(classRptModelA)"
   ]
  },
  {
   "cell_type": "markdown",
   "id": "bdd8aaf8-38f7-4274-879e-7b3766e021a2",
   "metadata": {
    "tags": []
   },
   "source": [
    "**Model B** performs best on this data set\n",
    "- Evaluation metric: recall (Phish URL)\n",
    "    - Model A: 0.99111\n",
    "    - Model B: 0.99299\n",
    "    "
   ]
  },
  {
   "cell_type": "markdown",
   "id": "e14510e5-ac93-4058-8163-a0d8157a872a",
   "metadata": {
    "tags": []
   },
   "source": [
    "- **Model B** performs best on this data set but only by a hair."
   ]
  },
  {
   "cell_type": "code",
   "execution_count": null,
   "id": "b0cea93f-72c6-409e-b679-68e38d42aaa2",
   "metadata": {},
   "outputs": [],
   "source": []
  }
 ],
 "metadata": {
  "kernelspec": {
   "display_name": "Python 3 (ipykernel)",
   "language": "python",
   "name": "python3"
  },
  "language_info": {
   "codemirror_mode": {
    "name": "ipython",
    "version": 3
   },
   "file_extension": ".py",
   "mimetype": "text/x-python",
   "name": "python",
   "nbconvert_exporter": "python",
   "pygments_lexer": "ipython3",
   "version": "3.11.7"
  },
  "toc-autonumbering": false,
  "toc-showcode": false
 },
 "nbformat": 4,
 "nbformat_minor": 5
}
