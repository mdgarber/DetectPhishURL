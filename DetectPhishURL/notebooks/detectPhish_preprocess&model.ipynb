{
 "cells": [
  {
   "cell_type": "markdown",
   "id": "d4ff1023-35dd-44fa-9bfd-79397c624e4a",
   "metadata": {},
   "source": [
    "# Detect Phishing URLs\n",
    "### Capstone 3 - Preprocessing and Modeling\n",
    "Michael Garber"
   ]
  },
  {
   "cell_type": "markdown",
   "id": "9c4a87ac-d5b0-4e64-a3cd-703c33edbcc0",
   "metadata": {},
   "source": [
    "#### High-Level Steps\n",
    "1. Preprocessing\n",
    "    1. Create dummy/indicator features for categorical variables\n",
    "    2. Standardize/scale numeric features\n",
    "    3. Train/Test Split \n",
    "2. Modeling\n",
    "    1. Fit your models with a training dataset\n",
    "    2. Review model outcomes — Iterate over additional models as needed\n",
    "    3. Identify the final model that you think is the best model for this project"
   ]
  },
  {
   "cell_type": "code",
   "execution_count": 4,
   "id": "ae85bcb3-7674-4346-b993-6ea398f2e0c9",
   "metadata": {
    "tags": []
   },
   "outputs": [],
   "source": [
    "# Import Libraries\n",
    "import pandas as pd\n",
    "import os\n",
    "# import numpy as np\n",
    "# from sklearn.preprocessing import StandardScaler\n",
    "from sklearn.model_selection import train_test_split\n",
    "# from matplotlib import pyplot as plt"
   ]
  },
  {
   "cell_type": "markdown",
   "id": "79b9667a-cf8b-44da-a801-e4cced08eb47",
   "metadata": {},
   "source": [
    "#### Preprocessing"
   ]
  },
  {
   "cell_type": "code",
   "execution_count": 6,
   "id": "124e0e6e-eaf8-4734-ae90-02a4f1247b1c",
   "metadata": {
    "tags": []
   },
   "outputs": [
    {
     "name": "stderr",
     "output_type": "stream",
     "text": [
      "C:\\Users\\MG-Laptop\\AppData\\Local\\Temp\\ipykernel_11988\\2659773463.py:3: DtypeWarning: Columns (11) have mixed types. Specify dtype option on import or set low_memory=False.\n",
      "  urlData = pd.read_csv(dataDir)\n"
     ]
    }
   ],
   "source": [
    "# Import Data set\n",
    "dataDir = os.path.join('../data/interim/urlData_raw.csv')\n",
    "urlData = pd.read_csv(dataDir)"
   ]
  },
  {
   "cell_type": "code",
   "execution_count": 7,
   "id": "87d56b43-46e3-4939-b0b7-c536dce5c0a1",
   "metadata": {
    "tags": []
   },
   "outputs": [
    {
     "name": "stdout",
     "output_type": "stream",
     "text": [
      "<class 'pandas.core.frame.DataFrame'>\n",
      "RangeIndex: 450175 entries, 0 to 450174\n",
      "Data columns (total 18 columns):\n",
      " #   Column            Non-Null Count   Dtype \n",
      "---  ------            --------------   ----- \n",
      " 0   Unnamed: 0        450175 non-null  int64 \n",
      " 1   key_0             445854 non-null  object\n",
      " 2   url               450175 non-null  object\n",
      " 3   type              450175 non-null  object\n",
      " 4   parsedUrl         450175 non-null  object\n",
      " 5   urlPart_scheme    450175 non-null  object\n",
      " 6   subDomain         379885 non-null  object\n",
      " 7   domain            450167 non-null  object\n",
      " 8   tld               445854 non-null  object\n",
      " 9   urlPart_path      444917 non-null  object\n",
      " 10  urlPart_query     65541 non-null   object\n",
      " 11  urlPart_fragment  359 non-null     object\n",
      " 12  tld_join          445854 non-null  object\n",
      " 13  Domain            445451 non-null  object\n",
      " 14  Type              445451 non-null  object\n",
      " 15  TLD Manager       445451 non-null  object\n",
      " 16  isIPaddress       450175 non-null  bool  \n",
      " 17  isPhish_bool      450175 non-null  bool  \n",
      "dtypes: bool(2), int64(1), object(15)\n",
      "memory usage: 55.8+ MB\n"
     ]
    }
   ],
   "source": [
    "# Data Info\n",
    "urlData.info()"
   ]
  },
  {
   "cell_type": "code",
   "execution_count": 8,
   "id": "7b365d83-da6c-4940-926e-6c0857c36811",
   "metadata": {
    "tags": []
   },
   "outputs": [
    {
     "data": {
      "text/html": [
       "<div>\n",
       "<style scoped>\n",
       "    .dataframe tbody tr th:only-of-type {\n",
       "        vertical-align: middle;\n",
       "    }\n",
       "\n",
       "    .dataframe tbody tr th {\n",
       "        vertical-align: top;\n",
       "    }\n",
       "\n",
       "    .dataframe thead th {\n",
       "        text-align: right;\n",
       "    }\n",
       "</style>\n",
       "<table border=\"1\" class=\"dataframe\">\n",
       "  <thead>\n",
       "    <tr style=\"text-align: right;\">\n",
       "      <th></th>\n",
       "      <th>Unnamed: 0</th>\n",
       "      <th>key_0</th>\n",
       "      <th>url</th>\n",
       "      <th>type</th>\n",
       "      <th>parsedUrl</th>\n",
       "      <th>urlPart_scheme</th>\n",
       "      <th>subDomain</th>\n",
       "      <th>domain</th>\n",
       "      <th>tld</th>\n",
       "      <th>urlPart_path</th>\n",
       "      <th>urlPart_query</th>\n",
       "      <th>urlPart_fragment</th>\n",
       "      <th>tld_join</th>\n",
       "      <th>Domain</th>\n",
       "      <th>Type</th>\n",
       "      <th>TLD Manager</th>\n",
       "      <th>isIPaddress</th>\n",
       "      <th>isPhish_bool</th>\n",
       "    </tr>\n",
       "  </thead>\n",
       "  <tbody>\n",
       "    <tr>\n",
       "      <th>0</th>\n",
       "      <td>0</td>\n",
       "      <td>com</td>\n",
       "      <td>https://www.google.com</td>\n",
       "      <td>legitimate</td>\n",
       "      <td>ParseResult(scheme='https', netloc='www.google...</td>\n",
       "      <td>https</td>\n",
       "      <td>www</td>\n",
       "      <td>google</td>\n",
       "      <td>com</td>\n",
       "      <td>NaN</td>\n",
       "      <td>NaN</td>\n",
       "      <td>NaN</td>\n",
       "      <td>com</td>\n",
       "      <td>.com</td>\n",
       "      <td>generic</td>\n",
       "      <td>VeriSign Global Registry Services</td>\n",
       "      <td>False</td>\n",
       "      <td>False</td>\n",
       "    </tr>\n",
       "    <tr>\n",
       "      <th>1</th>\n",
       "      <td>1</td>\n",
       "      <td>com</td>\n",
       "      <td>https://www.youtube.com</td>\n",
       "      <td>legitimate</td>\n",
       "      <td>ParseResult(scheme='https', netloc='www.youtub...</td>\n",
       "      <td>https</td>\n",
       "      <td>www</td>\n",
       "      <td>youtube</td>\n",
       "      <td>com</td>\n",
       "      <td>NaN</td>\n",
       "      <td>NaN</td>\n",
       "      <td>NaN</td>\n",
       "      <td>com</td>\n",
       "      <td>.com</td>\n",
       "      <td>generic</td>\n",
       "      <td>VeriSign Global Registry Services</td>\n",
       "      <td>False</td>\n",
       "      <td>False</td>\n",
       "    </tr>\n",
       "    <tr>\n",
       "      <th>2</th>\n",
       "      <td>2</td>\n",
       "      <td>com</td>\n",
       "      <td>https://www.facebook.com</td>\n",
       "      <td>legitimate</td>\n",
       "      <td>ParseResult(scheme='https', netloc='www.facebo...</td>\n",
       "      <td>https</td>\n",
       "      <td>www</td>\n",
       "      <td>facebook</td>\n",
       "      <td>com</td>\n",
       "      <td>NaN</td>\n",
       "      <td>NaN</td>\n",
       "      <td>NaN</td>\n",
       "      <td>com</td>\n",
       "      <td>.com</td>\n",
       "      <td>generic</td>\n",
       "      <td>VeriSign Global Registry Services</td>\n",
       "      <td>False</td>\n",
       "      <td>False</td>\n",
       "    </tr>\n",
       "    <tr>\n",
       "      <th>3</th>\n",
       "      <td>3</td>\n",
       "      <td>com</td>\n",
       "      <td>https://www.baidu.com</td>\n",
       "      <td>legitimate</td>\n",
       "      <td>ParseResult(scheme='https', netloc='www.baidu....</td>\n",
       "      <td>https</td>\n",
       "      <td>www</td>\n",
       "      <td>baidu</td>\n",
       "      <td>com</td>\n",
       "      <td>NaN</td>\n",
       "      <td>NaN</td>\n",
       "      <td>NaN</td>\n",
       "      <td>com</td>\n",
       "      <td>.com</td>\n",
       "      <td>generic</td>\n",
       "      <td>VeriSign Global Registry Services</td>\n",
       "      <td>False</td>\n",
       "      <td>False</td>\n",
       "    </tr>\n",
       "    <tr>\n",
       "      <th>4</th>\n",
       "      <td>4</td>\n",
       "      <td>org</td>\n",
       "      <td>https://www.wikipedia.org</td>\n",
       "      <td>legitimate</td>\n",
       "      <td>ParseResult(scheme='https', netloc='www.wikipe...</td>\n",
       "      <td>https</td>\n",
       "      <td>www</td>\n",
       "      <td>wikipedia</td>\n",
       "      <td>org</td>\n",
       "      <td>NaN</td>\n",
       "      <td>NaN</td>\n",
       "      <td>NaN</td>\n",
       "      <td>org</td>\n",
       "      <td>.org</td>\n",
       "      <td>generic</td>\n",
       "      <td>Public Interest Registry (PIR)</td>\n",
       "      <td>False</td>\n",
       "      <td>False</td>\n",
       "    </tr>\n",
       "  </tbody>\n",
       "</table>\n",
       "</div>"
      ],
      "text/plain": [
       "   Unnamed: 0 key_0                        url        type  \\\n",
       "0           0   com     https://www.google.com  legitimate   \n",
       "1           1   com    https://www.youtube.com  legitimate   \n",
       "2           2   com   https://www.facebook.com  legitimate   \n",
       "3           3   com      https://www.baidu.com  legitimate   \n",
       "4           4   org  https://www.wikipedia.org  legitimate   \n",
       "\n",
       "                                           parsedUrl urlPart_scheme subDomain  \\\n",
       "0  ParseResult(scheme='https', netloc='www.google...          https       www   \n",
       "1  ParseResult(scheme='https', netloc='www.youtub...          https       www   \n",
       "2  ParseResult(scheme='https', netloc='www.facebo...          https       www   \n",
       "3  ParseResult(scheme='https', netloc='www.baidu....          https       www   \n",
       "4  ParseResult(scheme='https', netloc='www.wikipe...          https       www   \n",
       "\n",
       "      domain  tld urlPart_path urlPart_query urlPart_fragment tld_join Domain  \\\n",
       "0     google  com          NaN           NaN              NaN      com   .com   \n",
       "1    youtube  com          NaN           NaN              NaN      com   .com   \n",
       "2   facebook  com          NaN           NaN              NaN      com   .com   \n",
       "3      baidu  com          NaN           NaN              NaN      com   .com   \n",
       "4  wikipedia  org          NaN           NaN              NaN      org   .org   \n",
       "\n",
       "      Type                        TLD Manager  isIPaddress  isPhish_bool  \n",
       "0  generic  VeriSign Global Registry Services        False         False  \n",
       "1  generic  VeriSign Global Registry Services        False         False  \n",
       "2  generic  VeriSign Global Registry Services        False         False  \n",
       "3  generic  VeriSign Global Registry Services        False         False  \n",
       "4  generic     Public Interest Registry (PIR)        False         False  "
      ]
     },
     "execution_count": 8,
     "metadata": {},
     "output_type": "execute_result"
    }
   ],
   "source": [
    "urlData.head()"
   ]
  },
  {
   "cell_type": "code",
   "execution_count": 9,
   "id": "20596967-85a4-4a0e-a01c-ce587f8086bb",
   "metadata": {
    "tags": []
   },
   "outputs": [
    {
     "data": {
      "text/plain": [
       "Index(['Unnamed: 0', 'key_0', 'url', 'type', 'parsedUrl', 'urlPart_scheme',\n",
       "       'subDomain', 'domain', 'tld', 'urlPart_path', 'urlPart_query',\n",
       "       'urlPart_fragment', 'tld_join', 'Domain', 'Type', 'TLD Manager',\n",
       "       'isIPaddress', 'isPhish_bool'],\n",
       "      dtype='object')"
      ]
     },
     "execution_count": 9,
     "metadata": {},
     "output_type": "execute_result"
    }
   ],
   "source": [
    "urlData.columns"
   ]
  },
  {
   "cell_type": "code",
   "execution_count": 10,
   "id": "b26eda2e-6c76-4d54-8eb7-188fa4fd3025",
   "metadata": {
    "tags": []
   },
   "outputs": [
    {
     "data": {
      "text/html": [
       "<div>\n",
       "<style scoped>\n",
       "    .dataframe tbody tr th:only-of-type {\n",
       "        vertical-align: middle;\n",
       "    }\n",
       "\n",
       "    .dataframe tbody tr th {\n",
       "        vertical-align: top;\n",
       "    }\n",
       "\n",
       "    .dataframe thead th {\n",
       "        text-align: right;\n",
       "    }\n",
       "</style>\n",
       "<table border=\"1\" class=\"dataframe\">\n",
       "  <thead>\n",
       "    <tr style=\"text-align: right;\">\n",
       "      <th></th>\n",
       "      <th>count</th>\n",
       "    </tr>\n",
       "    <tr>\n",
       "      <th>urlPart_scheme</th>\n",
       "      <th></th>\n",
       "    </tr>\n",
       "  </thead>\n",
       "  <tbody>\n",
       "    <tr>\n",
       "      <th>https</th>\n",
       "      <td>352185</td>\n",
       "    </tr>\n",
       "    <tr>\n",
       "      <th>http</th>\n",
       "      <td>97947</td>\n",
       "    </tr>\n",
       "    <tr>\n",
       "      <th>httpss</th>\n",
       "      <td>35</td>\n",
       "    </tr>\n",
       "    <tr>\n",
       "      <th>ftp</th>\n",
       "      <td>8</td>\n",
       "    </tr>\n",
       "  </tbody>\n",
       "</table>\n",
       "</div>"
      ],
      "text/plain": [
       "                 count\n",
       "urlPart_scheme        \n",
       "https           352185\n",
       "http             97947\n",
       "httpss              35\n",
       "ftp                  8"
      ]
     },
     "execution_count": 10,
     "metadata": {},
     "output_type": "execute_result"
    }
   ],
   "source": [
    "#urlData[['url', 'urlPart_scheme', 'subDomain', 'tld', 'domain', 'type', 'TLD Manager', 'isIPaddress', 'isPhish_bool']]\n",
    "pd.DataFrame(urlData['urlPart_scheme'].value_counts())"
   ]
  },
  {
   "cell_type": "code",
   "execution_count": 11,
   "id": "ca48295a-c2e1-4405-9196-dbc54eb197e1",
   "metadata": {
    "tags": []
   },
   "outputs": [
    {
     "data": {
      "text/html": [
       "<div>\n",
       "<style scoped>\n",
       "    .dataframe tbody tr th:only-of-type {\n",
       "        vertical-align: middle;\n",
       "    }\n",
       "\n",
       "    .dataframe tbody tr th {\n",
       "        vertical-align: top;\n",
       "    }\n",
       "\n",
       "    .dataframe thead th {\n",
       "        text-align: right;\n",
       "    }\n",
       "</style>\n",
       "<table border=\"1\" class=\"dataframe\">\n",
       "  <thead>\n",
       "    <tr style=\"text-align: right;\">\n",
       "      <th></th>\n",
       "      <th>count</th>\n",
       "    </tr>\n",
       "    <tr>\n",
       "      <th>subDomain</th>\n",
       "      <th></th>\n",
       "    </tr>\n",
       "  </thead>\n",
       "  <tbody>\n",
       "    <tr>\n",
       "      <th>www</th>\n",
       "      <td>276100</td>\n",
       "    </tr>\n",
       "    <tr>\n",
       "      <th>www.en</th>\n",
       "      <td>13626</td>\n",
       "    </tr>\n",
       "    <tr>\n",
       "      <th>www.music</th>\n",
       "      <td>1289</td>\n",
       "    </tr>\n",
       "    <tr>\n",
       "      <th>www.people</th>\n",
       "      <td>1228</td>\n",
       "    </tr>\n",
       "    <tr>\n",
       "      <th>www.genforum</th>\n",
       "      <td>1072</td>\n",
       "    </tr>\n",
       "    <tr>\n",
       "      <th>...</th>\n",
       "      <td>...</td>\n",
       "    </tr>\n",
       "    <tr>\n",
       "      <th>www.ohv.parks</th>\n",
       "      <td>1</td>\n",
       "    </tr>\n",
       "    <tr>\n",
       "      <th>www.ohtheplaceswewillgo-books</th>\n",
       "      <td>1</td>\n",
       "    </tr>\n",
       "    <tr>\n",
       "      <th>www.ohr</th>\n",
       "      <td>1</td>\n",
       "    </tr>\n",
       "    <tr>\n",
       "      <th>www.ohomen171s-journey-through-life</th>\n",
       "      <td>1</td>\n",
       "    </tr>\n",
       "    <tr>\n",
       "      <th>boasecg7</th>\n",
       "      <td>1</td>\n",
       "    </tr>\n",
       "  </tbody>\n",
       "</table>\n",
       "<p>32040 rows × 1 columns</p>\n",
       "</div>"
      ],
      "text/plain": [
       "                                      count\n",
       "subDomain                                  \n",
       "www                                  276100\n",
       "www.en                                13626\n",
       "www.music                              1289\n",
       "www.people                             1228\n",
       "www.genforum                           1072\n",
       "...                                     ...\n",
       "www.ohv.parks                             1\n",
       "www.ohtheplaceswewillgo-books             1\n",
       "www.ohr                                   1\n",
       "www.ohomen171s-journey-through-life       1\n",
       "boasecg7                                  1\n",
       "\n",
       "[32040 rows x 1 columns]"
      ]
     },
     "execution_count": 11,
     "metadata": {},
     "output_type": "execute_result"
    }
   ],
   "source": [
    "pd.DataFrame(urlData['subDomain'].value_counts())"
   ]
  },
  {
   "cell_type": "code",
   "execution_count": 12,
   "id": "ea7e10fb-6966-4166-963d-52a876fd28a7",
   "metadata": {
    "tags": []
   },
   "outputs": [
    {
     "data": {
      "text/html": [
       "<div>\n",
       "<style scoped>\n",
       "    .dataframe tbody tr th:only-of-type {\n",
       "        vertical-align: middle;\n",
       "    }\n",
       "\n",
       "    .dataframe tbody tr th {\n",
       "        vertical-align: top;\n",
       "    }\n",
       "\n",
       "    .dataframe thead th {\n",
       "        text-align: right;\n",
       "    }\n",
       "</style>\n",
       "<table border=\"1\" class=\"dataframe\">\n",
       "  <thead>\n",
       "    <tr style=\"text-align: right;\">\n",
       "      <th></th>\n",
       "      <th>url</th>\n",
       "      <th>type</th>\n",
       "      <th>parsedUrl</th>\n",
       "      <th>urlPart_scheme</th>\n",
       "      <th>subDomain</th>\n",
       "      <th>domain</th>\n",
       "      <th>tld</th>\n",
       "      <th>urlPart_path</th>\n",
       "      <th>urlPart_query</th>\n",
       "      <th>urlPart_fragment</th>\n",
       "      <th>tld_join</th>\n",
       "      <th>Domain</th>\n",
       "      <th>Type</th>\n",
       "      <th>TLD Manager</th>\n",
       "      <th>isIPaddress</th>\n",
       "      <th>isPhish_bool</th>\n",
       "    </tr>\n",
       "  </thead>\n",
       "  <tbody>\n",
       "    <tr>\n",
       "      <th>count</th>\n",
       "      <td>450175</td>\n",
       "      <td>450175</td>\n",
       "      <td>450175</td>\n",
       "      <td>450175</td>\n",
       "      <td>379885</td>\n",
       "      <td>450167</td>\n",
       "      <td>445854</td>\n",
       "      <td>444917</td>\n",
       "      <td>65541</td>\n",
       "      <td>359</td>\n",
       "      <td>445854</td>\n",
       "      <td>445451</td>\n",
       "      <td>445451</td>\n",
       "      <td>445451</td>\n",
       "      <td>450175</td>\n",
       "      <td>450175</td>\n",
       "    </tr>\n",
       "    <tr>\n",
       "      <th>unique</th>\n",
       "      <td>450175</td>\n",
       "      <td>2</td>\n",
       "      <td>450132</td>\n",
       "      <td>4</td>\n",
       "      <td>32040</td>\n",
       "      <td>130746</td>\n",
       "      <td>831</td>\n",
       "      <td>317143</td>\n",
       "      <td>55325</td>\n",
       "      <td>71</td>\n",
       "      <td>415</td>\n",
       "      <td>360</td>\n",
       "      <td>4</td>\n",
       "      <td>259</td>\n",
       "      <td>2</td>\n",
       "      <td>2</td>\n",
       "    </tr>\n",
       "    <tr>\n",
       "      <th>top</th>\n",
       "      <td>https://www.google.com</td>\n",
       "      <td>legitimate</td>\n",
       "      <td>ParseResult(scheme='http', netloc='new.sosnovs...</td>\n",
       "      <td>https</td>\n",
       "      <td>www</td>\n",
       "      <td>wikipedia</td>\n",
       "      <td>com</td>\n",
       "      <td>/</td>\n",
       "      <td>m=login</td>\n",
       "      <td>n=1252899642&amp;fid=1&amp;fav=1</td>\n",
       "      <td>com</td>\n",
       "      <td>.com</td>\n",
       "      <td>generic</td>\n",
       "      <td>VeriSign Global Registry Services</td>\n",
       "      <td>False</td>\n",
       "      <td>False</td>\n",
       "    </tr>\n",
       "    <tr>\n",
       "      <th>freq</th>\n",
       "      <td>1</td>\n",
       "      <td>345738</td>\n",
       "      <td>2</td>\n",
       "      <td>352185</td>\n",
       "      <td>276100</td>\n",
       "      <td>12895</td>\n",
       "      <td>316414</td>\n",
       "      <td>55253</td>\n",
       "      <td>579</td>\n",
       "      <td>204</td>\n",
       "      <td>316414</td>\n",
       "      <td>316414</td>\n",
       "      <td>376803</td>\n",
       "      <td>333004</td>\n",
       "      <td>447309</td>\n",
       "      <td>345738</td>\n",
       "    </tr>\n",
       "  </tbody>\n",
       "</table>\n",
       "</div>"
      ],
      "text/plain": [
       "                           url        type  \\\n",
       "count                   450175      450175   \n",
       "unique                  450175           2   \n",
       "top     https://www.google.com  legitimate   \n",
       "freq                         1      345738   \n",
       "\n",
       "                                                parsedUrl urlPart_scheme  \\\n",
       "count                                              450175         450175   \n",
       "unique                                             450132              4   \n",
       "top     ParseResult(scheme='http', netloc='new.sosnovs...          https   \n",
       "freq                                                    2         352185   \n",
       "\n",
       "       subDomain     domain     tld urlPart_path urlPart_query  \\\n",
       "count     379885     450167  445854       444917         65541   \n",
       "unique     32040     130746     831       317143         55325   \n",
       "top          www  wikipedia     com            /       m=login   \n",
       "freq      276100      12895  316414        55253           579   \n",
       "\n",
       "                urlPart_fragment tld_join  Domain     Type  \\\n",
       "count                        359   445854  445451   445451   \n",
       "unique                        71      415     360        4   \n",
       "top     n=1252899642&fid=1&fav=1      com    .com  generic   \n",
       "freq                         204   316414  316414   376803   \n",
       "\n",
       "                              TLD Manager isIPaddress isPhish_bool  \n",
       "count                              445451      450175       450175  \n",
       "unique                                259           2            2  \n",
       "top     VeriSign Global Registry Services       False        False  \n",
       "freq                               333004      447309       345738  "
      ]
     },
     "execution_count": 12,
     "metadata": {},
     "output_type": "execute_result"
    }
   ],
   "source": [
    "# Let's see # of uniques for each feature - use to determine categorical fields to dummy\n",
    "urlData[['url', 'type', 'parsedUrl', 'urlPart_scheme',\n",
    "       'subDomain', 'domain', 'tld', 'urlPart_path', 'urlPart_query',\n",
    "       'urlPart_fragment', 'tld_join', 'Domain', 'Type', 'TLD Manager',\n",
    "       'isIPaddress', 'isPhish_bool']].describe()"
   ]
  },
  {
   "cell_type": "code",
   "execution_count": 13,
   "id": "e4d68612-0215-44b8-9d95-a06d9d678c03",
   "metadata": {},
   "outputs": [
    {
     "data": {
      "text/html": [
       "<div>\n",
       "<style scoped>\n",
       "    .dataframe tbody tr th:only-of-type {\n",
       "        vertical-align: middle;\n",
       "    }\n",
       "\n",
       "    .dataframe tbody tr th {\n",
       "        vertical-align: top;\n",
       "    }\n",
       "\n",
       "    .dataframe thead th {\n",
       "        text-align: right;\n",
       "    }\n",
       "</style>\n",
       "<table border=\"1\" class=\"dataframe\">\n",
       "  <thead>\n",
       "    <tr style=\"text-align: right;\">\n",
       "      <th></th>\n",
       "      <th>url</th>\n",
       "      <th>urlPart_scheme</th>\n",
       "      <th>subDomain</th>\n",
       "      <th>domain</th>\n",
       "      <th>tld</th>\n",
       "      <th>urlPart_path</th>\n",
       "      <th>urlPart_query</th>\n",
       "      <th>urlPart_fragment</th>\n",
       "      <th>Type</th>\n",
       "      <th>TLD Manager</th>\n",
       "      <th>isIPaddress</th>\n",
       "      <th>isPhish_bool</th>\n",
       "    </tr>\n",
       "  </thead>\n",
       "  <tbody>\n",
       "    <tr>\n",
       "      <th>count</th>\n",
       "      <td>450175</td>\n",
       "      <td>450175</td>\n",
       "      <td>379885</td>\n",
       "      <td>450167</td>\n",
       "      <td>445854</td>\n",
       "      <td>444917</td>\n",
       "      <td>65541</td>\n",
       "      <td>359</td>\n",
       "      <td>445451</td>\n",
       "      <td>445451</td>\n",
       "      <td>450175</td>\n",
       "      <td>450175</td>\n",
       "    </tr>\n",
       "    <tr>\n",
       "      <th>unique</th>\n",
       "      <td>450175</td>\n",
       "      <td>4</td>\n",
       "      <td>32040</td>\n",
       "      <td>130746</td>\n",
       "      <td>831</td>\n",
       "      <td>317143</td>\n",
       "      <td>55325</td>\n",
       "      <td>71</td>\n",
       "      <td>4</td>\n",
       "      <td>259</td>\n",
       "      <td>2</td>\n",
       "      <td>2</td>\n",
       "    </tr>\n",
       "    <tr>\n",
       "      <th>top</th>\n",
       "      <td>https://www.google.com</td>\n",
       "      <td>https</td>\n",
       "      <td>www</td>\n",
       "      <td>wikipedia</td>\n",
       "      <td>com</td>\n",
       "      <td>/</td>\n",
       "      <td>m=login</td>\n",
       "      <td>n=1252899642&amp;fid=1&amp;fav=1</td>\n",
       "      <td>generic</td>\n",
       "      <td>VeriSign Global Registry Services</td>\n",
       "      <td>False</td>\n",
       "      <td>False</td>\n",
       "    </tr>\n",
       "    <tr>\n",
       "      <th>freq</th>\n",
       "      <td>1</td>\n",
       "      <td>352185</td>\n",
       "      <td>276100</td>\n",
       "      <td>12895</td>\n",
       "      <td>316414</td>\n",
       "      <td>55253</td>\n",
       "      <td>579</td>\n",
       "      <td>204</td>\n",
       "      <td>376803</td>\n",
       "      <td>333004</td>\n",
       "      <td>447309</td>\n",
       "      <td>345738</td>\n",
       "    </tr>\n",
       "  </tbody>\n",
       "</table>\n",
       "</div>"
      ],
      "text/plain": [
       "                           url urlPart_scheme subDomain     domain     tld  \\\n",
       "count                   450175         450175    379885     450167  445854   \n",
       "unique                  450175              4     32040     130746     831   \n",
       "top     https://www.google.com          https       www  wikipedia     com   \n",
       "freq                         1         352185    276100      12895  316414   \n",
       "\n",
       "       urlPart_path urlPart_query          urlPart_fragment     Type  \\\n",
       "count        444917         65541                       359   445451   \n",
       "unique       317143         55325                        71        4   \n",
       "top               /       m=login  n=1252899642&fid=1&fav=1  generic   \n",
       "freq          55253           579                       204   376803   \n",
       "\n",
       "                              TLD Manager isIPaddress isPhish_bool  \n",
       "count                              445451      450175       450175  \n",
       "unique                                259           2            2  \n",
       "top     VeriSign Global Registry Services       False        False  \n",
       "freq                               333004      447309       345738  "
      ]
     },
     "execution_count": 13,
     "metadata": {},
     "output_type": "execute_result"
    }
   ],
   "source": [
    "# features to keep\n",
    "urlData[['url', 'urlPart_scheme', 'subDomain', 'domain', 'tld', 'urlPart_path', 'urlPart_query', 'urlPart_fragment','Type', 'TLD Manager',\n",
    "       'isIPaddress', 'isPhish_bool']].describe()"
   ]
  },
  {
   "cell_type": "code",
   "execution_count": 125,
   "id": "bbc5e7fb-f927-4aab-833e-2f560ee79488",
   "metadata": {
    "tags": []
   },
   "outputs": [
    {
     "data": {
      "text/plain": [
       "0         ParseResult(scheme='https', netloc='www.google...\n",
       "1         ParseResult(scheme='https', netloc='www.youtub...\n",
       "2         ParseResult(scheme='https', netloc='www.facebo...\n",
       "3         ParseResult(scheme='https', netloc='www.baidu....\n",
       "4         ParseResult(scheme='https', netloc='www.wikipe...\n",
       "                                ...                        \n",
       "450170    ParseResult(scheme='http', netloc='ecct-it.com...\n",
       "450171    ParseResult(scheme='http', netloc='faboleena.c...\n",
       "450172    ParseResult(scheme='http', netloc='faboleena.c...\n",
       "450173    ParseResult(scheme='http', netloc='atualizapj....\n",
       "450174    ParseResult(scheme='http', netloc='writeassoci...\n",
       "Name: parsedUrl, Length: 450175, dtype: object"
      ]
     },
     "execution_count": 125,
     "metadata": {},
     "output_type": "execute_result"
    }
   ],
   "source": [
    "# does the existing parsedURL parts capture the entire URL (no section of url lost?)\n",
    "#urlData[['url', 'parsedUrl', 'isPhish_bool']]\n",
    "urlData['parsedUrl']"
   ]
  },
  {
   "cell_type": "code",
   "execution_count": 38,
   "id": "8b0d3793-01b8-4a3a-a67b-942fee40c36b",
   "metadata": {
    "tags": []
   },
   "outputs": [],
   "source": [
    "# Fields that should be treated as categories"
   ]
  },
  {
   "cell_type": "markdown",
   "id": "4215f723-42b0-4852-b048-78f3a174b885",
   "metadata": {
    "tags": []
   },
   "source": [
    "##### Create dummies"
   ]
  },
  {
   "cell_type": "code",
   "execution_count": 40,
   "id": "b2401310-7eb1-4c3c-8309-ddce3c42b111",
   "metadata": {
    "tags": []
   },
   "outputs": [
    {
     "data": {
      "text/plain": [
       "TLD Manager\n",
       "VeriSign Global Registry Services                                                                               333004\n",
       "Public Interest Registry (PIR)                                                                                   38393\n",
       "Canadian Internet Registration Authority (CIRA) Autorité Canadienne pour les enregistrements Internet (ACEI)     10086\n",
       "EDUCAUSE                                                                                                          6976\n",
       "Nominet UK                                                                                                        5997\n",
       "                                                                                                                 ...  \n",
       "Dot London Domains Limited                                                                                           1\n",
       "Macao Post and Telecommunications Bureau (CTT)                                                                       1\n",
       "Premier Registry Limited                                                                                             1\n",
       "REGION GRAND EST                                                                                                     1\n",
       "University of Guyana                                                                                                 1\n",
       "Name: count, Length: 259, dtype: int64"
      ]
     },
     "execution_count": 40,
     "metadata": {},
     "output_type": "execute_result"
    }
   ],
   "source": [
    "urlData['TLD Manager'].value_counts()"
   ]
  },
  {
   "cell_type": "markdown",
   "id": "21d87bcc-dc54-4833-8285-94824148e8c0",
   "metadata": {
    "tags": []
   },
   "source": [
    "##### Standardize and Scale"
   ]
  },
  {
   "cell_type": "markdown",
   "id": "93c47218-4b59-488e-b197-f4a7fb90b740",
   "metadata": {},
   "source": [
    "##### Train/Test Split"
   ]
  },
  {
   "cell_type": "markdown",
   "id": "0440e798-a771-42e0-baa2-436526329ae3",
   "metadata": {},
   "source": [
    "#### Modeling"
   ]
  },
  {
   "cell_type": "markdown",
   "id": "27e7114f-947c-4b2e-8e81-2e4604a3eb85",
   "metadata": {
    "tags": []
   },
   "source": [
    "##### Fit Model"
   ]
  },
  {
   "cell_type": "markdown",
   "id": "9ae66608-3b63-46a3-aae8-1de38be3a773",
   "metadata": {},
   "source": [
    "##### Evaluate/compare models"
   ]
  },
  {
   "cell_type": "markdown",
   "id": "93591b05-f6d8-4183-bfc9-1d1a2446954d",
   "metadata": {},
   "source": [
    "##### Select Best Model"
   ]
  },
  {
   "cell_type": "markdown",
   "id": "8a87d430-e324-40d0-9aaa-a6635df6c4a8",
   "metadata": {},
   "source": [
    "###### To do\n",
    "\n",
    "- features to engineer: urlLength, riskRank per url part (give each a 1 o 5 rank based on mean)\n",
    "- feature selection - some can be discarded/dropped\n",
    "- problem - ANNs/MLPs cannot take raw text features. all inputs must be numeric, but it will take numeric representations/encoding of text data\n",
    "    -label encode into categories based  - calculate this field after train/test split to avoid data leakage\n",
    "- additional data cleaning\n",
    "    - handle missing values\n",
    "    \n",
    "- Create dummies\n",
    "    - identify 'category' features\n",
    "        - check value counts to see which has reasonable # of categories\n",
    "    - select minimum set of features with unique information\n",
    "    - create new DF from that\n",
    "    - dummy them\n",
    "    \n",
    "- make sure to use cross-validation for \n"
   ]
  },
  {
   "cell_type": "code",
   "execution_count": 24,
   "id": "48da7987-5313-4c24-b57f-24a1ef832803",
   "metadata": {},
   "outputs": [],
   "source": [
    "# https://machinelearningmastery.com/understanding-simple-recurrent-neural-networks-in-keras/\n",
    "\n",
    "# TARGET/MEAN ENCODING\n",
    "# Concept: Replaces a categorical value with the mean of the target variable for that category.\n",
    "# How it works for Domain (e.g., for malicious URL detection):\n",
    "# For each domain, calculate the proportion of malicious URLs associated with it in your training data.\n",
    "# https://www.google.com/url?sa=E&source=gmail&q=google.com (if all benign) -> 0.0\n",
    "# phishing.ru (if mostly malicious) -> 0.95\n",
    "# Pros: Captures some predictive power directly, reduces dimensionality.\n",
    "# Cons: Can lead to data leakage if not done carefully (e.g., using the entire dataset's target mean, rather than cross-validation folds). Sensitive to noise for categories with few samples."
   ]
  }
 ],
 "metadata": {
  "kernelspec": {
   "display_name": "Python 3 (ipykernel)",
   "language": "python",
   "name": "python3"
  },
  "language_info": {
   "codemirror_mode": {
    "name": "ipython",
    "version": 3
   },
   "file_extension": ".py",
   "mimetype": "text/x-python",
   "name": "python",
   "nbconvert_exporter": "python",
   "pygments_lexer": "ipython3",
   "version": "3.11.7"
  }
 },
 "nbformat": 4,
 "nbformat_minor": 5
}
