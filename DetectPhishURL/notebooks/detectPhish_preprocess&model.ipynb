{
 "cells": [
  {
   "cell_type": "markdown",
   "id": "d4ff1023-35dd-44fa-9bfd-79397c624e4a",
   "metadata": {},
   "source": [
    "# Detect Phishing URLs\n",
    "### Capstone 3 - Preprocessing and Modeling\n",
    "Michael Garber"
   ]
  },
  {
   "cell_type": "markdown",
   "id": "9c4a87ac-d5b0-4e64-a3cd-703c33edbcc0",
   "metadata": {},
   "source": [
    "#### High-Level Steps\n",
    "1. Preprocessing\n",
    "    1. Create dummy/indicator features for categorical variables\n",
    "    2. Standardize/scale numeric features\n",
    "    3. Train/Test Split \n",
    "2. Modeling\n",
    "    1. Fit your models with a training dataset\n",
    "    2. Review model outcomes — Iterate over additional models as needed\n",
    "    3. Identify the final model that you think is the best model for this project"
   ]
  },
  {
   "cell_type": "code",
   "execution_count": 3,
   "id": "ae85bcb3-7674-4346-b993-6ea398f2e0c9",
   "metadata": {
    "tags": []
   },
   "outputs": [],
   "source": [
    "# Import Libraries\n",
    "import pandas as pd\n",
    "import os\n",
    "# import numpy as np\n",
    "# from sklearn.preprocessing import StandardScaler\n",
    "from sklearn.model_selection import train_test_split\n",
    "# from matplotlib import pyplot as plt"
   ]
  },
  {
   "cell_type": "markdown",
   "id": "79b9667a-cf8b-44da-a801-e4cced08eb47",
   "metadata": {},
   "source": [
    "#### Preprocessing"
   ]
  },
  {
   "cell_type": "code",
   "execution_count": 5,
   "id": "124e0e6e-eaf8-4734-ae90-02a4f1247b1c",
   "metadata": {
    "tags": []
   },
   "outputs": [
    {
     "name": "stderr",
     "output_type": "stream",
     "text": [
      "C:\\Users\\MG-Laptop\\AppData\\Local\\Temp\\ipykernel_7840\\2659773463.py:3: DtypeWarning: Columns (11) have mixed types. Specify dtype option on import or set low_memory=False.\n",
      "  urlData = pd.read_csv(dataDir)\n"
     ]
    }
   ],
   "source": [
    "# Import Data set\n",
    "dataDir = os.path.join('../data/interim/urlData_raw.csv')\n",
    "urlData = pd.read_csv(dataDir)"
   ]
  },
  {
   "cell_type": "code",
   "execution_count": 6,
   "id": "87d56b43-46e3-4939-b0b7-c536dce5c0a1",
   "metadata": {
    "tags": []
   },
   "outputs": [
    {
     "name": "stdout",
     "output_type": "stream",
     "text": [
      "<class 'pandas.core.frame.DataFrame'>\n",
      "RangeIndex: 450175 entries, 0 to 450174\n",
      "Data columns (total 18 columns):\n",
      " #   Column            Non-Null Count   Dtype \n",
      "---  ------            --------------   ----- \n",
      " 0   Unnamed: 0        450175 non-null  int64 \n",
      " 1   key_0             445854 non-null  object\n",
      " 2   url               450175 non-null  object\n",
      " 3   type              450175 non-null  object\n",
      " 4   parsedUrl         450175 non-null  object\n",
      " 5   urlPart_scheme    450175 non-null  object\n",
      " 6   subDomain         379885 non-null  object\n",
      " 7   domain            450167 non-null  object\n",
      " 8   tld               445854 non-null  object\n",
      " 9   urlPart_path      444917 non-null  object\n",
      " 10  urlPart_query     65541 non-null   object\n",
      " 11  urlPart_fragment  359 non-null     object\n",
      " 12  tld_join          445854 non-null  object\n",
      " 13  Domain            445451 non-null  object\n",
      " 14  Type              445451 non-null  object\n",
      " 15  TLD Manager       445451 non-null  object\n",
      " 16  isIPaddress       450175 non-null  bool  \n",
      " 17  isPhish_bool      450175 non-null  bool  \n",
      "dtypes: bool(2), int64(1), object(15)\n",
      "memory usage: 55.8+ MB\n"
     ]
    }
   ],
   "source": [
    "# Data Info\n",
    "urlData.info()"
   ]
  },
  {
   "cell_type": "code",
   "execution_count": 7,
   "id": "7b365d83-da6c-4940-926e-6c0857c36811",
   "metadata": {
    "tags": []
   },
   "outputs": [
    {
     "data": {
      "text/html": [
       "<div>\n",
       "<style scoped>\n",
       "    .dataframe tbody tr th:only-of-type {\n",
       "        vertical-align: middle;\n",
       "    }\n",
       "\n",
       "    .dataframe tbody tr th {\n",
       "        vertical-align: top;\n",
       "    }\n",
       "\n",
       "    .dataframe thead th {\n",
       "        text-align: right;\n",
       "    }\n",
       "</style>\n",
       "<table border=\"1\" class=\"dataframe\">\n",
       "  <thead>\n",
       "    <tr style=\"text-align: right;\">\n",
       "      <th></th>\n",
       "      <th>Unnamed: 0</th>\n",
       "      <th>key_0</th>\n",
       "      <th>url</th>\n",
       "      <th>type</th>\n",
       "      <th>parsedUrl</th>\n",
       "      <th>urlPart_scheme</th>\n",
       "      <th>subDomain</th>\n",
       "      <th>domain</th>\n",
       "      <th>tld</th>\n",
       "      <th>urlPart_path</th>\n",
       "      <th>urlPart_query</th>\n",
       "      <th>urlPart_fragment</th>\n",
       "      <th>tld_join</th>\n",
       "      <th>Domain</th>\n",
       "      <th>Type</th>\n",
       "      <th>TLD Manager</th>\n",
       "      <th>isIPaddress</th>\n",
       "      <th>isPhish_bool</th>\n",
       "    </tr>\n",
       "  </thead>\n",
       "  <tbody>\n",
       "    <tr>\n",
       "      <th>0</th>\n",
       "      <td>0</td>\n",
       "      <td>com</td>\n",
       "      <td>https://www.google.com</td>\n",
       "      <td>legitimate</td>\n",
       "      <td>ParseResult(scheme='https', netloc='www.google...</td>\n",
       "      <td>https</td>\n",
       "      <td>www</td>\n",
       "      <td>google</td>\n",
       "      <td>com</td>\n",
       "      <td>NaN</td>\n",
       "      <td>NaN</td>\n",
       "      <td>NaN</td>\n",
       "      <td>com</td>\n",
       "      <td>.com</td>\n",
       "      <td>generic</td>\n",
       "      <td>VeriSign Global Registry Services</td>\n",
       "      <td>False</td>\n",
       "      <td>False</td>\n",
       "    </tr>\n",
       "    <tr>\n",
       "      <th>1</th>\n",
       "      <td>1</td>\n",
       "      <td>com</td>\n",
       "      <td>https://www.youtube.com</td>\n",
       "      <td>legitimate</td>\n",
       "      <td>ParseResult(scheme='https', netloc='www.youtub...</td>\n",
       "      <td>https</td>\n",
       "      <td>www</td>\n",
       "      <td>youtube</td>\n",
       "      <td>com</td>\n",
       "      <td>NaN</td>\n",
       "      <td>NaN</td>\n",
       "      <td>NaN</td>\n",
       "      <td>com</td>\n",
       "      <td>.com</td>\n",
       "      <td>generic</td>\n",
       "      <td>VeriSign Global Registry Services</td>\n",
       "      <td>False</td>\n",
       "      <td>False</td>\n",
       "    </tr>\n",
       "    <tr>\n",
       "      <th>2</th>\n",
       "      <td>2</td>\n",
       "      <td>com</td>\n",
       "      <td>https://www.facebook.com</td>\n",
       "      <td>legitimate</td>\n",
       "      <td>ParseResult(scheme='https', netloc='www.facebo...</td>\n",
       "      <td>https</td>\n",
       "      <td>www</td>\n",
       "      <td>facebook</td>\n",
       "      <td>com</td>\n",
       "      <td>NaN</td>\n",
       "      <td>NaN</td>\n",
       "      <td>NaN</td>\n",
       "      <td>com</td>\n",
       "      <td>.com</td>\n",
       "      <td>generic</td>\n",
       "      <td>VeriSign Global Registry Services</td>\n",
       "      <td>False</td>\n",
       "      <td>False</td>\n",
       "    </tr>\n",
       "    <tr>\n",
       "      <th>3</th>\n",
       "      <td>3</td>\n",
       "      <td>com</td>\n",
       "      <td>https://www.baidu.com</td>\n",
       "      <td>legitimate</td>\n",
       "      <td>ParseResult(scheme='https', netloc='www.baidu....</td>\n",
       "      <td>https</td>\n",
       "      <td>www</td>\n",
       "      <td>baidu</td>\n",
       "      <td>com</td>\n",
       "      <td>NaN</td>\n",
       "      <td>NaN</td>\n",
       "      <td>NaN</td>\n",
       "      <td>com</td>\n",
       "      <td>.com</td>\n",
       "      <td>generic</td>\n",
       "      <td>VeriSign Global Registry Services</td>\n",
       "      <td>False</td>\n",
       "      <td>False</td>\n",
       "    </tr>\n",
       "    <tr>\n",
       "      <th>4</th>\n",
       "      <td>4</td>\n",
       "      <td>org</td>\n",
       "      <td>https://www.wikipedia.org</td>\n",
       "      <td>legitimate</td>\n",
       "      <td>ParseResult(scheme='https', netloc='www.wikipe...</td>\n",
       "      <td>https</td>\n",
       "      <td>www</td>\n",
       "      <td>wikipedia</td>\n",
       "      <td>org</td>\n",
       "      <td>NaN</td>\n",
       "      <td>NaN</td>\n",
       "      <td>NaN</td>\n",
       "      <td>org</td>\n",
       "      <td>.org</td>\n",
       "      <td>generic</td>\n",
       "      <td>Public Interest Registry (PIR)</td>\n",
       "      <td>False</td>\n",
       "      <td>False</td>\n",
       "    </tr>\n",
       "  </tbody>\n",
       "</table>\n",
       "</div>"
      ],
      "text/plain": [
       "   Unnamed: 0 key_0                        url        type  \\\n",
       "0           0   com     https://www.google.com  legitimate   \n",
       "1           1   com    https://www.youtube.com  legitimate   \n",
       "2           2   com   https://www.facebook.com  legitimate   \n",
       "3           3   com      https://www.baidu.com  legitimate   \n",
       "4           4   org  https://www.wikipedia.org  legitimate   \n",
       "\n",
       "                                           parsedUrl urlPart_scheme subDomain  \\\n",
       "0  ParseResult(scheme='https', netloc='www.google...          https       www   \n",
       "1  ParseResult(scheme='https', netloc='www.youtub...          https       www   \n",
       "2  ParseResult(scheme='https', netloc='www.facebo...          https       www   \n",
       "3  ParseResult(scheme='https', netloc='www.baidu....          https       www   \n",
       "4  ParseResult(scheme='https', netloc='www.wikipe...          https       www   \n",
       "\n",
       "      domain  tld urlPart_path urlPart_query urlPart_fragment tld_join Domain  \\\n",
       "0     google  com          NaN           NaN              NaN      com   .com   \n",
       "1    youtube  com          NaN           NaN              NaN      com   .com   \n",
       "2   facebook  com          NaN           NaN              NaN      com   .com   \n",
       "3      baidu  com          NaN           NaN              NaN      com   .com   \n",
       "4  wikipedia  org          NaN           NaN              NaN      org   .org   \n",
       "\n",
       "      Type                        TLD Manager  isIPaddress  isPhish_bool  \n",
       "0  generic  VeriSign Global Registry Services        False         False  \n",
       "1  generic  VeriSign Global Registry Services        False         False  \n",
       "2  generic  VeriSign Global Registry Services        False         False  \n",
       "3  generic  VeriSign Global Registry Services        False         False  \n",
       "4  generic     Public Interest Registry (PIR)        False         False  "
      ]
     },
     "execution_count": 7,
     "metadata": {},
     "output_type": "execute_result"
    }
   ],
   "source": [
    "urlData.head()"
   ]
  },
  {
   "cell_type": "markdown",
   "id": "4215f723-42b0-4852-b048-78f3a174b885",
   "metadata": {
    "tags": []
   },
   "source": [
    "##### Create dummies"
   ]
  },
  {
   "cell_type": "code",
   "execution_count": 9,
   "id": "b2218174-6b47-4870-99b7-a24c55abc7bc",
   "metadata": {},
   "outputs": [
    {
     "data": {
      "text/plain": [
       "'C:\\\\Users\\\\MG-Laptop\\\\Documents\\\\GIT_Projects\\\\SB_Datascience\\\\DetectPhishURL\\\\DetectPhishURL\\\\notebooks'"
      ]
     },
     "execution_count": 9,
     "metadata": {},
     "output_type": "execute_result"
    }
   ],
   "source": [
    "%pwd"
   ]
  },
  {
   "cell_type": "markdown",
   "id": "21d87bcc-dc54-4833-8285-94824148e8c0",
   "metadata": {
    "tags": []
   },
   "source": [
    "##### Standardize and Scale"
   ]
  },
  {
   "cell_type": "markdown",
   "id": "93c47218-4b59-488e-b197-f4a7fb90b740",
   "metadata": {},
   "source": [
    "##### Train/Test Split"
   ]
  },
  {
   "cell_type": "markdown",
   "id": "0440e798-a771-42e0-baa2-436526329ae3",
   "metadata": {},
   "source": [
    "#### Modeling"
   ]
  },
  {
   "cell_type": "markdown",
   "id": "27e7114f-947c-4b2e-8e81-2e4604a3eb85",
   "metadata": {
    "tags": []
   },
   "source": [
    "##### Fit Model"
   ]
  },
  {
   "cell_type": "markdown",
   "id": "9ae66608-3b63-46a3-aae8-1de38be3a773",
   "metadata": {},
   "source": [
    "##### Evaluate/compare models"
   ]
  },
  {
   "cell_type": "markdown",
   "id": "93591b05-f6d8-4183-bfc9-1d1a2446954d",
   "metadata": {},
   "source": [
    "##### Select Best Model"
   ]
  },
  {
   "cell_type": "code",
   "execution_count": null,
   "id": "5f48f445-6394-4e0f-a976-aaf8b913a61b",
   "metadata": {},
   "outputs": [],
   "source": []
  }
 ],
 "metadata": {
  "kernelspec": {
   "display_name": "Python 3 (ipykernel)",
   "language": "python",
   "name": "python3"
  },
  "language_info": {
   "codemirror_mode": {
    "name": "ipython",
    "version": 3
   },
   "file_extension": ".py",
   "mimetype": "text/x-python",
   "name": "python",
   "nbconvert_exporter": "python",
   "pygments_lexer": "ipython3",
   "version": "3.11.7"
  }
 },
 "nbformat": 4,
 "nbformat_minor": 5
}
